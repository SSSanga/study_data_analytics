{
 "cells": [
  {
   "cell_type": "code",
   "execution_count": 1,
   "id": "9bc31612-5491-45b7-943e-5c6164a51851",
   "metadata": {
    "tags": []
   },
   "outputs": [],
   "source": [
    "import pandas as pd"
   ]
  },
  {
   "cell_type": "code",
   "execution_count": 2,
   "id": "59ba6c53-598b-4cce-b0fb-c8c689e3265b",
   "metadata": {
    "tags": []
   },
   "outputs": [],
   "source": [
    "from selenium import webdriver"
   ]
  },
  {
   "cell_type": "code",
   "execution_count": 3,
   "id": "f0428d1b-80f0-48c5-8906-d4151fc7c56f",
   "metadata": {
    "tags": []
   },
   "outputs": [],
   "source": [
    "#open chrome browser\n",
    "browser = webdriver.Chrome(executable_path='../../../../chromedriver.exe') #webdriver_selenium과 web을 연결해주기위함. "
   ]
  },
  {
   "cell_type": "code",
   "execution_count": 4,
   "id": "3a45d579-1988-4620-9603-9cc0b1be7cbb",
   "metadata": {
    "tags": []
   },
   "outputs": [],
   "source": [
    "# url in address window\n",
    "browser.get('https://brunch.co.kr/keyword/%EC%B1%85%EB%A6%AC%EB%B7%B0')"
   ]
  },
  {
   "cell_type": "markdown",
   "id": "0542b683-d03b-4cbf-abc7-ae60b7d17cb1",
   "metadata": {},
   "source": [
    "### 여러개 가져오기"
   ]
  },
  {
   "cell_type": "code",
   "execution_count": 5,
   "id": "8fb70804-549a-40a2-ac14-b9b949100512",
   "metadata": {
    "tags": []
   },
   "outputs": [
    {
     "data": {
      "text/plain": [
       "list"
      ]
     },
     "execution_count": 5,
     "metadata": {},
     "output_type": "execute_result"
    }
   ],
   "source": [
    "elements_path = '.tit_sub'\n",
    "elements=browser.find_elements_by_css_selector(elements_path)\n",
    "type(elements)"
   ]
  },
  {
   "cell_type": "code",
   "execution_count": 6,
   "id": "bd7ec76d-0cd4-47bd-8d02-8248377ad578",
   "metadata": {
    "tags": []
   },
   "outputs": [],
   "source": [
    "list=[]"
   ]
  },
  {
   "cell_type": "code",
   "execution_count": 7,
   "id": "185fa2aa-8a3f-44af-a56c-57d2e48abbf0",
   "metadata": {
    "tags": []
   },
   "outputs": [
    {
     "name": "stdout",
     "output_type": "stream",
     "text": [
      "내가 좋아하는 것들, 쓰기(저 김재용)\n",
      "러일전쟁 - 와다 하루키(한길사) ●●●●●●●●◐○\n",
      "『우리 대화는 밤새도록 끝이 없지』- 허휘수, 서솔, 상상 출판\n",
      "『불안할 땐 뇌과학』- 캐서린 피트먼, 엘리자베스 칼. 현대지성\n",
      "그림책 리뷰\n",
      "동해선에서 읽은 책 61\n",
      "Jane Kallir\n",
      "\n",
      "\n",
      "'디자이너 생각위를 걷다'에서 느끼는 사업가의 삶의 지혜\n",
      "Feat. 부부가 둘 다 놀고 있습니다\n",
      "도파민네이션과 최선의 고통을 읽고\n",
      "집이라는 모험, 신순화\n",
      "1차원이 되고 싶어, 박상영\n",
      "나는 단순하게 살기로 했다, 사사키 후미오\n",
      "by 스콧 피츠제럴드\n",
      "'더티 워크'를 읽고 (소원책담 독서모임 - 담쟁이 독서회)\n",
      "숏 컷 - 레이먼드 카버(집사재) ●●●●●●●◐○○\n",
      "최초의 직업 프로그래머는 여자라는 사실\n",
      "가난해지지 않는 마음, 양다솔\n",
      "고슴도치 엑스, 노인경\n",
      "대도시의 사랑법, 박상영\n",
      "러셀 로버츠 <결심이 필요한 순간들>\n",
      "매 순간 흔들려도 매일 우아하게, 곽아람\n",
      "당신이 집에서 논다는 거짓말, 정아은\n",
      "자기 결정, 페터 비에리\n",
      "오티움, 문요한\n",
      "엄마의 독서, 정아은\n",
      "\n",
      "<코스모스> 1장\n",
      "2023.08.28~09.03\n",
      "나도 읽어본 소설 덕후들의 pick\n",
      "오늘 일로 회의감에 느꼈을 당신에게 건네는 질문, \"일이란 무엇인가?'\n",
      "가장 행복한 곳으로, 정빛그림\n",
      "아모스 오즈\n",
      "이것은 라울 뒤피에 관한 이야기\n",
      "최장순\n",
      "암 병동 - 알렉산드르 솔제니친(민음사)  ●●●●●●●●○○\n",
      "호르헤 루이스 보르헤스\n",
      "<천문대의 시간 천문학자의 하늘> / 전영범\n",
      "무슨 책 읽을까 7편\n",
      "인생의 격을 높이고 현자의 치를 터득하다\n",
      "의뢰인은 죽었다 - 와카타케 나나미(북폴리오)  ●●●●●●●●●◐\n",
      "[소설 추천] 구의 증명 | 최진영\n",
      "정대건, 임현석 외, 『혹시 MBTI가 어떻게 되세요?』\n",
      "에밀 아자르\n",
      "어린이의 여행법 - 이지나\n",
      "\n",
      "책 ㅣ 책소개 ㅣ 책리뷰 ㅣ 독후감 ㅣ 도서 ㅣ 도서추천 ㅣ 독립출판\n",
      "존 워너커 엮음\n",
      "로리 오코너 저, 정지호 역,『마지막 끈을 놓기 전에』, 심심, 2023\n",
      "\n",
      "이선주, 『태구는 이웃들이 궁금하다』, 주니어RHK, 2023\n",
      "테드 창의 SF 소설, '외모 지상주의에 대한 소고: 다큐멘터리'\n",
      "by 실비아 플라스\n",
      "소설 <파리대왕>의 등장인물 탐구\n",
      "[나목] 박완서\n",
      "책 <사라진 개발자들>을 읽고\n",
      "\n",
      "백승만 작가의 <분자 조각가들>을 읽고\n",
      "이서수 <젊은 근희의 행진>\n",
      "to kill a mocking bird 를 읽고\n",
      "『물고기는 존재하지 않는다』를 읽고\n",
      "by 데이비드 포스터 월리스\n",
      "\n",
      "지위 불안\n",
      "소설 『가정교사들』\n",
      "모래 고모와 목경과 무경의 모험 - 이미상\n",
      "집중력 위기의 시대, 삶의 주도권을 되찾는 법\n",
      "느리게 읽는 책, <그렇게 인생은 이야기가 된다>\n",
      "'우리 가족은 어디서부터 잘못된 걸까'를 읽고\n",
      "- 'MR. NOISY' (시끄러운 씨)가 이제는  '속삭입니다'\n",
      "\n",
      "로마인 이야기 6권 - 시오노 나나미(한길사) ●●●●●●◐○○○\n",
      "by 알베르 카뮈\n",
      "(두 번째 지구는 없다 by 타일러 라쉬)\n",
      "다르다고 틀린 건 아니잖아\n",
      "\n",
      "『여자 둘이 살고 있습니다』를 읽고\n",
      "볼프강 프로징거, 청미, 2021\n",
      "[아주 희미한 빛으로도], 최은영\n",
      "한강\n",
      "by 에쿠니 가오리, 츠지 히토나리\n",
      "피터 보이트의 『초끈이론의 진실』을 읽고\n",
      "김민섭의 『당신은 제법 쓸 만한 사람』\n",
      "<책 리뷰> 러셀 로버츠의 '결심이 필요한 순간들'\n",
      "혼자일 수 없다면 나아갈 수 없다.\n",
      "책이야기\n",
      "\n",
      "청소년 소설 [고요한 우연]을 읽고\n",
      "버지니아 울프의 <자기만의 방>\n",
      "\n",
      "기원 전후 천년사 - 마이클 스콧(사계절) ●●●●●●●◐○○\n",
      "기형도\n",
      "-<서영동 이야기>를 읽고\n",
      "반도체를 사랑한 남자\n",
      "\n",
      "<일을 잘한다는 것> 야마구치 슈, 구스노키 겐\n",
      "by 이오네스코\n",
      "[도서] 이채훈의 '모차르트 평전' Review\n",
      "소설 '매트릭스'\n",
      "의미 있는 일은 의미 있는 삶이 된다. 일과 삶은 분리되어 있지 않다.\n",
      "《새로운 단어를 찾습니다》 《어른의 어휘력》\n",
      "성공한 사람들의 공통된 자질과 사고방식은 무엇일까?\n",
      "- 맡겨진 소녀, 클레어 키건 -\n",
      "by 카슨 매컬러스\n",
      "특별 요리 - 스탠리 엘린(엘릭시르) ●●●●●●●●○○\n",
      "사카모토 류이치를 보내며\n",
      "\n",
      "\n",
      "\n",
      "세 동방 박사의 선물 <크리스마스 선물>. 오 헨리. 1917. 민음사\n",
      "톨스토이 작\n",
      "<물고기는 존재하지 않는다> 룰루 밀러\n",
      "by 비스와바 쉼보르스카\n",
      "천명관 <고래>\n",
      "<하늘과 바람과 별과 인간> / 김상욱\n",
      "\n",
      "박완서 작가의 '모래알 만한 진실이라도'\n",
      "<여성, 인종, 계급>을 읽고\n"
     ]
    }
   ],
   "source": [
    "for webelement in elements : \n",
    "    # webelement와 동일한 형식은 element.text\n",
    "    title=webelement.text\n",
    "    print(title)\n",
    "    list.append(title)"
   ]
  },
  {
   "cell_type": "code",
   "execution_count": 9,
   "id": "5a4ef0fe-de2c-424e-b8f9-8be081f44318",
   "metadata": {
    "tags": []
   },
   "outputs": [],
   "source": [
    "df_booklist = pd.DataFrame(list, columns=[['title']])"
   ]
  },
  {
   "cell_type": "code",
   "execution_count": 10,
   "id": "01b6e906-a275-4460-ba6c-0ecb1569a2fd",
   "metadata": {
    "tags": []
   },
   "outputs": [
    {
     "data": {
      "text/plain": [
       "title    0\n",
       "dtype: int64"
      ]
     },
     "execution_count": 10,
     "metadata": {},
     "output_type": "execute_result"
    }
   ],
   "source": [
    "df_booklist.isnull().sum()"
   ]
  },
  {
   "cell_type": "code",
   "execution_count": 11,
   "id": "77f156c7-29b9-45da-963e-5e0db1fe13d8",
   "metadata": {
    "tags": []
   },
   "outputs": [],
   "source": [
    "df_booklist=df_booklist.dropna()"
   ]
  },
  {
   "cell_type": "code",
   "execution_count": 12,
   "id": "d43f360a-1829-4a81-80b4-8f551e85b0af",
   "metadata": {
    "tags": []
   },
   "outputs": [],
   "source": [
    "df_booklist.to_csv('../../../datasets/books_title.csv')"
   ]
  },
  {
   "cell_type": "code",
   "execution_count": 13,
   "id": "b90debb6-11a2-420d-ab50-c658d508adca",
   "metadata": {
    "tags": []
   },
   "outputs": [],
   "source": [
    "# browser.quit() ## browser닫힘"
   ]
  },
  {
   "cell_type": "code",
   "execution_count": null,
   "id": "85282118-0acf-47d0-9ab6-dac25deeeb88",
   "metadata": {},
   "outputs": [],
   "source": []
  }
 ],
 "metadata": {
  "kernelspec": {
   "display_name": "Python 3 (ipykernel)",
   "language": "python",
   "name": "python3"
  },
  "language_info": {
   "codemirror_mode": {
    "name": "ipython",
    "version": 3
   },
   "file_extension": ".py",
   "mimetype": "text/x-python",
   "name": "python",
   "nbconvert_exporter": "python",
   "pygments_lexer": "ipython3",
   "version": "3.11.3"
  }
 },
 "nbformat": 4,
 "nbformat_minor": 5
}
