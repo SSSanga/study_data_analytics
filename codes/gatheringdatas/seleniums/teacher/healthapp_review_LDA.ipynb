{
  "nbformat": 4,
  "nbformat_minor": 0,
  "metadata": {
    "colab": {
      "provenance": [],
      "collapsed_sections": [
        "xv6OmihcpjTY"
      ],
      "include_colab_link": true
    },
    "kernelspec": {
      "name": "python3",
      "display_name": "Python 3"
    },
    "language_info": {
      "name": "python"
    }
  },
  "cells": [
    {
      "cell_type": "markdown",
      "metadata": {
        "id": "view-in-github",
        "colab_type": "text"
      },
      "source": [
        "<a href=\"https://colab.research.google.com/github/yojulab/study_data_analytics/blob/main/codes/NLP/healthapp_review_LDA.ipynb\" target=\"_parent\"><img src=\"https://colab.research.google.com/assets/colab-badge.svg\" alt=\"Open In Colab\"/></a>"
      ]
    },
    {
      "cell_type": "markdown",
      "source": [
        "refer : !pip install python-mecab-ko pyLDAvis"
      ],
      "metadata": {
        "id": "8EI-hAuCjTdk"
      }
    },
    {
      "cell_type": "code",
      "execution_count": null,
      "metadata": {
        "id": "heb-WoJmiRrw"
      },
      "outputs": [],
      "source": [
        "#!pip install python-mecab-ko pyLDAvis"
      ]
    },
    {
      "cell_type": "code",
      "source": [
        "import numpy as np"
      ],
      "metadata": {
        "id": "-jM0UAkJjON0"
      },
      "execution_count": null,
      "outputs": []
    },
    {
      "cell_type": "markdown",
      "source": [],
      "metadata": {
        "id": "Zm7Jxf3Srjeb"
      }
    },
    {
      "cell_type": "code",
      "source": [
        "import pandas as pd\n",
        "df_review_negative = pd.read_csv('./review_negative.csv')\n",
        "# df_review_positive = pd.read_csv('./review_positive.csv')"
      ],
      "metadata": {
        "id": "ZrsVFBUipEjC"
      },
      "execution_count": null,
      "outputs": []
    },
    {
      "cell_type": "code",
      "source": [
        "df_review_negative.info()"
      ],
      "metadata": {
        "colab": {
          "base_uri": "https://localhost:8080/"
        },
        "id": "mJfr8qWUkG3E",
        "outputId": "1267a335-0644-40d7-9b1d-2a55ac663c6b"
      },
      "execution_count": null,
      "outputs": [
        {
          "output_type": "stream",
          "name": "stdout",
          "text": [
            "<class 'pandas.core.frame.DataFrame'>\n",
            "RangeIndex: 51367 entries, 0 to 51366\n",
            "Data columns (total 6 columns):\n",
            " #   Column            Non-Null Count  Dtype \n",
            "---  ------            --------------  ----- \n",
            " 0   Unnamed: 0        51367 non-null  int64 \n",
            " 1   app               51367 non-null  object\n",
            " 2   review            51367 non-null  object\n",
            " 3   rating            51367 non-null  int64 \n",
            " 4   tokenized_review  45082 non-null  object\n",
            " 5   replaced_review   45082 non-null  object\n",
            "dtypes: int64(2), object(4)\n",
            "memory usage: 2.4+ MB\n"
          ]
        }
      ]
    },
    {
      "cell_type": "code",
      "source": [
        "df_review_negative = df_review_negative.dropna()"
      ],
      "metadata": {
        "id": "Ly_TMF1tr6WT"
      },
      "execution_count": null,
      "outputs": []
    },
    {
      "cell_type": "markdown",
      "source": [
        "## LDA 분석"
      ],
      "metadata": {
        "id": "fpGVisa2pBap"
      }
    },
    {
      "cell_type": "markdown",
      "source": [
        "#### 문장 벡터화"
      ],
      "metadata": {
        "id": "U2_FN7Lqw981"
      }
    },
    {
      "cell_type": "code",
      "source": [
        "from gensim.corpora import Dictionary"
      ],
      "metadata": {
        "id": "1I66Kn_oj9Sl"
      },
      "execution_count": null,
      "outputs": []
    },
    {
      "cell_type": "code",
      "source": [
        "dictionary = Dictionary(df_review_negative[['replaced_review']].values)\n",
        "dictionary"
      ],
      "metadata": {
        "colab": {
          "base_uri": "https://localhost:8080/"
        },
        "id": "lDpepcnUsx36",
        "outputId": "2996f419-0c11-4269-a0ac-b2009c0c3772"
      },
      "execution_count": null,
      "outputs": [
        {
          "output_type": "execute_result",
          "data": {
            "text/plain": [
              "<gensim.corpora.dictionary.Dictionary at 0x7a892725b9a0>"
            ]
          },
          "metadata": {},
          "execution_count": 7
        }
      ]
    },
    {
      "cell_type": "code",
      "source": [
        "dictionary.doc2bow(df_review_negative[['replaced_review']].values[3])"
      ],
      "metadata": {
        "colab": {
          "base_uri": "https://localhost:8080/"
        },
        "id": "5bQGkyEyusXb",
        "outputId": "3865779b-74a9-4814-fa9c-36c499cd63bb"
      },
      "execution_count": null,
      "outputs": [
        {
          "output_type": "execute_result",
          "data": {
            "text/plain": [
              "[(3, 1)]"
            ]
          },
          "metadata": {},
          "execution_count": 8
        }
      ]
    },
    {
      "cell_type": "code",
      "source": [
        "# dictionary에 의한 한글 문장을 벡터화 변환\n",
        "corpus_list = list()\n",
        "for sentence in df_review_negative[['replaced_review']].values :\n",
        "  vectors = dictionary.doc2bow(sentence)\n",
        "  corpus_list.append(vectors)"
      ],
      "metadata": {
        "id": "J7rW7t8ivdp5"
      },
      "execution_count": null,
      "outputs": []
    },
    {
      "cell_type": "code",
      "source": [
        "df_review_negative['문장벡터화'] = corpus_list"
      ],
      "metadata": {
        "id": "x5cn8gQJwnIH"
      },
      "execution_count": null,
      "outputs": []
    },
    {
      "cell_type": "code",
      "source": [
        "df_review_negative.columns"
      ],
      "metadata": {
        "colab": {
          "base_uri": "https://localhost:8080/"
        },
        "id": "scu9RXyawxOd",
        "outputId": "fea5d136-b905-4137-edb8-3854a0626f4b"
      },
      "execution_count": null,
      "outputs": [
        {
          "output_type": "execute_result",
          "data": {
            "text/plain": [
              "Index(['Unnamed: 0', 'app', 'review', 'rating', 'tokenized_review',\n",
              "       'replaced_review', '문장벡터화'],\n",
              "      dtype='object')"
            ]
          },
          "metadata": {},
          "execution_count": 11
        }
      ]
    },
    {
      "cell_type": "markdown",
      "source": [
        "#### 토픽 잡기"
      ],
      "metadata": {
        "id": "2kpIv7umw4v-"
      }
    },
    {
      "cell_type": "code",
      "source": [
        "from gensim.models import LdaModel"
      ],
      "metadata": {
        "id": "Caqq6u6kw2S0"
      },
      "execution_count": null,
      "outputs": []
    },
    {
      "cell_type": "code",
      "source": [
        "lda_model = LdaModel(corpus=corpus_list, id2word=dictionary, num_topics=3)"
      ],
      "metadata": {
        "id": "Hresj5LoxVUf"
      },
      "execution_count": null,
      "outputs": []
    },
    {
      "cell_type": "code",
      "source": [
        "lda_model.print_topics(num_words=4)"
      ],
      "metadata": {
        "colab": {
          "base_uri": "https://localhost:8080/"
        },
        "id": "wZlsKGrIxzFk",
        "outputId": "29b74cc3-5225-4d7f-f2d6-91632a8a30d6"
      },
      "execution_count": null,
      "outputs": [
        {
          "output_type": "execute_result",
          "data": {
            "text/plain": [
              "[(0, '0.040*\"업데이트\" + 0.014*\"걸음\" + 0.005*\"불편\" + 0.004*\"숫자\"'),\n",
              " (1, '0.040*\"캐시\" + 0.017*\"적립\" + 0.014*\"상자\" + 0.010*\"캐시 캐시\"'),\n",
              " (2, '0.024*\"광고\" + 0.014*\"가격\" + 0.013*\"편의점\" + 0.007*\"업데이트 업데이트\"')]"
            ]
          },
          "metadata": {},
          "execution_count": 14
        }
      ]
    },
    {
      "cell_type": "code",
      "source": [],
      "metadata": {
        "id": "4KPWzXjtyb9D"
      },
      "execution_count": null,
      "outputs": []
    },
    {
      "cell_type": "markdown",
      "source": [
        "#### 토픽 분석\n",
        "-  review_positive.csv 토픽 분석\n",
        "- 토픽 수는 3으로 가정"
      ],
      "metadata": {
        "id": "nnODF2aI0wmB"
      }
    },
    {
      "cell_type": "code",
      "source": [
        "# 'replaced_review' 열의 모든 값을 문자열로 변환\n",
        "# df_review_positive['replaced_review'] = df_review_positive['replaced_review'].astype(str)"
      ],
      "metadata": {
        "id": "qQbqiZaI0vec"
      },
      "execution_count": null,
      "outputs": []
    },
    {
      "cell_type": "code",
      "source": [
        "# dictionary = Dictionary(df_review_positive[['replaced_review']].values)\n",
        "# dictionary"
      ],
      "metadata": {
        "id": "6xI8YKi805MM"
      },
      "execution_count": null,
      "outputs": []
    },
    {
      "cell_type": "code",
      "source": [
        "# dictionary에 의한 한글 문장을 벡터화 변환\n",
        "# corpus_list = list()\n",
        "# for sentence in df_review_positive[['replaced_review']].values :\n",
        "#   vectors = dictionary.doc2bow(sentence)\n",
        "#   corpus_list.append(vectors)"
      ],
      "metadata": {
        "id": "I6hNIEin07di"
      },
      "execution_count": null,
      "outputs": []
    },
    {
      "cell_type": "code",
      "source": [
        "# df_review_positive['문장벡터화'] = corpus_list"
      ],
      "metadata": {
        "id": "Zz8qQgkO1Aay"
      },
      "execution_count": null,
      "outputs": []
    },
    {
      "cell_type": "code",
      "source": [
        "# df_review_positive[:3]"
      ],
      "metadata": {
        "id": "Jav3CvUa1DsT"
      },
      "execution_count": null,
      "outputs": []
    },
    {
      "cell_type": "code",
      "source": [
        "lda_model = LdaModel(corpus=corpus_list, id2word=dictionary, num_topics=3)"
      ],
      "metadata": {
        "id": "_s3-YQN51Npq"
      },
      "execution_count": null,
      "outputs": []
    },
    {
      "cell_type": "code",
      "source": [
        "lda_model.print_topics(num_words=4)"
      ],
      "metadata": {
        "colab": {
          "base_uri": "https://localhost:8080/"
        },
        "id": "Z_wes8bF1VPh",
        "outputId": "8fa37f26-ee9e-42bc-c63b-ee67a531a22e"
      },
      "execution_count": null,
      "outputs": [
        {
          "output_type": "execute_result",
          "data": {
            "text/plain": [
              "[(0, '0.038*\"캐시\" + 0.036*\"업데이트\" + 0.010*\"캐시 캐시\" + 0.008*\"업데이트 업데이트\"'),\n",
              " (1, '0.026*\"광고\" + 0.015*\"가격\" + 0.014*\"편의점\" + 0.007*\"오류\"'),\n",
              " (2, '0.018*\"적립\" + 0.015*\"상자\" + 0.014*\"걸음\" + 0.010*\"보물 상자\"')]"
            ]
          },
          "metadata": {},
          "execution_count": 21
        }
      ]
    },
    {
      "cell_type": "markdown",
      "source": [
        "#### LDA 시각화"
      ],
      "metadata": {
        "id": "TTyT9GOF56D3"
      }
    },
    {
      "cell_type": "code",
      "source": [
        "# %pip install pyLDAvis"
      ],
      "metadata": {
        "id": "Q6dUTIFu1WP6"
      },
      "execution_count": null,
      "outputs": []
    },
    {
      "cell_type": "code",
      "source": [
        "import pyLDAvis.gensim_models"
      ],
      "metadata": {
        "id": "5hBXsAN-6C93"
      },
      "execution_count": null,
      "outputs": []
    },
    {
      "cell_type": "code",
      "source": [
        "pyLDAvis.enable_notebook() # 일반적인 python에선 불필요\n",
        "result_visualized = pyLDAvis.gensim_models.prepare(lda_model, corpus_list, dictionary)"
      ],
      "metadata": {
        "id": "LKk_P7s_6j7W",
        "colab": {
          "base_uri": "https://localhost:8080/"
        },
        "outputId": "7f625d95-d63d-44c2-dee4-413493beef44"
      },
      "execution_count": null,
      "outputs": [
        {
          "output_type": "stream",
          "name": "stderr",
          "text": [
            "/usr/local/lib/python3.10/dist-packages/ipykernel/ipkernel.py:283: DeprecationWarning: `should_run_async` will not call `transform_cell` automatically in the future. Please pass the result to `transformed_cell` argument and any exception that happen during thetransform in `preprocessing_exc_tuple` in IPython 7.17 and above.\n",
            "  and should_run_async(code)\n"
          ]
        }
      ]
    },
    {
      "cell_type": "code",
      "source": [
        "pyLDAvis.display(result_visualized)"
      ],
      "metadata": {
        "id": "k3L4BNyN60FX",
        "outputId": "1132c9da-1b29-422b-e679-7542f2de1833",
        "colab": {
          "base_uri": "https://localhost:8080/",
          "height": 917
        }
      },
      "execution_count": null,
      "outputs": [
        {
          "output_type": "stream",
          "name": "stderr",
          "text": [
            "/usr/local/lib/python3.10/dist-packages/ipykernel/ipkernel.py:283: DeprecationWarning: `should_run_async` will not call `transform_cell` automatically in the future. Please pass the result to `transformed_cell` argument and any exception that happen during thetransform in `preprocessing_exc_tuple` in IPython 7.17 and above.\n",
            "  and should_run_async(code)\n"
          ]
        },
        {
          "output_type": "execute_result",
          "data": {
            "text/plain": [
              "<IPython.core.display.HTML object>"
            ],
            "text/html": [
              "\n",
              "<link rel=\"stylesheet\" type=\"text/css\" href=\"https://cdn.jsdelivr.net/gh/bmabey/pyLDAvis@3.4.0/pyLDAvis/js/ldavis.v1.0.0.css\">\n",
              "\n",
              "\n",
              "<div id=\"ldavis_el15371347285090377444125986939\" style=\"background-color:white;\"></div>\n",
              "<script type=\"text/javascript\">\n",
              "\n",
              "var ldavis_el15371347285090377444125986939_data = {\"mdsDat\": {\"x\": [0.09727161945243365, -0.007683240690003073, -0.08958837876243053], \"y\": [0.04333084004220103, -0.09885583351040064, 0.05552499346819958], \"topics\": [1, 2, 3], \"cluster\": [1, 1, 1], \"Freq\": [35.10598780861135, 34.27605594363351, 30.61795624775514]}, \"tinfo\": {\"Term\": [\"\\uce90\\uc2dc\", \"\\uc5c5\\ub370\\uc774\\ud2b8\", \"\\uad11\\uace0\", \"\\uc801\\ub9bd\", \"\\uac00\\uaca9\", \"\\uc0c1\\uc790\", \"\\ud3b8\\uc758\\uc810\", \"\\uac78\\uc74c\", \"\\ubcf4\\ubb3c \\uc0c1\\uc790\", \"\\uce90\\uc2dc \\uce90\\uc2dc\", \"\\uc5c5\\ub370\\uc774\\ud2b8 \\uc5c5\\ub370\\uc774\\ud2b8\", \"\\uc624\\ub958\", \"\\uce90\\uc2dc \\uc801\\ub9bd\", \"\\uc4f0\\ub808\\uae30\", \"\\uce90\\uc26c\", \"\\ubd88\\ud3b8\", \"\\ud3ec\\uc778\\ud2b8\", \"\\ucd5c\\uc545\", \"\\ucd08\\uae30\", \"\\uc22b\\uc790\", \"\\ub85c\\uadf8\\uc778\", \"\\uce90\\uc2dc \\uce90\\uc2dc \\uce90\\uc2dc\", \"\\uac78\\uc74c \\uc0c1\\uc790\", \"\\ud654\\uba74\", \"\\uac78\\uc74c \\uce90\\uc2dc\", \"\\ub2f9\\ucca8\", \"\\uad11\\uace0 \\uc9dc\\uc99d\", \"\\ucf54\\uc778\", \"\\uc9dc\\uc99d\", \"\\uc124\\uce58\", \"\\uad11\\uace0\", \"\\uac00\\uaca9\", \"\\ud3b8\\uc758\\uc810\", \"\\uc624\\ub958\", \"\\uc4f0\\ub808\\uae30\", \"\\ucd5c\\uc545\", \"\\ucd08\\uae30\", \"\\ud654\\uba74\", \"\\uc9dc\\uc99d\", \"\\uc124\\uce58\", \"\\ucf54\\uc778\", \"\\uac78\\uc74c \\uac78\\uc74c\", \"\\ub9cc\\ubcf4\\uae30\", \"\\uc778\\uc99d \\ubc88\\ud638\", \"\\uac78\\uc74c \\uc0c1\\uc790\", \"\\ud655\\ub960\", \"\\uc0ad\\uc81c\", \"\\ub9cc\\ubcf4\", \"\\uac8c\\uc784\", \"\\ucfe0\\ud3f0\", \"\\uce90\\uc2dc \\uce90\\uc2dc \\uce90\\uc2dc\", \"\\ucd94\\ucc9c\", \"\\uad11\\uace0 \\ubd88\\ud3b8\", \"\\ubb3c\\uac74\", \"\\uad11\\uace0 \\uad11\\uace0\", \"\\ucf00\\uc2dc\", \"\\uc544\\uc774\\ub514\", \"\\uc0c1\\uc790 \\uce90\\uc2dc\", \"\\uc124\\uce58 \\uce90\\uc2dc\", \"\\uc801\\ub9bd \\uc801\\ub9bd\", \"\\ubcf4\\ubb3c \\uc0c1\\uc790 \\uc801\\ub9bd\", \"\\ubb38\\uc0c1\", \"\\ubcf4\\uc11d\\uc0c1\\uc790\", \"\\uc801\\ub9bd\", \"\\uac78\\uc74c\", \"\\uc0c1\\uc790\", \"\\ubcf4\\ubb3c \\uc0c1\\uc790\", \"\\uce90\\uc26c\", \"\\uad11\\uace0 \\uc9dc\\uc99d\", \"\\uac78\\uc74c \\uce90\\uc2dc\", \"\\uc2e4\\ud589\", \"\\ub2f9\\ucca8\", \"\\uc2dc\\uc791\", \"\\uc5c5\\ub370\\uc774\\ud2b8 \\uce90\\uc2dc\", \"\\uc5c5\\ub370\\uc774\\ud2b8 \\uc9dc\\uc99d\", \"\\uc5c5\\ub370\\uc774\\ud2b8 \\uc801\\ub9bd\", \"\\ubc30\\ud130\\ub9ac\", \"\\uc0ac\\uae30\", \"\\uc7ac\\ubbf8\", \"\\ucd5c\\uace0\", \"\\uac00\\uc785\", \"\\ucd08\\ub300 \\uce90\\uc2dc\", \"\\ub9ac\\ubdf0\", \"\\uc870\\uc544\", \"\\ub9ac\\uc14b\", \"\\uad6c\\ub9e4\", \"\\uc5c5\\ub370\\uc774\\ud2b8 \\uac78\\uc74c\", \"\\uc0c1\\uc790 \\uad11\\uace0\", \"\\uc5c5\\ub370\\uc774\\ud2b8 \\uc2e4\\ud589\", \"\\uc4f0\\ub798\", \"\\uc5c5\\ub370\\uc774\\ud2b8 \\uc624\\ub958\", \"\\uce90\\uc2dc \\ucd08\\uae30\", \"\\uc815\\ud655\", \"\\uac15\\ucd94\", \"\\uc0c1\\ud488 \\uac00\\uaca9\", \"\\ud3b8\\uc758\\uc810 \\ud3b8\\uc758\\uc810\", \"\\uc1fc\\ud551\", \"\\uc5c5\\ub370\\uc774\\ud2b8\", \"\\uce90\\uc2dc\", \"\\uce90\\uc2dc \\uce90\\uc2dc\", \"\\uc5c5\\ub370\\uc774\\ud2b8 \\uc5c5\\ub370\\uc774\\ud2b8\", \"\\uce90\\uc2dc \\uc801\\ub9bd\", \"\\ubd88\\ud3b8\", \"\\ud3ec\\uc778\\ud2b8\", \"\\uc22b\\uc790\", \"\\ub85c\\uadf8\\uc778\", \"\\uc5c5\\ub370\\uc774\\ud2b8 \\ubd88\\ud3b8\", \"\\ud0c8\\ud1f4\", \"\\uac10\\uc0ac\", \"\\ubb34\\ub8cc\", \"\\ubc29\\ubc95\", \"\\ub2e4\\uc6b4\\ub85c\\ub4dc\", \"\\uc0c1\\uc790 \\uc0c1\\uc790\", \"\\uc5c5\\ub370\\uc774\\ud2b8 \\uad11\\uace0\", \"\\ubc84\\uadf8\", \"\\ubb38\\ud654 \\uc0c1\\ud488\\uad8c\", \"\\uac78\\uc74c \\ubcf4\\ubb3c \\uc0c1\\uc790\", \"\\uc6b4\\ub3d9\", \"\\uac78\\uc74c \\uce21\\uc815\", \"\\uc791\\ub3d9\", \"\\ub3d9\\uae30\", \"\\ud658\\ubd88\", \"\\uc870\\uc791\", \"\\ud544\\uc694\", \"\\ud69f\\uc218\", \"\\uce90\\uc2dc \\uce90\\uc2dc \\ubcf5\\uad6c\", \"\\uac00\\ub2a5\", \"\\uce90\\uc2dc \\uc0c1\\uc790\", \"\\ucf54\\uc778 \\uc801\\ub9bd\", \"\\ud604\\uae08\", \"\\uac00\\uaca9 \\uc778\\uc0c1\", \"\\uce90\\uc26c \\uc0c1\\uc790\"], \"Freq\": [523.0, 498.0, 406.0, 276.0, 235.0, 229.0, 227.0, 217.0, 153.0, 134.0, 105.0, 111.0, 77.0, 80.0, 77.0, 67.0, 66.0, 72.0, 62.0, 53.0, 51.0, 60.0, 57.0, 55.0, 53.0, 53.0, 51.0, 52.0, 52.0, 51.0, 405.62509937819976, 235.34411339042882, 227.33101086458365, 110.89910385090519, 79.60517673622942, 71.8300370276008, 62.129689764031525, 54.70870481960561, 51.651709139168005, 51.51176439216051, 51.93497399229245, 50.582803659089, 48.76633351895282, 47.31129948537773, 56.54062201802436, 44.69335474656938, 38.49588957575261, 38.766312587723725, 35.50932319516107, 32.87166798050505, 59.96170324083059, 29.292862417128973, 27.999506610940813, 28.200369957072223, 27.50457615706775, 25.313308499747237, 23.191325983972053, 42.20984215954174, 21.53535306402348, 26.097348042058716, 23.614948291768034, 33.23772862383729, 27.989052578415134, 276.5034421417275, 216.8381790340846, 228.60782929076223, 153.11980505870608, 77.35117586196255, 50.87509330434628, 52.76687963581877, 44.28448880159813, 52.56827159076869, 37.01411324930827, 36.7361562479772, 35.29832293884478, 33.6862781057478, 29.798103694677074, 29.741474695726144, 29.307048604250518, 26.18321996907722, 24.20504563199417, 22.528472882081164, 22.286016938383412, 20.696630900419407, 19.527065781044037, 16.14103660584245, 15.070015478748891, 18.38230732925232, 14.814471724318372, 20.70425099062132, 13.931836460364512, 14.430915491382574, 11.100382915041713, 15.570992336764833, 17.383071733214553, 24.88377512529724, 22.19722022154047, 498.4755413508807, 523.1055252276146, 133.56841932673493, 104.64051771277778, 76.80671099147189, 66.67330125548641, 66.43851995066628, 52.60377108525134, 51.14757357815887, 44.95851161702499, 32.32336364606736, 27.76382611911493, 25.596932612132445, 21.373596038847044, 17.85117264326708, 29.741514895788022, 18.076955294303755, 16.885244290931574, 16.129461821781533, 27.72677737596649, 14.741268426852587, 13.709534204920661, 12.92897571017059, 11.994512918381636, 10.850835443383557, 12.149486609008536, 10.323993188606705, 9.89415320781055, 13.651571626237997, 9.040991646052628, 33.67592879962368, 14.804011540357711, 13.053333891652985, 13.044533690323506, 12.935656407153573], \"Total\": [523.0, 498.0, 406.0, 276.0, 235.0, 229.0, 227.0, 217.0, 153.0, 134.0, 105.0, 111.0, 77.0, 80.0, 77.0, 67.0, 66.0, 72.0, 62.0, 53.0, 51.0, 60.0, 57.0, 55.0, 53.0, 53.0, 51.0, 52.0, 52.0, 51.0, 406.05547459059363, 235.7847910079677, 227.7817097759607, 111.33388158881453, 80.041639949511, 72.25703878873652, 62.560942168765294, 55.13379902564923, 52.07958409908951, 51.94165715301361, 52.3725718124893, 51.00975680629335, 49.19453302383686, 47.776282218360855, 57.12960783919449, 45.159284860193694, 38.922314196441455, 39.20218378787697, 35.94908896236332, 33.30427183387214, 60.83184803066257, 29.725954120109833, 28.426583251630344, 28.632995103175386, 27.933689424440026, 25.74684633254501, 23.63356030914341, 43.09835839942464, 21.989286165489418, 26.673714765973184, 24.19240373601735, 35.30507849261856, 29.275135310066105, 276.97845781188124, 217.26526104131113, 229.1716751066145, 153.67606283141257, 77.78870733179978, 51.29658050012004, 53.20579770426498, 44.711391084406074, 53.090846186612346, 37.44055378734233, 37.17024470650085, 35.726912268011176, 34.12061917251896, 30.220013709934374, 30.167620662301157, 29.73675566938526, 26.607844769753704, 24.63161368400345, 22.955071377159317, 22.715464869565025, 21.11890478128233, 19.960393355160775, 16.569121186860265, 15.49505990875521, 18.901898038057194, 15.2356364430903, 21.293418857018366, 14.377881492492296, 14.950835829306612, 11.521811761319956, 16.167790087730438, 18.162546495475315, 26.66300552117843, 24.86781473341781, 498.9414643294542, 523.6851390653342, 134.04644396964116, 105.10501431060071, 77.28955385945574, 67.1419171005733, 66.9591290489039, 53.068544654340705, 51.617774608240644, 45.426280299104654, 32.79320352043763, 28.22977616573157, 26.06541802113056, 21.842311189210925, 18.314890327977068, 30.552618366803003, 18.57642086046407, 17.35230254312637, 16.59735547563906, 28.533574354772885, 15.206885250368561, 14.176917393722002, 13.392037875220186, 12.46094570392715, 11.317294900978538, 12.683296571438959, 10.789495923948156, 10.365065062812118, 14.304435771053633, 9.509659151227952, 35.6871579895415, 15.765299530320023, 14.022980141026707, 14.196490887814317, 14.32228410060726], \"Category\": [\"Default\", \"Default\", \"Default\", \"Default\", \"Default\", \"Default\", \"Default\", \"Default\", \"Default\", \"Default\", \"Default\", \"Default\", \"Default\", \"Default\", \"Default\", \"Default\", \"Default\", \"Default\", \"Default\", \"Default\", \"Default\", \"Default\", \"Default\", \"Default\", \"Default\", \"Default\", \"Default\", \"Default\", \"Default\", \"Default\", \"Topic1\", \"Topic1\", \"Topic1\", \"Topic1\", \"Topic1\", \"Topic1\", \"Topic1\", \"Topic1\", \"Topic1\", \"Topic1\", \"Topic1\", \"Topic1\", \"Topic1\", \"Topic1\", \"Topic1\", \"Topic1\", \"Topic1\", \"Topic1\", \"Topic1\", \"Topic1\", \"Topic1\", \"Topic1\", \"Topic1\", \"Topic1\", \"Topic1\", \"Topic1\", \"Topic1\", \"Topic1\", \"Topic1\", \"Topic1\", \"Topic1\", \"Topic1\", \"Topic1\", \"Topic2\", \"Topic2\", \"Topic2\", \"Topic2\", \"Topic2\", \"Topic2\", \"Topic2\", \"Topic2\", \"Topic2\", \"Topic2\", \"Topic2\", \"Topic2\", \"Topic2\", \"Topic2\", \"Topic2\", \"Topic2\", \"Topic2\", \"Topic2\", \"Topic2\", \"Topic2\", \"Topic2\", \"Topic2\", \"Topic2\", \"Topic2\", \"Topic2\", \"Topic2\", \"Topic2\", \"Topic2\", \"Topic2\", \"Topic2\", \"Topic2\", \"Topic2\", \"Topic2\", \"Topic2\", \"Topic3\", \"Topic3\", \"Topic3\", \"Topic3\", \"Topic3\", \"Topic3\", \"Topic3\", \"Topic3\", \"Topic3\", \"Topic3\", \"Topic3\", \"Topic3\", \"Topic3\", \"Topic3\", \"Topic3\", \"Topic3\", \"Topic3\", \"Topic3\", \"Topic3\", \"Topic3\", \"Topic3\", \"Topic3\", \"Topic3\", \"Topic3\", \"Topic3\", \"Topic3\", \"Topic3\", \"Topic3\", \"Topic3\", \"Topic3\", \"Topic3\", \"Topic3\", \"Topic3\", \"Topic3\", \"Topic3\"], \"logprob\": [30.0, 29.0, 28.0, 27.0, 26.0, 25.0, 24.0, 23.0, 22.0, 21.0, 20.0, 19.0, 18.0, 17.0, 16.0, 15.0, 14.0, 13.0, 12.0, 11.0, 10.0, 9.0, 8.0, 7.0, 6.0, 5.0, 4.0, 3.0, 2.0, 1.0, -3.664, -4.2084, -4.243, -4.9608, -5.2924, -5.3951, -5.5402, -5.6674, -5.7249, -5.7276, -5.7194, -5.7458, -5.7824, -5.8127, -5.6345, -5.8696, -6.0189, -6.0119, -6.0996, -6.1768, -5.5757, -6.2921, -6.3373, -6.3301, -6.3551, -6.4381, -6.5257, -5.9268, -6.5997, -6.4076, -6.5076, -6.1658, -6.3376, -4.0233, -4.2664, -4.2135, -4.6143, -5.2972, -5.7161, -5.6796, -5.8549, -5.6834, -6.0342, -6.0418, -6.0817, -6.1284, -6.2511, -6.253, -6.2677, -6.3804, -6.459, -6.5307, -6.5416, -6.6155, -6.6737, -6.8642, -6.9328, -6.7341, -6.9499, -6.6152, -7.0113, -6.9761, -7.2385, -6.9001, -6.79, -6.4313, -6.5455, -3.3211, -3.2729, -4.638, -4.8821, -5.1914, -5.3329, -5.3364, -5.5699, -5.5979, -5.7269, -6.0569, -6.2089, -6.2902, -6.4705, -6.6506, -6.1401, -6.638, -6.7062, -6.752, -6.2103, -6.842, -6.9146, -6.9732, -7.0482, -7.1484, -7.0354, -7.1982, -7.2407, -6.9188, -7.3309, -6.0159, -6.8378, -6.9636, -6.9643, -6.9727], \"loglift\": [30.0, 29.0, 28.0, 27.0, 26.0, 25.0, 24.0, 23.0, 22.0, 21.0, 20.0, 19.0, 18.0, 17.0, 16.0, 15.0, 14.0, 13.0, 12.0, 11.0, 10.0, 9.0, 8.0, 7.0, 6.0, 5.0, 4.0, 3.0, 2.0, 1.0, 1.0457, 1.0449, 1.0448, 1.0429, 1.0413, 1.0409, 1.0399, 1.0391, 1.0385, 1.0385, 1.0384, 1.0384, 1.0381, 1.037, 1.0364, 1.0364, 1.0358, 1.0356, 1.0345, 1.0337, 1.0324, 1.0321, 1.0317, 1.0316, 1.0313, 1.0298, 1.0279, 1.026, 1.0259, 1.025, 1.0226, 0.9865, 1.0019, 1.069, 1.0688, 1.0683, 1.0671, 1.0651, 1.0625, 1.0624, 1.0611, 1.0608, 1.0593, 1.059, 1.0587, 1.0579, 1.0567, 1.0565, 1.0562, 1.0546, 1.0533, 1.052, 1.0516, 1.0505, 1.0488, 1.0445, 1.0429, 1.0428, 1.0427, 1.0427, 1.0392, 1.0353, 1.0335, 1.0331, 1.0269, 1.0017, 0.9571, 1.1826, 1.1825, 1.18, 1.1792, 1.1773, 1.1766, 1.1758, 1.1748, 1.1744, 1.1732, 1.1692, 1.1669, 1.1654, 1.1619, 1.1579, 1.1567, 1.1563, 1.1563, 1.155, 1.1549, 1.1525, 1.1501, 1.1484, 1.1454, 1.1415, 1.1406, 1.1395, 1.1371, 1.1369, 1.133, 1.1256, 1.1207, 1.1119, 1.099, 1.0818]}, \"token.table\": {\"Topic\": [1, 1, 2, 3, 3, 2, 3, 2, 2, 1, 3, 1, 3, 2, 1, 1, 1, 1, 2, 2, 3, 2, 3, 3, 2, 2, 1, 1, 3, 1, 2, 3, 3, 1, 3, 2, 3, 2, 1, 1, 3, 3, 2, 1, 2, 2, 3, 1, 2, 1, 1, 1, 2, 3, 3, 2, 2, 2, 1, 1, 3, 2, 3, 3, 2, 3, 2, 2, 2, 2, 1, 3, 1, 3, 2, 2, 1, 2, 2, 3, 1, 1, 2, 2, 1, 1, 2, 1, 2, 3, 3, 1, 2, 3, 3, 2, 3, 3, 1, 1, 1, 2, 3, 1, 3, 1, 1, 2, 3, 3, 3, 2, 3, 1, 1, 3, 3], \"Freq\": [0.9966715791777206, 0.07043994237043175, 0.07043994237043175, 0.9157192508156128, 0.9464061599766022, 0.974357600273114, 0.9918605034491738, 0.9896219528568859, 0.9987790913280854, 0.9998087266651672, 0.9813001221599974, 0.9977313367954616, 0.9875207431341635, 0.9961320436278605, 1.0014161982711156, 0.9998633817444535, 1.0023738566915532, 0.9849935094958738, 0.9942183183122831, 0.9656516974894485, 0.9828068679452557, 0.9982888540466462, 0.963008770371106, 0.9880317465654163, 0.9685031817013954, 1.0019842617394603, 0.9948425376256848, 0.9960456373527806, 0.9974902370229578, 0.934709719081902, 0.02832453694187582, 0.02832453694187582, 0.9640089967033704, 0.9778928085974077, 0.961436718765046, 0.9927196025770813, 0.9796970723481349, 0.9956007277974435, 0.9920469359673052, 0.9564430600726325, 0.03415868071687973, 0.9978863114623208, 0.9944436896705405, 0.976303716377538, 0.9992508886338828, 0.9522853188478053, 0.9819125693199686, 0.974515075742669, 0.9359920980373028, 1.0011232380748754, 1.0004872297549794, 0.08042524127833253, 0.8846776540616579, 0.040212620639166266, 0.9987083750875935, 0.9882332459652007, 0.9840892652375072, 0.9862202092116525, 0.9994797714097655, 0.9731923459328176, 0.9981130765896166, 0.9680504682350093, 0.9689702949349701, 0.9906159981337267, 0.9845338628307079, 0.9990008629817567, 0.9737178601249694, 0.9964649184146076, 0.9796536498156312, 0.9954198658673055, 0.9970010783415632, 0.9863952908855187, 0.983751724028821, 0.9707260479045098, 0.9752240736152744, 1.0000777756807837, 0.9747423719611555, 0.9547109628130067, 0.9943697467973002, 0.9461262639732285, 0.99847187529497, 0.991033668143103, 1.0019572416962896, 0.9771554300991463, 0.996442716266189, 0.9755784417490331, 0.989860901937403, 0.06982126544728996, 0.06982126544728996, 0.9076764508147694, 0.9986916965668398, 0.028021284303251626, 0.028021284303251626, 0.9527236663105553, 0.9962536481969831, 0.9364024968127344, 0.9996535232993449, 0.9787173869751866, 0.98632545192046, 0.9709927063338639, 0.9928861272304285, 0.0634304472348773, 0.9514567085231594, 0.9908638797031832, 0.9758119538414939, 0.9965681626644669, 0.03750514919279073, 0.9376287298197683, 0.03750514919279073, 0.9856759031587253, 0.9268273578753753, 0.07131151794719606, 0.9270497333135488, 0.9975731941565104, 0.9964728214654679, 0.9719637153794496, 0.9647792791844693], \"Term\": [\"\\uac00\\uaca9\", \"\\uac00\\uaca9 \\uc778\\uc0c1\", \"\\uac00\\uaca9 \\uc778\\uc0c1\", \"\\uac00\\uaca9 \\uc778\\uc0c1\", \"\\uac00\\ub2a5\", \"\\uac00\\uc785\", \"\\uac10\\uc0ac\", \"\\uac15\\ucd94\", \"\\uac78\\uc74c\", \"\\uac78\\uc74c \\uac78\\uc74c\", \"\\uac78\\uc74c \\ubcf4\\ubb3c \\uc0c1\\uc790\", \"\\uac78\\uc74c \\uc0c1\\uc790\", \"\\uac78\\uc74c \\uce21\\uc815\", \"\\uac78\\uc74c \\uce90\\uc2dc\", \"\\uac8c\\uc784\", \"\\uad11\\uace0\", \"\\uad11\\uace0 \\uad11\\uace0\", \"\\uad11\\uace0 \\ubd88\\ud3b8\", \"\\uad11\\uace0 \\uc9dc\\uc99d\", \"\\uad6c\\ub9e4\", \"\\ub2e4\\uc6b4\\ub85c\\ub4dc\", \"\\ub2f9\\ucca8\", \"\\ub3d9\\uae30\", \"\\ub85c\\uadf8\\uc778\", \"\\ub9ac\\ubdf0\", \"\\ub9ac\\uc14b\", \"\\ub9cc\\ubcf4\", \"\\ub9cc\\ubcf4\\uae30\", \"\\ubb34\\ub8cc\", \"\\ubb38\\uc0c1\", \"\\ubb38\\uc0c1\", \"\\ubb38\\uc0c1\", \"\\ubb38\\ud654 \\uc0c1\\ud488\\uad8c\", \"\\ubb3c\\uac74\", \"\\ubc29\\ubc95\", \"\\ubc30\\ud130\\ub9ac\", \"\\ubc84\\uadf8\", \"\\ubcf4\\ubb3c \\uc0c1\\uc790\", \"\\ubcf4\\ubb3c \\uc0c1\\uc790 \\uc801\\ub9bd\", \"\\ubcf4\\uc11d\\uc0c1\\uc790\", \"\\ubcf4\\uc11d\\uc0c1\\uc790\", \"\\ubd88\\ud3b8\", \"\\uc0ac\\uae30\", \"\\uc0ad\\uc81c\", \"\\uc0c1\\uc790\", \"\\uc0c1\\uc790 \\uad11\\uace0\", \"\\uc0c1\\uc790 \\uc0c1\\uc790\", \"\\uc0c1\\uc790 \\uce90\\uc2dc\", \"\\uc0c1\\ud488 \\uac00\\uaca9\", \"\\uc124\\uce58\", \"\\uc124\\uce58 \\uce90\\uc2dc\", \"\\uc1fc\\ud551\", \"\\uc1fc\\ud551\", \"\\uc1fc\\ud551\", \"\\uc22b\\uc790\", \"\\uc2dc\\uc791\", \"\\uc2e4\\ud589\", \"\\uc4f0\\ub798\", \"\\uc4f0\\ub808\\uae30\", \"\\uc544\\uc774\\ub514\", \"\\uc5c5\\ub370\\uc774\\ud2b8\", \"\\uc5c5\\ub370\\uc774\\ud2b8 \\uac78\\uc74c\", \"\\uc5c5\\ub370\\uc774\\ud2b8 \\uad11\\uace0\", \"\\uc5c5\\ub370\\uc774\\ud2b8 \\ubd88\\ud3b8\", \"\\uc5c5\\ub370\\uc774\\ud2b8 \\uc2e4\\ud589\", \"\\uc5c5\\ub370\\uc774\\ud2b8 \\uc5c5\\ub370\\uc774\\ud2b8\", \"\\uc5c5\\ub370\\uc774\\ud2b8 \\uc624\\ub958\", \"\\uc5c5\\ub370\\uc774\\ud2b8 \\uc801\\ub9bd\", \"\\uc5c5\\ub370\\uc774\\ud2b8 \\uc9dc\\uc99d\", \"\\uc5c5\\ub370\\uc774\\ud2b8 \\uce90\\uc2dc\", \"\\uc624\\ub958\", \"\\uc6b4\\ub3d9\", \"\\uc778\\uc99d \\ubc88\\ud638\", \"\\uc791\\ub3d9\", \"\\uc7ac\\ubbf8\", \"\\uc801\\ub9bd\", \"\\uc801\\ub9bd \\uc801\\ub9bd\", \"\\uc815\\ud655\", \"\\uc870\\uc544\", \"\\uc870\\uc791\", \"\\uc9dc\\uc99d\", \"\\ucd08\\uae30\", \"\\ucd08\\ub300 \\uce90\\uc2dc\", \"\\ucd5c\\uace0\", \"\\ucd5c\\uc545\", \"\\ucd94\\ucc9c\", \"\\uce90\\uc26c\", \"\\uce90\\uc26c \\uc0c1\\uc790\", \"\\uce90\\uc26c \\uc0c1\\uc790\", \"\\uce90\\uc26c \\uc0c1\\uc790\", \"\\uce90\\uc2dc\", \"\\uce90\\uc2dc \\uc0c1\\uc790\", \"\\uce90\\uc2dc \\uc0c1\\uc790\", \"\\uce90\\uc2dc \\uc0c1\\uc790\", \"\\uce90\\uc2dc \\uc801\\ub9bd\", \"\\uce90\\uc2dc \\ucd08\\uae30\", \"\\uce90\\uc2dc \\uce90\\uc2dc\", \"\\uce90\\uc2dc \\uce90\\uc2dc \\ubcf5\\uad6c\", \"\\uce90\\uc2dc \\uce90\\uc2dc \\uce90\\uc2dc\", \"\\ucf00\\uc2dc\", \"\\ucf54\\uc778\", \"\\ucf54\\uc778 \\uc801\\ub9bd\", \"\\ucf54\\uc778 \\uc801\\ub9bd\", \"\\ucfe0\\ud3f0\", \"\\ud0c8\\ud1f4\", \"\\ud3b8\\uc758\\uc810\", \"\\ud3b8\\uc758\\uc810 \\ud3b8\\uc758\\uc810\", \"\\ud3b8\\uc758\\uc810 \\ud3b8\\uc758\\uc810\", \"\\ud3b8\\uc758\\uc810 \\ud3b8\\uc758\\uc810\", \"\\ud3ec\\uc778\\ud2b8\", \"\\ud544\\uc694\", \"\\ud604\\uae08\", \"\\ud604\\uae08\", \"\\ud654\\uba74\", \"\\ud655\\ub960\", \"\\ud658\\ubd88\", \"\\ud69f\\uc218\"]}, \"R\": 30, \"lambda.step\": 0.01, \"plot.opts\": {\"xlab\": \"PC1\", \"ylab\": \"PC2\"}, \"topic.order\": [2, 3, 1]};\n",
              "\n",
              "function LDAvis_load_lib(url, callback){\n",
              "  var s = document.createElement('script');\n",
              "  s.src = url;\n",
              "  s.async = true;\n",
              "  s.onreadystatechange = s.onload = callback;\n",
              "  s.onerror = function(){console.warn(\"failed to load library \" + url);};\n",
              "  document.getElementsByTagName(\"head\")[0].appendChild(s);\n",
              "}\n",
              "\n",
              "if(typeof(LDAvis) !== \"undefined\"){\n",
              "   // already loaded: just create the visualization\n",
              "   !function(LDAvis){\n",
              "       new LDAvis(\"#\" + \"ldavis_el15371347285090377444125986939\", ldavis_el15371347285090377444125986939_data);\n",
              "   }(LDAvis);\n",
              "}else if(typeof define === \"function\" && define.amd){\n",
              "   // require.js is available: use it to load d3/LDAvis\n",
              "   require.config({paths: {d3: \"https://d3js.org/d3.v5\"}});\n",
              "   require([\"d3\"], function(d3){\n",
              "      window.d3 = d3;\n",
              "      LDAvis_load_lib(\"https://cdn.jsdelivr.net/gh/bmabey/pyLDAvis@3.4.0/pyLDAvis/js/ldavis.v3.0.0.js\", function(){\n",
              "        new LDAvis(\"#\" + \"ldavis_el15371347285090377444125986939\", ldavis_el15371347285090377444125986939_data);\n",
              "      });\n",
              "    });\n",
              "}else{\n",
              "    // require.js not available: dynamically load d3 & LDAvis\n",
              "    LDAvis_load_lib(\"https://d3js.org/d3.v5.js\", function(){\n",
              "         LDAvis_load_lib(\"https://cdn.jsdelivr.net/gh/bmabey/pyLDAvis@3.4.0/pyLDAvis/js/ldavis.v3.0.0.js\", function(){\n",
              "                 new LDAvis(\"#\" + \"ldavis_el15371347285090377444125986939\", ldavis_el15371347285090377444125986939_data);\n",
              "            })\n",
              "         });\n",
              "}\n",
              "</script>"
            ]
          },
          "metadata": {},
          "execution_count": 25
        }
      ]
    },
    {
      "cell_type": "code",
      "source": [
        "pyLDAvis.save_html(result_visualized, './result_visualized.html')"
      ],
      "metadata": {
        "id": "jShsyRAJ8FM1",
        "colab": {
          "base_uri": "https://localhost:8080/"
        },
        "outputId": "02291297-f6dd-48f7-8432-31a451df0318"
      },
      "execution_count": null,
      "outputs": [
        {
          "output_type": "stream",
          "name": "stderr",
          "text": [
            "/usr/local/lib/python3.10/dist-packages/ipykernel/ipkernel.py:283: DeprecationWarning: `should_run_async` will not call `transform_cell` automatically in the future. Please pass the result to `transformed_cell` argument and any exception that happen during thetransform in `preprocessing_exc_tuple` in IPython 7.17 and above.\n",
            "  and should_run_async(code)\n"
          ]
        }
      ]
    },
    {
      "cell_type": "code",
      "source": [],
      "metadata": {
        "id": "yf3jx3A--ToE",
        "colab": {
          "base_uri": "https://localhost:8080/"
        },
        "outputId": "7b125a7d-8c9d-4989-b254-a598ee7416c4"
      },
      "execution_count": null,
      "outputs": [
        {
          "output_type": "stream",
          "name": "stderr",
          "text": [
            "/usr/local/lib/python3.10/dist-packages/ipykernel/ipkernel.py:283: DeprecationWarning: `should_run_async` will not call `transform_cell` automatically in the future. Please pass the result to `transformed_cell` argument and any exception that happen during thetransform in `preprocessing_exc_tuple` in IPython 7.17 and above.\n",
            "  and should_run_async(code)\n"
          ]
        }
      ]
    }
  ]
}