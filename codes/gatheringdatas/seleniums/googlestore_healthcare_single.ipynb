{
 "cells": [
  {
   "cell_type": "code",
   "execution_count": 1,
   "id": "2da82480-06d3-40b8-8ee8-f4c7b7506eaf",
   "metadata": {
    "tags": []
   },
   "outputs": [],
   "source": [
    "from selenium import webdriver"
   ]
  },
  {
   "cell_type": "code",
   "execution_count": 2,
   "id": "e01c6938-584b-4269-9ca9-4e4196135494",
   "metadata": {
    "tags": []
   },
   "outputs": [],
   "source": [
    "import pandas as pd"
   ]
  },
  {
   "cell_type": "code",
   "execution_count": 3,
   "id": "60ff40bf-2c7e-4e70-b42c-2f8d644ceb40",
   "metadata": {
    "tags": []
   },
   "outputs": [],
   "source": [
    "#open chrome browser\n",
    "options = webdriver.ChromeOptions()\n",
    "options.add_argument(\"--window-size=1560,840\")\n",
    "browser = webdriver.Chrome(executable_path='../../../../chromedriver.exe', options=options) #webdriver_selenium과 web을 연결해주기위함. "
   ]
  },
  {
   "cell_type": "code",
   "execution_count": 4,
   "id": "57bb6770-7abe-4ed8-9bc8-e886f372df60",
   "metadata": {
    "tags": []
   },
   "outputs": [],
   "source": [
    "# url in address window\n",
    "browser.get('https://play.google.com/store/search?q=%ED%97%AC%EC%8A%A4%EC%BC%80%EC%96%B4%EC%95%B1&c=apps&hl=ko-KR')\n",
    "browser.implicitly_wait(10)"
   ]
  },
  {
   "cell_type": "markdown",
   "id": "abce11df-0c99-4291-be01-9f9ea963db73",
   "metadata": {},
   "source": [
    "## NH헬스케어 클릭하기\n",
    "- 일단 홈페이지에서 클릭. \n",
    "   - section > div > div > div > div:nth-child(2) > div > div"
   ]
  },
  {
   "cell_type": "code",
   "execution_count": 5,
   "id": "74c9095d-ee54-4f87-a7a8-c7c45953dd58",
   "metadata": {
    "tags": []
   },
   "outputs": [],
   "source": [
    "click_path='section > div > div > div > div:nth-child(2) > div > div'\n",
    "browser.find_element_by_css_selector(click_path).click()"
   ]
  },
  {
   "cell_type": "markdown",
   "id": "69bb1e3b-e136-4c30-8cc6-4d833466a31b",
   "metadata": {},
   "source": [
    "## 제품정보\n",
    "- 서비스명: div > h1 > span\n",
    "- 회사명: div.Il7kR > div > div > div > a > span\n",
    "- 앱정보: div:nth-child(1) > c-wiz:nth-child(2) > div > section > div\n",
    "- 업데이트 날짜: nts1 이라는데 무슨말인지... 일단 pass\n"
   ]
  },
  {
   "cell_type": "code",
   "execution_count": 6,
   "id": "ec1f9001-373a-41bf-9096-a7a8bd82b285",
   "metadata": {
    "tags": []
   },
   "outputs": [
    {
     "data": {
      "text/plain": [
       "['NH헬스케어',\n",
       " 'NH농협생명',\n",
       " '한국인의 건강관리 NH 헬스케어!\\n\\n지인들과 재밌고 건강하게 즐기는 NH헬스케어만의 새로운 걷기 방법 – 걷기 배틀\\n걷기 목표 달성시 지급되는 포인트로 완성하는 온라인 텃밭 – 랜선 텃밭 가꾸기\\n\\n즐겁고 과학적인 당신만을 위한 건강 솔루션 NH 헬스케어!\\n업데이트 날짜\\n2023. 7. 21.\\n건강/운동']"
      ]
     },
     "execution_count": 6,
     "metadata": {},
     "output_type": "execute_result"
    }
   ],
   "source": [
    "service_name = browser.find_element_by_css_selector('div > h1 > span').text\n",
    "company_name = browser.find_element_by_css_selector('div.Il7kR > div > div > div > a > span').text\n",
    "app_info = browser.find_element_by_css_selector('div:nth-child(1) > c-wiz:nth-child(2) > div > section > div').text\n",
    "[service_name, company_name, app_info]"
   ]
  },
  {
   "cell_type": "markdown",
   "id": "ae37bcc4-3dac-4a7b-8d65-96df8f438b82",
   "metadata": {},
   "source": [
    "## 리뷰 모두 보기_click\n",
    "- click tag: div.Jwxk6d > div:nth-child(5) > div > div > button > div.VfPpkd-RLmnJb"
   ]
  },
  {
   "cell_type": "code",
   "execution_count": 7,
   "id": "e24e9ca1-9b91-4c25-804d-c0798bd75c29",
   "metadata": {},
   "outputs": [],
   "source": [
    "import time\n",
    "time.sleep(2)"
   ]
  },
  {
   "cell_type": "code",
   "execution_count": 8,
   "id": "3489f8ed-6d53-466a-a6a3-69435d214675",
   "metadata": {
    "tags": []
   },
   "outputs": [],
   "source": [
    "browser.find_element_by_xpath('//*/div/div/button/*[contains(text(), \"리뷰\")]').click()"
   ]
  },
  {
   "cell_type": "markdown",
   "id": "c2c434eb-06f9-47f9-91f8-6bdac788dc92",
   "metadata": {},
   "source": [
    "## 리뷰 내용 가져오기\n",
    "- 리뷰 묶음 tag : div.fysCi > div > div:nth-child(2) > div\n",
    "- 내용 tag : div.h3YV2d\n",
    "- 날짜 tag : header > div.Jx4nYe > span\n",
    "- 별점 tag : header > div.Jx4nYe > div (별점은 get_attribute)"
   ]
  },
  {
   "cell_type": "code",
   "execution_count": 9,
   "id": "5449ff52-f080-4b2e-b4cd-ec3dbd11dd0e",
   "metadata": {
    "tags": []
   },
   "outputs": [
    {
     "data": {
      "text/plain": [
       "40"
      ]
     },
     "execution_count": 9,
     "metadata": {},
     "output_type": "execute_result"
    }
   ],
   "source": [
    "reviews_bundle = browser.find_elements_by_css_selector('div.fysCi > div > div:nth-child(2) > div')\n",
    "len(reviews_bundle)"
   ]
  },
  {
   "cell_type": "code",
   "execution_count": 10,
   "id": "cb841324-148a-4443-bf3e-649ad7ab6b00",
   "metadata": {
    "tags": []
   },
   "outputs": [],
   "source": [
    "content = reviews_bundle[0].find_element_by_css_selector('div.h3YV2d').text ##bundle에서 0번째 가져옴?\n",
    "date = reviews_bundle[0].find_element_by_css_selector('header > div.Jx4nYe > span').text \n",
    "stars = reviews_bundle[0].find_element_by_css_selector('header > div.Jx4nYe > div').get_attribute('aria-label')"
   ]
  },
  {
   "cell_type": "code",
   "execution_count": 11,
   "id": "fd75c1aa-0e07-42a8-b983-aa44fdd67e30",
   "metadata": {
    "tags": []
   },
   "outputs": [
    {
     "data": {
      "text/plain": [
       "['안녕하세요. 그동안 헬스케어 앱을 잘 사용중에 있었는데요, 그전에는 앱을 클릭하면 자동 로그인이되어 걸음수도 확인하고 포인트도 받고 그랬는데요. 오늘 갑자기 회원가입 및 로그인 화면이 뜨더니 로그인이 아예 안되면서 자꾸 에러가 나네요. 기존 회원인데, 새로 회원가입할수도 없구요ㅜㅜ 어떻게 해야하는지 알려주시면 감사하겠습니다.',\n",
       " '2023년 7월 21일',\n",
       " '별표 5개 만점에 4개를 받았습니다.']"
      ]
     },
     "execution_count": 11,
     "metadata": {},
     "output_type": "execute_result"
    }
   ],
   "source": [
    "[content, date, stars]"
   ]
  },
  {
   "cell_type": "code",
   "execution_count": null,
   "id": "e9222212-a51a-44a0-81f9-442535ea3b43",
   "metadata": {},
   "outputs": [],
   "source": []
  }
 ],
 "metadata": {
  "kernelspec": {
   "display_name": "Python 3 (ipykernel)",
   "language": "python",
   "name": "python3"
  },
  "language_info": {
   "codemirror_mode": {
    "name": "ipython",
    "version": 3
   },
   "file_extension": ".py",
   "mimetype": "text/x-python",
   "name": "python",
   "nbconvert_exporter": "python",
   "pygments_lexer": "ipython3",
   "version": "3.11.3"
  }
 },
 "nbformat": 4,
 "nbformat_minor": 5
}
