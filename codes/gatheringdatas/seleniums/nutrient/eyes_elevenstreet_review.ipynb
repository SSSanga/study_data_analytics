{
 "cells": [
  {
   "cell_type": "code",
   "execution_count": 1,
   "id": "8a13bfac-ba3b-45b4-ae75-8e65d8e2010c",
   "metadata": {
    "tags": []
   },
   "outputs": [],
   "source": [
    "from selenium import webdriver\n",
    "import time\n",
    "import pandas as pd\n",
    "import pymongo as mg\n",
    "from selenium.webdriver.support.ui import WebDriverWait"
   ]
  },
  {
   "cell_type": "code",
   "execution_count": 2,
   "id": "765b58b7-6594-4d46-91a2-8a167c8612e0",
   "metadata": {
    "tags": []
   },
   "outputs": [],
   "source": [
    "from selenium.webdriver.chrome.options import Options\n",
    "import subprocess\n",
    "import shutil\n",
    "\n",
    "# 자신 맞는 chrome.exe 위치 변경 필요\n",
    "subprocess.Popen(r'C:\\Program Files\\Google\\Chrome\\Application\\chrome.exe --remote-debugging-port=9222 --user-data-dir=\"C:\\chrometemp\"')\n",
    "\n",
    "options = webdriver.ChromeOptions()\n",
    "options.add_experimental_option(\"debuggerAddress\", \"127.0.0.1:9222\")"
   ]
  },
  {
   "cell_type": "code",
   "execution_count": 3,
   "id": "e174b75a-6e72-4899-a1d3-e6e33571cfea",
   "metadata": {
    "tags": []
   },
   "outputs": [],
   "source": [
    "#open chrome browser\n",
    "browser = webdriver.Chrome(executable_path='../../../../../chromedriver.exe', options=options) #webdriver_selenium과 web을 연결해주기위함. "
   ]
  },
  {
   "cell_type": "code",
   "execution_count": 4,
   "id": "4364a60c-213d-4271-bd2a-1402589109d3",
   "metadata": {
    "tags": []
   },
   "outputs": [],
   "source": [
    "# url in address window\n",
    "browser.get('https://search.11st.co.kr/pc/total-search?kwd=%25EB%2588%2588%2520%25EC%2598%2581%25EC%2596%2591%25EC%25A0%259C&tabId=TOTAL_SEARCH')\n",
    "browser.implicitly_wait(10)"
   ]
  },
  {
   "cell_type": "code",
   "execution_count": 5,
   "id": "7dde0c56-e8ea-4e4e-a208-c8ef32264a5f",
   "metadata": {
    "tags": []
   },
   "outputs": [],
   "source": [
    "## 리뷰 많은 순 클릭\n",
    "click_path='#layBodyWrap > div > div > div.l_search_content > div.search_content > div.c_search_sorting > div > div > div > div'\n",
    "browser.find_element_by_css_selector(click_path).click()\n",
    "select_category='div.c_search_sorting > div > div > div > ul > li:nth-child(5)'\n",
    "browser.find_element_by_css_selector(select_category).click()"
   ]
  },
  {
   "cell_type": "code",
   "execution_count": 6,
   "id": "5d583a42-c60b-4ce7-bc7a-c1d83a4337f0",
   "metadata": {},
   "outputs": [],
   "source": [
    "## 제품 클릭하기\n",
    "product_page = '#section_commonPrd > div.c-search-list > ul > li:nth-child(1)'\n",
    "product_info=browser.find_element_by_css_selector(product_page)\n",
    "product_info.click()"
   ]
  },
  {
   "cell_type": "markdown",
   "id": "ad2e252c-a972-4b87-9e66-983fd5a2a993",
   "metadata": {},
   "source": [
    "### 제품정보\n",
    "- 제품명: div.c_product_info_title > h1\n",
    "\n",
    "### 리뷰보기 single \n",
    "\n",
    "- 리뷰 보기 클릭: #tabMenuDetail2\n",
    "- 리뷰 날짜: #review-list-page-area > ul:nth-child(1) > li:nth-child(4) > div.c_product_review_cont > p.side > span\n",
    "- 스크롤 내려서 리뷰 더보기를 눌러야함. \n",
    "- 리뷰 더보기를 계속 눌러야함_리뷰가 다 나올때까지 클릭하는걸로 하자. \n",
    "    - 이 내용은 chat에 물어보기\n",
    "- 리뷰 내용: #review-list-page-area > ul:nth-child(1) > li:nth-child(4) > div > div > div.cont_text_wrap > p\n",
    "    - 리뷰 내용이 너무 길면 : 더보기 눌러야함: div.cont_text_wrap > p.cont_btn.review-expand 이게 또 사용이 될까??\n",
    "- 리뷰 별점:#review-list-page-area > ul:nth-child(1) > li:nth-child(4) > div > p.grade > span > em\n",
    "    - .get_attribute('aria-label')\n",
    "- 리뷰 작성자: #review-list-page-area > ul:nth-child(1) > li:nth-child(4) > dl > dt\n",
    "\n"
   ]
  },
  {
   "cell_type": "code",
   "execution_count": 7,
   "id": "915126c6-d63f-4211-bc44-1ef4e0431ec3",
   "metadata": {
    "tags": []
   },
   "outputs": [],
   "source": [
    "# # JavaScript를 사용하여 페이지 아래로 스크롤\n",
    "# browser.execute_script(\"window.scrollTo(0, document.body.scrollHeight);\")\n",
    "# # \"리뷰 보기\" 링크를 클릭하기 전에 충분한 시간을 대기\n",
    "# time.sleep(5)"
   ]
  },
  {
   "cell_type": "code",
   "execution_count": null,
   "id": "d5ac7e43-f1db-4f45-ad58-a15a3053b3a7",
   "metadata": {},
   "outputs": [],
   "source": []
  },
  {
   "cell_type": "code",
   "execution_count": 8,
   "id": "d94c8977-0e62-419b-9242-2d45cd1e0195",
   "metadata": {
    "tags": []
   },
   "outputs": [
    {
     "ename": "NoSuchElementException",
     "evalue": "Message: no such element: Unable to locate element: {\"method\":\"css selector\",\"selector\":\"#tabDetail > ul > li:nth-child(2)\"}\n  (Session info: chrome=116.0.5845.188)\n",
     "output_type": "error",
     "traceback": [
      "\u001b[1;31m---------------------------------------------------------------------------\u001b[0m",
      "\u001b[1;31mNoSuchElementException\u001b[0m                    Traceback (most recent call last)",
      "Cell \u001b[1;32mIn[8], line 2\u001b[0m\n\u001b[0;32m      1\u001b[0m \u001b[38;5;66;03m# 리뷰 버튼 요소 선택\u001b[39;00m\n\u001b[1;32m----> 2\u001b[0m review_button \u001b[38;5;241m=\u001b[39m browser\u001b[38;5;241m.\u001b[39mfind_element_by_css_selector(\u001b[38;5;124m\"\u001b[39m\u001b[38;5;124m#tabDetail > ul > li:nth-child(2)\u001b[39m\u001b[38;5;124m\"\u001b[39m)\n\u001b[0;32m      4\u001b[0m \u001b[38;5;66;03m# ActionChains를 사용하여 마우스 클릭 동작 시뮬레이트\u001b[39;00m\n\u001b[0;32m      5\u001b[0m action \u001b[38;5;241m=\u001b[39m ActionChains(browser)\n",
      "File \u001b[1;32m~\\anaconda3\\Lib\\site-packages\\selenium\\webdriver\\remote\\webdriver.py:598\u001b[0m, in \u001b[0;36mWebDriver.find_element_by_css_selector\u001b[1;34m(self, css_selector)\u001b[0m\n\u001b[0;32m    582\u001b[0m \u001b[38;5;28;01mdef\u001b[39;00m \u001b[38;5;21mfind_element_by_css_selector\u001b[39m(\u001b[38;5;28mself\u001b[39m, css_selector):\n\u001b[0;32m    583\u001b[0m \u001b[38;5;250m    \u001b[39m\u001b[38;5;124;03m\"\"\"\u001b[39;00m\n\u001b[0;32m    584\u001b[0m \u001b[38;5;124;03m    Finds an element by css selector.\u001b[39;00m\n\u001b[0;32m    585\u001b[0m \n\u001b[1;32m   (...)\u001b[0m\n\u001b[0;32m    596\u001b[0m \u001b[38;5;124;03m        element = driver.find_element_by_css_selector('#foo')\u001b[39;00m\n\u001b[0;32m    597\u001b[0m \u001b[38;5;124;03m    \"\"\"\u001b[39;00m\n\u001b[1;32m--> 598\u001b[0m     \u001b[38;5;28;01mreturn\u001b[39;00m \u001b[38;5;28mself\u001b[39m\u001b[38;5;241m.\u001b[39mfind_element(by\u001b[38;5;241m=\u001b[39mBy\u001b[38;5;241m.\u001b[39mCSS_SELECTOR, value\u001b[38;5;241m=\u001b[39mcss_selector)\n",
      "File \u001b[1;32m~\\anaconda3\\Lib\\site-packages\\selenium\\webdriver\\remote\\webdriver.py:976\u001b[0m, in \u001b[0;36mWebDriver.find_element\u001b[1;34m(self, by, value)\u001b[0m\n\u001b[0;32m    974\u001b[0m         by \u001b[38;5;241m=\u001b[39m By\u001b[38;5;241m.\u001b[39mCSS_SELECTOR\n\u001b[0;32m    975\u001b[0m         value \u001b[38;5;241m=\u001b[39m \u001b[38;5;124m'\u001b[39m\u001b[38;5;124m[name=\u001b[39m\u001b[38;5;124m\"\u001b[39m\u001b[38;5;132;01m%s\u001b[39;00m\u001b[38;5;124m\"\u001b[39m\u001b[38;5;124m]\u001b[39m\u001b[38;5;124m'\u001b[39m \u001b[38;5;241m%\u001b[39m value\n\u001b[1;32m--> 976\u001b[0m \u001b[38;5;28;01mreturn\u001b[39;00m \u001b[38;5;28mself\u001b[39m\u001b[38;5;241m.\u001b[39mexecute(Command\u001b[38;5;241m.\u001b[39mFIND_ELEMENT, {\n\u001b[0;32m    977\u001b[0m     \u001b[38;5;124m'\u001b[39m\u001b[38;5;124musing\u001b[39m\u001b[38;5;124m'\u001b[39m: by,\n\u001b[0;32m    978\u001b[0m     \u001b[38;5;124m'\u001b[39m\u001b[38;5;124mvalue\u001b[39m\u001b[38;5;124m'\u001b[39m: value})[\u001b[38;5;124m'\u001b[39m\u001b[38;5;124mvalue\u001b[39m\u001b[38;5;124m'\u001b[39m]\n",
      "File \u001b[1;32m~\\anaconda3\\Lib\\site-packages\\selenium\\webdriver\\remote\\webdriver.py:321\u001b[0m, in \u001b[0;36mWebDriver.execute\u001b[1;34m(self, driver_command, params)\u001b[0m\n\u001b[0;32m    319\u001b[0m response \u001b[38;5;241m=\u001b[39m \u001b[38;5;28mself\u001b[39m\u001b[38;5;241m.\u001b[39mcommand_executor\u001b[38;5;241m.\u001b[39mexecute(driver_command, params)\n\u001b[0;32m    320\u001b[0m \u001b[38;5;28;01mif\u001b[39;00m response:\n\u001b[1;32m--> 321\u001b[0m     \u001b[38;5;28mself\u001b[39m\u001b[38;5;241m.\u001b[39merror_handler\u001b[38;5;241m.\u001b[39mcheck_response(response)\n\u001b[0;32m    322\u001b[0m     response[\u001b[38;5;124m'\u001b[39m\u001b[38;5;124mvalue\u001b[39m\u001b[38;5;124m'\u001b[39m] \u001b[38;5;241m=\u001b[39m \u001b[38;5;28mself\u001b[39m\u001b[38;5;241m.\u001b[39m_unwrap_value(\n\u001b[0;32m    323\u001b[0m         response\u001b[38;5;241m.\u001b[39mget(\u001b[38;5;124m'\u001b[39m\u001b[38;5;124mvalue\u001b[39m\u001b[38;5;124m'\u001b[39m, \u001b[38;5;28;01mNone\u001b[39;00m))\n\u001b[0;32m    324\u001b[0m     \u001b[38;5;28;01mreturn\u001b[39;00m response\n",
      "File \u001b[1;32m~\\anaconda3\\Lib\\site-packages\\selenium\\webdriver\\remote\\errorhandler.py:242\u001b[0m, in \u001b[0;36mErrorHandler.check_response\u001b[1;34m(self, response)\u001b[0m\n\u001b[0;32m    240\u001b[0m         alert_text \u001b[38;5;241m=\u001b[39m value[\u001b[38;5;124m'\u001b[39m\u001b[38;5;124malert\u001b[39m\u001b[38;5;124m'\u001b[39m]\u001b[38;5;241m.\u001b[39mget(\u001b[38;5;124m'\u001b[39m\u001b[38;5;124mtext\u001b[39m\u001b[38;5;124m'\u001b[39m)\n\u001b[0;32m    241\u001b[0m     \u001b[38;5;28;01mraise\u001b[39;00m exception_class(message, screen, stacktrace, alert_text)\n\u001b[1;32m--> 242\u001b[0m \u001b[38;5;28;01mraise\u001b[39;00m exception_class(message, screen, stacktrace)\n",
      "\u001b[1;31mNoSuchElementException\u001b[0m: Message: no such element: Unable to locate element: {\"method\":\"css selector\",\"selector\":\"#tabDetail > ul > li:nth-child(2)\"}\n  (Session info: chrome=116.0.5845.188)\n"
     ]
    }
   ],
   "source": [
    "# 리뷰 버튼 요소 선택\n",
    "review_button = browser.find_element_by_css_selector(\"#tabDetail > ul > li:nth-child(2)\")\n",
    "\n",
    "# ActionChains를 사용하여 마우스 클릭 동작 시뮬레이트\n",
    "action = ActionChains(browser)\n",
    "# # 마우스를 웹 요소 위에 올리기 (호버)\n",
    "action.move_to_element(review_button).perform()\n",
    "review_button.click()"
   ]
  },
  {
   "cell_type": "code",
   "execution_count": null,
   "id": "edec57d7-24c7-4ee3-9d24-2be554c32b20",
   "metadata": {},
   "outputs": [],
   "source": []
  },
  {
   "cell_type": "markdown",
   "id": "abf09aa8-6231-4f25-acaa-a3f1519069e8",
   "metadata": {},
   "source": [
    "['product_name'] ['review_date'] ['review_content'] ['review_star'] [review_writer] "
   ]
  },
  {
   "cell_type": "code",
   "execution_count": 6,
   "id": "710e049e-0f7c-427b-bff6-5ff937f7d1e8",
   "metadata": {
    "tags": []
   },
   "outputs": [
    {
     "data": {
      "text/plain": [
       "0"
      ]
     },
     "execution_count": 6,
     "metadata": {},
     "output_type": "execute_result"
    }
   ],
   "source": [
    "reviews_bundle = browser.find_elements_by_css_selector('#review-list-page-area')\n",
    "len(reviews_bundle)"
   ]
  },
  {
   "cell_type": "code",
   "execution_count": null,
   "id": "b80a45e8-d292-47ff-8f65-5a5dc6e354e5",
   "metadata": {},
   "outputs": [],
   "source": [
    "product_name= reviews_bundle[0].find_element_by_css_selector('div.c_product_info_title > h1').text\n",
    "review_content = reviews_bundle[0].find_element_by_css_selector('#review-list-page-area > ul:nth-child(1) > li:nth-child(4) > div.c_product_review_cont > p.side > span').text ##bundle에서 0번째 가져옴?\n",
    "review_date = reviews_bundle[0].find_element_by_css_selector('#review-list-page-area > ul:nth-child(1) > li:nth-child(4) > div > div > div.cont_text_wrap > p').text \n",
    "review_star = reviews_bundle[0].find_element_by_css_selector('#review-list-page-area > ul:nth-child(1) > li:nth-child(4) > div > p.grade > span > em')\n",
    "review_writer = reviews_bundle[0].find_element_by_css_selector('#review-list-page-area > ul:nth-child(1) > li:nth-child(4) > dl > dt')"
   ]
  },
  {
   "cell_type": "markdown",
   "id": "1eeaa7a7-b737-462a-acda-3b3d463042ab",
   "metadata": {},
   "source": [
    "### 리뷰보기 multiple\n",
    "- 리뷰 묶음: #review-list-page-area\n",
    "\n",
    "- 리뷰 날짜: div > p.side > span\n",
    "- 리뷰 내용: div.cont_text_wrap > p\n",
    "- 리뷰 별점: .c_seller_grade em\n",
    "- 리뷰 작성자: .c_product_reviewer dt.name"
   ]
  }
 ],
 "metadata": {
  "kernelspec": {
   "display_name": "Python 3 (ipykernel)",
   "language": "python",
   "name": "python3"
  },
  "language_info": {
   "codemirror_mode": {
    "name": "ipython",
    "version": 3
   },
   "file_extension": ".py",
   "mimetype": "text/x-python",
   "name": "python",
   "nbconvert_exporter": "python",
   "pygments_lexer": "ipython3",
   "version": "3.11.3"
  }
 },
 "nbformat": 4,
 "nbformat_minor": 5
}
