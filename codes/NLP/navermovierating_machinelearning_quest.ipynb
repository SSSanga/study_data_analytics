{
  "cells": [
    {
      "cell_type": "code",
      "execution_count": 2,
      "id": "ae3bc87c-9060-4808-9081-b134d93ca853",
      "metadata": {
        "tags": [],
        "colab": {
          "base_uri": "https://localhost:8080/"
        },
        "id": "ae3bc87c-9060-4808-9081-b134d93ca853",
        "outputId": "cad4a59d-b7f1-491b-d973-54473eaf6668"
      },
      "outputs": [
        {
          "output_type": "stream",
          "name": "stdout",
          "text": [
            "Collecting wget\n",
            "  Downloading wget-3.2.zip (10 kB)\n",
            "  Preparing metadata (setup.py) ... \u001b[?25l\u001b[?25hdone\n",
            "Building wheels for collected packages: wget\n",
            "  Building wheel for wget (setup.py) ... \u001b[?25l\u001b[?25hdone\n",
            "  Created wheel for wget: filename=wget-3.2-py3-none-any.whl size=9655 sha256=54d1ed867458cd4c0904ec24e5f9b31548c98f33dda15c697ebe20187c21072b\n",
            "  Stored in directory: /root/.cache/pip/wheels/8b/f1/7f/5c94f0a7a505ca1c81cd1d9208ae2064675d97582078e6c769\n",
            "Successfully built wget\n",
            "Installing collected packages: wget\n",
            "Successfully installed wget-3.2\n"
          ]
        }
      ],
      "source": [
        "%pip install wget"
      ]
    },
    {
      "cell_type": "code",
      "execution_count": 3,
      "id": "b26cf763-af00-400d-bc3e-0cc494e8aa69",
      "metadata": {
        "tags": [],
        "id": "b26cf763-af00-400d-bc3e-0cc494e8aa69"
      },
      "outputs": [],
      "source": [
        "import wget"
      ]
    },
    {
      "cell_type": "code",
      "execution_count": 4,
      "id": "bbade76a-788f-418c-8ac9-6b6b6f741053",
      "metadata": {
        "tags": [],
        "colab": {
          "base_uri": "https://localhost:8080/",
          "height": 35
        },
        "id": "bbade76a-788f-418c-8ac9-6b6b6f741053",
        "outputId": "2de691e0-e134-470d-b257-67327a344a77"
      },
      "outputs": [
        {
          "output_type": "execute_result",
          "data": {
            "text/plain": [
              "'ratings_train.txt'"
            ],
            "application/vnd.google.colaboratory.intrinsic+json": {
              "type": "string"
            }
          },
          "metadata": {},
          "execution_count": 4
        }
      ],
      "source": [
        "# ## wget: url의 파일들을 가져올 수 있는 기능\n",
        "wget.download('https://raw.githubusercontent.com/e9t/nsmc/master/ratings_train.txt')"
      ]
    },
    {
      "cell_type": "code",
      "execution_count": 5,
      "id": "0c2887e5-f25c-43ba-9a58-bfd9b0832e96",
      "metadata": {
        "tags": [],
        "id": "0c2887e5-f25c-43ba-9a58-bfd9b0832e96"
      },
      "outputs": [],
      "source": [
        "import pandas as pd"
      ]
    },
    {
      "cell_type": "code",
      "execution_count": 6,
      "id": "0bd447fc-2d7a-4f81-8207-76a24788d107",
      "metadata": {
        "tags": [],
        "colab": {
          "base_uri": "https://localhost:8080/",
          "height": 143
        },
        "id": "0bd447fc-2d7a-4f81-8207-76a24788d107",
        "outputId": "f5ade803-e6d2-43b9-e9a6-d8b2b9e13cbb"
      },
      "outputs": [
        {
          "output_type": "execute_result",
          "data": {
            "text/plain": [
              "         id                           document  label\n",
              "0   9976970                아 더빙.. 진짜 짜증나네요 목소리      0\n",
              "1   3819312  흠...포스터보고 초딩영화줄....오버연기조차 가볍지 않구나      1\n",
              "2  10265843                  너무재밓었다그래서보는것을추천한다      0"
            ],
            "text/html": [
              "\n",
              "  <div id=\"df-fa1ed407-ef41-4926-9746-38840133ce18\" class=\"colab-df-container\">\n",
              "    <div>\n",
              "<style scoped>\n",
              "    .dataframe tbody tr th:only-of-type {\n",
              "        vertical-align: middle;\n",
              "    }\n",
              "\n",
              "    .dataframe tbody tr th {\n",
              "        vertical-align: top;\n",
              "    }\n",
              "\n",
              "    .dataframe thead th {\n",
              "        text-align: right;\n",
              "    }\n",
              "</style>\n",
              "<table border=\"1\" class=\"dataframe\">\n",
              "  <thead>\n",
              "    <tr style=\"text-align: right;\">\n",
              "      <th></th>\n",
              "      <th>id</th>\n",
              "      <th>document</th>\n",
              "      <th>label</th>\n",
              "    </tr>\n",
              "  </thead>\n",
              "  <tbody>\n",
              "    <tr>\n",
              "      <th>0</th>\n",
              "      <td>9976970</td>\n",
              "      <td>아 더빙.. 진짜 짜증나네요 목소리</td>\n",
              "      <td>0</td>\n",
              "    </tr>\n",
              "    <tr>\n",
              "      <th>1</th>\n",
              "      <td>3819312</td>\n",
              "      <td>흠...포스터보고 초딩영화줄....오버연기조차 가볍지 않구나</td>\n",
              "      <td>1</td>\n",
              "    </tr>\n",
              "    <tr>\n",
              "      <th>2</th>\n",
              "      <td>10265843</td>\n",
              "      <td>너무재밓었다그래서보는것을추천한다</td>\n",
              "      <td>0</td>\n",
              "    </tr>\n",
              "  </tbody>\n",
              "</table>\n",
              "</div>\n",
              "    <div class=\"colab-df-buttons\">\n",
              "\n",
              "  <div class=\"colab-df-container\">\n",
              "    <button class=\"colab-df-convert\" onclick=\"convertToInteractive('df-fa1ed407-ef41-4926-9746-38840133ce18')\"\n",
              "            title=\"Convert this dataframe to an interactive table.\"\n",
              "            style=\"display:none;\">\n",
              "\n",
              "  <svg xmlns=\"http://www.w3.org/2000/svg\" height=\"24px\" viewBox=\"0 -960 960 960\">\n",
              "    <path d=\"M120-120v-720h720v720H120Zm60-500h600v-160H180v160Zm220 220h160v-160H400v160Zm0 220h160v-160H400v160ZM180-400h160v-160H180v160Zm440 0h160v-160H620v160ZM180-180h160v-160H180v160Zm440 0h160v-160H620v160Z\"/>\n",
              "  </svg>\n",
              "    </button>\n",
              "\n",
              "  <style>\n",
              "    .colab-df-container {\n",
              "      display:flex;\n",
              "      gap: 12px;\n",
              "    }\n",
              "\n",
              "    .colab-df-convert {\n",
              "      background-color: #E8F0FE;\n",
              "      border: none;\n",
              "      border-radius: 50%;\n",
              "      cursor: pointer;\n",
              "      display: none;\n",
              "      fill: #1967D2;\n",
              "      height: 32px;\n",
              "      padding: 0 0 0 0;\n",
              "      width: 32px;\n",
              "    }\n",
              "\n",
              "    .colab-df-convert:hover {\n",
              "      background-color: #E2EBFA;\n",
              "      box-shadow: 0px 1px 2px rgba(60, 64, 67, 0.3), 0px 1px 3px 1px rgba(60, 64, 67, 0.15);\n",
              "      fill: #174EA6;\n",
              "    }\n",
              "\n",
              "    .colab-df-buttons div {\n",
              "      margin-bottom: 4px;\n",
              "    }\n",
              "\n",
              "    [theme=dark] .colab-df-convert {\n",
              "      background-color: #3B4455;\n",
              "      fill: #D2E3FC;\n",
              "    }\n",
              "\n",
              "    [theme=dark] .colab-df-convert:hover {\n",
              "      background-color: #434B5C;\n",
              "      box-shadow: 0px 1px 3px 1px rgba(0, 0, 0, 0.15);\n",
              "      filter: drop-shadow(0px 1px 2px rgba(0, 0, 0, 0.3));\n",
              "      fill: #FFFFFF;\n",
              "    }\n",
              "  </style>\n",
              "\n",
              "    <script>\n",
              "      const buttonEl =\n",
              "        document.querySelector('#df-fa1ed407-ef41-4926-9746-38840133ce18 button.colab-df-convert');\n",
              "      buttonEl.style.display =\n",
              "        google.colab.kernel.accessAllowed ? 'block' : 'none';\n",
              "\n",
              "      async function convertToInteractive(key) {\n",
              "        const element = document.querySelector('#df-fa1ed407-ef41-4926-9746-38840133ce18');\n",
              "        const dataTable =\n",
              "          await google.colab.kernel.invokeFunction('convertToInteractive',\n",
              "                                                    [key], {});\n",
              "        if (!dataTable) return;\n",
              "\n",
              "        const docLinkHtml = 'Like what you see? Visit the ' +\n",
              "          '<a target=\"_blank\" href=https://colab.research.google.com/notebooks/data_table.ipynb>data table notebook</a>'\n",
              "          + ' to learn more about interactive tables.';\n",
              "        element.innerHTML = '';\n",
              "        dataTable['output_type'] = 'display_data';\n",
              "        await google.colab.output.renderOutput(dataTable, element);\n",
              "        const docLink = document.createElement('div');\n",
              "        docLink.innerHTML = docLinkHtml;\n",
              "        element.appendChild(docLink);\n",
              "      }\n",
              "    </script>\n",
              "  </div>\n",
              "\n",
              "\n",
              "<div id=\"df-ea0e6068-26c3-449e-bbd9-c5a3983c2d3f\">\n",
              "  <button class=\"colab-df-quickchart\" onclick=\"quickchart('df-ea0e6068-26c3-449e-bbd9-c5a3983c2d3f')\"\n",
              "            title=\"Suggest charts.\"\n",
              "            style=\"display:none;\">\n",
              "\n",
              "<svg xmlns=\"http://www.w3.org/2000/svg\" height=\"24px\"viewBox=\"0 0 24 24\"\n",
              "     width=\"24px\">\n",
              "    <g>\n",
              "        <path d=\"M19 3H5c-1.1 0-2 .9-2 2v14c0 1.1.9 2 2 2h14c1.1 0 2-.9 2-2V5c0-1.1-.9-2-2-2zM9 17H7v-7h2v7zm4 0h-2V7h2v10zm4 0h-2v-4h2v4z\"/>\n",
              "    </g>\n",
              "</svg>\n",
              "  </button>\n",
              "\n",
              "<style>\n",
              "  .colab-df-quickchart {\n",
              "      --bg-color: #E8F0FE;\n",
              "      --fill-color: #1967D2;\n",
              "      --hover-bg-color: #E2EBFA;\n",
              "      --hover-fill-color: #174EA6;\n",
              "      --disabled-fill-color: #AAA;\n",
              "      --disabled-bg-color: #DDD;\n",
              "  }\n",
              "\n",
              "  [theme=dark] .colab-df-quickchart {\n",
              "      --bg-color: #3B4455;\n",
              "      --fill-color: #D2E3FC;\n",
              "      --hover-bg-color: #434B5C;\n",
              "      --hover-fill-color: #FFFFFF;\n",
              "      --disabled-bg-color: #3B4455;\n",
              "      --disabled-fill-color: #666;\n",
              "  }\n",
              "\n",
              "  .colab-df-quickchart {\n",
              "    background-color: var(--bg-color);\n",
              "    border: none;\n",
              "    border-radius: 50%;\n",
              "    cursor: pointer;\n",
              "    display: none;\n",
              "    fill: var(--fill-color);\n",
              "    height: 32px;\n",
              "    padding: 0;\n",
              "    width: 32px;\n",
              "  }\n",
              "\n",
              "  .colab-df-quickchart:hover {\n",
              "    background-color: var(--hover-bg-color);\n",
              "    box-shadow: 0 1px 2px rgba(60, 64, 67, 0.3), 0 1px 3px 1px rgba(60, 64, 67, 0.15);\n",
              "    fill: var(--button-hover-fill-color);\n",
              "  }\n",
              "\n",
              "  .colab-df-quickchart-complete:disabled,\n",
              "  .colab-df-quickchart-complete:disabled:hover {\n",
              "    background-color: var(--disabled-bg-color);\n",
              "    fill: var(--disabled-fill-color);\n",
              "    box-shadow: none;\n",
              "  }\n",
              "\n",
              "  .colab-df-spinner {\n",
              "    border: 2px solid var(--fill-color);\n",
              "    border-color: transparent;\n",
              "    border-bottom-color: var(--fill-color);\n",
              "    animation:\n",
              "      spin 1s steps(1) infinite;\n",
              "  }\n",
              "\n",
              "  @keyframes spin {\n",
              "    0% {\n",
              "      border-color: transparent;\n",
              "      border-bottom-color: var(--fill-color);\n",
              "      border-left-color: var(--fill-color);\n",
              "    }\n",
              "    20% {\n",
              "      border-color: transparent;\n",
              "      border-left-color: var(--fill-color);\n",
              "      border-top-color: var(--fill-color);\n",
              "    }\n",
              "    30% {\n",
              "      border-color: transparent;\n",
              "      border-left-color: var(--fill-color);\n",
              "      border-top-color: var(--fill-color);\n",
              "      border-right-color: var(--fill-color);\n",
              "    }\n",
              "    40% {\n",
              "      border-color: transparent;\n",
              "      border-right-color: var(--fill-color);\n",
              "      border-top-color: var(--fill-color);\n",
              "    }\n",
              "    60% {\n",
              "      border-color: transparent;\n",
              "      border-right-color: var(--fill-color);\n",
              "    }\n",
              "    80% {\n",
              "      border-color: transparent;\n",
              "      border-right-color: var(--fill-color);\n",
              "      border-bottom-color: var(--fill-color);\n",
              "    }\n",
              "    90% {\n",
              "      border-color: transparent;\n",
              "      border-bottom-color: var(--fill-color);\n",
              "    }\n",
              "  }\n",
              "</style>\n",
              "\n",
              "  <script>\n",
              "    async function quickchart(key) {\n",
              "      const quickchartButtonEl =\n",
              "        document.querySelector('#' + key + ' button');\n",
              "      quickchartButtonEl.disabled = true;  // To prevent multiple clicks.\n",
              "      quickchartButtonEl.classList.add('colab-df-spinner');\n",
              "      try {\n",
              "        const charts = await google.colab.kernel.invokeFunction(\n",
              "            'suggestCharts', [key], {});\n",
              "      } catch (error) {\n",
              "        console.error('Error during call to suggestCharts:', error);\n",
              "      }\n",
              "      quickchartButtonEl.classList.remove('colab-df-spinner');\n",
              "      quickchartButtonEl.classList.add('colab-df-quickchart-complete');\n",
              "    }\n",
              "    (() => {\n",
              "      let quickchartButtonEl =\n",
              "        document.querySelector('#df-ea0e6068-26c3-449e-bbd9-c5a3983c2d3f button');\n",
              "      quickchartButtonEl.style.display =\n",
              "        google.colab.kernel.accessAllowed ? 'block' : 'none';\n",
              "    })();\n",
              "  </script>\n",
              "</div>\n",
              "    </div>\n",
              "  </div>\n"
            ]
          },
          "metadata": {},
          "execution_count": 6
        }
      ],
      "source": [
        "df_naver_movie_comment=pd.read_csv('./ratings_train.txt', sep='\\t')\n",
        "df_naver_movie_comment[:3] # id: 게시판 number, document: 댓글, label: 긍정1 부정 0"
      ]
    },
    {
      "cell_type": "markdown",
      "id": "a19bdf9d-01f5-4888-99f2-b01619dea6ab",
      "metadata": {
        "id": "a19bdf9d-01f5-4888-99f2-b01619dea6ab"
      },
      "source": [
        "## 머신러닝 의한 감성 분석\n",
        "- 0. label: 긍정 1, 부정 0\n",
        "    - 1인것은 긍정 array로, 0인것은 부정 array로 합친다.\n",
        "- 1. 형태소 분석을 통해 품사 분류를 진행\n",
        "- 2. vector 토큰화 (단어를 숫자화(OHE이용?))\n",
        "- 3. 목표 변수 생성\n",
        "- 4. 머신러닝 학습\n",
        "- 5. 머신러닝 학습을 통한 예측\n"
      ]
    },
    {
      "cell_type": "markdown",
      "id": "e432c3e9-68e1-4698-ae16-8dea7426687e",
      "metadata": {
        "id": "e432c3e9-68e1-4698-ae16-8dea7426687e"
      },
      "source": [
        "### 0. 긍정 1, 부정 0\n",
        "- label이 0에 해당하는 것과 1에 해당하는 것을 나눠서 합친다.?\n",
        "- 일단 0 따로 1따로 나눠봐.\n",
        "- 나눈 다음에 positive, negative로 나누고 그걸 positive + negative로 합친다."
      ]
    },
    {
      "cell_type": "code",
      "execution_count": 7,
      "id": "ac01f573-4731-4ac9-abb8-8e20b27dcb8f",
      "metadata": {
        "tags": [],
        "id": "ac01f573-4731-4ac9-abb8-8e20b27dcb8f"
      },
      "outputs": [],
      "source": [
        "condition_neg=(df_naver_movie_comment['label'] == 0 )\n",
        "df_movie_negative=df_naver_movie_comment[condition_neg]"
      ]
    },
    {
      "cell_type": "code",
      "execution_count": 9,
      "id": "9c7986e1-61e0-4fe1-b20a-9556766d9a42",
      "metadata": {
        "tags": [],
        "id": "9c7986e1-61e0-4fe1-b20a-9556766d9a42"
      },
      "outputs": [],
      "source": [
        "doc_negative=df_movie_negative['document'][:1000].values"
      ]
    },
    {
      "cell_type": "code",
      "execution_count": 10,
      "id": "742057b3-d921-415c-be6f-e1f71874f69d",
      "metadata": {
        "tags": [],
        "id": "742057b3-d921-415c-be6f-e1f71874f69d"
      },
      "outputs": [],
      "source": [
        "condition_pos=(df_naver_movie_comment['label'] == 1 )\n",
        "df_movie_positive=df_naver_movie_comment[condition_pos]"
      ]
    },
    {
      "cell_type": "code",
      "execution_count": 11,
      "id": "787fa380-f306-4695-8d6c-76521a881cee",
      "metadata": {
        "tags": [],
        "id": "787fa380-f306-4695-8d6c-76521a881cee"
      },
      "outputs": [],
      "source": [
        "doc_positive=df_movie_positive['document'][:1000].values"
      ]
    },
    {
      "cell_type": "code",
      "execution_count": 12,
      "id": "e32ad80e-a286-4d32-a36e-e8824bc1d253",
      "metadata": {
        "tags": [],
        "colab": {
          "base_uri": "https://localhost:8080/"
        },
        "id": "e32ad80e-a286-4d32-a36e-e8824bc1d253",
        "outputId": "edbd9735-4389-4890-a3d9-1884c0bf19b0"
      },
      "outputs": [
        {
          "output_type": "execute_result",
          "data": {
            "text/plain": [
              "(numpy.ndarray, numpy.ndarray)"
            ]
          },
          "metadata": {},
          "execution_count": 12
        }
      ],
      "source": [
        "type(doc_negative), type(doc_positive)"
      ]
    },
    {
      "cell_type": "code",
      "execution_count": 13,
      "id": "36c13074-ba32-4a41-9cdc-89bc696364db",
      "metadata": {
        "tags": [],
        "id": "36c13074-ba32-4a41-9cdc-89bc696364db"
      },
      "outputs": [],
      "source": [
        "doc_total=doc_positive + doc_negative"
      ]
    },
    {
      "cell_type": "code",
      "execution_count": 14,
      "id": "b577a4fd-ab9e-4701-ad7b-37a1db10ef93",
      "metadata": {
        "tags": [],
        "colab": {
          "base_uri": "https://localhost:8080/"
        },
        "id": "b577a4fd-ab9e-4701-ad7b-37a1db10ef93",
        "outputId": "91a1cdc3-1cf5-4191-9e60-4c7b0b15234e"
      },
      "outputs": [
        {
          "output_type": "execute_result",
          "data": {
            "text/plain": [
              "1000"
            ]
          },
          "metadata": {},
          "execution_count": 14
        }
      ],
      "source": [
        "len(doc_total)"
      ]
    },
    {
      "cell_type": "markdown",
      "id": "d83bf37a-6c5c-47dc-9ce9-2c55de0af6f9",
      "metadata": {
        "id": "d83bf37a-6c5c-47dc-9ce9-2c55de0af6f9"
      },
      "source": [
        "### 형태소 분석을 통해 품사 분류를 진행\n"
      ]
    },
    {
      "cell_type": "code",
      "source": [
        "!pip install python-mecab-ko"
      ],
      "metadata": {
        "colab": {
          "base_uri": "https://localhost:8080/"
        },
        "id": "hZaujWZPmaJZ",
        "outputId": "36ef775c-4c38-429e-97bc-d5f2728f5934"
      },
      "id": "hZaujWZPmaJZ",
      "execution_count": 16,
      "outputs": [
        {
          "output_type": "stream",
          "name": "stdout",
          "text": [
            "Collecting python-mecab-ko\n",
            "  Downloading python_mecab_ko-1.3.3-cp310-cp310-manylinux_2_17_x86_64.manylinux2014_x86_64.whl (573 kB)\n",
            "\u001b[2K     \u001b[90m━━━━━━━━━━━━━━━━━━━━━━━━━━━━━━━━━━━━━━━\u001b[0m \u001b[32m573.9/573.9 kB\u001b[0m \u001b[31m5.1 MB/s\u001b[0m eta \u001b[36m0:00:00\u001b[0m\n",
            "\u001b[?25hCollecting python-mecab-ko-dic (from python-mecab-ko)\n",
            "  Downloading python_mecab_ko_dic-2.1.1.post2-py3-none-any.whl (34.5 MB)\n",
            "\u001b[2K     \u001b[90m━━━━━━━━━━━━━━━━━━━━━━━━━━━━━━━━━━━━━━━━\u001b[0m \u001b[32m34.5/34.5 MB\u001b[0m \u001b[31m32.4 MB/s\u001b[0m eta \u001b[36m0:00:00\u001b[0m\n",
            "\u001b[?25hInstalling collected packages: python-mecab-ko-dic, python-mecab-ko\n",
            "Successfully installed python-mecab-ko-1.3.3 python-mecab-ko-dic-2.1.1.post2\n"
          ]
        }
      ]
    },
    {
      "cell_type": "code",
      "execution_count": 17,
      "id": "a0bcbfc7-4644-4b23-a637-b6c9f7650186",
      "metadata": {
        "tags": [],
        "id": "a0bcbfc7-4644-4b23-a637-b6c9f7650186"
      },
      "outputs": [],
      "source": [
        "from mecab import MeCab"
      ]
    },
    {
      "cell_type": "code",
      "execution_count": 18,
      "id": "4dc277e9-561c-4165-90db-0441b7c71629",
      "metadata": {
        "tags": [],
        "id": "4dc277e9-561c-4165-90db-0441b7c71629"
      },
      "outputs": [],
      "source": [
        "mecab = MeCab()"
      ]
    },
    {
      "cell_type": "markdown",
      "source": [
        "문장 토큰화"
      ],
      "metadata": {
        "id": "ZCb5IQbsn7-h"
      },
      "id": "ZCb5IQbsn7-h"
    },
    {
      "cell_type": "code",
      "source": [
        "tokenized_comment = list()\n",
        "\n",
        "for comment in doc_total :\n",
        "    comment_morphs=mecab.morphs(comment)\n",
        "    # print(comment_morphs) # ., ,, 한글자 불용어 빼기 len(word)>1 #list로 되어있으므로 이를 문장으로 만든다.\n",
        "    # mecab.nouns(comment_morphs) : 하지 않는 이유는 문장으로 진행해야하기 때문\n",
        "    # 원래는 .pos로 품사를 확인한 뒤 조사, 기호는 제외해야함.\n",
        "    # 문장을 list로 되어있다면 이걸 looping 돌려서 제외시켜야함. tagging으로 형태소를 looping해야함.\n",
        "    # print(' '.join(comment_morphs))\n",
        "    # .append(' '.join(comment_morphs))\n",
        "    tokenized_comment.append(comment_morphs)\n",
        "\n",
        "tokenized_comment"
      ],
      "metadata": {
        "id": "zTmyL51GmtR5"
      },
      "id": "zTmyL51GmtR5",
      "execution_count": null,
      "outputs": []
    },
    {
      "cell_type": "code",
      "source": [
        "mecab.nouns(doc_total[2])"
      ],
      "metadata": {
        "colab": {
          "base_uri": "https://localhost:8080/"
        },
        "id": "BhNYm3LdnlhI",
        "outputId": "caa42e7e-64d8-431b-c3f9-6b263ccf1fb8"
      },
      "id": "BhNYm3LdnlhI",
      "execution_count": 23,
      "outputs": [
        {
          "output_type": "execute_result",
          "data": {
            "text/plain": [
              "['액션', '재미', '영화', '교도소', '이야기', '재미', '평점', '조정']"
            ]
          },
          "metadata": {},
          "execution_count": 23
        }
      ]
    },
    {
      "cell_type": "code",
      "execution_count": 24,
      "id": "3a47b3fa-a02c-49c3-a5b7-83815719e34c",
      "metadata": {
        "tags": [],
        "colab": {
          "base_uri": "https://localhost:8080/"
        },
        "id": "3a47b3fa-a02c-49c3-a5b7-83815719e34c",
        "outputId": "8bee1953-9ad7-48b0-d840-34b11d454f84"
      },
      "outputs": [
        {
          "output_type": "execute_result",
          "data": {
            "text/plain": [
              "[('액션', 'NNG'),\n",
              " ('이', 'JKS'),\n",
              " ('없', 'VA'),\n",
              " ('는데', 'EC'),\n",
              " ('도', 'JX'),\n",
              " ('재미', 'NNG'),\n",
              " ('있', 'VV'),\n",
              " ('는', 'ETM'),\n",
              " ('몇', 'MM'),\n",
              " ('안', 'MAG'),\n",
              " ('되', 'VV'),\n",
              " ('는', 'ETM'),\n",
              " ('영화', 'NNG'),\n",
              " ('교도소', 'NNG'),\n",
              " ('이야기', 'NNG'),\n",
              " ('구먼', 'VCP+EF'),\n",
              " ('.', 'SF'),\n",
              " ('.', 'SY'),\n",
              " ('솔직히', 'MAG'),\n",
              " ('재미', 'NNG'),\n",
              " ('는', 'JX'),\n",
              " ('없', 'VA'),\n",
              " ('다', 'EF'),\n",
              " ('.', 'SF'),\n",
              " ('.', 'SY'),\n",
              " ('평점', 'NNG'),\n",
              " ('조정', 'NNG')]"
            ]
          },
          "metadata": {},
          "execution_count": 24
        }
      ],
      "source": [
        "mecab.pos(doc_total[2])"
      ]
    },
    {
      "cell_type": "code",
      "source": [
        "nouns_list = list()\n",
        "for word in doc_total:\n",
        "    words = mecab.pos(word)\n",
        "    filtered_words = [w for w, pos in words if (pos == 'MAG' or pos == 'NNG') and len(w) > 1]\n",
        "    nouns_list.extend(filtered_words)"
      ],
      "metadata": {
        "id": "23TqO5L9slUo"
      },
      "id": "23TqO5L9slUo",
      "execution_count": 35,
      "outputs": []
    },
    {
      "cell_type": "code",
      "source": [
        "# nouns_list = list()\n",
        "# for word in doc_total :\n",
        "#     words = mecab.nouns(word)\n",
        "#     # 한글자 이상만 담기_chat에 물어봄\n",
        "#     filtered_words = [w for w in words if len(w) > 1]\n",
        "#     nouns_list.extend(filtered_words)\n",
        "# nouns_list"
      ],
      "metadata": {
        "id": "3GLljBpRoJOR"
      },
      "id": "3GLljBpRoJOR",
      "execution_count": null,
      "outputs": []
    },
    {
      "cell_type": "code",
      "source": [
        "combined_text = ' '.join(nouns_list)"
      ],
      "metadata": {
        "id": "sZPa94UHqrRJ"
      },
      "id": "sZPa94UHqrRJ",
      "execution_count": 36,
      "outputs": []
    },
    {
      "cell_type": "code",
      "source": [
        "combined_text"
      ],
      "metadata": {
        "colab": {
          "base_uri": "https://localhost:8080/",
          "height": 201
        },
        "id": "74lBnH8cq_1p",
        "outputId": "d7621901-a9ac-42dd-cdb9-399ab538f2d2"
      },
      "id": "74lBnH8cq_1p",
      "execution_count": 37,
      "outputs": [
        {
          "output_type": "execute_result",
          "data": {
            "text/plain": [
              "'초딩 영화 오버 연기 진짜 짜증 목소리 익살 연기 영화 너무나 액션 재미 영화 교도소 이야기 솔직히 재미 평점 조정 평점 너무 걸음마 초등 학교 학년 영화 별반 진짜 원작 긴장감 제대로 향수 자극 감성 절제 달인 반개 연기 생활 정말 납치 감금 반복 반복 드라마 가족 연기 사람 신문 기사 보다 자꾸 사람 횡단 보도 연기 매번 긴장 존중 진짜 내생 극장 영화 가장 감동 스토리 감동 어거지 사람 바스코 그냥 안달 레닌 표절 이해 갈수록 정말 깨알 캐스팅 내용 구성 깨알 음식 영화 만찬 만찬 이야기 음식 재미 음식 별로 풍경 구경 별로 약탈자 변명 절대 주제 중반 그냥 학생 선생 영화 절대 납득 가능 발연기 절대 영화 수작 말씀 쓰레기 시간 고추 기대 죄인 죄인 연기 대체 정신 장애 장애 센스 연출력 향수 관객 포스 위력 다시 검사 연기 정말 완전 명품 드라마 내용 완전 영화 아까 완전 별점 이리 고평 속지 시간 낭비 낭비 아직 드라마 최고 리얼리티 공감 캐릭터 정신 분노 조절 장애 초기 증상 툭하면 사람 물건 파손 조금 오바 초반 신선 갈수록 정신 상태 공감 불가 패션 열정 마이너스 보고 영화 수준 작가 정신 유령 영화 사랑 영화 이렇게 평가 고추 매운맛 저그 진호 단순 매력 영화 꼬마 원한 그냥 혼자 서리 최고 정말 방법 배우 발견 일탈 미소 음악 조금 평점 내내 그대로 예측 카리스마 악역 주인 누이 근친상간 소설 제일 드라마 제일 웃음 감독 토르 다크 월드 기본 선방 불알 당황 영화 중간 느낌 영화 사람 영혼 세상사 잠시 동화 영화 행복 일상 조금 이렇게 가슴 드라마 감동 자체 계속 전개 주인공 소극 모습 짜증 맨날 언제 나나 기대 전개 빨리빨리 예전 작품 캐릭터 에피소드 재탕 사골 내용 시청 아예 이제 중반 부작 연기력 초반 입도 너무 충격 기분 완전히 느낌 활력 너무나 지독 그저 일본인 정말 생각 노래 실력 진짜 망신 언제나 영화 유치 사랑 가슴속 감정 영화 정말 최고 졸작 사람 다큐 나라 현대사 단면 깊이 생각 사죄 바로 노력 보도 연맹 민간 학살 정도 살인 살인자 전개 결말 영화 부패 로마노프 왕조 영화 온몸 항거 민중 그저 폭도 이틀 물건 조작 활짝 문자 조작 비번 억지 내용 자체 매우 실망 달팽이 영화 흥행 코드 갈등 갈등 갈등 화해 감동 평점 남발 흥행 내용 전개 시작 리플릿 사진 불안 감독 영화 관객 엉망진창 개진 단연 최고 진정 영화 최고 정말 쓰레기 영화 내일 기대 별루 조미 영화 최악 진짜 화신 진심 캐스팅 서기 감독 고은 영화 완전 스토리 인상 영화 영화 억지 노골 광고 센스 완전 강추 정말 타임 영화 처음 영화 중간 불륜 로맨스 진짜 너무 영화 짜증 아주 전개 짬뽕 믹스 음향 설정 에피소드 스토리 차차 솔직히 별루 시간 낭비 느낌 작화 연기 대박 내용 이상 생각 영화 내용 전개 너무나 크리스마스 영화 소재 흥미 이야기 전개 몰입 매력 행복 절대 쓰레기 영화 음악 완전히 영화 중국인 특유 과장 허풍 안간힘 노력 가상 고증 현실 설정 도대체 이렇게 스스로 과대 포장 대박 그냥 영화 우상 설정 시청 기준 패널 가구 명작 드라마 별로 주인공 생애 전부 올레 공짜 스토리 문제 연기자 전혀 배역 상대 배우 따로 연기자 문제 진심 완전 별로 아들 별점 너무 욕심 영화 제대로 본지 음아 빵점 다시 영화 다시 순수 사랑 감동 연기 아주 아주 영화 도둑 나라 온몸 찌릿 용기 케이블 그만 정말 교훈 영화 짬뽕 그릇 당시 상황 주제 주입식 긴장감 작품 여군 비씨 이제 연기 영화 많이 영화 솔직히 바이러스 영화 작품 영화 정도 정말 마지막 후반부 살짝 정도 수작 시간 영화 영화 이제 감히 인생 최고 영화 작품 어떻게 고민 한번 시간 나이 여전히 허풍 명작 명작 여운 영화 진짜 짱짱 진짜 조금 상업 영화 충분히 개인 조금 자극 노출 화끈 국산 영화 많이 보임 작가 별로 내용 진짜 별로 맨날 그냥 기대 재방송 혹시나 진짜 연기 일품 그만 이제 작품 너무 영화 정말 실망 배우 지네 영화 진짜 면상 지네 자신 왈츠 조합 어린이 동심 멀리 외국 상상 초월 영화 무술 오랜만 영화 평점 조절 위원회 웃음 내일 순정 역할 제일 파탈 정도 정말 의외 연기 사람 요즘 사극 연기 논란 왠지 코미디 장면 웃음 종방 오늘 방송 대본 완성 느낌 요즘 드라마 막장 정말 드라마 악역 그리 소파 이유 작품 영화 어린이 일반 논리 게임 흥미 요원 주인공 너무 능력 별로 배경 뮤지컬 영화 녹음 엉망 내용 주인공 목소리 너무 어제 진심 영화 뮤지컬 영화 맘마 미아 영화 소재 해설 로큰롤 나이 로맨틱 코미디 영화 영화 배우 스텝 감독 꼭두각시 정말 영화 최악 자극 현대인 연출력 정말 짜증 극치 영화 굉장히 느낌 남자 발연기 시종일관 고역 간간히 클래식 음악 짜증 정도 상당히 영화 별점 얼마나 내용 사람 초딩 너무 그냥 비판 짜집기 감동 감동 정말 최고 짜증 작품 옛날 돼지 닭목 장면 무당 최고 영화 시절 너무 추억 판타지 영화 절대 금물 지옥 유치 사랑 절대 후회 판타지 영화 교훈 인생 복귀 도대체 참가자 실력 심사 위원 인격 실력 그만 추억 생각없이 추천요 기존 영화 형식 탈피 감정 절제 너무 영화 단순 예전 다시 개봉 허접 사랑 영화 보고 요즘 갈수록 코너 웃음 청춘 영화 감성 순간 다시 순간 무한 젊음 감성 후세 사랑 결정 계기 시간 표현 생명 이유 시노 출현 연극 생각 시노 얼마나 본능 절제 시랑 노력 건담 시리즈 아직 새벽 시간 영화 전부 졸작 영화 원래 우물 펀치 감동 음신 정말 너무 정말 가발 여정 연기 정말 성적 호기심 영화 감동 영화 응답 은지 원원 스스로 필요 그냥 구성 상당히 부실 영화 평점 각기 사람 사랑 영화 몰락 작품 가장 졸작 드라마 파워 정말 최고 언제 연출 현실 영화 너무너무 진심 재미 너무 평점 화남 너무 배꼽 영화 형태 허무 완벽히 영화 영양가 영화 학창 시절 그때 느낌 다시 시간 장면 배경 음악 드라마 동급 정말 연기 조연 연기 정말 코믹 짜임새 너무 현실 현실 진짜 댓글 영화 버킷 리스트 직전 소원 직전 감동 진짜 버킷 리스트 영화 발톱 쓰레기 영화 완존 실망 오늘 현충일 특집 프로 도의 매우 작품 시간 긍정 드라마 오버 연기 연기 너무 그나마 월요일 해피 제대 정치인 모순 정치범 모순 영화 마음 휴가 느낌 다시 영화 햇살 가득 비이 부엌 요리 인상 전쟁 묘사 그때 당시 나라 판타지 로맨스 아직 황장 연기 전성시대 영화 이때 나라 재개봉 일단 재생 괴물 서스펜스 귀신 흡입력 대희 전화 어떻게 상상 한물 동서양 배우 싸움판 세계 최초 반공 니매 역사 가치 기대 감각 시각 느낌 사랑 문학 엄마 감옥살이 이해 그저 한마디 제발 감독 정도 진짜 흑인 음악 평점 이상 정도 시간 시간 드라마 너무 프로필 사진 완전 대박 진짜 짜증 진짜 너무 연기 이적 소설 영화 다시 그때 시절 액션 영화 범죄 영화 범죄 영화 실패작 중간 정도 모녀 토막 살해 살인자 부성애 감동 사람 본인 피해자 감동 진심 매력 영화 진짜 진짜 명작 평점 이렇게 필름 재미 점수 매미 주인공 연기력 안습 소리 너무 매니저 역활 주인공 생각 정도 영화 자체 적당히 영화 액션 스릴러 액션 스릴 영화 완전 스토리 엉망 완전 비추 기억 감독 이름 기억 영화 전달 언니 연기 노래 마지막 트로트 연인 더빙 이상 할머니 월래 아이 시선 전쟁 내내 가슴 설정 연속극 느낌 배우 연기 부족 정말 그대로 영화 세기 명대사 맛깔 드라마 사람 레알 기대 생각 여자 장면 굳이 생각 몰입 훈련 개작 여주인공 인터뷰 그냥저냥 타임 스릴러 나이 수록 이해 영화 전미 박스 그냥 어떻게 영화 옛날 수준 폭탄 싸움 폭탄 슬픔 감독 여자 기량 많이 정말 연기 즐거움 연기파 영화 개연 허무 모습 영화 영화 수입 금지 시절 비디오 테이프 불후 명작 스토리 개막 사랑 이야기 시간 호구 살인 소재 영화 이토록 살인 감독 해석 정말 배우 모습 정말 평점 너무 전혀 쓸데없이 영화 조연 뒷받침 조연 내용 자체 전혀 여배우 별로 매력 이틀 영화 실망 정말 이외 시종일관 제목 야경 일지 지금 얘기 부작 순간 진짜 지존 영화 의문 당대 최고 영화 지금 결코 장면 개연 아역 연기 추노 민폐 언년 국판 초반 저급 영화 감동 드라마 영화 정말 별루 결말 이상 안개 워터 다리 마스코트 딱히 재미 감독 가슴 정말 천재 감독 이제 다시 작품 대작 생각 케이블 그만 재탕 조폭 영화 나이 인생 뭉클 영화 세상 갈수록 세상 비정 친구 지금 티비 영상 너무나 쓰레기 연예인 재기 비디오 도인 줄모 정도 긴장감 지진 주인공 사람 유유히 발연기 시나리오 내용 정말 영화 소재 입감 기대 이상 부분 연기 적당히 언제 연기 배우 포스 무구 조폭 코미디 뼈대 가문 이야기 배우 연기 기억 영화 없이 진행 재미 문제 예술가 사람 인생 당시 시대 상황 명작 지대 짜증 아빠 관객 너무 영화 베테랑 감독 역작 악역 헐리 단연 최고 최악 애니메이션 스토리 하나님 가정 온전히 진리 영화 마음 의도 표현법 헤드 연인 국산 코미디 영화 달밤 제일 영화 점점 갈수록 입도 영화 이번 처음 한창 펭귄 거짓 평화 국민 영화 지금 티비 종착역 인생 대유 단지 여자 완전 안습 군더더기 메세지 전달 뜻밖 영화 감독 의도 전혀 영화 최고 그냥 최고 최악 영화 비록 로봇 점차 인간 감정 자신 고민 결국 인간 모습 영화 최고 감동 선사 영화 배우 시리즈 영화 결국 감독 자신 의견 핑계 살인 정당 정부 사회 초딩 친척 비디오 기억 너무 재미 나중 우연히 다시 그렇게 재미 초등 학교 학년 사촌 당시 최신 비디오 사실 여부 너무 원탁 기사 실제 검술 최고 슬롯 검술 마치 검술 흉내 실제 쌍검 너무 안대 네비 어역 미스 고요 시선 성찰 사색 영화 수준 평균치 하락 영상물 영화 진짜 펑펑 너무 미모 영상 주제 기대 완전 완전 실망 아직 이야기 정말 시간 시간 영화 절망 슬픔 자신 잔인 거부 비참 음악 동영상 취미 영화 음악 시간 퇴색 영화배우 연기 진짜 여운 영화 학위 조성 범죄자 문제자 영화 제작비 패자 활전 부정 솔직히 잔인 정말 기분 느낌 영화 이유 실제로 정장 월가 호텔 시리즈 대박 시리즈 계속 빨리 감기 투자 많이 영화사 정말 오월 정말로 계속 영화 순위 순위 느낌 도대체 아이언 시리즈 개그 내용 히어로 놀이 이렇게 평점 흥미 여배우 중심 캐릭터 영화 살인마 대적 사건 해결 인물 마지막 탈출 이해 대체 그냥 리얼 쓰레기 영화 정말 영화 절대 평론가 명치 정말 영화 생각 재미 인생 도움 가장 영화 본인 인생 박빙 최고 액션 영화 스토리 부족 이상 진짜 소재 영화 다소 부분 이유 영화 영화 로맨스 사실 남자 마음 시선 영화 평론가 한번 영화 울림 영화 재탕 불륜 내용 망침 물론 실제 역사 이야기 전혀 주인공 공주 한마디 만약 미국인 아메리칸 원주민 자유 투쟁기 절대 아카데미상 대강 림프 당시 극장 영화 내내 스토리 액션 그냥 게임 최악 환경 만화 사람 경의 간첩 여운 엄청 영화 사랑 영화 검증 출현 특집 장난 이상 정말 짜증 혼자 자식 엄마 아들 서로 결국 가족 아빠 사람 생각 최악 여자 확실히 요구 왠지 혼자 괜히 영화 너무 사랑 감동 영화 정말 최고 영화 별로 전개 별로 연기 별로 한마디 다시 평수 콧대 완전 왼쪽 팔자 지금 다시 번지수 갈팡질팡 공부 열심히 공부 인생 말랑말랑 그냥 최고 변태 전쟁 이후 아픔 영화 마지막 장면 압권 유대 도움 필요 동행 장면 인척 사실 유대 가족 사진 감정 사슴 인형 대변 영화 인생 성공 남자 오랜만 동화 동화 기분 영화 내용 감사 정말로 감사 연기력 유혹 세월 찰나 순간 찰나 순간 영원 기억 시간 상대 이론 재미 세상 깜짝 이중인격 연기 아무리 노력 차이나타운 대놓고 용서 울컥 영화 재미 감동 임안 귀신 애기 그냥 깜놀 열정 돌진 영화 신화 모두 남자 배우 정말 미스 연기력 안습 연기 엔딩 개답 주인공 혼자 복수 주변 민폐 아직 영화관 시절 느낌 만감 억지 시나리오 전개 구성 배우 영화 정말 최고 연기 너무 영화 영화 영화 평점 이유 교양 시간 충격 영화 마지막 너무 빨갱이 갑자기 단어 선생 그리움 미안 슬픔 마지막 진짜 재미 영화 공통점 스포츠 영화 군대 영화 자막 영화 당시 개봉 배우 연기 일상 현실 시나리오 연출 연기 시간 억지 싸구려 신파 경극 세계 대전 청춘 무기 기술력 세기 전쟁 정치인 전쟁 지휘 고위 장교 생각 세기 그만 빙빙 아직 질질 짜증 사고 질질 진짜 짜증 빨리빨리 반전 작가 드라마 사랑 짜증 분명히 시선 이리 평정 내용 별거 아오 감수성 영화 적월 진짜 영화 상영 용서 지금 영화 진짜 솔직히 약간 장면 정도 생동감 박물관 신인 연기력 다음 작품 노땅 추억 미화 반전 전부 영화 영화 인종 차별 유괴 주제 불협화음 피해자 피의자 명환 연기 후자 가치 영화 소재 화끈 액션 전개 속편 주인공 전작 밴드 캐릭터 추가 이상 영화 박자 디테일 정말 시가전 완벽 남자 사랑 묘사 작중 사랑 마음 정말 디테일 마지막 얘기 완급 조절 완벽 영화 정말 주기 성향 영화 감동 영화 당시 대박 영화 막장 재미 재미 짜증 남녀 주인공 진짜 진짜 제일 최악 주인공 시작 성격 이상 조기 종영 평생 기억 영화 정상 소재 영화 제목 잘못 착각 잘못 요즘 상황 영화 그냥 기독교 영화 깊이 내용 기대 실망 영화 생각 영화 마지막 사람 짐승 아수라 사람 그냥 절절 영화 내용 너무 비약 삭제 행간 느낌 광기 복수 연기 만끽 수작 서스펜스 스릴러물 스킨헤드 영화 감동 감동 감동 도가니 자동차 평점 이하 아오 세계 정치 경제 문화 사회 전반 변화 상황 변화 방법 함정 정체 사치 친구 나이 아저씨 놀이 영화 개역 현실 진짜 개제 정말 최고 영화 남극 그만 영화 연출 곳곳 복선 정도 감정 표현 연기 포스터 진심 능가 실상 영화 시청 개뿔 이제 사극 너무 거부 몸짓 하늘 블랙 코미디 조롱 대상 기분 점수 성기 노출 기대 영화 영화 촌동 조폭 삼류 영화 가끔 툭툭 유머 눈물 기억 간신히 다시 얼굴 먹칠 영화 혼자 너무 올해 영화 남자 몸매 기분 마지막 결투 최고 폭풍 눈물 할아버지 별점 영화 아저씨 동급 감독 상술 최고 선거 최고 조잡 영화 스토리 깊이 전체 쓰레기 함부로 진짜 민국 지아 이상 얼마나 중요 데뷔 연예인 나이 그냥 재미 명작 명작 중심 언저리 무리 승부수 너무나 감동 영화 주연 배우 이름 기억 인형 절대 그냥 이득 신남 요즘 재방 시청 저조 귀요미 수니 죄다 연출 연기 영상 영화 영화 관계 부족 영화 바람 희망 다크호스 응원 부탁 벌써 일찍 관람 진심 감사 진짜 짜증 영화 평점 이렇게 다운 정말 대빵 정말 가슴 정말로 최근 댓글 사람 음악 전혀 마음 설정 어떻게 평점 유치 짬뽕 초등 학년 영화 초등 학교 자녀 가족 추천 정말 완벽 최고 영화 영화 성인 영화 가족 영화 자막 제작자 마음 상당히 일본인 특유 연기 여주인공 연기 너무 코끼리 영화 구성 아마 친구 같이 영화 영화 같이 친구 이해 진짜 최악 최저 스토리 주인공 행동 개연 캐릭 이해관계 최악 허접 표현 영화 간만 코믹 코믹 패러디 카메오 재미 그만 후속 지금 정말 근래 영화 최고 영화 토종 소재 제작 영화 공포 스릴러 본분 드라마 드라마 느낌 연기 연출 시작 장면 살짝 유치 전반 느낌 영화 가비 감독 커피 부분 신경 연출 부분 미흡 배우 연기력 전작 배우 내용 모두 그냥 평작 소재 중고생 마마 추어 포르노 작품상 중요 얘기 픽션 비디오 동시 영물 정체 정정 과도 압축 개연 배우 호화 설명 진짜 필름 필요 로맨스 기절 에서 취향 우울 마음 완전히 내용 마음 정화 부족 영화 부족 영화 감동 참고 진심 이렇게 처음 영상미 최고 계몽 영화 한계 스란 답습 영화 얼간 아줌마 실망 반전 개연 요즘 겨우 정도 실망 남자 내내 아들놈 아빠 미안 감정 소재 영화 자체 메시지 스토리 짜임새 영웅 사람 희생자 액션 영화 실망 부자간 배신 원망 너무 허무 극장 머리 인생 최고 작품 최고 프리미엄 인간 진짜 연기파 배우 쓰레기 영화 진짜 영화 영화 너무 영화 마이너스 점수 정말 오랜만 통쾌 내일 기대 스토리 부진 액션 재미 반감 청춘 마침표 시종일관 오락가락 감독 세계 영화 소재 만족 연출 창업 아이템 사업 여정 스승 지침서 단념 도움 오랜만 박장대소 독립 영활 극장 영화 아픔 처음 퍼스트 명화 진짜 감동 양심 너무나 감동 영화 도로 영화 반전 인간 이해 불가 왠지 감동 영화 후세 진짜 정신 상태 이상 화제 개봉 종교 한번 생각 영화 감독 노력 박수 내내 영화 사랑 상처 다시 치유 생각 영화 대우 최고 평가 필요 마술 외계인 자신 다시 생각 영화 빨리 나라 처음 이리 매력 전혀 몰입 장면 단순 진행 연출력 머릿속 지우개 이후 진짜 영화 마지막 눈물 폭발 오늘 이후 자막 제작자 막장 월요 커플 짱짱 덕분 아주 그리 수도승 터키 특집 액션 스키 추격 기억 소피 소피 소피 시리즈 시절 재미 조금 평점 이해 영화 처음 여배우 포스터 영화 상영 시간 내내 포스터 충분히 최루성 배우 작품 부족 평생 최고 걸작 현실 건너편 세계 잠시 느낌 시작 인생 최고 영화 내용 전개 정도 재미 진짜 추천 돈뭉치 명장면 너무 현실 배우 빵빵 혼자 본전 생각 담배 남편 고고 영화 쓰레기 영화 진짜 정말 비디오 최악 근래 다크 히어로 무비 최고 아주 그냥 고스트 라이더 사망 그대로 영화 너무 일찍 슬픔 제제 눈물 영화 마찬가지 나이 제제 인생 최고 영화 아직 기억 육감 여인 존재 자체 영화 전부 진정 영화 당시 두고두고 영화 영화 도입부 카메라 각도 화질 구림 영화 박사 아들 정말 너무 너무 영화 곳곳 아이디어 구성 수작 별로 새벽 미스터리 스릴러 겸비 영화 정말 능청 연기 생각 계속 생각 초반 현대 자동차 프레스토 추억 세록 세록 진짜 액션 영화 액션 영화 다운 꾸준히 벌써 사람 점수 만점 구역 타이틀 실망 철학 영화 단순 액션 정도 점수 영화 중년 남성 효과음 영화 진짜 이유 이렇게 영화 처음 진짜 아까 운적 솔직히 평점 이상 진짜 영화관 정도 사람 이유 왠지 완전 영화 영화 영화 인대 남자 가슴 이제서야 솔직히 코믹 요소 싸구려 왜색 영화 일본원숭이 망상 사무라이 정신 조금 유치 충분히 모니터링 염치 극장 감동 영화 산업 홍보 소비자 입장 짜증 그나마 다행 아주 싸구려 상급 차라리 감독 작품 홍보 만이 완전 감동 부류 마구잡이 연출 절망 결국 실화 배우 연기력 국민학교 동생 눈물 코미디 영화 욕망 이름 전차 헛웃음 내내 악역 주목 주연 여배우 미스 캐스팅 의미 진짜 정말 최고 영화 마지막 아이 노래 비행기 정말 여운 영화 이제 자체 후회 정도 여운 영화 절대로 후회 영화 사람 내내 여운 영화 내용 도통 쓸데없이 특별 시도 영화 기쁨 슬픔 생명 죽음 인간 역사 거대 하나님 우주 섭리 영화 특별히 어머니 여배우 여성미 자애 인상 인생 존재 영상미 예술 내용 솔직히 공포 영화 섭렵 정말 아직 샤워 머리 공포 느낌 느낌 사람 그만큼 당시 영화 평점 빨리 영화 영화 이야기 보통 재미 정도 정도 고릴라 제작 감동 보통 결말 정말 광해 정말 느낌 특유 여성 자극 남성 이미지 부각 몸매 베드 사람 영화 사람 외모 사랑 요즘 사람 영화 최악 쓰레기 정말 노력 영화 댓글 제일 사이코 드라마 문화 최고 사극 진짜 영화 시간 낭비 의미 공포 영화 진짜 기대 꼬옥 이해 사람 속출 불교 철학 작품 정말 식상 영화 실제로 막장 막장 종교 분위기 물씬 최루성 가족 영화 그냥 음악 영화 취향 저격 비긴 어게인 대중 흥행 영화 여주 너무 매력 선택 솔직히 반개 최고 남편 아기 남자 갈등 여자 공격 재미 여성 지략 맞짱 어린이 시점 오로지 어린이 시점 비디오 좍좍 영화 가장 영화 참고 우리나라 그냥 소설 자위 자위대 등장 사람 자위 감정 과학도 과학 영화 사람 완전 결말 실망 삽질 짜증 여전히 사랑 자리 전작 왠지 허탈 전작 노예 업주 처벌 이슈 점수 정도 충격 결말 의미 공자 자연 짐승 끼리끼리 사람 따로 진정 순수 사이 유지 도입부 제외 따분 헬기 민간인 마구 미군 여성 현실 극단 설정 일병 영화 주인공 조커 모두 캐릭터 주위 피해 취향 모레 이렇게 후덕 평점 조절 쓰레기 영화 전작 가만히 씨익 웃음 행복 가족 이야기 지금 아이리스 시리즈 최악 너무 수치 연기 너무 허접 영화 연기력 그토록 흥행작 비트 연기 예전 재미 배우 스토리 흥미 배우 연기 인상 충분히 인생 최고 진짜 집중 영화 사랑 생각 청소년 관람 가임 선정 장면 연인 솔로 추천 감독 이후 최고 쓰래 직접 어르신 당시 잔인 학살 대부분 주민 서로 주로 하층민 복수심 경이 빨치산 학살 살인 정작 민간인 재미 너무 시간 아까 영화 개인 평균 평점 정도 가치 스타일 영화 어떻게 상류층 속물근성 정당 감독 국회의원 사회 강자 아부 얼굴 드라마 도덕 표현 감독 정신 시청 너무 명작 사고 잠시 정상인 일탈 현실 제로 배우 너무 특히 많이 남자 게이 최고 최고 막장 드라마 원조 영화 영화 확실히 감독 치졸 영화 해군 출신 관심 영화 빠다 폭풍 이야기 거장 솜씨 예전 모우 생각 영화 베스트 진짜 공포 영화 이후 재미 공감 기존 영화 느낌 상업 도전 그냥 다큐 영화 정말 질질 작가 제발 적당히 희수 사람 그만 아침 드라마 막장 지미 괴물 그래픽 머니 공포 영화 시간 정말 가슴 애린 드라마 대표 쓰레기 김치 드라마 생각 장애인 별점 신뢰도 이하 감각 영화 마지막 결말 약간 헤어 스타일 신노 진짜 언제 정도 몰입 정말 너무 너무 영화 정말 처음 진짜 나이 밤중 이렇게 영화 나라 국민 사과 진짜 설마 설마 무협 걸작 진짜 기분 영화 공포 영화 영화 너무 다시 짝퉁 쓰래 가장 의미 바로 영화 영화 모욕감 생각 여주인공 연기 오늘 아이 미취학 초등 어린이 추천 평점 너무 원작 러닝 타임 감사 주인공 썰매 목적지 사람 기억 설정 인간 감정 통제 이퀄 리브 파란색 슬픔 영화 원작 액션 완전 차라리 유오 그냥 영화 순수 감독 관객 여운 많이 지금 페이크 다큐 영화 제일 별로 원작자 캐스팅 참여 작품 만화책 비밀 영향 지금 생각 영화 영화 생애 최고 영화 장난 반전 진짜 시간 최고 노래 원곡 영화 노래 얼씬 예고편 예고편 예고편 대판 쌈질 하하 호호 예고편 시청자 호구 낚시질 그만 차라리 시청 걱정 폐지 소재 굉장히 쓰레기 쓰레기 쓰레기 쓰레기 쓰레기 쓰레기 쓰레기 쓰레기 사촌 동생 같이 정말 사촌 동생 두말 없이 최고 작품 인생 생각 깊이 영화 출연진 제작진 박수 설득력 꼴통 페미니즘 마인드 필요 영화 지향 작품 화학 친구 중간 중간 노이 나중 해석 소녀 가장 이야기 기억 조작 사람 그냥 마저 갑자기 원주민 생활 진짜 어처구니 그냥 영화 그저 문헌 문란 사도 세자 정조 아버지 그릇 정도 작품 시나리오 시나리오 배우 연기 일품 목상 대형 슈퍼마켓 휴일 침대 티비 없이 나중 벌떡 영화 완전 몰입 스토리 액션 영화광 영화 평론가 영화 자주 일반 남자 사람 평점 조절 필요 생각 특히 소유 매력 완전 최악 두근두근 자체 절대 비추 최고 농촌 드라마 실력자 스타 리그 옴니버스 피로감 극복 수준 얼음 단독 장편 주인공 혹여 평소 공감 여호와 증인 납득 정도 감정 설득 솜씨 송이 우주 인간 충분히 가능 자꾸 설득 설교 결혼반지 범죄 가담 개역 지설 정이 최고 영화 제발 전문 성우 최고 드라마 처음 장르 조금 당황 솔직히 영화 자체 자신 색깔 충실 완성 이해 모두 제일 자랑 너무너무 영화 영화 아씨 개인 기적 이미 어의 스토리 여자 웃음 로맨스 영화 기방 난동 사건 이후 최악 영화 사람 세월 다시 공감 사람 가슴 명작 로맨스 스릴러 짬뽕 스토리 느낌 선정 액션 카타르시스 영화 천녀 유혼 표현 영화 불륜 영화 사람 걱정 사람 이야기 공감 강요 영화 음악 영상미 재미 매우 솔직히 진짜 수작 아직 준비 영화인 함부로 장편 천천히 공부 제발 현기증 간만에 추억 사실 원작 자체 두서없이 전개 영화 감독 내용 앞뒤 없이 배우 특히 대사 그대로 간만에 소설 너무나 마음 자신 영화 쓰레기 감히 티비 대체 존나 절제 미학 극치 늑대 여정 너무 낭만 스토리 음악 영화관 솔직히 흑인 민권 운동사 완벽 요약 인간 방법 방법 충분 어떻게 정말 사랑 다시 생각 감동 그냥 단순 액션 긴장감 공포감 연출 음악 인상 평점 너무 내용 교육 정말 평점 영화 제일 아주 정말 화면 흑백 쇼핑몰 너무 내용 스토리 분위기 배경 지하철 기관사 묘사 진짜 쓰레기 영화 영화 최고 에피소드 다스 탄생 운명 폭력 영화 자극 실험 예술 소희 영화 미남 마지막 평생 권유 창조 이렇게 중복 우우 진짜 이렇게 재미 감동 영화 처음 특히 나발 인물 컴퓨터 키보드 컴퓨터 화면 파트 무한 반복 허접 너무 배우 연기 개떡 영화 중심 스토리 반전 반전 너무 막장 스토리 어거지 서스펜스 스릴 나라 정서 기대 영화 내내 몰입 많이 스토리 스릴러 요소 명작 보다 훨씬 매력 간직 영화 주인공 전형 일본식 엽기 괴짜 코메디 특이 왜지 명작 너무 드라마 스토리 연기 음악 연출 모두 완벽 이상 사람 가장 쓰래 영화 영화 완전 노력 보상 일정 성취 결실 작품 일단 고래 국가 호들갑 오버 모습 모두 지구 생명 메세지 참으로 감동 아이 함께 그냥 지금 주말 밤새 완주 여운 많이 드라마 여기저기 내용 이기 사람 연애 마지막 갈수록 시청 내용 기대 진짜 내용 재미 별로 완전 마지막 아이 파문 주목 여주 로한 전체 분위기 배경 내용 솔로 영화 차안 전화 통화 가까이 구경 명작 생각 영화 진짜 장난 홀로 최고 영화 전형 저질 영화 신사 조금 부족 영화 개안 소재 내용 전개 개판 사람 서로 일방 식인종 표현 식인 인성 말살 짐승 표현 내내 너무너무 포스터 구역 이름 영화 완전 졸작 액션 신도 스토리 이상 너무 아역 연기 내용 쓰레기 에로 흑인 남자 진짜 극장 스릴러 웃음 혹시나 절대 진짜 제발 죽음 왈가왈부 제발 영화 영화 쓰래 정말 꼬마 연기 너무 너무 구식 솔직히 원작 훨씬 원작 인간 설정 사람 정신 세계 필요 진심 현실 마음 영화 재미 친구 동영상 생각 영화 재미 진짜 새끼 잔치 호화 예원 그만 영화 최고 졸작 감동 참고 영화 마지막 엔딩 부분 자막 부분 영화 실화 진짜 레알 현재 실제로 실화 피디 다큐 다큐 엔딩 장면 진짜 실제 딱히 교과서 플레이 정철 기축옥사 스토리 탄탄 배우 연기 남녀 주인공 드라마 연기 삼류 배우 얼굴 영화사 작품 실험 영화 완성 내내 손발 감동 전쟁 연기 이야기 그저 초반 점점 외계인 외계인 무리수 코미디 기획 상품 색채 연예계 여자 욕망 표현 내내 진짜 심정 사람 어떻게 사랑 대사 소름 연예인 사랑 옛날 국산 아마겟돈 악몽 본지 아직 고양이 귀신 복수 진짜 완전 쓰레기 영화 기술 수준 각본 개념 영상 대학교 졸업 작품 영화 분명 영화 이번 정부 많이 내용 이리 영화 소리 진짜 소재 생각 남자 솔직히 조금 허접 영화 초등 학교 선생 영화 시간 에이즈 남자 아이 운동화 그때 영화 영화 바로 명작 시간 명작 다미 성년자 아저씨 순결 결국 정신 공부 해거 명문대가 결말 양반 세포 소녀 감독 설리 영화 어떻게 야경 엉망 연결 충돌 제목 인상 동안 영화 최악 영화 시간 시간 역대 쓰레기 영화 여태 최고 영화 일병 미니 팍팍 혹시 특수 효과 감독 로그인 청춘 영원 재미 현정 언니 완전 고추 매운맛 지구 작품 영화 내용 그냥 영화 미장센 이야기 몰입 필요 존재 노인 나라 먼저 감독 매력 영화 사람 채널 다시 마지막 영화 우연히 최근 코미디 영화 최고 자식 그렇게 대체 내용 알콜 중독자 평점 점급 내용 결말 남자 주인공 늑대 인간 평점 실물 특수 효과 재미 제목 번역 바보 그냥 늑대 인간 쇼핑백 정말 최고 명작 성인 왕자 감동 자체 의도 너무 몰입 울컥 사회 현실 소림사 관문 통과 진짜 영화 극장 개봉 최강 전차 부대 시리즈 사실 너무 가슴 전기세 진짜 퀴즈 한수 이야기 자체 흥미 패턴 패턴 어쩌면 기만 패턴 목격 유턴 어쩌면 그렇게 아직 인턴 훌쩍 착지 영원 인턴 랜턴 랜턴 영상미 러닝 타임 시간 초반 줄거리 엄청 화보 기분 영화 특유 이해 전기 먼저 진짜 고독 낭만 영화 스토리 연결 전혀 편집 드라마 작품 많이 작품 관심 수작 재난 영화 여자 주인공 배우 연기력 최고 드라마 저렇게 영화 영화 쓰레기 너무 당최 지우 연기 근작 액션 장르 시나리오 영화 필수 기대 그대로 영화 너무 시리즈 가장 본격 미달 연예계 태도 기존 매력 화끈 액션 매력 파괴 관객 오랜만 요즘 영화 마지막 미그기 미사일 발사 대신 전투기 격추 장면 정말 압권 중견 배우 긴장감 긴장감 도술 헛웃음 영화 줄기 복수 복수 성공 통쾌 복수 등장 영화 성공 스퀘어 합병 다다다 기대 영화 가슴 뭉클 정말 감동 영화 손발 극장 모퉁이 영화 그때 감동 추억 문제 내용 그래픽 전체 기분 완전 진짜 너무 등장인물 모두 제목 잘못 모텔 스캔들 정말 모텔 아줌마 억지 정말 최고 드라마 외국 드라마 쓰레기 매주 기대 최근 사랑 전쟁 영화 자주 등장 만약 부류 영화 사람 영화 지금 드라마 수준 계속 외면 처음 분장 수록 정말 작품 코믹 내용 갈수록 평점 기대 의외 일단 배우 연기 상당히 현실 리얼 스토리 전개 감독 메시지 흥미 스타일 사람 평점 오랜만 편집 대사 연기 영화 흥행 시작 점내 시간 쓰레기 점수 빨리 다음 편도 일제 사격 대체 대본 유명 달리 경찰 명복 영화 영화 포스터 주기 현실 꾸밈없이 영화 영화 내내 느낌 시골 시내 곳곳 방송 음악 너무 묘사 느낌 만화책 많이 배속 영화 타임 정말 시간 이질감 없이 공감 인간 양면 설정 개연 플롯 인생 솔직히 후반 용기 영화 평소 시간 고어 진짜 짜증 캐릭터 본인 일부러 짜증 그렇게 걱정 얼른 기억 행동 후회 만남 가슴 사랑 패러디 졸작 음악 교향곡 완성 가장 시간 영화 감격 시대 거듭 본방 사수 영화 정말 영화 앞뒤 영화 날고기 코스 요리 공존 작품 영화 완전 별로 필요 진정 막강 캐스팅 물타기 연출 구성 너무 박진감 영화 깨알 등장 신동 짜장면 명작 천재 감독 진심 기대 시각 황홀경 무어 중령 얼굴 사촌 동생 엄청 소재 어떻게 이렇게 무조건 인생 최악 영화 선교 사람 도전 축복 언제나 함께 육식 공룡 빌딩 공룡 스타트 재미 제발 인간 시간 배우 정말 앨런 감독 현대 이렇게 영화 영화 영화 추억 여름 방학 특선 티비 영화 찬사 찬사 이야기 너무 조금 마지막 가슴 만약 찰흙 진짜 사람 연기 정말 눈물 여전히 쓰레기 겁나 생각 없이 눈물 영화 단편 캐릭터 구조 질문 영화 아직 대작 필요 시간 정도 그야말로 대작 영화 별로 코드 출가 영화 액션 코미디 시도 당태 공자 이어 이번 티플러 연기 정말 정말 배우 사랑 존경 최악 스토리 연결 편집 엉망 영화 자체 고통 순간 죄인 삭제 노인 영화 편성 이번 실망 완전 짱구 최고 그럭저럭 장면 조폭 미화 평가 사람 영화 잘못 한참 잘못 당시 부도 직전 문제 졸작 한동안 부부 다운 완전 홍도 의리 결승전 공정 게임 라운드 지금 결과물 생각 게임 게임 사람 관계 물론 취향 배우 연기 모라 나머지 구성 별로 완전 막장 드라마 따로 솔직히 인간 지금 산업 개념 처음 스토어 개념 먼저 안드로이드 이리 평점 구식 촬영 기법 그나마 액션 이해 인물 행동 초등 학교 맘속 최고 드라마 영화 최악 상태 정말 드라마 일요일 아침 내내 두부 느낌 최고 영화 많이 동민 기대 나이 수지 아저씨 라면 연기 끝내 남녀 주인공 연기 특히 남자 주인공 연기 정도 정말 진짜 감동 별점 연출 매우 진한 절단 이후 순간 카타르시스 소름 반지 제왕 평점 오류 영화 개인 소재 제대로 탈출 분명 명작 쓰레기 유작 당대 매혹 배우 맘껏 지명 포르노 배우 주연 정도 몰락 이유 오역 연기 조금 정말 영화 동화 영화 절정 부분 슬픔 영화 예산 차라리 순수 공산당 찬양 영화 내내 위화감 언론 맹점 군중 심리 개인 심리 재미 균형 영화 아이유 시청 정도 문제 남자 물론 여자 기대 반전 연인 가족 서민 증말 전혀 내용 연결 최악 영화 정말 영화 사랑 영화 달리 실망 대박 스릴감 액션 드라마 발견 영화 미션 긴장감 오락 영화 유치 시즌 시리즈 조폭 영화 현실 가족 영화 조폭 은근 계속 유머 눈물 찔끔 몰랑몰랑 에로 거장 신파 시종일관 원작 소설 사람 진짜 특히 엔딩 평점 게임 포탈 아이 믹스 영화 기분 배우 연기 시간 우기 이상 물론 결말 용두사미 영화 상영 시간 필요 이상 설명 생략 특수 효과 없이 관객 납득 능력 촬영 감독 초보 장비 영상 화면 매우 안정 학교 감동 정말 이상 내생 최고 영화 영화 속편 생각 남자 결혼 시간 영화 추리 소설 사랑 이유 트릭 사람 사람 행위 감성 부여 설득력 원작 그대로 헌신 사랑 용의자 집중 훌륭히 감독 의도 표현 느낌 생각 정도 엉망 카톨릭 개신교 기독교 그리스도교 기독교 하나님 유일신 하느님 하늘 애국가 표현 아직 평점 사람 평점 의지 완전 부탁 캡틴 린치 사람 필추 물론 드라마 먼저 구제 불능 아기 너무 악당 부담 진짜 경우 진짜 지금 기분 영화 화면 드라마 연기 너무 옛날 영화 연출 웃음 정도 뜬금없이 갖가지 사건 연관 뜬금없이 없이 승전 군대 많이 똑같이 오만 편견 이야기 스토리 감동 영화 여자 정말 별로 연기 의학 인척 로맨스 진짜 의학 드라마 실화 연기 범죄자 미화 감성 정도 케이블 드라마 나인 넘사벽 지상파 드라마 지상파 제발 드라마 엄청 예전 영화 아직 수작 동족 인간 사건 체제 자멸 호시탐탐 결국 평점 게이 이토록 연출력 감독 야유 소재 기대 기영 특히 제일 너무 연기 너무 평점 근본 영화 최악 처음 갈수록 허무 짜증 시사 영화 현실 갑자기 폭력 모습 어거지 영화 최고 마음 없이 감수 남자 드라마 기분 똑같이 파킨슨병 할머니 하염없이 그냥 여자 이중 의미 메시지 정말 특별 영화 강추 평점 감독 행복 얼굴 지금 시점 더욱 영화 야동 극장 개봉 스토리 별거 액션 배려 영화 재미 아이 간만에 영화 불륜 내면 심리 제대로 분석 아트 영화 영화 영화 시리즈 제목 영화 여인 영화 여자 비명 소리 정말 풍선 아이 아이 행복 미무 중학교 퍼펙트 월드 동시 상열 진짜 원작 만화 복습 복습 원작 비교 너무 제발 영화 남녀 사랑 가족 사랑 사랑 얼마나 영화 영화 액션 액션 타인 완전 사랑 독특 작품 구역 머리 상반기 최고 액션 영화 솔직히 배우 열심히 연기 감독 스태프 노력 흔적 많이 스토리 너무 느낌 시청자 특유 재미 많이 아쉬움 영화 결국 세계 이해관계 악과 가족 사랑 정도 상술 남자 자신 능력 매력 인간 냄새 가능 분위기 관계 특히 코미디 정말로 재미 영화 강추 수학 천재 얘기 생각 감동 진짜 요즘 채널 혐오 여주인공 완전 개념 발견 제일 실망 영화 공감 그냥 쓰레기 재미 그닥 진짜 대박 내용 평점 개그맨 본업 똑바로 게스트 예능 서로 갈등 괜히 사람 짜증 여배우 완전 진심 시간 신비 포스터 전혀 내용 향수 배경 샛길 확실히 초점 스릴 전개 만족 어떻게 평점 이렇게 개봉 당시 극장 진짜 연기 개판 스토리 개판 영화 오래 기억 최하 개인 영화 감독 영화 성공 예감 관람객 수준 아주 평가 절하 단호히 시리즈 완전 필요 마음 제목 편견 미소 성장 영화 재미 졸작 의미 부여 그냥 분석 짜증 영화 조커 장난 무당 소재 그렇게 소재 영화 정말 소화 무당 소재 사용 정말 한수 현실 프로그램 진짜 점수 그다지 변태 감동 웃음 한방 시대 착오 애니메이션 감동 눈물 실화 혹시 감독 천재 생각 수능 문제 일부러 오답 전국 영화 내적 측면 엉망진창 정답 포인트 외계 남성 지구 남성 과정 물체 진행 빠르기 미학 완성도 영화 최상급 상영 종료 정도 대작 편의 설정 오류 수정 추가 볼거리 마마 어른 우측 함께 절대로 작품 강력히 주장 내용 기대 없이 주인공 오빠 변태 성욕 합리 연애 시절 추억 영화 마지막 스토리 배경 음악 하와이안 커플 다시 영화 이미 영화 개봉 최고 성장 드라마 스케일 시리즈 가장 제작비 시리즈 도대체 제작비 출연료 원맨쇼 사랑 영화 영화 존나 바둑 급수 향연 한마디 한마디 바둑 용어 타짜 타짜 아류 자처 영화 원작 가요 되게 영화 생각 그냥 그저 영화 코미디 영화 정도 마지노선 달마 주유소 정도 최악 영화 차라리 로빈 착각 재미 긴장감 천하 쓰레기 미화 사극 정말 드라마 영화 유일 미덕 가요 재조명 노래 영화 이제 정말 아픔 여정 달리 영화 영화 일단 브랜드 광고 명작 감동 다시 감동 평점 예술 내면 탐구 평점 최고 가끔 중간 조금 엄지 왕자 마녀 마을 그냥 진짜 이리 평점 처음 갈수록 이야기 삼매경 제목 왠지 장르 공포 느낌 별루 시즌 리턴 제발 소재 감독 연출 영화 시인 사회 보다 대박 감동 죽음 너무 후반부 감동 역대 수지 개폼 참고 표절 명작 하이틴 표격 단점 살인마 타지 무협 장르 개척 영화 감독 실험 정신 어린이 만화 철학 만화 너무 스토리 혹시나 나라 스토리 작가 기왕 얘기 습작 지원 오늘 영화 너무 배배 영화 진짜 감동 운적 처음 미국인 친구 제목 무지 엄마 솔직히 영화 사람 얼굴 몸매 점수 영화 미술관 그림 감상 감동 정말로 솔직히 회사 농간 영화 널리 문제 엄연히 실력 차이 재력 오만 결국 여성 관조 스릴감 감독 최고 음악 영화 화면 결말 소리 돼지 이렇게 정도 배우 쓰레기 이유 영화 최초 흡혈 장르 흡혈 식물 대소동 유사 내용 영화 처음 영화 사람 영화 생애 최악 영화 언제 호화 배우 영화 감독 실망 호화 배역진 죽도 기대 충분히 존나 평점 모로 도로 영화 노래 사람 국가 명연기 시나리오 영화 명화 분석 영화 가장 그룹 여자 쓰레 기년 전설 명화 쓰레기 허세 겉멋 영화 정말 노래 댄스 어깨 들썩들썩 아재 쓰레기 영화 평점 타임 화남 아주 애국주의 그만 작품 플롯 전개 화면 구성 너무나 예술 내내 몰입 많이 그냥 영화 액션 액션 가지 본질 반전 영화 전개 정말 영화 이렇게 평점 정말 강추 본격 케이스 지금 정말 영화 그저 신인 개그맨 오디션 나열 느낌 웃음 없이 정신없이 딱히 지적 결코 모음 정도 영화 너무 몰입 조금 전형 신데렐라 스토리 그냥 별루 극장 다행 진짜 오랜만 천사 쿵푸 제일 영화 재미 스토리 오랜만 영화 절대 후회 요즘 매번 지식인 브레이크 실력 필요 상황 미만 점수 영화 콧구멍 작품 제목 이상 감성 국내 영화 별점 옛날 미이라 생각 시간 도대체 영화 도통 재미 감동 사람 평점 남자 남자 남자 영화 간지 작살 포스 감독 특유 남자 향기 물씬 남자 영화 매번 남자 영화 정말 학교 단체 관람 창피 스피릿 영화 대체 영화 아직 확실히 생각 너무 음악 기억 영화 정말 영화 자주 영화 참고 그냥 열심히 배우 응원 화면 배우 스릴감 드라마 생각 다운 초반 등장 깜짝 너무 중국 느낌 패션 복고 컨셉 배우 어른 완벽 형태 완벽 상학 가시 기분 무지각 순수 얼마나 공기 이리 재미 스타일 감독 자질 문제 기대 이상 사랑 영화 공포 영화 코믹 너무 액션 줄거리 진짜 공감 많이 속편 표랑 너무 속편 사람 절대 점수 마이너스 최고 영화 필요 보다 포기 영화 여주인공 시리즈 영화 시대 배경 본격 남자 우정 사랑 특히 액션 전대미문 연기 관객 의미 소름 영화 간만에 영화 장르 너무 이얌 허무 주인공 너무 주인공 긴장 감독 재능 의심 추천 영화 재석 교수 장태 회장 시나리오 작가 감독 영화 공감 저질 영화 연기 특히 여동생 다시 분노 얼굴 이번 영화 계속 영화 카리스마 영화 시절 누님 시르 영화 순간 무뚝뚝 사람 별명 마법 이렇게 평점 영화 후회 영화 문제 영화 열도 대중 이유 영화 무협 영화 춘향전 고발 연예 중계 사신 강요 촬영 감독 수치심 거부 여자 주인공 영상 상황 고개 외면 감독 청소년 금정 사신 범죄 스토리 개봉 계속 다운로드 빨리 최고 모습 우정 출연 만점 담배 그닥 감동 사람 그림 아기 사랑 만리 함박 시후 시간 완전 세경 꼭두각시 캐릭터 전락 여자 세상 정말 작가 초등 수준 영화 공포 택시 이후 이렇게 공포 영화 처음 만화 대사 검사 최고 반전 영화 작품 전혀 이전 개봉 감동 진짜 웃대 아이디 애국자 감상문 정말 결말 어떻게 댓글 서류 봉투 앞부분 고양이 그냥 그냥 바람 남친 영화 점점 그냥 영화 미래 설국 열차 감독 다음 작품 최고 명작 정말 이리 장면 편집 너무 같이 가장 완전 사랑 영원 배우 진임 스릴 사람 장면 아픔 전쟁 의미 살육 절대로 영화 눈물 평점 정도 내용 영화 굉장히 생각 타임 정말 최고 영화 제작 짱짱 겨울 왕국 내용 감정 동화 스토리 치유 어제 진행 너무 나이 근육 아직 나이 평점 너무 오랜만 드라마 소재 참신성 배우 열연 대사 달달 전개 템포 기존 매력 생각 작가 우분 수고 감사 의미 애니메이션 나라 영화 평론가 평점 조금 영화 평균 이상 동식 영화 기본 이상 대임 대단 영화 차라리 애니메이션 실망 영화 도리 이후 이렇게 영화 처음 영화 여운 많이 영화 최악 연기 액션 제대로 소화 처음 영화 정말 사랑 너무 영화 내내 미소 너무나 사랑 영화 내내 궁금증 유발 해병 손자 손자 친구 년놈 영화 분명 정치 현실 불만 영화 해법 동의 사발젖 픽션 재미 허접 저급 개편 여자 친구 전쟁 마지막 결말 소름 지금 소름 만화 내용 너무 최고 작품 감히 둔기 기분 너무 솔직히 너무 과대평가 전화기 테레비 조금 인간 모습 쟁장 덕분 빅뱅 너무 우울 주말 드라마 내용 연기 진짜 영화 내용 기억 느낌 기억 평생 가장 영화 넘버원 영화 내용 영화 작품 많이 희망 평점 장난 내내 기분 영화 시간 우기 고어 영화 쓰레기 배우 환상 연기 호흡 장난 재미 실화 진짜 영화 너무 결국 영화 영화 영화 사물 그냥 타임 솔직히 별루 점수 생애 최고 영화 정말 강추 강추 영화 다시 군대 다시 모기 새로 히어로 모기 영웅 우화 바람 승화 드라마 반짝반짝 백곰 무장 해재 내용 별로 무조건 평생 이렇게 영화 처음 재미 기함 정말 식겁 영화 정형 동양 배우 역할 한계 생각 소신 배우 아주 자식 펭귄 동성애 개뿔 당시 극장 상당히 영화 평점 모양 운지 운지 홍어 홍어 부릉부릉 땅크 여신 일부러 조작 이리 많이 최고 영원히 기억 영화 영화 감동 각본 전부 완벽 사장 설레발 리메이크 이제 기억 드라마 드라마 완전 강추 오늘 오늘 본방 사수 많이 생각 전이 요소 혼합 공포 진짜 목소리 배우 유선 목소리 나레이션 성우 아나운서 존나 손가락 이유 환상 커플 이후 수작 아직 진행 제한 동창회 느낌 순간 사람 맞음 그냥 죽음 원래 머리 약점 불꽃 인생 멀리 하늘 진짜 스트라이커 차라리 본인 영화 찬사 옛날 영화 영상미 흡연 요구 영화 게임 모름 영화 영화 재미 예상 점수 원표 그냥 원표 바보 행진 시범 스토리 후딱 전개 너무 하품 티비 단막극 감성 이용 영화 이미 시대 인간 심장 짐승 질주 죽음 마지막 모습 자체 그냥 영화 비추 시간 영화 영화 정말 최고 영화 심심 여주 캐릭터 그닥 매력 정말 힐링 영화 액션 최악 제목 영화 점수 사람 까닭 온라인 채널 동시 상영 서비스 오픈 단관 개봉 얼굴마담 고도 낚시 영화 판단 전쟁 난민 그저 지정학 가치 난민 생각 승려 지옥 일대기 당시 정말 영화 최악 진짜 연출 이렇게 제목 생각 제목 정답 정말 나발 인간 그만 금발 주인공 시종 명작 김치 시샘 평점 발상 스케일 추억 안습 코미디 영화 남자 질투 사랑 연기 정말 비디오 샘플 필요 최고 감동 결말 이상 영화 정말 감동 내용 나머지 도저히 몰입 캐릭터 설득력 스토리 복선 배경 설정 총알 무게 분대 런닝 타임 식상 구성 맥주 진수 아주 감동 영화 쓰레기 영화 머리 퍼뜩 배우 연기 만보 제일 평점 쓸데없이 도데체 와이프 임신 이유 이야기 자체 연출 연기 조화 상평 진짜 환불 의미 자음 입력 짜증 공포 영화 인생 극장 영화 최악 영화 지금 정말 추천 모습 바로 볼륨 사랑 사람 사랑 사람 강추 이상 언제 지금 케이블 연기 스토리 정신병자 영화 분위기 영상 긴장감 영화 여배우 너무 내용 정말 기대 이상 재미 공감 부분 너무 국적 사람 정말 반개 쓰레 아직 혐오감 정도 평점 초기 처음 평점 장난 아주 드라마 지금 불현듯이 정말 드라마 억지 짜집기 스토리 구성 필요 드라마 특히 연기 개그 영화 액션 재미 개그 재미 시대 앞서 작품 시종일관 우울 얼굴 짜증 음악 추천 요관 장군 무덤 이렇게 맘대로 허세 허풍 오버액션 여전 음악 심장 가슴 양심 생각 영화 각각 의미 되게 연기 중간 내용 진짜 시기 영화 그리 특수 효과 없이 촬영 그리 기대치 너무 재미 다운 화끈 액션 필요 전편 등장 여배우 서기 이편 여자 주근 장난 제작비 유용 정말 영화 생각 교훈 정말 감동 영화 기억 전혀 영화 마지막 부분 연기 장난 배우 감독 진짜 블랙리스트 순위 영화 이유 발판 긍정 인간 본성 송어 냉소 감독 수작 괜히 알콜 의존 주인공 결국 물건 자신 마음 이기 앞뒤 생각없이 피해 고래 정말 최초 영화 명작 마지막 재회 장면 인상 현저히 재미 최고 사극 결국 주인공 그냥 보통 스토리 볼일 의미 로맨스 평론가 기대 없이 영화 현실 영화 요즘 시대 회사원 현실 그대로 반영 영화 살인 청부 소재 회사 전쟁터 워드 코미디 시간 허비 정작 사건 진행 지지부진 게다가 사건 장난 영화 여주인공 가슴 노출 부분 문화 장벽 이리 특히 영화 혐오감 초반 소름 긴장 노출 별거 영화 자체 너무 시간 배우 연기 설정 암울 내내 연기자 모두 기분 부전 장애 모두 다운 기분 내용 흥미 진짜 선진국 이유 진짜 최고 번개 생각 평점 로코 배우 모두 제일 매력 내용 너무 시퀀스 우연히 무료 영화 그냥 인간 본성 탈출 온통 폐허 핵전쟁 최후 영화 더더욱 공감 영화 정말 영화 영화 보삼 초등학생 조카 사족 드레 곤이 기형 애니메이션 영화 버러지 영화 정말 명작 배우 스토리 탄탄 영화 영화 후반부 개연 기차 관점 연출 드라마 흔히 스토리 딱히 오랜만 서부극 소재 독특 음악 특이 가스펠 편곡 배역 개인 가래 목소리 벨트 오랜만 형제 작품 강추 평점 시간 아까 영화 처음 본진 진짜 친구 새벽 오줌 뱀파이어 물중 최고 연기 뱀파이어 눈밭 피범벅 장면 압권 장난감 영화 모션 음악 영상 완벽 장면 유리 유리 갈수록 유리 연기 이상 극장 감동 그냥 식상 코미디 영화 장면 기억 영화 기존 계열 사람 예찬 영화 오만상 포기 왠지 패러디 느낌 처음 다시 다운 드라마 조만간 한번 프렌치 캉캉 외설 저렇게 진짜 사랑 거의 공감 강요 영화 스토리 막장 엊그제 시작 벌써 작년 가을 겨울 올해 여름 사계절 내내 너무 정도 부디 해피 엔딩 외설 생각 마지막 생각 영화 그냥 야동 스토리 액션 화끈 하다 완전 너무 영화 울음 영화 그럭저럭 스토리 세상 아버지 영화 지금 생각 눈물 비교 액션 그냥 서커스 마음속 간질 부분 자유 이렇게 행복 이해 감동 명작 소장 정말 오랜만 이렇게 짜증 영화 요즘 함께 옴니버스 가족 시즌 오로지 점점 느낌 분량 많이 많이 너무 아직 가끔 요새 영화 근처 영화 걸작 공포 액션 미스터리 스릴러 연기 감독 엘리트 비판 서서히 민중 그때 희망 산만 영화 임정 연기 남녀 단순 무식 각본 명감독 명배우 작품 영화 평점 걱정 연기 천부 소질 개그맨 성우 애니메이션 기자 평론가 이렇게 영화 주네 정신 진짜 그냥 생각 없이 이해 성장 영화 진짜 요즘 귀신 공포 영화 하나같이 처음 영화 함께 강간범 찬양 영화 만족 소재 영화 엔딩 노래 제목 극장 여친 전설 영화 선택 무덤 쿵푸 의대 영화 스케일 인생 군상 압축 작품 빨리 종영 여주 진짜 머리 스타일 수지 연기 연기자 드라마 학교 영화 화가 그림 정말 소름 정도 영화 아무리 영화 사람 최소한 배려 진짜 너무 영화 공감 깨달음 사랑 시간 몰입 평점 이렇게 코믹 영화 너무 지금 코믹 내용 전개 너무나 관객 한번 대놓고 너무나 억지 장면 연기 배우 가장 영화 주인공 옛날 영화 특유 느낌 잔인 장면 기분 행복 영화 안녕 영화 아주 흡사 사람 영화 주인공 아이 배제 영화 계기 영화 마지막 부탄가스 탈출 완전 정도 흡입력 그냥 어수선 불편 조건 편리 요즘 세대 사랑 영화 지금 영화 생각 가슴 영화 색감 영상 막장 현실 골목대장 놀이 분위기 배우 리포트 출연 임팩트 기억 영화 시즌 상태 영화 고증 나라 물소 형제 영화 가장 완벽 진심 분투 청춘 결국 사랑 영화 제목 내용 솔직히 분신 사바 영화 철학 이기 남자 마을 반복 일상 경험 착함 내용 다시 도시 경쟁 치열 다시 이기 본성 너무 영화 구성 작위 단순 시골 마을 이야기 희망 평점 그냥 일상 영화 개꿀 개꿀 평점 이해 완벽 영화 베드 실망 생각 관점 형무소 수면제 심리 분석 영화 반전 일품 처음 영화 관가 영화 내용 기억 다시 스릴 감탄 영화 영화 감독 오프라인 분신 선물 이제야 스피드 대단히 졸작 각본 연출 실망 점점 기대 소름 진짜 소녀 남자 감성 절대 파트너 호흡 전혀 필요 전설 언급 자체 너무 영화 기부 봉사 활동 훨씬 세상 초등학생 동생 평점 전작 전혀 내용 시간 드라마 수능 다시 엄마 차라리 죽음 정말 외화 자료 너무 세상 특히 아들 아직 기억 생생 이름 다소 긴장감 감독 확실히 공포 영화 명장 심리 공포 제작 대가 다양 조위 상관 그냥 잠깐 평점 조절 정말 영화 행복 이미지 음악 단지 드라마 부모 과거 출생 비밀 진행 막장 스토리 종결 부작 결과 다시 재미 역작 경험 영화 저질 영화 평가 피해자 인척 트로트 연인 대박 오늘 마지막 방송 배우 수고 평생 댄서 정말 생각 영화 기득 너무 지도 스릴러 영화 최고 걸작 평점 인줄 후회 너무 영화 시즌 사랑 오래오래 수능 재수 시즌 본방 지금 보다 문제 너무 감동 키스 키스 키스 유사 제목 당당히 선택 예산 개인 연기 예술 정도 소통 공감 공감 관용 개뿔 존재 동생 존재 가족 존재 연인 존재 모두 생각 영화 생각없이 정말 생각 내용 전달 시간 시도 소재 배우 매력 너무 구닥다리 이야기 반전 긴장감 전혀 진행 웃음 유발 대사 연기 영화 퇴보 다방면 만족 판타지 성인 주인공 아저씨 같이 정말 자리 영화 영화 감동 함께 허접 제목 어제 다시 허접 액션 그만 데이 너무 순수 맹목 사랑 정작 자신 사랑 사랑 본능 충실 인간 덕분 데이 최후 너무 가슴 자극 장면 행복 뒤뚱뒤뚱 해피 스텝 평점 그만큼 별반 이후 최고 재미 스토리 여자 경찰 강철 시도 맨날 반복 그냥 남자 대신 여자 나라 여자 형사 영화 액션 쓰레기 형사 영화 액션 쓰레기 올해 최악 영화 도대체 기준점 어떻게 사람 최고 팝콘 바로 영화 어린이 영화 기대 완전 완전 내용 별로 신경 감동 순수 아쉬움 그냥 최고 드라마 그냥 시간 이기 드라마 내용 특히 진짜 찌질 로맨스 드라마 점점 겁나 재미 백인 여배우 사랑 요즘 학생 스토리 시간 진짜 너무 헤어 메이크업 내용 부작용 자신 생각 행복 사람 권리 장애인 식물 외모 사람 행복 너무나 이기 결말 아부지 드라마 제발 제발 부탁 드림 아부지 카리스마 모습 선택 자유 선택 죄인 평점 더덕 생각 진짜 전혀 예측 반전 여운 남음 이유 감독 호기 도전 제작 관계자 열정 예의 예술 표현 영상 다수 질문 감독 자위행위 구경 인생 여행 사회 다예 진역 굳이 필요 가족 같이 시간대 드라마 아이 예진 관계 물의 본처 그리 소나 뜬금없이 건조 여운 상당히 오래 영화 영화 감독 존경 찬사 역쉬 영화 사랑 처절 열정 사람 장면 극복 가능 이전 이미 신데렐라 러브 스토리 달달 해요 한국어 발음 터짐 똥파리 완전히 영화 영화 색깔 분명 남자 주인공 장승 영화 설명 없이 완벽 평점 개사 기다 평점 처음 에로 영화 새벽 감독 재미 없이 가능 전쟁 평점 개인 영화 제일 드라마 영화 이제 거장 희망 얘기 망치 방법 나이 마냥 아직 하하 호호 계속 웃음 가족 다시 끝내 연주 극장 동호 연기 감독 주연 동호 모니터링 얼굴 후끈후끈 영화 초반 부분 점점 소설 내용 레알 영화 영화 매번 느낌 의사 살인 마지막 장면 인생 이야기 현실 직시 내용 표현 가장 억지 영화 영화 처음 눈물 제일 감명 시리즈 필요 지금 계속 쓰레기 영화 몰입 전투 장면 영화 벌써 너무 기대 나중 온돌 지네 생각 아이 애니메이션 훼이크 다큐 장르 영화 감독 연출력 촬영 기술 스토리 짜임새 오버 배우 연기력 영화 입도 전체 다큐 요소 공감 전혀 시나리오 연기 연출 최악 영화 주제 카메라 최악 평점 너무 영화 분위기 자체 쓰레기 시간 처음 정신 피폐 막연히 걱정 범죄 상황 묘사 감독 박진감 억지 상황 난무 문단속 중요 불사 여인 현실 영화 숨바꼭질 문득 시장 영화 가격 흥정 내용 최고 최고 시간 특히 야구 사람 진심 리얼 쓰레기 게임 평생 최고 외화 유치 너무 옛날 영화 별로 놀라움 아직 평점 조정 최고 대박 영화 재미 스토리 응답 정말 그냥 쓰레기 쓰레기 시리즈 관객 평균 관객 역대 명작 촬영 어둠 너무 정신 상자 공감 사랑 우정 전쟁 새삼 어떻게 평점 유니크 매력 영화 원래 귀신 훨씬 진작 주인공 정말 짜증 설정 어떻게 결말 어처구니 평점 최고 드라마 영화 감동 전혀 감동 연인 같이 한동안 댓글 댓글 너무 평점 너무 영화 가족 영화 완벽 방법 영화 상상 정말 우발 실수 자신 이야기 너무 표현 영화 평점 진짜 인생 그렇게 극장 영화 한편 지대 사람 오늘 짱꼴라 중화사상 영화 영화 그만 영화 시초 영화 등장 물결 오늘 이토록 혼란 이렇게 물결 충격 덕분 그나마 정도 영화 어머님 시절 외할아버지 외할머니 영화 마지막 장면 티비 실소 영화관 평점 영화 공감 눈물 정말 별로 요호 진짜 영화 난지 형제 직장 동료 선후배 가족 사랑 사람 이야기 진짜 진심 시간 보너스 짜증 유치 올해 최악 영화 쓰레기 짜리몽땅 엔딩 음악 상투 완전 영화 다시 영화 드라마 시청 마음 시청 마음 깊이 드라마 최악 스토리 결혼식 깽판 재미 감동 막장 그나마 마누라 최고 영화 강제 없이 바람 의미 영화 정말 영화 역사 진리 영화 감독 자신 편협 진리 명작 이렇게 평점 최고 영화 국영화 비교 외화 결국 영화 평점 최고 짱짱 하도 영화 구관 명관 두말 필요 인생 최고 애니메이션 영화 영원 성인 영상 진짜 영화 가장 유전 무죄 무전 유죄 프로젝트 격투 액션 최고 걸작 흉내 액션 많이 허접 양놈 액션 영화 경전 영화 설정 전개 아이디어 포스터 등장인물 억지 영화 처음 주인공 최악 시방 실화 재미 소소 로봇 순수 로봇 울컥 이브 재미 사랑 영화 다행 영화 연기력 감탄 배우 연기 정말 의외 내용 평소 역사 관심 보물찾기 미지 모험 열라 대박 인간 너무 한정 공간 캐릭터 스토리 승부 영화 빵빵 별반 점수 여친 짜증 재미 의미 배우 영화 잘못 아이 불행 남자 행복 연기 영화 캐릭터 진짜 신경질 필요 캐릭터 흐름 분위기 소리 정말 영화 정도 호감 쓰레기 드라마 천식 특히 주제 설정 요인 자미 확인 동영상 영화 절대 클릭 금지 영화 중학교 학년 진짜 너무 용암 되게 용암 마지막 남자 주인공 아저씨 용암 예고편 그냥 왕국 추천 왕국 자나 시대 영화 액션 지금 고민 내용 영화 정말 시절 시대 영화 평점 기억 사랑 생각 영화 우선 평점 이유 현재 평점 너무나 영화 불편 시장 후보 아내 가수 가슴 거의 의상 상당히 기분 굉장히 도발 주연 자매 얘기 카페 조연 스토리 정말 제대로 실망 영화 은근 정도 결말 원작 너무 영화 리메이크'"
            ],
            "application/vnd.google.colaboratory.intrinsic+json": {
              "type": "string"
            }
          },
          "metadata": {},
          "execution_count": 37
        }
      ]
    },
    {
      "cell_type": "markdown",
      "id": "e470a94f-81f6-451f-975f-1fa50f87c15d",
      "metadata": {
        "id": "e470a94f-81f6-451f-975f-1fa50f87c15d"
      },
      "source": [
        "### 벡터 토큰화\n",
        "- countVectorizer = CountVectorizer()"
      ]
    },
    {
      "cell_type": "code",
      "execution_count": 38,
      "id": "9502774f-0f23-4adc-a69f-c42edd7534f4",
      "metadata": {
        "tags": [],
        "id": "9502774f-0f23-4adc-a69f-c42edd7534f4"
      },
      "outputs": [],
      "source": [
        "from sklearn.feature_extraction.text import CountVectorizer, TfidfVectorizer"
      ]
    },
    {
      "cell_type": "code",
      "source": [
        "countVectorizer = CountVectorizer()"
      ],
      "metadata": {
        "id": "nNbVglc1s-Z5"
      },
      "id": "nNbVglc1s-Z5",
      "execution_count": 39,
      "outputs": []
    },
    {
      "cell_type": "code",
      "source": [
        "countVectorizer.fit([combined_text])"
      ],
      "metadata": {
        "colab": {
          "base_uri": "https://localhost:8080/",
          "height": 75
        },
        "id": "vQFiXL5qtC6p",
        "outputId": "5780933a-dcf7-4111-f372-65bc684c5562"
      },
      "id": "vQFiXL5qtC6p",
      "execution_count": 41,
      "outputs": [
        {
          "output_type": "execute_result",
          "data": {
            "text/plain": [
              "CountVectorizer()"
            ],
            "text/html": [
              "<style>#sk-container-id-1 {color: black;background-color: white;}#sk-container-id-1 pre{padding: 0;}#sk-container-id-1 div.sk-toggleable {background-color: white;}#sk-container-id-1 label.sk-toggleable__label {cursor: pointer;display: block;width: 100%;margin-bottom: 0;padding: 0.3em;box-sizing: border-box;text-align: center;}#sk-container-id-1 label.sk-toggleable__label-arrow:before {content: \"▸\";float: left;margin-right: 0.25em;color: #696969;}#sk-container-id-1 label.sk-toggleable__label-arrow:hover:before {color: black;}#sk-container-id-1 div.sk-estimator:hover label.sk-toggleable__label-arrow:before {color: black;}#sk-container-id-1 div.sk-toggleable__content {max-height: 0;max-width: 0;overflow: hidden;text-align: left;background-color: #f0f8ff;}#sk-container-id-1 div.sk-toggleable__content pre {margin: 0.2em;color: black;border-radius: 0.25em;background-color: #f0f8ff;}#sk-container-id-1 input.sk-toggleable__control:checked~div.sk-toggleable__content {max-height: 200px;max-width: 100%;overflow: auto;}#sk-container-id-1 input.sk-toggleable__control:checked~label.sk-toggleable__label-arrow:before {content: \"▾\";}#sk-container-id-1 div.sk-estimator input.sk-toggleable__control:checked~label.sk-toggleable__label {background-color: #d4ebff;}#sk-container-id-1 div.sk-label input.sk-toggleable__control:checked~label.sk-toggleable__label {background-color: #d4ebff;}#sk-container-id-1 input.sk-hidden--visually {border: 0;clip: rect(1px 1px 1px 1px);clip: rect(1px, 1px, 1px, 1px);height: 1px;margin: -1px;overflow: hidden;padding: 0;position: absolute;width: 1px;}#sk-container-id-1 div.sk-estimator {font-family: monospace;background-color: #f0f8ff;border: 1px dotted black;border-radius: 0.25em;box-sizing: border-box;margin-bottom: 0.5em;}#sk-container-id-1 div.sk-estimator:hover {background-color: #d4ebff;}#sk-container-id-1 div.sk-parallel-item::after {content: \"\";width: 100%;border-bottom: 1px solid gray;flex-grow: 1;}#sk-container-id-1 div.sk-label:hover label.sk-toggleable__label {background-color: #d4ebff;}#sk-container-id-1 div.sk-serial::before {content: \"\";position: absolute;border-left: 1px solid gray;box-sizing: border-box;top: 0;bottom: 0;left: 50%;z-index: 0;}#sk-container-id-1 div.sk-serial {display: flex;flex-direction: column;align-items: center;background-color: white;padding-right: 0.2em;padding-left: 0.2em;position: relative;}#sk-container-id-1 div.sk-item {position: relative;z-index: 1;}#sk-container-id-1 div.sk-parallel {display: flex;align-items: stretch;justify-content: center;background-color: white;position: relative;}#sk-container-id-1 div.sk-item::before, #sk-container-id-1 div.sk-parallel-item::before {content: \"\";position: absolute;border-left: 1px solid gray;box-sizing: border-box;top: 0;bottom: 0;left: 50%;z-index: -1;}#sk-container-id-1 div.sk-parallel-item {display: flex;flex-direction: column;z-index: 1;position: relative;background-color: white;}#sk-container-id-1 div.sk-parallel-item:first-child::after {align-self: flex-end;width: 50%;}#sk-container-id-1 div.sk-parallel-item:last-child::after {align-self: flex-start;width: 50%;}#sk-container-id-1 div.sk-parallel-item:only-child::after {width: 0;}#sk-container-id-1 div.sk-dashed-wrapped {border: 1px dashed gray;margin: 0 0.4em 0.5em 0.4em;box-sizing: border-box;padding-bottom: 0.4em;background-color: white;}#sk-container-id-1 div.sk-label label {font-family: monospace;font-weight: bold;display: inline-block;line-height: 1.2em;}#sk-container-id-1 div.sk-label-container {text-align: center;}#sk-container-id-1 div.sk-container {/* jupyter's `normalize.less` sets `[hidden] { display: none; }` but bootstrap.min.css set `[hidden] { display: none !important; }` so we also need the `!important` here to be able to override the default hidden behavior on the sphinx rendered scikit-learn.org. See: https://github.com/scikit-learn/scikit-learn/issues/21755 */display: inline-block !important;position: relative;}#sk-container-id-1 div.sk-text-repr-fallback {display: none;}</style><div id=\"sk-container-id-1\" class=\"sk-top-container\"><div class=\"sk-text-repr-fallback\"><pre>CountVectorizer()</pre><b>In a Jupyter environment, please rerun this cell to show the HTML representation or trust the notebook. <br />On GitHub, the HTML representation is unable to render, please try loading this page with nbviewer.org.</b></div><div class=\"sk-container\" hidden><div class=\"sk-item\"><div class=\"sk-estimator sk-toggleable\"><input class=\"sk-toggleable__control sk-hidden--visually\" id=\"sk-estimator-id-1\" type=\"checkbox\" checked><label for=\"sk-estimator-id-1\" class=\"sk-toggleable__label sk-toggleable__label-arrow\">CountVectorizer</label><div class=\"sk-toggleable__content\"><pre>CountVectorizer()</pre></div></div></div></div></div>"
            ]
          },
          "metadata": {},
          "execution_count": 41
        }
      ]
    },
    {
      "cell_type": "code",
      "source": [],
      "metadata": {
        "id": "gLb0ItlWtFbo"
      },
      "id": "gLb0ItlWtFbo",
      "execution_count": null,
      "outputs": []
    },
    {
      "cell_type": "code",
      "execution_count": null,
      "id": "34d73392-4d98-4927-b99d-1efbc75e8270",
      "metadata": {
        "id": "34d73392-4d98-4927-b99d-1efbc75e8270"
      },
      "outputs": [],
      "source": [
        "모델 교육이 끝나면 새로운 영화 리뷰 댓글들을 넣고 예측 하기"
      ]
    },
    {
      "cell_type": "code",
      "execution_count": null,
      "id": "c6c3a62c-0e94-4e05-87cf-aa6108dc8e53",
      "metadata": {
        "id": "c6c3a62c-0e94-4e05-87cf-aa6108dc8e53"
      },
      "outputs": [],
      "source": []
    }
  ],
  "metadata": {
    "kernelspec": {
      "display_name": "Python 3 (ipykernel)",
      "language": "python",
      "name": "python3"
    },
    "language_info": {
      "codemirror_mode": {
        "name": "ipython",
        "version": 3
      },
      "file_extension": ".py",
      "mimetype": "text/x-python",
      "name": "python",
      "nbconvert_exporter": "python",
      "pygments_lexer": "ipython3",
      "version": "3.11.3"
    },
    "colab": {
      "provenance": []
    }
  },
  "nbformat": 4,
  "nbformat_minor": 5
}