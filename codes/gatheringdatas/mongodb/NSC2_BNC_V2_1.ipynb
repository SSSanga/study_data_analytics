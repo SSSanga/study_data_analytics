{
 "cells": [
  {
   "cell_type": "code",
   "execution_count": 1,
   "id": "756d6fbe-1fba-4b12-bc84-d0eaa0bf062f",
   "metadata": {
    "tags": []
   },
   "outputs": [],
   "source": [
    "import pymongo as mg\n",
    "import pandas as pd"
   ]
  },
  {
   "cell_type": "code",
   "execution_count": 2,
   "id": "6226aac4-bcfb-49f0-96ea-ed0b91d19124",
   "metadata": {
    "tags": []
   },
   "outputs": [
    {
     "data": {
      "text/plain": [
       "'3.12.0'"
      ]
     },
     "execution_count": 2,
     "metadata": {},
     "output_type": "execute_result"
    }
   ],
   "source": [
    "mg.__version__"
   ]
  },
  {
   "cell_type": "code",
   "execution_count": 3,
   "id": "47df72b3-1e4c-41da-9f1b-a4e760b8f869",
   "metadata": {
    "tags": []
   },
   "outputs": [],
   "source": [
    "client=mg.MongoClient(host='mongodb://localhost:27017')"
   ]
  },
  {
   "cell_type": "code",
   "execution_count": 4,
   "id": "92f61ea3-9c70-456e-acee-a40ac754b8ff",
   "metadata": {
    "tags": []
   },
   "outputs": [],
   "source": [
    "databases = client['db_NHIS']"
   ]
  },
  {
   "cell_type": "code",
   "execution_count": 5,
   "id": "86a79519-0732-47f3-8462-864ed9cd33c0",
   "metadata": {
    "tags": []
   },
   "outputs": [],
   "source": [
    "collection = databases['NSC2_BNC_V2_1']"
   ]
  },
  {
   "cell_type": "code",
   "execution_count": 6,
   "id": "1f4287c1-e68a-4bf9-99fb-ca05557a6e44",
   "metadata": {
    "tags": []
   },
   "outputs": [
    {
     "data": {
      "text/plain": [
       "<pymongo.cursor.Cursor at 0x24a875f6410>"
      ]
     },
     "execution_count": 6,
     "metadata": {},
     "output_type": "execute_result"
    }
   ],
   "source": [
    "collection.find({})"
   ]
  },
  {
   "cell_type": "code",
   "execution_count": 14,
   "id": "338009fe-63ef-4dcb-8102-9000ead7fa36",
   "metadata": {
    "tags": []
   },
   "outputs": [],
   "source": [
    "cursor = collection.find({})"
   ]
  },
  {
   "cell_type": "code",
   "execution_count": 15,
   "id": "7c4181e7-4ea2-45d1-8dcf-248abc78743a",
   "metadata": {
    "tags": []
   },
   "outputs": [],
   "source": [
    "list_BNC = list(cursor)"
   ]
  },
  {
   "cell_type": "code",
   "execution_count": 18,
   "id": "194e0f33-7e04-47c4-89e2-7046ca6cf3a7",
   "metadata": {
    "tags": []
   },
   "outputs": [],
   "source": [
    "df_BNC = pd.DataFrame(list_BNC)"
   ]
  },
  {
   "cell_type": "code",
   "execution_count": 19,
   "id": "91a94b64-5a8e-4ed4-8527-a1a8f390b198",
   "metadata": {
    "tags": []
   },
   "outputs": [
    {
     "data": {
      "text/html": [
       "<div>\n",
       "<style scoped>\n",
       "    .dataframe tbody tr th:only-of-type {\n",
       "        vertical-align: middle;\n",
       "    }\n",
       "\n",
       "    .dataframe tbody tr th {\n",
       "        vertical-align: top;\n",
       "    }\n",
       "\n",
       "    .dataframe thead th {\n",
       "        text-align: right;\n",
       "    }\n",
       "</style>\n",
       "<table border=\"1\" class=\"dataframe\">\n",
       "  <thead>\n",
       "    <tr style=\"text-align: right;\">\n",
       "      <th></th>\n",
       "      <th>_id</th>\n",
       "      <th>STD_YYYY</th>\n",
       "      <th>RN_INDI</th>\n",
       "      <th>SEX</th>\n",
       "      <th>SGG</th>\n",
       "      <th>GAIBJA_TYPE</th>\n",
       "      <th>SMPL_TYPE_CD</th>\n",
       "      <th>CTRB_Q10</th>\n",
       "      <th>G1E_OBJ_YN</th>\n",
       "      <th>DSB_TYPE_CD</th>\n",
       "      <th>DSB_SVRT_CD_V2</th>\n",
       "    </tr>\n",
       "  </thead>\n",
       "  <tbody>\n",
       "    <tr>\n",
       "      <th>0</th>\n",
       "      <td>64d31ef54c985e6268aea655</td>\n",
       "      <td>2002</td>\n",
       "      <td>1433</td>\n",
       "      <td>1</td>\n",
       "      <td>29140</td>\n",
       "      <td>7</td>\n",
       "      <td>1</td>\n",
       "      <td>NaN</td>\n",
       "      <td>NaN</td>\n",
       "      <td>NaN</td>\n",
       "      <td>NaN</td>\n",
       "    </tr>\n",
       "    <tr>\n",
       "      <th>1</th>\n",
       "      <td>64d31ef54c985e6268aea656</td>\n",
       "      <td>2003</td>\n",
       "      <td>1433</td>\n",
       "      <td>1</td>\n",
       "      <td>29140</td>\n",
       "      <td>7</td>\n",
       "      <td>1</td>\n",
       "      <td>NaN</td>\n",
       "      <td>NaN</td>\n",
       "      <td>NaN</td>\n",
       "      <td>NaN</td>\n",
       "    </tr>\n",
       "    <tr>\n",
       "      <th>2</th>\n",
       "      <td>64d31ef54c985e6268aea657</td>\n",
       "      <td>2004</td>\n",
       "      <td>1433</td>\n",
       "      <td>1</td>\n",
       "      <td>29140</td>\n",
       "      <td>7</td>\n",
       "      <td>1</td>\n",
       "      <td>NaN</td>\n",
       "      <td>NaN</td>\n",
       "      <td>NaN</td>\n",
       "      <td>NaN</td>\n",
       "    </tr>\n",
       "    <tr>\n",
       "      <th>3</th>\n",
       "      <td>64d31ef54c985e6268aea658</td>\n",
       "      <td>2005</td>\n",
       "      <td>1433</td>\n",
       "      <td>1</td>\n",
       "      <td>29140</td>\n",
       "      <td>7</td>\n",
       "      <td>1</td>\n",
       "      <td>NaN</td>\n",
       "      <td>NaN</td>\n",
       "      <td>NaN</td>\n",
       "      <td>NaN</td>\n",
       "    </tr>\n",
       "    <tr>\n",
       "      <th>4</th>\n",
       "      <td>64d31ef54c985e6268aea659</td>\n",
       "      <td>2006</td>\n",
       "      <td>1433</td>\n",
       "      <td>1</td>\n",
       "      <td>29140</td>\n",
       "      <td>7</td>\n",
       "      <td>1</td>\n",
       "      <td>NaN</td>\n",
       "      <td>NaN</td>\n",
       "      <td>NaN</td>\n",
       "      <td>NaN</td>\n",
       "    </tr>\n",
       "    <tr>\n",
       "      <th>...</th>\n",
       "      <td>...</td>\n",
       "      <td>...</td>\n",
       "      <td>...</td>\n",
       "      <td>...</td>\n",
       "      <td>...</td>\n",
       "      <td>...</td>\n",
       "      <td>...</td>\n",
       "      <td>...</td>\n",
       "      <td>...</td>\n",
       "      <td>...</td>\n",
       "      <td>...</td>\n",
       "    </tr>\n",
       "    <tr>\n",
       "      <th>13022</th>\n",
       "      <td>64d31ef54c985e6268aed933</td>\n",
       "      <td>2012</td>\n",
       "      <td>3000357</td>\n",
       "      <td>2</td>\n",
       "      <td>28237</td>\n",
       "      <td>6</td>\n",
       "      <td>4</td>\n",
       "      <td>NaN</td>\n",
       "      <td>NaN</td>\n",
       "      <td>NaN</td>\n",
       "      <td>NaN</td>\n",
       "    </tr>\n",
       "    <tr>\n",
       "      <th>13023</th>\n",
       "      <td>64d31ef54c985e6268aed934</td>\n",
       "      <td>2013</td>\n",
       "      <td>3000357</td>\n",
       "      <td>2</td>\n",
       "      <td>28245</td>\n",
       "      <td>2</td>\n",
       "      <td>4</td>\n",
       "      <td>6.0</td>\n",
       "      <td>NaN</td>\n",
       "      <td>NaN</td>\n",
       "      <td>NaN</td>\n",
       "    </tr>\n",
       "    <tr>\n",
       "      <th>13024</th>\n",
       "      <td>64d31ef54c985e6268aed935</td>\n",
       "      <td>2014</td>\n",
       "      <td>3000357</td>\n",
       "      <td>2</td>\n",
       "      <td>28245</td>\n",
       "      <td>2</td>\n",
       "      <td>4</td>\n",
       "      <td>6.0</td>\n",
       "      <td>NaN</td>\n",
       "      <td>NaN</td>\n",
       "      <td>NaN</td>\n",
       "    </tr>\n",
       "    <tr>\n",
       "      <th>13025</th>\n",
       "      <td>64d31ef54c985e6268aed936</td>\n",
       "      <td>2015</td>\n",
       "      <td>3000357</td>\n",
       "      <td>2</td>\n",
       "      <td>28245</td>\n",
       "      <td>2</td>\n",
       "      <td>4</td>\n",
       "      <td>7.0</td>\n",
       "      <td>NaN</td>\n",
       "      <td>NaN</td>\n",
       "      <td>NaN</td>\n",
       "    </tr>\n",
       "    <tr>\n",
       "      <th>13026</th>\n",
       "      <td>64d31ef54c985e6268aed937</td>\n",
       "      <td>2015</td>\n",
       "      <td>3000758</td>\n",
       "      <td>1</td>\n",
       "      <td>41287</td>\n",
       "      <td>6</td>\n",
       "      <td>4</td>\n",
       "      <td>NaN</td>\n",
       "      <td>NaN</td>\n",
       "      <td>NaN</td>\n",
       "      <td>NaN</td>\n",
       "    </tr>\n",
       "  </tbody>\n",
       "</table>\n",
       "<p>13027 rows × 11 columns</p>\n",
       "</div>"
      ],
      "text/plain": [
       "                            _id  STD_YYYY  RN_INDI  SEX    SGG  GAIBJA_TYPE  \\\n",
       "0      64d31ef54c985e6268aea655      2002     1433    1  29140            7   \n",
       "1      64d31ef54c985e6268aea656      2003     1433    1  29140            7   \n",
       "2      64d31ef54c985e6268aea657      2004     1433    1  29140            7   \n",
       "3      64d31ef54c985e6268aea658      2005     1433    1  29140            7   \n",
       "4      64d31ef54c985e6268aea659      2006     1433    1  29140            7   \n",
       "...                         ...       ...      ...  ...    ...          ...   \n",
       "13022  64d31ef54c985e6268aed933      2012  3000357    2  28237            6   \n",
       "13023  64d31ef54c985e6268aed934      2013  3000357    2  28245            2   \n",
       "13024  64d31ef54c985e6268aed935      2014  3000357    2  28245            2   \n",
       "13025  64d31ef54c985e6268aed936      2015  3000357    2  28245            2   \n",
       "13026  64d31ef54c985e6268aed937      2015  3000758    1  41287            6   \n",
       "\n",
       "       SMPL_TYPE_CD  CTRB_Q10 G1E_OBJ_YN  DSB_TYPE_CD  DSB_SVRT_CD_V2  \n",
       "0                 1       NaN        NaN          NaN             NaN  \n",
       "1                 1       NaN        NaN          NaN             NaN  \n",
       "2                 1       NaN        NaN          NaN             NaN  \n",
       "3                 1       NaN        NaN          NaN             NaN  \n",
       "4                 1       NaN        NaN          NaN             NaN  \n",
       "...             ...       ...        ...          ...             ...  \n",
       "13022             4       NaN        NaN          NaN             NaN  \n",
       "13023             4       6.0        NaN          NaN             NaN  \n",
       "13024             4       6.0        NaN          NaN             NaN  \n",
       "13025             4       7.0        NaN          NaN             NaN  \n",
       "13026             4       NaN        NaN          NaN             NaN  \n",
       "\n",
       "[13027 rows x 11 columns]"
      ]
     },
     "execution_count": 19,
     "metadata": {},
     "output_type": "execute_result"
    }
   ],
   "source": [
    "df_BNC"
   ]
  },
  {
   "cell_type": "code",
   "execution_count": 20,
   "id": "4f0a9755-f4e2-4c25-ae53-fa494c00dd4d",
   "metadata": {
    "tags": []
   },
   "outputs": [],
   "source": [
    "df_BNC.to_csv('./NSC2_BNC_V2_1.csv')"
   ]
  },
  {
   "cell_type": "code",
   "execution_count": null,
   "id": "8264216a-e5a5-4a37-958c-bf1ffaf5500e",
   "metadata": {},
   "outputs": [],
   "source": []
  }
 ],
 "metadata": {
  "kernelspec": {
   "display_name": "Python 3 (ipykernel)",
   "language": "python",
   "name": "python3"
  },
  "language_info": {
   "codemirror_mode": {
    "name": "ipython",
    "version": 3
   },
   "file_extension": ".py",
   "mimetype": "text/x-python",
   "name": "python",
   "nbconvert_exporter": "python",
   "pygments_lexer": "ipython3",
   "version": "3.11.3"
  }
 },
 "nbformat": 4,
 "nbformat_minor": 5
}
