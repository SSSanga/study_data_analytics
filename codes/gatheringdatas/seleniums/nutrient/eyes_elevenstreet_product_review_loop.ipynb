{
 "cells": [
  {
   "cell_type": "code",
   "execution_count": 1,
   "id": "8a13bfac-ba3b-45b4-ae75-8e65d8e2010c",
   "metadata": {
    "tags": []
   },
   "outputs": [],
   "source": [
    "from selenium import webdriver\n",
    "import time\n",
    "import pandas as pd\n",
    "# import pymongo as mg\n",
    "from selenium.webdriver.support.ui import WebDriverWait"
   ]
  },
  {
   "cell_type": "code",
   "execution_count": 2,
   "id": "765b58b7-6594-4d46-91a2-8a167c8612e0",
   "metadata": {
    "tags": []
   },
   "outputs": [],
   "source": [
    "from selenium.webdriver.chrome.options import Options\n",
    "import subprocess\n",
    "import shutil\n",
    "\n",
    "# 자신 맞는 chrome.exe 위치 변경 필요\n",
    "subprocess.Popen(r'C:\\Program Files\\Google\\Chrome\\Application\\chrome.exe --remote-debugging-port=9222 --user-data-dir=\"C:\\chrometemp\"')\n",
    "\n",
    "options = webdriver.ChromeOptions()\n",
    "options.add_experimental_option(\"debuggerAddress\", \"127.0.0.1:9222\")\n",
    "  # Experimental option as an argument"
   ]
  },
  {
   "cell_type": "code",
   "execution_count": 3,
   "id": "e174b75a-6e72-4899-a1d3-e6e33571cfea",
   "metadata": {
    "tags": []
   },
   "outputs": [],
   "source": [
    "#open chrome browser\n",
    "browser = webdriver.Chrome(executable_path='../../../../../chromedriver.exe', options=options) #webdriver_selenium과 web을 연결해주기위함.\n",
    "browser.set_window_size(1560,2000)"
   ]
  },
  {
   "cell_type": "code",
   "execution_count": 4,
   "id": "4364a60c-213d-4271-bd2a-1402589109d3",
   "metadata": {
    "tags": []
   },
   "outputs": [],
   "source": [
    "# url in address window\n",
    "browser.get('https://search.11st.co.kr/pc/total-search?kwd=%25EB%2588%2588%2520%25EC%2598%2581%25EC%2596%2591%25EC%25A0%259C&tabId=TOTAL_SEARCH')\n",
    "browser.implicitly_wait(10)"
   ]
  },
  {
   "cell_type": "code",
   "execution_count": 5,
   "id": "7dde0c56-e8ea-4e4e-a208-c8ef32264a5f",
   "metadata": {
    "tags": []
   },
   "outputs": [],
   "source": [
    "## 리뷰 많은 순 클릭\n",
    "click_path='#layBodyWrap > div > div > div.l_search_content > div.search_content > div.c_search_sorting > div > div > div > div'\n",
    "browser.find_element_by_css_selector(click_path).click()\n",
    "select_category='div.c_search_sorting > div > div > div > ul > li:nth-child(5)'\n",
    "browser.find_element_by_css_selector(select_category).click()"
   ]
  },
  {
   "cell_type": "code",
   "execution_count": null,
   "id": "52758e57-88c9-4c5b-b66c-3ee7d638406a",
   "metadata": {},
   "outputs": [],
   "source": []
  },
  {
   "cell_type": "code",
   "execution_count": 6,
   "id": "5d583a42-c60b-4ce7-bc7a-c1d83a4337f0",
   "metadata": {
    "tags": []
   },
   "outputs": [],
   "source": [
    "## 제품 클릭하기\n",
    "product_page = '#section_commonPrd > div.c-search-list > ul > li:nth-child(1)'\n",
    "product_info=browser.find_element_by_css_selector(product_page)\n",
    "product_info.click()"
   ]
  },
  {
   "cell_type": "code",
   "execution_count": 7,
   "id": "79bb0122-0e96-46d6-b361-95f9856169ff",
   "metadata": {
    "tags": []
   },
   "outputs": [],
   "source": [
    "## 제품 이름을가져오고싶음. "
   ]
  },
  {
   "cell_type": "markdown",
   "id": "ad2e252c-a972-4b87-9e66-983fd5a2a993",
   "metadata": {},
   "source": [
    "### 제품정보\n",
    "- 제품명: div.c_product_info_title > h1\n",
    "\n",
    "### 리뷰보기 single \n",
    "\n",
    "- 리뷰 보기 클릭: #tabMenuDetail2\n",
    "- 리뷰 날짜: #review-list-page-area > ul:nth-child(1) > li:nth-child(4) > div.c_product_review_cont > p.side > span\n",
    "- 스크롤 내려서 리뷰 더보기를 눌러야함. \n",
    "- 리뷰 더보기를 계속 눌러야함_리뷰가 다 나올때까지 클릭하는걸로 하자. \n",
    "    - 이 내용은 chat에 물어보기\n",
    "- 리뷰 내용: #review-list-page-area > ul:nth-child(1) > li:nth-child(4) > div > div > div.cont_text_wrap > p\n",
    "    - 리뷰 내용이 너무 길면 : 더보기 눌러야함: div.cont_text_wrap > p.cont_btn.review-expand 이게 또 사용이 될까??\n",
    "- 리뷰 별점:#review-list-page-area > ul:nth-child(1) > li:nth-child(4) > div > p.grade > span > em\n",
    "    - .get_attribute('aria-label')\n",
    "- 리뷰 작성자: #review-list-page-area > ul:nth-child(1) > li:nth-child(4) > dl > dt\n",
    "\n"
   ]
  },
  {
   "cell_type": "code",
   "execution_count": 8,
   "id": "baf89238-c3d7-49ae-9c4e-4b5333f3750d",
   "metadata": {
    "tags": []
   },
   "outputs": [],
   "source": [
    "# 새로 열린 창으로 전환\n",
    "new_window_handle = None\n",
    "while not new_window_handle:\n",
    "    for handle in browser.window_handles:\n",
    "        if handle != browser.current_window_handle:\n",
    "            new_window_handle = handle\n",
    "            break"
   ]
  },
  {
   "cell_type": "code",
   "execution_count": 9,
   "id": "3590e108-d1ad-472f-97bb-8be362186408",
   "metadata": {
    "tags": []
   },
   "outputs": [],
   "source": [
    "browser.switch_to.window(new_window_handle)"
   ]
  },
  {
   "cell_type": "code",
   "execution_count": 10,
   "id": "ab6335d0-e05e-4315-8fab-e6649ffab718",
   "metadata": {
    "tags": []
   },
   "outputs": [],
   "source": [
    "# 새 창의 주소를 변수로 저장\n",
    "new_window_url = browser.current_url"
   ]
  },
  {
   "cell_type": "code",
   "execution_count": 11,
   "id": "ea80d664-2ab4-4b47-99f6-c0b7b7ea6478",
   "metadata": {
    "tags": []
   },
   "outputs": [],
   "source": [
    "# ## 리뷰 보기\n",
    "# review_page = '#prdReview > strong'\n",
    "# review_click=browser.find_element_by_css_selector(review_page)\n",
    "# review_click.click()"
   ]
  },
  {
   "cell_type": "code",
   "execution_count": 12,
   "id": "750f0c17-dc3d-4f54-8179-e189f5ac3e97",
   "metadata": {
    "tags": []
   },
   "outputs": [
    {
     "data": {
      "text/plain": [
       "'종근당건강 아이케어 오메가3 6개월분 비타민A 비타민E 혈행 중성지질 개선 항산화 눈영양제 눈건강'"
      ]
     },
     "execution_count": 12,
     "metadata": {},
     "output_type": "execute_result"
    }
   ],
   "source": [
    "product_name= browser.find_element_by_css_selector('div.c_product_info_title > h1').text\n",
    "product_name"
   ]
  },
  {
   "cell_type": "code",
   "execution_count": 13,
   "id": "dd740bc9-93cb-47b8-9da1-123f4064d86b",
   "metadata": {
    "tags": []
   },
   "outputs": [],
   "source": [
    "# 리뷰보기 클릭 불필요\n",
    "browser.switch_to.frame('ifrmReview')"
   ]
  },
  {
   "cell_type": "code",
   "execution_count": 14,
   "id": "968b3399-17c2-4457-9c98-0298e5e3eee7",
   "metadata": {
    "tags": []
   },
   "outputs": [],
   "source": [
    "# # 리뷰 더보기 클릭_리뷰 더보기 버튼없을때까지 누르기\n",
    "# while True : \n",
    "#     try : \n",
    "#         button = '#review-list-page-area > div > button'\n",
    "#         button_click=browser.find_element_by_css_selector(button)\n",
    "#         button_click.click()\n",
    "#         time.sleep(2) \n",
    "        \n",
    "#     except:\n",
    "#         print('리뷰 더보기 없음')\n",
    "#         break\n"
   ]
  },
  {
   "cell_type": "code",
   "execution_count": 15,
   "id": "8af797c9-4a3b-4075-a8b2-daba97a21e56",
   "metadata": {
    "tags": []
   },
   "outputs": [],
   "source": [
    "# ## 리뷰 내용 더보기 \n",
    "# text_more = 'cont_btn review-expand'\n",
    "# text_click = browser.find_element_by_css_select(text_more)\n",
    "# text_click.click()\n",
    "# time.sleep(2)"
   ]
  },
  {
   "cell_type": "code",
   "execution_count": 18,
   "id": "ed07fa80-3f85-4ba7-a8b8-eb5ac996c88c",
   "metadata": {
    "tags": []
   },
   "outputs": [
    {
     "name": "stdout",
     "output_type": "stream",
     "text": [
      "리뷰 더보기 버튼을 더 이상 찾을 수 없음\n"
     ]
    }
   ],
   "source": [
    "while True:\n",
    "    try:\n",
    "        # 리뷰 더보기 버튼을 찾습니다.\n",
    "        button = '#review-list-page-area > div > button'\n",
    "        button_click=browser.find_element_by_css_selector(button)\n",
    "        \n",
    "        # 리뷰 더보기 버튼을 클릭합니다.\n",
    "        button_click.click()\n",
    "        \n",
    "        # 클릭 후 잠시 대기합니다 (사이트 로딩에 따라 조절)\n",
    "        time.sleep(2)\n",
    "        \n",
    "        try:\n",
    "            # 리뷰 내용 더보기 버튼을 찾습니다.\n",
    "            content_more_selector = 'button.c_product_btn.c_product_btn_more6.review-expand-open-text'\n",
    "            content_more_button = browser.find_element_by_css_selector(content_more_selector)\n",
    "            \n",
    "            # 리뷰 내용 더보기 버튼을 클릭합니다.\n",
    "            content_more_button.click()\n",
    "            \n",
    "            # 클릭 후 잠시 대기합니다 (사이트 로딩에 따라 조절)\n",
    "            time.sleep(2)\n",
    "            \n",
    "        except :\n",
    "            continue\n",
    "        \n",
    "    except:\n",
    "        # 리뷰 더보기 버튼을 더 이상 찾을 수 없으면 반복 종료합니다.\n",
    "        print('리뷰 더보기 버튼을 더 이상 찾을 수 없음')\n",
    "        break"
   ]
  },
  {
   "cell_type": "code",
   "execution_count": 17,
   "id": "45edd0e0-db8c-4137-8454-289d91f9b7d0",
   "metadata": {
    "tags": []
   },
   "outputs": [
    {
     "data": {
      "text/plain": [
       "210"
      ]
     },
     "execution_count": 17,
     "metadata": {},
     "output_type": "execute_result"
    }
   ],
   "source": [
    "##리뷰 번들\n",
    "reviews_bundle = browser.find_elements_by_css_selector('#review-list-page-area > ul > li')\n",
    "len(reviews_bundle)"
   ]
  },
  {
   "cell_type": "code",
   "execution_count": 48,
   "id": "f1da3ac2-3aa9-4d13-9083-f4d13267b2c7",
   "metadata": {
    "tags": []
   },
   "outputs": [
    {
     "name": "stdout",
     "output_type": "stream",
     "text": [
      "tofe*****\n",
      "선택 옵션\n",
      "제품선택:03.종근당 아이케어 오메가3 (9개월)C형\n",
      "평점 별 5점 중 5\n",
      "배송 빨라요 유통기한 기한이 넉넉해요\n",
      "아직 복용을 안했지만 종근당꺼면 틀림없이 효과 좋을 꺼에요 잘 먹고 건강 챙길께요 근데 배송이 문제에요 한층에 현관문이 둘인데 옆지앞에다 쾅 소리가 나게 던지고 갔네요 얼마나 힘들었음 그랬을까 생각하려해도 그건 너무한거 같아요 다른 상품이랑 2박스가 나뒹그러 있었네요\n",
      "상세보기\n",
      "2018.09.12 신고\n",
      "꾹 0 이 리뷰가 도움이 되었다면 꾹!\n"
     ]
    }
   ],
   "source": [
    "print(reviews_bundle[0].text)"
   ]
  },
  {
   "cell_type": "markdown",
   "id": "abf09aa8-6231-4f25-acaa-a3f1519069e8",
   "metadata": {},
   "source": [
    "- collection에 넣을 column명\n",
    "['product_name'] ['review_date'] ['review_content'] ['review_star'] [review_writer] "
   ]
  },
  {
   "cell_type": "code",
   "execution_count": 49,
   "id": "b80a45e8-d292-47ff-8f65-5a5dc6e354e5",
   "metadata": {},
   "outputs": [
    {
     "data": {
      "text/plain": [
       "('아직 복용을 안했지만 종근당꺼면 틀림없이 효과 좋을 꺼에요 잘 먹고 건강 챙길께요 근데 배송이 문제에요 한층에 현관문이 둘인데 옆지앞에다 쾅 소리가 나게 던지고 갔네요 얼마나 힘들었음 그랬을까 생각하려해도 그건 너무한거 같아요 다른 상품이랑 2박스가 나뒹그러 있었네요',\n",
       " '2018.09.12',\n",
       " '5',\n",
       " 'tofe*****')"
      ]
     },
     "execution_count": 49,
     "metadata": {},
     "output_type": "execute_result"
    }
   ],
   "source": [
    "# product_name= browser.find_element_by_css_selector('div.c_product_info_title > h1').text\n",
    "review_content = reviews_bundle[0].find_element_by_css_selector('div.c_product_review_cont > div > div.cont_text_wrap > p').text ##bundle에서 0번째 가져옴?\n",
    "review_date = reviews_bundle[0].find_element_by_css_selector('div.c_product_review_cont > p.side > span').text \n",
    "review_star = reviews_bundle[0].find_element_by_css_selector('p.grade > span > em').text\n",
    "review_writer = reviews_bundle[0].find_element_by_css_selector('dl > dt').text \n",
    "review_content, review_date, review_star, review_writer"
   ]
  },
  {
   "cell_type": "markdown",
   "id": "1eeaa7a7-b737-462a-acda-3b3d463042ab",
   "metadata": {},
   "source": [
    "### 리뷰보기 multiple\n",
    "- 리뷰 묶음: #review-list-page-area\n",
    "\n",
    "- 리뷰 날짜: div > p.side > span\n",
    "- 리뷰 내용: div.cont_text_wrap > p\n",
    "- 리뷰 별점: .c_seller_grade em\n",
    "- 리뷰 작성자: .c_product_reviewer dt.name"
   ]
  },
  {
   "cell_type": "code",
   "execution_count": null,
   "id": "f9771cd1-fee2-4ebb-b2ab-0aba94f1bb00",
   "metadata": {},
   "outputs": [],
   "source": [
    "### loaded된 전체 review 가져오기. \n",
    "reviews_list = list()\n",
    "for revew_item in reviews_bundle :\n",
    "    review_content = revew_item.find_element_by_css_selector('div.c_product_review_cont > div > div.cont_text_wrap > p').text ##bundle에서 0번째 가져옴?\n",
    "    review_date = revew_item.find_element_by_css_selector('div.c_product_review_cont > p.side > span').text \n",
    "    review_star = revew_item.find_element_by_css_selector('p.grade > span > em').text\n",
    "    review_writer = revew_item.find_element_by_css_selector('dl > dt').text \n",
    "    review_list = [review_content, review_date, review_star, review_writer]\n",
    "    reviews_list.append(review_list)\n",
    "    \n",
    "len(reviews_list)"
   ]
  }
 ],
 "metadata": {
  "kernelspec": {
   "display_name": "Python 3 (ipykernel)",
   "language": "python",
   "name": "python3"
  },
  "language_info": {
   "codemirror_mode": {
    "name": "ipython",
    "version": 3
   },
   "file_extension": ".py",
   "mimetype": "text/x-python",
   "name": "python",
   "nbconvert_exporter": "python",
   "pygments_lexer": "ipython3",
   "version": "3.11.3"
  }
 },
 "nbformat": 4,
 "nbformat_minor": 5
}
