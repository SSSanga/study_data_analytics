{
 "cells": [
  {
   "cell_type": "markdown",
   "id": "29e613c4-5d93-4bb6-8d38-0c7242e49d24",
   "metadata": {},
   "source": [
    "## 감성분석\n",
    "**- 1. 사전**\n",
    " - 2. 머신러닝"
   ]
  },
  {
   "cell_type": "markdown",
   "id": "334a9676-63ab-4d5f-83fd-88bbfa6f2d02",
   "metadata": {},
   "source": [
    "### 감성 사전 의한 감성분석\n",
    "- negative, positive words\n"
   ]
  },
  {
   "cell_type": "markdown",
   "id": "a4d274e8-61af-4a9a-8d4a-616314edb77c",
   "metadata": {},
   "source": [
    "### 감성사전 가져오기"
   ]
  },
  {
   "cell_type": "code",
   "execution_count": 1,
   "id": "e2196260-b526-4ae9-a507-cb6522041023",
   "metadata": {
    "tags": []
   },
   "outputs": [],
   "source": [
    "import pandas as pd"
   ]
  },
  {
   "cell_type": "code",
   "execution_count": 6,
   "id": "eea20d5d-bbfb-4410-9ff0-a7313b2dd2f3",
   "metadata": {
    "tags": []
   },
   "outputs": [
    {
     "data": {
      "text/html": [
       "<div>\n",
       "<style scoped>\n",
       "    .dataframe tbody tr th:only-of-type {\n",
       "        vertical-align: middle;\n",
       "    }\n",
       "\n",
       "    .dataframe tbody tr th {\n",
       "        vertical-align: top;\n",
       "    }\n",
       "\n",
       "    .dataframe thead th {\n",
       "        text-align: right;\n",
       "    }\n",
       "</style>\n",
       "<table border=\"1\" class=\"dataframe\">\n",
       "  <thead>\n",
       "    <tr style=\"text-align: right;\">\n",
       "      <th></th>\n",
       "      <th>출처</th>\n",
       "    </tr>\n",
       "  </thead>\n",
       "  <tbody>\n",
       "    <tr>\n",
       "      <th>0</th>\n",
       "      <td>1) 표준국어대사전 뜻풀이</td>\n",
       "    </tr>\n",
       "    <tr>\n",
       "      <th>1</th>\n",
       "      <td>-&gt; https://github.com/mrchypark/stdkor</td>\n",
       "    </tr>\n",
       "    <tr>\n",
       "      <th>2</th>\n",
       "      <td>2) 신조어</td>\n",
       "    </tr>\n",
       "    <tr>\n",
       "      <th>3</th>\n",
       "      <td>-&gt; https://ko.wikipedia.org/wiki/%EB%8C%80%ED%...</td>\n",
       "    </tr>\n",
       "    <tr>\n",
       "      <th>4</th>\n",
       "      <td>3) 이모티콘</td>\n",
       "    </tr>\n",
       "    <tr>\n",
       "      <th>5</th>\n",
       "      <td>-&gt; https://ko.wikipedia.org/wiki/%EC%9D%B4%EB%...</td>\n",
       "    </tr>\n",
       "    <tr>\n",
       "      <th>6</th>\n",
       "      <td>4) SentiWordNet_3.0.0_20130122</td>\n",
       "    </tr>\n",
       "    <tr>\n",
       "      <th>7</th>\n",
       "      <td>-&gt; http://sentiwordnet.isti.cnr.it/</td>\n",
       "    </tr>\n",
       "    <tr>\n",
       "      <th>8</th>\n",
       "      <td>5) SenticNet-5.0</td>\n",
       "    </tr>\n",
       "    <tr>\n",
       "      <th>9</th>\n",
       "      <td>-&gt; http://sentic.net/</td>\n",
       "    </tr>\n",
       "    <tr>\n",
       "      <th>10</th>\n",
       "      <td>6) 감정단어사전0603</td>\n",
       "    </tr>\n",
       "    <tr>\n",
       "      <th>11</th>\n",
       "      <td>-&gt; http://datascience.khu.ac.kr/board/bbs/boar...</td>\n",
       "    </tr>\n",
       "    <tr>\n",
       "      <th>12</th>\n",
       "      <td>7) 김은영, “국어 감정동사 연구”, 2004.02, 학위논문(박사) - 전남대학...</td>\n",
       "    </tr>\n",
       "    <tr>\n",
       "      <th>13</th>\n",
       "      <td>단어 수 : 4863</td>\n",
       "    </tr>\n",
       "    <tr>\n",
       "      <th>14</th>\n",
       "      <td>극성 : 긍정</td>\n",
       "    </tr>\n",
       "    <tr>\n",
       "      <th>15</th>\n",
       "      <td>(-;</td>\n",
       "    </tr>\n",
       "    <tr>\n",
       "      <th>16</th>\n",
       "      <td>(^^)</td>\n",
       "    </tr>\n",
       "    <tr>\n",
       "      <th>17</th>\n",
       "      <td>(^-^)</td>\n",
       "    </tr>\n",
       "    <tr>\n",
       "      <th>18</th>\n",
       "      <td>(^^*</td>\n",
       "    </tr>\n",
       "    <tr>\n",
       "      <th>19</th>\n",
       "      <td>(^_^)</td>\n",
       "    </tr>\n",
       "  </tbody>\n",
       "</table>\n",
       "</div>"
      ],
      "text/plain": [
       "                                                   출처\n",
       "0                                      1) 표준국어대사전 뜻풀이\n",
       "1              -> https://github.com/mrchypark/stdkor\n",
       "2                                              2) 신조어\n",
       "3   -> https://ko.wikipedia.org/wiki/%EB%8C%80%ED%...\n",
       "4                                             3) 이모티콘\n",
       "5   -> https://ko.wikipedia.org/wiki/%EC%9D%B4%EB%...\n",
       "6                      4) SentiWordNet_3.0.0_20130122\n",
       "7                 -> http://sentiwordnet.isti.cnr.it/\n",
       "8                                    5) SenticNet-5.0\n",
       "9                               -> http://sentic.net/\n",
       "10                                      6) 감정단어사전0603\n",
       "11  -> http://datascience.khu.ac.kr/board/bbs/boar...\n",
       "12  7) 김은영, “국어 감정동사 연구”, 2004.02, 학위논문(박사) - 전남대학...\n",
       "13                                        단어 수 : 4863\n",
       "14                                            극성 : 긍정\n",
       "15                                                (-;\n",
       "16                                               (^^)\n",
       "17                                              (^-^)\n",
       "18                                               (^^*\n",
       "19                                              (^_^)"
      ]
     },
     "execution_count": 6,
     "metadata": {},
     "output_type": "execute_result"
    }
   ],
   "source": [
    "df_positives = pd.read_csv('../../datasets/pos_pol_word.txt', delimiter='\\t') #delimiter='\\t' : txt 파일에 tab으로 나눈것. \n",
    "df_positives[:20] # 필요없는 부분은 0~14까지 "
   ]
  },
  {
   "cell_type": "code",
   "execution_count": 8,
   "id": "47a9a97a-c285-4221-b32e-37f761b4514d",
   "metadata": {
    "tags": []
   },
   "outputs": [
    {
     "data": {
      "text/html": [
       "<div>\n",
       "<style scoped>\n",
       "    .dataframe tbody tr th:only-of-type {\n",
       "        vertical-align: middle;\n",
       "    }\n",
       "\n",
       "    .dataframe tbody tr th {\n",
       "        vertical-align: top;\n",
       "    }\n",
       "\n",
       "    .dataframe thead th {\n",
       "        text-align: right;\n",
       "    }\n",
       "</style>\n",
       "<table border=\"1\" class=\"dataframe\">\n",
       "  <thead>\n",
       "    <tr style=\"text-align: right;\">\n",
       "      <th></th>\n",
       "      <th>출처</th>\n",
       "    </tr>\n",
       "  </thead>\n",
       "  <tbody>\n",
       "    <tr>\n",
       "      <th>30</th>\n",
       "      <td>;-)</td>\n",
       "    </tr>\n",
       "    <tr>\n",
       "      <th>31</th>\n",
       "      <td>^///^</td>\n",
       "    </tr>\n",
       "    <tr>\n",
       "      <th>32</th>\n",
       "      <td>^^</td>\n",
       "    </tr>\n",
       "    <tr>\n",
       "      <th>33</th>\n",
       "      <td>^^//</td>\n",
       "    </tr>\n",
       "    <tr>\n",
       "      <th>34</th>\n",
       "      <td>&lt;3</td>\n",
       "    </tr>\n",
       "    <tr>\n",
       "      <th>35</th>\n",
       "      <td>=)</td>\n",
       "    </tr>\n",
       "    <tr>\n",
       "      <th>36</th>\n",
       "      <td>XD</td>\n",
       "    </tr>\n",
       "    <tr>\n",
       "      <th>37</th>\n",
       "      <td>ㄱㅅ</td>\n",
       "    </tr>\n",
       "    <tr>\n",
       "      <th>38</th>\n",
       "      <td>ㄱㅇㄷ</td>\n",
       "    </tr>\n",
       "    <tr>\n",
       "      <th>39</th>\n",
       "      <td>가격이 싸다</td>\n",
       "    </tr>\n",
       "  </tbody>\n",
       "</table>\n",
       "</div>"
      ],
      "text/plain": [
       "        출처\n",
       "30     ;-)\n",
       "31   ^///^\n",
       "32      ^^\n",
       "33    ^^//\n",
       "34      <3\n",
       "35      =)\n",
       "36      XD\n",
       "37      ㄱㅅ\n",
       "38     ㄱㅇㄷ\n",
       "39  가격이 싸다"
      ]
     },
     "execution_count": 8,
     "metadata": {},
     "output_type": "execute_result"
    }
   ],
   "source": [
    "df_positives = df_positives[15:] # 15부터 끝까지를 담는다\n",
    "df_positives[:10]"
   ]
  },
  {
   "cell_type": "code",
   "execution_count": 11,
   "id": "3d7263a7-2877-4fa1-8a2a-7796bb1855c4",
   "metadata": {
    "tags": []
   },
   "outputs": [
    {
     "data": {
      "text/html": [
       "<div>\n",
       "<style scoped>\n",
       "    .dataframe tbody tr th:only-of-type {\n",
       "        vertical-align: middle;\n",
       "    }\n",
       "\n",
       "    .dataframe tbody tr th {\n",
       "        vertical-align: top;\n",
       "    }\n",
       "\n",
       "    .dataframe thead th {\n",
       "        text-align: right;\n",
       "    }\n",
       "</style>\n",
       "<table border=\"1\" class=\"dataframe\">\n",
       "  <thead>\n",
       "    <tr style=\"text-align: right;\">\n",
       "      <th></th>\n",
       "      <th>출처</th>\n",
       "    </tr>\n",
       "  </thead>\n",
       "  <tbody>\n",
       "    <tr>\n",
       "      <th>15</th>\n",
       "      <td>가난</td>\n",
       "    </tr>\n",
       "    <tr>\n",
       "      <th>16</th>\n",
       "      <td>가난뱅이</td>\n",
       "    </tr>\n",
       "    <tr>\n",
       "      <th>17</th>\n",
       "      <td>가난살이</td>\n",
       "    </tr>\n",
       "    <tr>\n",
       "      <th>18</th>\n",
       "      <td>가난살이하다</td>\n",
       "    </tr>\n",
       "    <tr>\n",
       "      <th>19</th>\n",
       "      <td>가난설음</td>\n",
       "    </tr>\n",
       "    <tr>\n",
       "      <th>20</th>\n",
       "      <td>가난에</td>\n",
       "    </tr>\n",
       "    <tr>\n",
       "      <th>21</th>\n",
       "      <td>가난에 쪼들려서</td>\n",
       "    </tr>\n",
       "    <tr>\n",
       "      <th>22</th>\n",
       "      <td>가난하게</td>\n",
       "    </tr>\n",
       "    <tr>\n",
       "      <th>23</th>\n",
       "      <td>가난하고</td>\n",
       "    </tr>\n",
       "    <tr>\n",
       "      <th>24</th>\n",
       "      <td>가난하고 어렵다</td>\n",
       "    </tr>\n",
       "  </tbody>\n",
       "</table>\n",
       "</div>"
      ],
      "text/plain": [
       "          출처\n",
       "15        가난\n",
       "16      가난뱅이\n",
       "17      가난살이\n",
       "18    가난살이하다\n",
       "19      가난설음\n",
       "20       가난에\n",
       "21  가난에 쪼들려서\n",
       "22      가난하게\n",
       "23      가난하고\n",
       "24  가난하고 어렵다"
      ]
     },
     "execution_count": 11,
     "metadata": {},
     "output_type": "execute_result"
    }
   ],
   "source": [
    "df_negatives = pd.read_csv('../../datasets/neg_pol_word.txt', delimiter='\\t') #delimiter='\\t' : txt 파일에 tab으로 나눈것. \n",
    "df_negatives = df_negatives[15:] # 15부터 끝까지를 담는다\n",
    "df_negatives[:10]"
   ]
  },
  {
   "cell_type": "markdown",
   "id": "d5725abc-2159-4dc0-82fc-95007a23e1f9",
   "metadata": {},
   "source": [
    "#### 문장에 점수 적용(긍/부정)\n",
    "- '코로나19의 여파로 전 세계 교사들과 학생들 모두 혼란스러운 시기를 보내고 있습니다.어려움 속에서도 학생들을 위해 안간힘을 쓰고 있는 모든 선생님들에게, 응원과 박수를 함께 보냅니다.'"
   ]
  },
  {
   "cell_type": "code",
   "execution_count": 12,
   "id": "59f892fd-6a68-4b48-b043-15c8cd25b5f3",
   "metadata": {
    "tags": []
   },
   "outputs": [],
   "source": [
    "comment = '코로나19의 여파로 전 세계 교사들과 학생들 모두 혼란스러운 시기를 보내고 있습니다.어려움 속에서도 학생들을 위해 안간힘을 쓰고 있는 모든 선생님들에게, 응원과 박수를 함께 보냅니다.'"
   ]
  },
  {
   "cell_type": "code",
   "execution_count": 17,
   "id": "fdc27fcd-d6e7-4ef9-a72a-125a3462bf90",
   "metadata": {
    "tags": []
   },
   "outputs": [
    {
     "name": "stdout",
     "output_type": "stream",
     "text": [
      "positive word in comment : 운\n",
      "positive word in comment : 함께\n"
     ]
    }
   ],
   "source": [
    "# positive인지 negative인지 check\n",
    "## 긍정단어포함\n",
    "for positive_word in df_positives['출처']:\n",
    "    if positive_word in comment : #comment에 word가 있다면\n",
    "        print('positive word in comment : {0}'.format(positive_word))\n",
    "        "
   ]
  },
  {
   "cell_type": "code",
   "execution_count": 16,
   "id": "0876a301-fe5e-4812-ad77-984ee1534d38",
   "metadata": {
    "tags": []
   },
   "outputs": [
    {
     "name": "stdout",
     "output_type": "stream",
     "text": [
      "negative word in comment : 어려움\n",
      "negative word in comment : 해\n",
      "negative word in comment : 혼란스러운\n"
     ]
    }
   ],
   "source": [
    "## 부정단어포함\n",
    "for negative_word in df_negatives['출처']:\n",
    "    if negative_word in comment : #comment에 word가 있다면\n",
    "        print('negative word in comment : {0}'.format(negative_word))\n",
    "        "
   ]
  },
  {
   "cell_type": "code",
   "execution_count": null,
   "id": "371e58af-981d-4b80-abc0-7711edb83815",
   "metadata": {},
   "outputs": [],
   "source": [
    "# 감정단어사전의 감정정도를 더하여 확인한다. "
   ]
  }
 ],
 "metadata": {
  "kernelspec": {
   "display_name": "Python 3 (ipykernel)",
   "language": "python",
   "name": "python3"
  },
  "language_info": {
   "codemirror_mode": {
    "name": "ipython",
    "version": 3
   },
   "file_extension": ".py",
   "mimetype": "text/x-python",
   "name": "python",
   "nbconvert_exporter": "python",
   "pygments_lexer": "ipython3",
   "version": "3.11.3"
  }
 },
 "nbformat": 4,
 "nbformat_minor": 5
}
