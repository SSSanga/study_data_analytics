{
 "cells": [
  {
   "cell_type": "code",
   "execution_count": 1,
   "id": "451b1799-4cc4-4eb3-8dfa-68cedcd27842",
   "metadata": {
    "tags": []
   },
   "outputs": [
    {
     "name": "stdout",
     "output_type": "stream",
     "text": [
      "Collecting wordcloud\n",
      "  Downloading wordcloud-1.9.2-cp311-cp311-win_amd64.whl (151 kB)\n",
      "                                              0.0/151.4 kB ? eta -:--:--\n",
      "     -------------------------------------- 151.4/151.4 kB 4.6 MB/s eta 0:00:00\n",
      "Requirement already satisfied: numpy>=1.6.1 in c:\\users\\01-15\\anaconda3\\lib\\site-packages (from wordcloud) (1.24.3)\n",
      "Requirement already satisfied: pillow in c:\\users\\01-15\\anaconda3\\lib\\site-packages (from wordcloud) (9.4.0)\n",
      "Requirement already satisfied: matplotlib in c:\\users\\01-15\\anaconda3\\lib\\site-packages (from wordcloud) (3.7.1)\n",
      "Requirement already satisfied: contourpy>=1.0.1 in c:\\users\\01-15\\anaconda3\\lib\\site-packages (from matplotlib->wordcloud) (1.0.5)\n",
      "Requirement already satisfied: cycler>=0.10 in c:\\users\\01-15\\anaconda3\\lib\\site-packages (from matplotlib->wordcloud) (0.11.0)\n",
      "Requirement already satisfied: fonttools>=4.22.0 in c:\\users\\01-15\\anaconda3\\lib\\site-packages (from matplotlib->wordcloud) (4.25.0)\n",
      "Requirement already satisfied: kiwisolver>=1.0.1 in c:\\users\\01-15\\anaconda3\\lib\\site-packages (from matplotlib->wordcloud) (1.4.4)\n",
      "Requirement already satisfied: packaging>=20.0 in c:\\users\\01-15\\anaconda3\\lib\\site-packages (from matplotlib->wordcloud) (23.0)\n",
      "Requirement already satisfied: pyparsing>=2.3.1 in c:\\users\\01-15\\anaconda3\\lib\\site-packages (from matplotlib->wordcloud) (3.0.9)\n",
      "Requirement already satisfied: python-dateutil>=2.7 in c:\\users\\01-15\\anaconda3\\lib\\site-packages (from matplotlib->wordcloud) (2.8.2)\n",
      "Requirement already satisfied: six>=1.5 in c:\\users\\01-15\\anaconda3\\lib\\site-packages (from python-dateutil>=2.7->matplotlib->wordcloud) (1.16.0)\n",
      "Installing collected packages: wordcloud\n",
      "Successfully installed wordcloud-1.9.2\n"
     ]
    }
   ],
   "source": [
    "!pip install wordcloud"
   ]
  },
  {
   "cell_type": "code",
   "execution_count": 2,
   "id": "3e241283-95f3-4ca3-96ff-51bc8679f726",
   "metadata": {
    "tags": []
   },
   "outputs": [
    {
     "name": "stdout",
     "output_type": "stream",
     "text": [
      "Collecting konlpy\n",
      "  Downloading konlpy-0.6.0-py2.py3-none-any.whl (19.4 MB)\n",
      "                                              0.0/19.4 MB ? eta -:--:--\n",
      "                                              0.4/19.4 MB 8.7 MB/s eta 0:00:03\n",
      "     -                                        0.9/19.4 MB 9.6 MB/s eta 0:00:02\n",
      "     -                                        1.0/19.4 MB 6.7 MB/s eta 0:00:03\n",
      "     --                                       1.4/19.4 MB 7.6 MB/s eta 0:00:03\n",
      "     ---                                      1.8/19.4 MB 7.8 MB/s eta 0:00:03\n",
      "     ----                                     2.3/19.4 MB 8.2 MB/s eta 0:00:03\n",
      "     -----                                    2.8/19.4 MB 8.4 MB/s eta 0:00:02\n",
      "     ------                                   3.2/19.4 MB 8.5 MB/s eta 0:00:02\n",
      "     -------                                  3.6/19.4 MB 8.6 MB/s eta 0:00:02\n",
      "     --------                                 4.1/19.4 MB 8.7 MB/s eta 0:00:02\n",
      "     ---------                                4.5/19.4 MB 8.7 MB/s eta 0:00:02\n",
      "     ----------                               5.0/19.4 MB 8.9 MB/s eta 0:00:02\n",
      "     -----------                              5.5/19.4 MB 9.1 MB/s eta 0:00:02\n",
      "     ------------                             6.1/19.4 MB 9.2 MB/s eta 0:00:02\n",
      "     -------------                            6.6/19.4 MB 9.3 MB/s eta 0:00:02\n",
      "     --------------                           7.1/19.4 MB 9.4 MB/s eta 0:00:02\n",
      "     ---------------                          7.5/19.4 MB 9.4 MB/s eta 0:00:02\n",
      "     ----------------                         8.1/19.4 MB 9.5 MB/s eta 0:00:02\n",
      "     -----------------                        8.6/19.4 MB 9.6 MB/s eta 0:00:02\n",
      "     ------------------                       9.1/19.4 MB 9.7 MB/s eta 0:00:02\n",
      "     -------------------                      9.5/19.4 MB 9.7 MB/s eta 0:00:02\n",
      "     --------------------                     10.0/19.4 MB 9.7 MB/s eta 0:00:01\n",
      "     ---------------------                    10.5/19.4 MB 9.8 MB/s eta 0:00:01\n",
      "     ----------------------                   11.1/19.4 MB 9.8 MB/s eta 0:00:01\n",
      "     -----------------------                 11.6/19.4 MB 10.2 MB/s eta 0:00:01\n",
      "     ------------------------                12.1/19.4 MB 10.4 MB/s eta 0:00:01\n",
      "     -------------------------               12.6/19.4 MB 10.4 MB/s eta 0:00:01\n",
      "     --------------------------              13.1/19.4 MB 10.4 MB/s eta 0:00:01\n",
      "     --------------------------              13.4/19.4 MB 10.2 MB/s eta 0:00:01\n",
      "     ---------------------------             13.7/19.4 MB 10.4 MB/s eta 0:00:01\n",
      "     ----------------------------            14.2/19.4 MB 10.1 MB/s eta 0:00:01\n",
      "     -----------------------------           14.7/19.4 MB 10.4 MB/s eta 0:00:01\n",
      "     ------------------------------          15.2/19.4 MB 10.4 MB/s eta 0:00:01\n",
      "     -------------------------------         15.8/19.4 MB 10.4 MB/s eta 0:00:01\n",
      "     --------------------------------        16.3/19.4 MB 10.4 MB/s eta 0:00:01\n",
      "     ---------------------------------       16.8/19.4 MB 10.2 MB/s eta 0:00:01\n",
      "     ----------------------------------      17.3/19.4 MB 10.2 MB/s eta 0:00:01\n",
      "     -----------------------------------     17.8/19.4 MB 10.2 MB/s eta 0:00:01\n",
      "     ------------------------------------    18.4/19.4 MB 10.2 MB/s eta 0:00:01\n",
      "     -------------------------------------   18.8/19.4 MB 10.2 MB/s eta 0:00:01\n",
      "     --------------------------------------  19.3/19.4 MB 10.4 MB/s eta 0:00:01\n",
      "     --------------------------------------  19.4/19.4 MB 10.4 MB/s eta 0:00:01\n",
      "     --------------------------------------  19.4/19.4 MB 10.4 MB/s eta 0:00:01\n",
      "     ---------------------------------------- 19.4/19.4 MB 9.4 MB/s eta 0:00:00\n",
      "Collecting JPype1>=0.7.0 (from konlpy)\n",
      "  Downloading JPype1-1.4.1-cp311-cp311-win_amd64.whl (345 kB)\n",
      "                                              0.0/345.1 kB ? eta -:--:--\n",
      "     ------------------------------------- 345.1/345.1 kB 10.8 MB/s eta 0:00:00\n",
      "Requirement already satisfied: lxml>=4.1.0 in c:\\users\\01-15\\anaconda3\\lib\\site-packages (from konlpy) (4.9.2)\n",
      "Requirement already satisfied: numpy>=1.6 in c:\\users\\01-15\\anaconda3\\lib\\site-packages (from konlpy) (1.24.3)\n",
      "Requirement already satisfied: packaging in c:\\users\\01-15\\anaconda3\\lib\\site-packages (from JPype1>=0.7.0->konlpy) (23.0)\n",
      "Installing collected packages: JPype1, konlpy\n",
      "Successfully installed JPype1-1.4.1 konlpy-0.6.0\n"
     ]
    }
   ],
   "source": [
    "!pip install konlpy"
   ]
  },
  {
   "cell_type": "markdown",
   "id": "2c05349b-bc36-4bbd-8515-713dc3257ecb",
   "metadata": {},
   "source": [
    "설치가 되었는데 작동이 되지 않는경우? 시스템 환경변수 편집-> path->에 '%JAVA_HOME%\\bin' 추가하기"
   ]
  },
  {
   "cell_type": "code",
   "execution_count": null,
   "id": "215d9a28-f4f9-4549-bf39-ad7b0fa4955e",
   "metadata": {},
   "outputs": [],
   "source": []
  }
 ],
 "metadata": {
  "kernelspec": {
   "display_name": "Python 3 (ipykernel)",
   "language": "python",
   "name": "python3"
  },
  "language_info": {
   "codemirror_mode": {
    "name": "ipython",
    "version": 3
   },
   "file_extension": ".py",
   "mimetype": "text/x-python",
   "name": "python",
   "nbconvert_exporter": "python",
   "pygments_lexer": "ipython3",
   "version": "3.11.3"
  }
 },
 "nbformat": 4,
 "nbformat_minor": 5
}
