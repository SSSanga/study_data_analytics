{
 "cells": [
  {
   "cell_type": "code",
   "execution_count": 1,
   "id": "13182f04-b466-4a13-a73c-b56aa5da599b",
   "metadata": {
    "tags": []
   },
   "outputs": [],
   "source": [
    "import pandas as pd\n",
    "import pymongo as mg"
   ]
  },
  {
   "cell_type": "code",
   "execution_count": 2,
   "id": "43b1c102-1e99-4a86-be88-e00f3f57f1cd",
   "metadata": {
    "tags": []
   },
   "outputs": [],
   "source": [
    "client=mg.MongoClient(host='mongodb://localhost:27017')"
   ]
  },
  {
   "cell_type": "code",
   "execution_count": 3,
   "id": "2254e5db-9b90-42f0-a24b-e6738413fe1e",
   "metadata": {
    "tags": []
   },
   "outputs": [],
   "source": [
    "databases = client['db_NHIS']"
   ]
  },
  {
   "cell_type": "code",
   "execution_count": 4,
   "id": "94751e95-c1d3-48ab-a0bd-d0529004378a",
   "metadata": {
    "tags": []
   },
   "outputs": [],
   "source": [
    "collection = databases['NSC2_BND']"
   ]
  },
  {
   "cell_type": "code",
   "execution_count": 5,
   "id": "ac40e070-9bb5-48c0-bb6f-691719e621d0",
   "metadata": {
    "tags": []
   },
   "outputs": [],
   "source": [
    "cursor = collection.find({})\n",
    "data_list = list(cursor)"
   ]
  },
  {
   "cell_type": "code",
   "execution_count": 6,
   "id": "24e16a46-830d-477a-a6d7-29d102e3fc44",
   "metadata": {
    "tags": []
   },
   "outputs": [
    {
     "data": {
      "text/html": [
       "<div>\n",
       "<style scoped>\n",
       "    .dataframe tbody tr th:only-of-type {\n",
       "        vertical-align: middle;\n",
       "    }\n",
       "\n",
       "    .dataframe tbody tr th {\n",
       "        vertical-align: top;\n",
       "    }\n",
       "\n",
       "    .dataframe thead th {\n",
       "        text-align: right;\n",
       "    }\n",
       "</style>\n",
       "<table border=\"1\" class=\"dataframe\">\n",
       "  <thead>\n",
       "    <tr style=\"text-align: right;\">\n",
       "      <th></th>\n",
       "      <th>_id</th>\n",
       "      <th>RN_INDI</th>\n",
       "      <th>BTH_YYYY</th>\n",
       "      <th>DTH_YYYYMM</th>\n",
       "      <th>COD1</th>\n",
       "      <th>COD2</th>\n",
       "    </tr>\n",
       "  </thead>\n",
       "  <tbody>\n",
       "    <tr>\n",
       "      <th>0</th>\n",
       "      <td>64d2fd0b4adce6a8b046e745</td>\n",
       "      <td>294364</td>\n",
       "      <td>1921LE</td>\n",
       "      <td>200707.0</td>\n",
       "      <td>T08-T14</td>\n",
       "      <td>W00-W19</td>\n",
       "    </tr>\n",
       "    <tr>\n",
       "      <th>1</th>\n",
       "      <td>64d2fd0b4adce6a8b046e746</td>\n",
       "      <td>646257</td>\n",
       "      <td>1921LE</td>\n",
       "      <td>200805.0</td>\n",
       "      <td>A15-A19</td>\n",
       "      <td>NaN</td>\n",
       "    </tr>\n",
       "    <tr>\n",
       "      <th>2</th>\n",
       "      <td>64d2fd0b4adce6a8b046e747</td>\n",
       "      <td>733575</td>\n",
       "      <td>1921LE</td>\n",
       "      <td>201309.0</td>\n",
       "      <td>G30</td>\n",
       "      <td>NaN</td>\n",
       "    </tr>\n",
       "    <tr>\n",
       "      <th>3</th>\n",
       "      <td>64d2fd0b4adce6a8b046e748</td>\n",
       "      <td>966199</td>\n",
       "      <td>1921LE</td>\n",
       "      <td>201409.0</td>\n",
       "      <td>J69</td>\n",
       "      <td>NaN</td>\n",
       "    </tr>\n",
       "  </tbody>\n",
       "</table>\n",
       "</div>"
      ],
      "text/plain": [
       "                        _id  RN_INDI BTH_YYYY  DTH_YYYYMM     COD1     COD2\n",
       "0  64d2fd0b4adce6a8b046e745   294364   1921LE    200707.0  T08-T14  W00-W19\n",
       "1  64d2fd0b4adce6a8b046e746   646257   1921LE    200805.0  A15-A19      NaN\n",
       "2  64d2fd0b4adce6a8b046e747   733575   1921LE    201309.0      G30      NaN\n",
       "3  64d2fd0b4adce6a8b046e748   966199   1921LE    201409.0      J69      NaN"
      ]
     },
     "execution_count": 6,
     "metadata": {},
     "output_type": "execute_result"
    }
   ],
   "source": [
    "df_BND = pd.DataFrame(data_list)\n",
    "df_BND.head(4)"
   ]
  },
  {
   "cell_type": "markdown",
   "id": "17111c9c-1325-4d9e-9564-907410480ef4",
   "metadata": {},
   "source": [
    "- 레이아웃과 비교했을 때\n",
    "아래 info와 매치가 안됨. 고로 _id를 drop 시켜야함. "
   ]
  },
  {
   "cell_type": "code",
   "execution_count": 7,
   "id": "8e9e7fff-d239-4a44-97a7-41d6da576123",
   "metadata": {
    "tags": []
   },
   "outputs": [
    {
     "name": "stdout",
     "output_type": "stream",
     "text": [
      "<class 'pandas.core.frame.DataFrame'>\n",
      "RangeIndex: 1000 entries, 0 to 999\n",
      "Data columns (total 6 columns):\n",
      " #   Column      Non-Null Count  Dtype  \n",
      "---  ------      --------------  -----  \n",
      " 0   _id         1000 non-null   object \n",
      " 1   RN_INDI     1000 non-null   int64  \n",
      " 2   BTH_YYYY    1000 non-null   object \n",
      " 3   DTH_YYYYMM  71 non-null     float64\n",
      " 4   COD1        60 non-null     object \n",
      " 5   COD2        7 non-null      object \n",
      "dtypes: float64(1), int64(1), object(4)\n",
      "memory usage: 47.0+ KB\n"
     ]
    }
   ],
   "source": [
    "df_BND.info()"
   ]
  },
  {
   "cell_type": "code",
   "execution_count": 8,
   "id": "4a3de6a9-5d9d-4fe1-b938-32ff15fbeaae",
   "metadata": {
    "tags": []
   },
   "outputs": [
    {
     "data": {
      "text/plain": [
       "Index(['_id', 'RN_INDI', 'BTH_YYYY', 'DTH_YYYYMM', 'COD1', 'COD2'], dtype='object')"
      ]
     },
     "execution_count": 8,
     "metadata": {},
     "output_type": "execute_result"
    }
   ],
   "source": [
    "df_BND.columns"
   ]
  },
  {
   "cell_type": "code",
   "execution_count": 11,
   "id": "2d89452c-c5ba-4506-b767-3bb5fb6a217c",
   "metadata": {
    "tags": []
   },
   "outputs": [
    {
     "data": {
      "text/html": [
       "<div>\n",
       "<style scoped>\n",
       "    .dataframe tbody tr th:only-of-type {\n",
       "        vertical-align: middle;\n",
       "    }\n",
       "\n",
       "    .dataframe tbody tr th {\n",
       "        vertical-align: top;\n",
       "    }\n",
       "\n",
       "    .dataframe thead th {\n",
       "        text-align: right;\n",
       "    }\n",
       "</style>\n",
       "<table border=\"1\" class=\"dataframe\">\n",
       "  <thead>\n",
       "    <tr style=\"text-align: right;\">\n",
       "      <th></th>\n",
       "      <th>RN_INDI</th>\n",
       "      <th>BTH_YYYY</th>\n",
       "      <th>DTH_YYYYMM</th>\n",
       "      <th>COD1</th>\n",
       "      <th>COD2</th>\n",
       "    </tr>\n",
       "  </thead>\n",
       "  <tbody>\n",
       "    <tr>\n",
       "      <th>0</th>\n",
       "      <td>294364</td>\n",
       "      <td>1921LE</td>\n",
       "      <td>200707.0</td>\n",
       "      <td>T08-T14</td>\n",
       "      <td>W00-W19</td>\n",
       "    </tr>\n",
       "    <tr>\n",
       "      <th>1</th>\n",
       "      <td>646257</td>\n",
       "      <td>1921LE</td>\n",
       "      <td>200805.0</td>\n",
       "      <td>A15-A19</td>\n",
       "      <td>NaN</td>\n",
       "    </tr>\n",
       "    <tr>\n",
       "      <th>2</th>\n",
       "      <td>733575</td>\n",
       "      <td>1921LE</td>\n",
       "      <td>201309.0</td>\n",
       "      <td>G30</td>\n",
       "      <td>NaN</td>\n",
       "    </tr>\n",
       "    <tr>\n",
       "      <th>3</th>\n",
       "      <td>966199</td>\n",
       "      <td>1921LE</td>\n",
       "      <td>201409.0</td>\n",
       "      <td>J69</td>\n",
       "      <td>NaN</td>\n",
       "    </tr>\n",
       "  </tbody>\n",
       "</table>\n",
       "</div>"
      ],
      "text/plain": [
       "   RN_INDI BTH_YYYY  DTH_YYYYMM     COD1     COD2\n",
       "0   294364   1921LE    200707.0  T08-T14  W00-W19\n",
       "1   646257   1921LE    200805.0  A15-A19      NaN\n",
       "2   733575   1921LE    201309.0      G30      NaN\n",
       "3   966199   1921LE    201409.0      J69      NaN"
      ]
     },
     "execution_count": 11,
     "metadata": {},
     "output_type": "execute_result"
    }
   ],
   "source": [
    "df_BND_drops_id = df_BND.drop(columns=['_id',])\n",
    "df_BND_drops_id.head(4)"
   ]
  },
  {
   "cell_type": "code",
   "execution_count": 12,
   "id": "e55d0c67-7e06-44b2-82fc-e61ce10474f9",
   "metadata": {
    "tags": []
   },
   "outputs": [
    {
     "name": "stdout",
     "output_type": "stream",
     "text": [
      "<class 'pandas.core.frame.DataFrame'>\n",
      "RangeIndex: 1000 entries, 0 to 999\n",
      "Data columns (total 5 columns):\n",
      " #   Column      Non-Null Count  Dtype  \n",
      "---  ------      --------------  -----  \n",
      " 0   RN_INDI     1000 non-null   int64  \n",
      " 1   BTH_YYYY    1000 non-null   object \n",
      " 2   DTH_YYYYMM  71 non-null     float64\n",
      " 3   COD1        60 non-null     object \n",
      " 4   COD2        7 non-null      object \n",
      "dtypes: float64(1), int64(1), object(3)\n",
      "memory usage: 39.2+ KB\n"
     ]
    }
   ],
   "source": [
    "df_BND_drops_id.info()"
   ]
  },
  {
   "cell_type": "code",
   "execution_count": 13,
   "id": "2ed011db-6d47-4803-940c-052e22858f8f",
   "metadata": {
    "tags": []
   },
   "outputs": [
    {
     "data": {
      "text/html": [
       "<div>\n",
       "<style scoped>\n",
       "    .dataframe tbody tr th:only-of-type {\n",
       "        vertical-align: middle;\n",
       "    }\n",
       "\n",
       "    .dataframe tbody tr th {\n",
       "        vertical-align: top;\n",
       "    }\n",
       "\n",
       "    .dataframe thead th {\n",
       "        text-align: right;\n",
       "    }\n",
       "</style>\n",
       "<table border=\"1\" class=\"dataframe\">\n",
       "  <thead>\n",
       "    <tr style=\"text-align: right;\">\n",
       "      <th></th>\n",
       "      <th>RN_INDI</th>\n",
       "      <th>DTH_YYYYMM</th>\n",
       "    </tr>\n",
       "  </thead>\n",
       "  <tbody>\n",
       "    <tr>\n",
       "      <th>count</th>\n",
       "      <td>1.000000e+03</td>\n",
       "      <td>71.000000</td>\n",
       "    </tr>\n",
       "    <tr>\n",
       "      <th>mean</th>\n",
       "      <td>6.404133e+05</td>\n",
       "      <td>201471.873239</td>\n",
       "    </tr>\n",
       "    <tr>\n",
       "      <th>std</th>\n",
       "      <td>5.241253e+05</td>\n",
       "      <td>432.203819</td>\n",
       "    </tr>\n",
       "    <tr>\n",
       "      <th>min</th>\n",
       "      <td>1.433000e+03</td>\n",
       "      <td>200707.000000</td>\n",
       "    </tr>\n",
       "    <tr>\n",
       "      <th>25%</th>\n",
       "      <td>2.812005e+05</td>\n",
       "      <td>201104.000000</td>\n",
       "    </tr>\n",
       "    <tr>\n",
       "      <th>50%</th>\n",
       "      <td>5.499230e+05</td>\n",
       "      <td>201508.000000</td>\n",
       "    </tr>\n",
       "    <tr>\n",
       "      <th>75%</th>\n",
       "      <td>8.177570e+05</td>\n",
       "      <td>201904.500000</td>\n",
       "    </tr>\n",
       "    <tr>\n",
       "      <th>max</th>\n",
       "      <td>3.000758e+06</td>\n",
       "      <td>202105.000000</td>\n",
       "    </tr>\n",
       "  </tbody>\n",
       "</table>\n",
       "</div>"
      ],
      "text/plain": [
       "            RN_INDI     DTH_YYYYMM\n",
       "count  1.000000e+03      71.000000\n",
       "mean   6.404133e+05  201471.873239\n",
       "std    5.241253e+05     432.203819\n",
       "min    1.433000e+03  200707.000000\n",
       "25%    2.812005e+05  201104.000000\n",
       "50%    5.499230e+05  201508.000000\n",
       "75%    8.177570e+05  201904.500000\n",
       "max    3.000758e+06  202105.000000"
      ]
     },
     "execution_count": 13,
     "metadata": {},
     "output_type": "execute_result"
    }
   ],
   "source": [
    "df_BND_drops_id.describe()"
   ]
  },
  {
   "cell_type": "code",
   "execution_count": 14,
   "id": "eaf6d8bc-5058-4c3a-ae92-08bbe3f602ec",
   "metadata": {
    "tags": []
   },
   "outputs": [
    {
     "data": {
      "text/html": [
       "<div>\n",
       "<style scoped>\n",
       "    .dataframe tbody tr th:only-of-type {\n",
       "        vertical-align: middle;\n",
       "    }\n",
       "\n",
       "    .dataframe tbody tr th {\n",
       "        vertical-align: top;\n",
       "    }\n",
       "\n",
       "    .dataframe thead th {\n",
       "        text-align: right;\n",
       "    }\n",
       "</style>\n",
       "<table border=\"1\" class=\"dataframe\">\n",
       "  <thead>\n",
       "    <tr style=\"text-align: right;\">\n",
       "      <th></th>\n",
       "      <th>BTH_YYYY</th>\n",
       "      <th>COD1</th>\n",
       "      <th>COD2</th>\n",
       "    </tr>\n",
       "  </thead>\n",
       "  <tbody>\n",
       "    <tr>\n",
       "      <th>count</th>\n",
       "      <td>1000</td>\n",
       "      <td>60</td>\n",
       "      <td>7</td>\n",
       "    </tr>\n",
       "    <tr>\n",
       "      <th>unique</th>\n",
       "      <td>95</td>\n",
       "      <td>42</td>\n",
       "      <td>6</td>\n",
       "    </tr>\n",
       "    <tr>\n",
       "      <th>top</th>\n",
       "      <td>1968</td>\n",
       "      <td>C34</td>\n",
       "      <td>W75-W84</td>\n",
       "    </tr>\n",
       "    <tr>\n",
       "      <th>freq</th>\n",
       "      <td>24</td>\n",
       "      <td>4</td>\n",
       "      <td>2</td>\n",
       "    </tr>\n",
       "  </tbody>\n",
       "</table>\n",
       "</div>"
      ],
      "text/plain": [
       "        BTH_YYYY COD1     COD2\n",
       "count       1000   60        7\n",
       "unique        95   42        6\n",
       "top         1968  C34  W75-W84\n",
       "freq          24    4        2"
      ]
     },
     "execution_count": 14,
     "metadata": {},
     "output_type": "execute_result"
    }
   ],
   "source": [
    "df_BND_drops_id.describe(include=object)"
   ]
  },
  {
   "cell_type": "code",
   "execution_count": 15,
   "id": "72c3774d-0317-4d06-8e41-073c9945464e",
   "metadata": {
    "tags": []
   },
   "outputs": [
    {
     "data": {
      "text/plain": [
       "1968    24\n",
       "1960    24\n",
       "1969    21\n",
       "1967    21\n",
       "1988    19\n",
       "        ..\n",
       "1929     1\n",
       "1925     1\n",
       "1924     1\n",
       "1923     1\n",
       "1922     1\n",
       "Name: BTH_YYYY, Length: 95, dtype: int64"
      ]
     },
     "execution_count": 15,
     "metadata": {},
     "output_type": "execute_result"
    }
   ],
   "source": [
    "df_BND_drops_id['BTH_YYYY'].value_counts()"
   ]
  },
  {
   "cell_type": "code",
   "execution_count": 16,
   "id": "524264d6-47bb-43d8-bcd2-7ef260420a59",
   "metadata": {
    "tags": []
   },
   "outputs": [
    {
     "data": {
      "text/plain": [
       "array(['1921LE', 1922, 1923, 1924, 1925, 1926, 1927, 1928, 1929, 1930,\n",
       "       1931, 1932, 1933, 1934, 1935, 1936, 1937, 1938, 1939, 1940, 1941,\n",
       "       1942, 1943, 1944, 1945, 1946, 1947, 1948, 1949, 1950, 1951, 1952,\n",
       "       1953, 1954, 1955, 1956, 1957, 1958, 1959, 1960, 1961, 1962, 1963,\n",
       "       1964, 1965, 1966, 1967, 1968, 1969, 1970, 1971, 1972, 1973, 1974,\n",
       "       1975, 1976, 1977, 1978, 1979, 1980, 1981, 1982, 1983, 1984, 1985,\n",
       "       1986, 1987, 1988, 1989, 1990, 1991, 1992, 1993, 1994, 1995, 1996,\n",
       "       1997, 1998, 1999, 2000, 2001, 2002, 2003, 2004, 2005, 2006, 2007,\n",
       "       2008, 2009, 2010, 2011, 2012, 2013, 2014, 2015], dtype=object)"
      ]
     },
     "execution_count": 16,
     "metadata": {},
     "output_type": "execute_result"
    }
   ],
   "source": [
    "df_BND_drops_id['BTH_YYYY'].unique()"
   ]
  },
  {
   "cell_type": "code",
   "execution_count": null,
   "id": "eaaca9bb-e17e-41ca-acce-f3f77f72f25e",
   "metadata": {},
   "outputs": [],
   "source": []
  }
 ],
 "metadata": {
  "kernelspec": {
   "display_name": "Python 3 (ipykernel)",
   "language": "python",
   "name": "python3"
  },
  "language_info": {
   "codemirror_mode": {
    "name": "ipython",
    "version": 3
   },
   "file_extension": ".py",
   "mimetype": "text/x-python",
   "name": "python",
   "nbconvert_exporter": "python",
   "pygments_lexer": "ipython3",
   "version": "3.11.3"
  }
 },
 "nbformat": 4,
 "nbformat_minor": 5
}
