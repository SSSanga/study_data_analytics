{
 "cells": [
  {
   "cell_type": "code",
   "execution_count": 1,
   "id": "263f9436-04ab-4c76-bcbf-931d82a4a87b",
   "metadata": {
    "tags": []
   },
   "outputs": [],
   "source": [
    "# %conda install pymongo"
   ]
  },
  {
   "cell_type": "code",
   "execution_count": 2,
   "id": "5cc2134a-978a-4220-ae9f-bf76046d9b56",
   "metadata": {
    "tags": []
   },
   "outputs": [],
   "source": [
    "import pymongo as mg\n",
    "import pandas as pd"
   ]
  },
  {
   "cell_type": "code",
   "execution_count": 3,
   "id": "838fc6e9-c8f2-42c6-a861-c249a1851db0",
   "metadata": {
    "tags": []
   },
   "outputs": [],
   "source": [
    "client=mg.MongoClient(host='mongodb://localhost:27017')"
   ]
  },
  {
   "cell_type": "code",
   "execution_count": 4,
   "id": "c122e940-e813-44c4-8043-745b838baaff",
   "metadata": {
    "tags": []
   },
   "outputs": [],
   "source": [
    "databases = client['study_data_analytics']"
   ]
  },
  {
   "cell_type": "code",
   "execution_count": 5,
   "id": "265eba36-300e-4647-a474-3285471aa141",
   "metadata": {
    "tags": []
   },
   "outputs": [],
   "source": [
    "collection = databases['collect_update']"
   ]
  },
  {
   "cell_type": "code",
   "execution_count": 8,
   "id": "2b259d06-60d7-411f-874b-44053abe392d",
   "metadata": {
    "tags": []
   },
   "outputs": [],
   "source": [
    "cursor_data = collection.find({})"
   ]
  },
  {
   "cell_type": "code",
   "execution_count": 9,
   "id": "9a96c0b4-d71e-43e9-9c2d-4069ebf7d41c",
   "metadata": {
    "tags": []
   },
   "outputs": [
    {
     "data": {
      "text/html": [
       "<div>\n",
       "<style scoped>\n",
       "    .dataframe tbody tr th:only-of-type {\n",
       "        vertical-align: middle;\n",
       "    }\n",
       "\n",
       "    .dataframe tbody tr th {\n",
       "        vertical-align: top;\n",
       "    }\n",
       "\n",
       "    .dataframe thead th {\n",
       "        text-align: right;\n",
       "    }\n",
       "</style>\n",
       "<table border=\"1\" class=\"dataframe\">\n",
       "  <thead>\n",
       "    <tr style=\"text-align: right;\">\n",
       "      <th></th>\n",
       "      <th>_id</th>\n",
       "      <th>name</th>\n",
       "      <th>age</th>\n",
       "      <th>city</th>\n",
       "    </tr>\n",
       "  </thead>\n",
       "  <tbody>\n",
       "    <tr>\n",
       "      <th>0</th>\n",
       "      <td>65012a54a1550ed2340bc911</td>\n",
       "      <td>Alice</td>\n",
       "      <td>26</td>\n",
       "      <td>Seoul</td>\n",
       "    </tr>\n",
       "    <tr>\n",
       "      <th>1</th>\n",
       "      <td>65012a54a1550ed2340bc912</td>\n",
       "      <td>Bob</td>\n",
       "      <td>30</td>\n",
       "      <td>Busan</td>\n",
       "    </tr>\n",
       "  </tbody>\n",
       "</table>\n",
       "</div>"
      ],
      "text/plain": [
       "                        _id   name  age   city\n",
       "0  65012a54a1550ed2340bc911  Alice   26  Seoul\n",
       "1  65012a54a1550ed2340bc912    Bob   30  Busan"
      ]
     },
     "execution_count": 9,
     "metadata": {},
     "output_type": "execute_result"
    }
   ],
   "source": [
    "df_collect_update=pd.DataFrame(list(cursor_data))\n",
    "df_collect_update[:2]"
   ]
  },
  {
   "cell_type": "code",
   "execution_count": 10,
   "id": "8c78e46e-8898-43c1-984b-c09e17e9660e",
   "metadata": {},
   "outputs": [
    {
     "data": {
      "text/html": [
       "<div>\n",
       "<style scoped>\n",
       "    .dataframe tbody tr th:only-of-type {\n",
       "        vertical-align: middle;\n",
       "    }\n",
       "\n",
       "    .dataframe tbody tr th {\n",
       "        vertical-align: top;\n",
       "    }\n",
       "\n",
       "    .dataframe thead th {\n",
       "        text-align: right;\n",
       "    }\n",
       "</style>\n",
       "<table border=\"1\" class=\"dataframe\">\n",
       "  <thead>\n",
       "    <tr style=\"text-align: right;\">\n",
       "      <th></th>\n",
       "      <th>_id</th>\n",
       "      <th>name</th>\n",
       "      <th>age</th>\n",
       "      <th>city</th>\n",
       "      <th>update</th>\n",
       "    </tr>\n",
       "  </thead>\n",
       "  <tbody>\n",
       "    <tr>\n",
       "      <th>0</th>\n",
       "      <td>65012a54a1550ed2340bc911</td>\n",
       "      <td>Alice</td>\n",
       "      <td>26</td>\n",
       "      <td>Seoul</td>\n",
       "      <td>2023-09-13 13:03:08.668105</td>\n",
       "    </tr>\n",
       "    <tr>\n",
       "      <th>1</th>\n",
       "      <td>65012a54a1550ed2340bc912</td>\n",
       "      <td>Bob</td>\n",
       "      <td>30</td>\n",
       "      <td>Busan</td>\n",
       "      <td>2023-09-13 13:03:08.668105</td>\n",
       "    </tr>\n",
       "  </tbody>\n",
       "</table>\n",
       "</div>"
      ],
      "text/plain": [
       "                        _id   name  age   city                     update\n",
       "0  65012a54a1550ed2340bc911  Alice   26  Seoul 2023-09-13 13:03:08.668105\n",
       "1  65012a54a1550ed2340bc912    Bob   30  Busan 2023-09-13 13:03:08.668105"
      ]
     },
     "execution_count": 10,
     "metadata": {},
     "output_type": "execute_result"
    }
   ],
   "source": [
    "## date 추가하기. \n",
    "from datetime import datetime\n",
    "df_collect_update['update']=datetime.now()\n",
    "df_collect_update[:2]"
   ]
  },
  {
   "cell_type": "code",
   "execution_count": 14,
   "id": "6564701f-07d0-4a1c-bd52-96a5ee2ada41",
   "metadata": {
    "tags": []
   },
   "outputs": [
    {
     "data": {
      "text/plain": [
       "Collection(Database(MongoClient(host=['localhost:27017'], document_class=dict, tz_aware=False, connect=True), 'study_data_analytics'), 'collect_update_new')"
      ]
     },
     "execution_count": 14,
     "metadata": {},
     "output_type": "execute_result"
    }
   ],
   "source": [
    "## 새로이 추가된걸 update로 하지 말로 collection을 새롭게 만들어서 한다. \n",
    "collection_new = databases['collect_update_new']\n",
    "collection_new"
   ]
  },
  {
   "cell_type": "code",
   "execution_count": 15,
   "id": "3c1c1de2-ba09-469b-a06b-7b130c64c429",
   "metadata": {
    "tags": []
   },
   "outputs": [],
   "source": [
    "dict_collect_update = df_collect_update.to_dict(orient='records') #to_dict(orient='records')\n",
    "result=collection_new.insert_many(dict_collect_update)"
   ]
  },
  {
   "cell_type": "markdown",
   "id": "03939763-8c52-4753-ab56-c46998623095",
   "metadata": {},
   "source": [
    "- 앞으로 이 과정으로 해야함.... \n",
    "- 불용어 적용 or 분석 후 column이 붙을때 이렇게 넣어야함. \n",
    "- 새롭게 collection을 만드는걸 습관화해야함. "
   ]
  },
  {
   "cell_type": "code",
   "execution_count": 17,
   "id": "879e6384-5b7b-4fdc-8a5b-36cfde66a238",
   "metadata": {
    "tags": []
   },
   "outputs": [
    {
     "data": {
      "text/plain": [
       "<pymongo.results.InsertManyResult at 0x1d0501c63c0>"
      ]
     },
     "execution_count": 17,
     "metadata": {},
     "output_type": "execute_result"
    }
   ],
   "source": [
    "result ## pymongo.results.InsertManyResult : results는 class이므로 list 결과를 가져올수있다. "
   ]
  },
  {
   "cell_type": "code",
   "execution_count": 18,
   "id": "afa18b54-42ab-42fe-8088-e7e5443f80b8",
   "metadata": {
    "tags": []
   },
   "outputs": [
    {
     "data": {
      "text/plain": [
       "[ObjectId('65012a54a1550ed2340bc911'),\n",
       " ObjectId('65012a54a1550ed2340bc912'),\n",
       " ObjectId('65012a54a1550ed2340bc913')]"
      ]
     },
     "execution_count": 18,
     "metadata": {},
     "output_type": "execute_result"
    }
   ],
   "source": [
    "result.inserted_ids"
   ]
  },
  {
   "cell_type": "code",
   "execution_count": null,
   "id": "a5bdd345-f05e-4f03-a1cc-62cdf63845d5",
   "metadata": {},
   "outputs": [],
   "source": []
  }
 ],
 "metadata": {
  "kernelspec": {
   "display_name": "Python 3 (ipykernel)",
   "language": "python",
   "name": "python3"
  },
  "language_info": {
   "codemirror_mode": {
    "name": "ipython",
    "version": 3
   },
   "file_extension": ".py",
   "mimetype": "text/x-python",
   "name": "python",
   "nbconvert_exporter": "python",
   "pygments_lexer": "ipython3",
   "version": "3.11.3"
  }
 },
 "nbformat": 4,
 "nbformat_minor": 5
}
