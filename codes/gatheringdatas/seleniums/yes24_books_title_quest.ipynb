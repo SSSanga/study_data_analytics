{
 "cells": [
  {
   "cell_type": "code",
   "execution_count": 1,
   "id": "9bc31612-5491-45b7-943e-5c6164a51851",
   "metadata": {
    "tags": []
   },
   "outputs": [],
   "source": [
    "import pandas as pd"
   ]
  },
  {
   "cell_type": "code",
   "execution_count": 2,
   "id": "59ba6c53-598b-4cce-b0fb-c8c689e3265b",
   "metadata": {
    "tags": []
   },
   "outputs": [],
   "source": [
    "from selenium import webdriver"
   ]
  },
  {
   "cell_type": "code",
   "execution_count": 3,
   "id": "f0428d1b-80f0-48c5-8906-d4151fc7c56f",
   "metadata": {
    "tags": []
   },
   "outputs": [],
   "source": [
    "#open chrome browser\n",
    "browser = webdriver.Chrome(executable_path='../../../../chromedriver.exe') #webdriver_selenium과 web을 연결해주기위함. "
   ]
  },
  {
   "cell_type": "code",
   "execution_count": 4,
   "id": "3a45d579-1988-4620-9603-9cc0b1be7cbb",
   "metadata": {
    "tags": []
   },
   "outputs": [],
   "source": [
    "# url in address window\n",
    "browser.get('https://brunch.co.kr/keyword/%EC%B1%85%EB%A6%AC%EB%B7%B0')"
   ]
  },
  {
   "cell_type": "markdown",
   "id": "0542b683-d03b-4cbf-abc7-ae60b7d17cb1",
   "metadata": {},
   "source": [
    "### 여러개 가져오기"
   ]
  },
  {
   "cell_type": "code",
   "execution_count": 5,
   "id": "8fb70804-549a-40a2-ac14-b9b949100512",
   "metadata": {
    "tags": []
   },
   "outputs": [
    {
     "data": {
      "text/plain": [
       "list"
      ]
     },
     "execution_count": 5,
     "metadata": {},
     "output_type": "execute_result"
    }
   ],
   "source": [
    "elements_path = '.tit_sub'\n",
    "elements=browser.find_elements_by_css_selector(elements_path)\n",
    "type(elements)"
   ]
  },
  {
   "cell_type": "code",
   "execution_count": 6,
   "id": "bd7ec76d-0cd4-47bd-8d02-8248377ad578",
   "metadata": {
    "tags": []
   },
   "outputs": [],
   "source": [
    "list=[]"
   ]
  },
  {
   "cell_type": "code",
   "execution_count": 7,
   "id": "185fa2aa-8a3f-44af-a56c-57d2e48abbf0",
   "metadata": {
    "tags": []
   },
   "outputs": [
    {
     "name": "stdout",
     "output_type": "stream",
     "text": [
      "\n",
      "'시인의 책상' 리뷰\n",
      "히가시노 게이고 <블랙 쇼맨과 환상의 여자>\n",
      "정여울, <그때, 나에게 미처 하지 못한 말>\n",
      "한강\n",
      "책 <가정교사들>을 추천하며\n",
      "\n",
      "내가 좋아하는 것들, 쓰기(저 김재용)\n",
      "러일전쟁 - 와다 하루키(한길사) ●●●●●●●●◐○\n",
      "『우리 대화는 밤새도록 끝이 없지』- 허휘수, 서솔, 상상 출판\n",
      "『불안할 땐 뇌과학』- 캐서린 피트먼, 엘리자베스 칼. 현대지성\n",
      "그림책 리뷰\n",
      "동해선에서 읽은 책 61\n",
      "Jane Kallir\n",
      "\n",
      "\n",
      "'디자이너 생각위를 걷다'에서 느끼는 사업가의 삶의 지혜\n",
      "Feat. 부부가 둘 다 놀고 있습니다\n",
      "도파민네이션과 최선의 고통을 읽고\n",
      "집이라는 모험, 신순화\n"
     ]
    }
   ],
   "source": [
    "for webelement in elements : \n",
    "    # webelement와 동일한 형식은 element.text\n",
    "    title=webelement.text\n",
    "    print(title)\n",
    "    list.append(title)"
   ]
  },
  {
   "cell_type": "code",
   "execution_count": 10,
   "id": "5a4ef0fe-de2c-424e-b8f9-8be081f44318",
   "metadata": {
    "tags": []
   },
   "outputs": [],
   "source": [
    "df_booklist = pd.DataFrame(list, columns=['title'])"
   ]
  },
  {
   "cell_type": "code",
   "execution_count": 11,
   "id": "ab1562bf-abfc-41e2-874c-3c877b35a63d",
   "metadata": {
    "tags": []
   },
   "outputs": [
    {
     "name": "stdout",
     "output_type": "stream",
     "text": [
      "<class 'pandas.core.frame.DataFrame'>\n",
      "RangeIndex: 20 entries, 0 to 19\n",
      "Data columns (total 1 columns):\n",
      " #   Column  Non-Null Count  Dtype \n",
      "---  ------  --------------  ----- \n",
      " 0   title   20 non-null     object\n",
      "dtypes: object(1)\n",
      "memory usage: 292.0+ bytes\n"
     ]
    }
   ],
   "source": [
    "df_booklist.info()"
   ]
  },
  {
   "cell_type": "code",
   "execution_count": 12,
   "id": "01b6e906-a275-4460-ba6c-0ecb1569a2fd",
   "metadata": {
    "tags": []
   },
   "outputs": [
    {
     "data": {
      "text/plain": [
       "title    0\n",
       "dtype: int64"
      ]
     },
     "execution_count": 12,
     "metadata": {},
     "output_type": "execute_result"
    }
   ],
   "source": [
    "df_booklist.isnull().sum()"
   ]
  },
  {
   "cell_type": "code",
   "execution_count": 13,
   "id": "77f156c7-29b9-45da-963e-5e0db1fe13d8",
   "metadata": {
    "tags": []
   },
   "outputs": [],
   "source": [
    "df_booklist=df_booklist.dropna()"
   ]
  },
  {
   "cell_type": "code",
   "execution_count": 14,
   "id": "d43f360a-1829-4a81-80b4-8f551e85b0af",
   "metadata": {
    "tags": []
   },
   "outputs": [],
   "source": [
    "df_booklist.to_csv('../../../datasets/books_title.csv')"
   ]
  },
  {
   "cell_type": "code",
   "execution_count": 21,
   "id": "b90debb6-11a2-420d-ab50-c658d508adca",
   "metadata": {
    "tags": []
   },
   "outputs": [],
   "source": [
    "browser.quit() ## browser닫힘"
   ]
  },
  {
   "cell_type": "code",
   "execution_count": null,
   "id": "85282118-0acf-47d0-9ab6-dac25deeeb88",
   "metadata": {},
   "outputs": [],
   "source": []
  }
 ],
 "metadata": {
  "kernelspec": {
   "display_name": "Python 3 (ipykernel)",
   "language": "python",
   "name": "python3"
  },
  "language_info": {
   "codemirror_mode": {
    "name": "ipython",
    "version": 3
   },
   "file_extension": ".py",
   "mimetype": "text/x-python",
   "name": "python",
   "nbconvert_exporter": "python",
   "pygments_lexer": "ipython3",
   "version": "3.11.3"
  }
 },
 "nbformat": 4,
 "nbformat_minor": 5
}
