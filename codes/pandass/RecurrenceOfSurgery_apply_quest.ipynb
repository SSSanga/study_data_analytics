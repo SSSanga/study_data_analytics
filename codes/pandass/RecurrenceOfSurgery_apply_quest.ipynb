{
 "cells": [
  {
   "cell_type": "code",
   "execution_count": 1,
   "id": "ba09e423-11a6-4398-aa25-7e6e35f8a46b",
   "metadata": {
    "tags": []
   },
   "outputs": [],
   "source": [
    "import matplotlib.pyplot as plt\n",
    "import matplotlib as mpl\n",
    "mpl.rc('font',family='Malgun Gothic')\n",
    "import seaborn as sns\n",
    "import pandas as pd\n",
    "import scipy.stats as stats\n",
    "import numpy as np"
   ]
  },
  {
   "cell_type": "code",
   "execution_count": 2,
   "id": "d293d98a-6802-4368-89b1-1cb0e8e26fa6",
   "metadata": {
    "tags": []
   },
   "outputs": [
    {
     "data": {
      "text/html": [
       "<div>\n",
       "<style scoped>\n",
       "    .dataframe tbody tr th:only-of-type {\n",
       "        vertical-align: middle;\n",
       "    }\n",
       "\n",
       "    .dataframe tbody tr th {\n",
       "        vertical-align: top;\n",
       "    }\n",
       "\n",
       "    .dataframe thead th {\n",
       "        text-align: right;\n",
       "    }\n",
       "</style>\n",
       "<table border=\"1\" class=\"dataframe\">\n",
       "  <thead>\n",
       "    <tr style=\"text-align: right;\">\n",
       "      <th></th>\n",
       "      <th>Unnamed: 0</th>\n",
       "      <th>환자ID</th>\n",
       "      <th>Large Lymphocyte</th>\n",
       "      <th>Location of herniation</th>\n",
       "      <th>ODI</th>\n",
       "      <th>가족력</th>\n",
       "      <th>간질성폐질환</th>\n",
       "      <th>고혈압여부</th>\n",
       "      <th>과거수술횟수</th>\n",
       "      <th>당뇨여부</th>\n",
       "      <th>...</th>\n",
       "      <th>Modic change</th>\n",
       "      <th>PI</th>\n",
       "      <th>PT</th>\n",
       "      <th>Seg Angle(raw)</th>\n",
       "      <th>Vaccum disc</th>\n",
       "      <th>골밀도</th>\n",
       "      <th>디스크단면적</th>\n",
       "      <th>디스크위치</th>\n",
       "      <th>척추이동척도</th>\n",
       "      <th>척추전방위증</th>\n",
       "    </tr>\n",
       "  </thead>\n",
       "  <tbody>\n",
       "    <tr>\n",
       "      <th>0</th>\n",
       "      <td>0</td>\n",
       "      <td>1PT</td>\n",
       "      <td>22.8</td>\n",
       "      <td>3</td>\n",
       "      <td>51.0</td>\n",
       "      <td>0.0</td>\n",
       "      <td>0</td>\n",
       "      <td>0</td>\n",
       "      <td>0</td>\n",
       "      <td>0</td>\n",
       "      <td>...</td>\n",
       "      <td>3</td>\n",
       "      <td>51.6</td>\n",
       "      <td>36.6</td>\n",
       "      <td>14.4</td>\n",
       "      <td>0</td>\n",
       "      <td>-1.01</td>\n",
       "      <td>2048.5</td>\n",
       "      <td>4</td>\n",
       "      <td>Down</td>\n",
       "      <td>0</td>\n",
       "    </tr>\n",
       "    <tr>\n",
       "      <th>1</th>\n",
       "      <td>1</td>\n",
       "      <td>2PT</td>\n",
       "      <td>44.9</td>\n",
       "      <td>4</td>\n",
       "      <td>26.0</td>\n",
       "      <td>0.0</td>\n",
       "      <td>0</td>\n",
       "      <td>0</td>\n",
       "      <td>0</td>\n",
       "      <td>0</td>\n",
       "      <td>...</td>\n",
       "      <td>0</td>\n",
       "      <td>40.8</td>\n",
       "      <td>7.2</td>\n",
       "      <td>17.8</td>\n",
       "      <td>0</td>\n",
       "      <td>-1.14</td>\n",
       "      <td>1753.1</td>\n",
       "      <td>4</td>\n",
       "      <td>Up</td>\n",
       "      <td>0</td>\n",
       "    </tr>\n",
       "    <tr>\n",
       "      <th>2</th>\n",
       "      <td>2</td>\n",
       "      <td>3PT</td>\n",
       "      <td>53.0</td>\n",
       "      <td>3</td>\n",
       "      <td>NaN</td>\n",
       "      <td>0.0</td>\n",
       "      <td>0</td>\n",
       "      <td>0</td>\n",
       "      <td>1</td>\n",
       "      <td>0</td>\n",
       "      <td>...</td>\n",
       "      <td>0</td>\n",
       "      <td>67.5</td>\n",
       "      <td>27.3</td>\n",
       "      <td>10.2</td>\n",
       "      <td>0</td>\n",
       "      <td>-1.77</td>\n",
       "      <td>1749.0</td>\n",
       "      <td>4</td>\n",
       "      <td>Down</td>\n",
       "      <td>0</td>\n",
       "    </tr>\n",
       "  </tbody>\n",
       "</table>\n",
       "<p>3 rows × 52 columns</p>\n",
       "</div>"
      ],
      "text/plain": [
       "   Unnamed: 0 환자ID  Large Lymphocyte  Location of herniation   ODI  가족력  \\\n",
       "0           0  1PT              22.8                       3  51.0  0.0   \n",
       "1           1  2PT              44.9                       4  26.0  0.0   \n",
       "2           2  3PT              53.0                       3   NaN  0.0   \n",
       "\n",
       "   간질성폐질환  고혈압여부  과거수술횟수  당뇨여부  ...  Modic change    PI    PT  Seg Angle(raw)  \\\n",
       "0       0      0       0     0  ...             3  51.6  36.6            14.4   \n",
       "1       0      0       0     0  ...             0  40.8   7.2            17.8   \n",
       "2       0      0       1     0  ...             0  67.5  27.3            10.2   \n",
       "\n",
       "   Vaccum disc   골밀도  디스크단면적  디스크위치  척추이동척도  척추전방위증  \n",
       "0            0 -1.01  2048.5      4    Down       0  \n",
       "1            0 -1.14  1753.1      4      Up       0  \n",
       "2            0 -1.77  1749.0      4    Down       0  \n",
       "\n",
       "[3 rows x 52 columns]"
      ]
     },
     "execution_count": 2,
     "metadata": {},
     "output_type": "execute_result"
    }
   ],
   "source": [
    "df_ROS = pd.read_csv('../../datasets/RecurrenceOfSurgery.csv')\n",
    "df_ROS[:3]"
   ]
  },
  {
   "cell_type": "markdown",
   "id": "da746611-2eb5-4057-a28c-ecf6bd1462a6",
   "metadata": {},
   "source": [
    "### quest_2\n",
    "    - '신장', '체중' 이용해서 BMI\n",
    "    - BMI 시각화 및 인사이트\n",
    "    - BMI : 체중 / 신장^2\n",
    "    -  기준: 이것은 너무 범위가 넒음. \n",
    "            - BMI < 18.5: 저체중 (Underweight)\n",
    "            - 18.5 <= BMI < 24.9: 정상체중 (Normal weight)\n",
    "            - 25 <= BMI < 29.9: 과체중 (Overweight)\n",
    "            - 30 <= BMI < 34.9: 1단계 비만 (Obese class 1)\n",
    "            - 35 <= BMI < 39.9: 2단계 비만 (Obese class 2)\n",
    "            - BMI >= 40: 고도 비만 (Obese class 3)\n",
    "    - 기준 변경 : 대한비만학회\n",
    "            - 23 <= BMI < 25: 과체중 (Overweight)\n",
    "            - 25 <= BMI < 30: 1단계 비만 (Obese class 1)\n",
    "            - 30 <= BMI < 35: 2단계 비만 (Obese class 2)\n",
    "            - BMI >= 35: 고도 비만 (Obese class 3)"
   ]
  },
  {
   "cell_type": "code",
   "execution_count": 3,
   "id": "fdb128f8-3345-42bc-b241-9b9896c90a10",
   "metadata": {
    "collapsed": true,
    "jupyter": {
     "outputs_hidden": true
    },
    "tags": []
   },
   "outputs": [
    {
     "name": "stdout",
     "output_type": "stream",
     "text": [
      "<class 'pandas.core.frame.DataFrame'>\n",
      "RangeIndex: 1894 entries, 0 to 1893\n",
      "Data columns (total 52 columns):\n",
      " #   Column                  Non-Null Count  Dtype  \n",
      "---  ------                  --------------  -----  \n",
      " 0   Unnamed: 0              1894 non-null   int64  \n",
      " 1   환자ID                    1894 non-null   object \n",
      " 2   Large Lymphocyte        1894 non-null   float64\n",
      " 3   Location of herniation  1894 non-null   int64  \n",
      " 4   ODI                     462 non-null    float64\n",
      " 5   가족력                     1843 non-null   float64\n",
      " 6   간질성폐질환                  1894 non-null   int64  \n",
      " 7   고혈압여부                   1894 non-null   int64  \n",
      " 8   과거수술횟수                  1894 non-null   int64  \n",
      " 9   당뇨여부                    1894 non-null   int64  \n",
      " 10  말초동맥질환여부                1894 non-null   int64  \n",
      " 11  빈혈여부                    1894 non-null   int64  \n",
      " 12  성별                      1894 non-null   int64  \n",
      " 13  스테로이드치료                 1894 non-null   int64  \n",
      " 14  신부전여부                   1894 non-null   int64  \n",
      " 15  신장                      1894 non-null   int64  \n",
      " 16  심혈관질환                   1894 non-null   int64  \n",
      " 17  암발병여부                   1894 non-null   int64  \n",
      " 18  연령                      1894 non-null   int64  \n",
      " 19  우울증여부                   1894 non-null   int64  \n",
      " 20  입원기간                    1894 non-null   int64  \n",
      " 21  입원일자                    1894 non-null   int64  \n",
      " 22  종양진행여부                  1894 non-null   int64  \n",
      " 23  직업                      1479 non-null   object \n",
      " 24  체중                      1894 non-null   float64\n",
      " 25  퇴원일자                    1894 non-null   int64  \n",
      " 26  헤모글로빈수치                 1893 non-null   float64\n",
      " 27  혈전합병증여부                 1894 non-null   int64  \n",
      " 28  환자통증정도                  1894 non-null   int64  \n",
      " 29  흡연여부                    1894 non-null   int64  \n",
      " 30  통증기간(월)                 1890 non-null   float64\n",
      " 31  수술기법                    1813 non-null   object \n",
      " 32  수술시간                    1840 non-null   float64\n",
      " 33  수술실패여부                  1894 non-null   int64  \n",
      " 34  수술일자                    1894 non-null   int64  \n",
      " 35  재발여부                    1894 non-null   int64  \n",
      " 36  혈액형                     1894 non-null   object \n",
      " 37  전방디스크높이(mm)             1894 non-null   float64\n",
      " 38  후방디스크높이(mm)             1894 non-null   float64\n",
      " 39  지방축적도                   1891 non-null   float64\n",
      " 40  Instability             1894 non-null   int64  \n",
      " 41  MF + ES                 1894 non-null   float64\n",
      " 42  Modic change            1894 non-null   int64  \n",
      " 43  PI                      1890 non-null   float64\n",
      " 44  PT                      1890 non-null   float64\n",
      " 45  Seg Angle(raw)          1893 non-null   float64\n",
      " 46  Vaccum disc             1894 non-null   int64  \n",
      " 47  골밀도                     998 non-null    float64\n",
      " 48  디스크단면적                  1893 non-null   float64\n",
      " 49  디스크위치                   1894 non-null   int64  \n",
      " 50  척추이동척도                  1894 non-null   object \n",
      " 51  척추전방위증                  1894 non-null   int64  \n",
      "dtypes: float64(16), int64(31), object(5)\n",
      "memory usage: 769.6+ KB\n"
     ]
    }
   ],
   "source": [
    "df_ROS.info()\n",
    "#'신장' int, '체중' float"
   ]
  },
  {
   "cell_type": "code",
   "execution_count": 4,
   "id": "72adc09c-6aa5-4978-a670-92e654e80077",
   "metadata": {
    "tags": []
   },
   "outputs": [],
   "source": [
    "df_ROS_WH=df_ROS[['신장', '체중', '환자ID']]"
   ]
  },
  {
   "cell_type": "code",
   "execution_count": 5,
   "id": "05738a4e-d586-4338-98e9-54dc60c16501",
   "metadata": {
    "collapsed": true,
    "jupyter": {
     "outputs_hidden": true
    },
    "tags": []
   },
   "outputs": [
    {
     "data": {
      "text/plain": [
       "0       163\n",
       "1       171\n",
       "2       178\n",
       "3       174\n",
       "4       183\n",
       "       ... \n",
       "1889    157\n",
       "1890    157\n",
       "1891    167\n",
       "1892    177\n",
       "1893    168\n",
       "Name: 신장, Length: 1894, dtype: int64"
      ]
     },
     "execution_count": 5,
     "metadata": {},
     "output_type": "execute_result"
    }
   ],
   "source": [
    "df_ROS_WH['신장']"
   ]
  },
  {
   "cell_type": "code",
   "execution_count": 6,
   "id": "047b3006-d56b-4052-b150-4198e5e90964",
   "metadata": {
    "collapsed": true,
    "jupyter": {
     "outputs_hidden": true
    },
    "tags": []
   },
   "outputs": [
    {
     "data": {
      "text/plain": [
       "0       60.3\n",
       "1       71.7\n",
       "2       77.1\n",
       "3       74.2\n",
       "4       80.7\n",
       "        ... \n",
       "1889    64.0\n",
       "1890    59.0\n",
       "1891    70.0\n",
       "1892    77.0\n",
       "1893    49.0\n",
       "Name: 체중, Length: 1894, dtype: float64"
      ]
     },
     "execution_count": 6,
     "metadata": {},
     "output_type": "execute_result"
    }
   ],
   "source": [
    "df_ROS_WH['체중']"
   ]
  },
  {
   "cell_type": "code",
   "execution_count": 7,
   "id": "65828a6d-a032-4048-9d89-29b418088a13",
   "metadata": {
    "tags": []
   },
   "outputs": [],
   "source": [
    "def convert(height) : \n",
    "    return float(height)"
   ]
  },
  {
   "cell_type": "code",
   "execution_count": 8,
   "id": "44e979b7-0c48-4ea5-9855-1e3e9312fe6e",
   "metadata": {
    "collapsed": true,
    "jupyter": {
     "outputs_hidden": true
    },
    "tags": []
   },
   "outputs": [
    {
     "name": "stderr",
     "output_type": "stream",
     "text": [
      "C:\\Users\\01-15\\AppData\\Local\\Temp\\ipykernel_1204\\182664247.py:1: SettingWithCopyWarning: \n",
      "A value is trying to be set on a copy of a slice from a DataFrame.\n",
      "Try using .loc[row_indexer,col_indexer] = value instead\n",
      "\n",
      "See the caveats in the documentation: https://pandas.pydata.org/pandas-docs/stable/user_guide/indexing.html#returning-a-view-versus-a-copy\n",
      "  df_ROS_WH['신장_소수']=df_ROS_WH['신장'].apply(convert)\n"
     ]
    },
    {
     "data": {
      "text/html": [
       "<div>\n",
       "<style scoped>\n",
       "    .dataframe tbody tr th:only-of-type {\n",
       "        vertical-align: middle;\n",
       "    }\n",
       "\n",
       "    .dataframe tbody tr th {\n",
       "        vertical-align: top;\n",
       "    }\n",
       "\n",
       "    .dataframe thead th {\n",
       "        text-align: right;\n",
       "    }\n",
       "</style>\n",
       "<table border=\"1\" class=\"dataframe\">\n",
       "  <thead>\n",
       "    <tr style=\"text-align: right;\">\n",
       "      <th></th>\n",
       "      <th>신장</th>\n",
       "      <th>체중</th>\n",
       "      <th>환자ID</th>\n",
       "      <th>신장_소수</th>\n",
       "    </tr>\n",
       "  </thead>\n",
       "  <tbody>\n",
       "    <tr>\n",
       "      <th>0</th>\n",
       "      <td>163</td>\n",
       "      <td>60.3</td>\n",
       "      <td>1PT</td>\n",
       "      <td>163.0</td>\n",
       "    </tr>\n",
       "    <tr>\n",
       "      <th>1</th>\n",
       "      <td>171</td>\n",
       "      <td>71.7</td>\n",
       "      <td>2PT</td>\n",
       "      <td>171.0</td>\n",
       "    </tr>\n",
       "  </tbody>\n",
       "</table>\n",
       "</div>"
      ],
      "text/plain": [
       "    신장    체중 환자ID  신장_소수\n",
       "0  163  60.3  1PT  163.0\n",
       "1  171  71.7  2PT  171.0"
      ]
     },
     "execution_count": 8,
     "metadata": {},
     "output_type": "execute_result"
    }
   ],
   "source": [
    "df_ROS_WH['신장_소수']=df_ROS_WH['신장'].apply(convert)\n",
    "df_ROS_WH[:2]"
   ]
  },
  {
   "cell_type": "code",
   "execution_count": 9,
   "id": "f027a176-d886-4ec1-bb36-b01fbf2d17bb",
   "metadata": {
    "tags": []
   },
   "outputs": [],
   "source": [
    "def cm_convert(height):\n",
    "    height = height / 100\n",
    "    return height"
   ]
  },
  {
   "cell_type": "code",
   "execution_count": 10,
   "id": "572ca569-9fc4-4a99-9e22-5dce38f0b21a",
   "metadata": {
    "tags": []
   },
   "outputs": [
    {
     "name": "stderr",
     "output_type": "stream",
     "text": [
      "C:\\Users\\01-15\\AppData\\Local\\Temp\\ipykernel_1204\\160763788.py:1: SettingWithCopyWarning: \n",
      "A value is trying to be set on a copy of a slice from a DataFrame.\n",
      "Try using .loc[row_indexer,col_indexer] = value instead\n",
      "\n",
      "See the caveats in the documentation: https://pandas.pydata.org/pandas-docs/stable/user_guide/indexing.html#returning-a-view-versus-a-copy\n",
      "  df_ROS_WH['신장(m)']= df_ROS_WH['신장_소수'].apply(cm_convert)\n"
     ]
    }
   ],
   "source": [
    "df_ROS_WH['신장(m)']= df_ROS_WH['신장_소수'].apply(cm_convert)"
   ]
  },
  {
   "cell_type": "code",
   "execution_count": 11,
   "id": "cd9f1116-b411-475c-bbcf-76c71b2995be",
   "metadata": {
    "tags": []
   },
   "outputs": [
    {
     "name": "stderr",
     "output_type": "stream",
     "text": [
      "C:\\Users\\01-15\\AppData\\Local\\Temp\\ipykernel_1204\\1394123999.py:1: SettingWithCopyWarning: \n",
      "A value is trying to be set on a copy of a slice from a DataFrame.\n",
      "Try using .loc[row_indexer,col_indexer] = value instead\n",
      "\n",
      "See the caveats in the documentation: https://pandas.pydata.org/pandas-docs/stable/user_guide/indexing.html#returning-a-view-versus-a-copy\n",
      "  df_ROS_WH['신장(m)^2'] = df_ROS_WH['신장(m)'] * df_ROS_WH['신장(m)']\n"
     ]
    },
    {
     "data": {
      "text/plain": [
       "0       2.6569\n",
       "1       2.9241\n",
       "2       3.1684\n",
       "3       3.0276\n",
       "4       3.3489\n",
       "         ...  \n",
       "1889    2.4649\n",
       "1890    2.4649\n",
       "1891    2.7889\n",
       "1892    3.1329\n",
       "1893    2.8224\n",
       "Name: 신장(m)^2, Length: 1894, dtype: float64"
      ]
     },
     "execution_count": 11,
     "metadata": {},
     "output_type": "execute_result"
    }
   ],
   "source": [
    "df_ROS_WH['신장(m)^2'] = df_ROS_WH['신장(m)'] * df_ROS_WH['신장(m)']\n",
    "df_ROS_WH['신장(m)^2']"
   ]
  },
  {
   "cell_type": "code",
   "execution_count": 12,
   "id": "c01fc41c-ee1e-4f8b-8b05-0f3a424f36b5",
   "metadata": {
    "tags": []
   },
   "outputs": [
    {
     "name": "stderr",
     "output_type": "stream",
     "text": [
      "C:\\Users\\01-15\\AppData\\Local\\Temp\\ipykernel_1204\\1904393504.py:1: SettingWithCopyWarning: \n",
      "A value is trying to be set on a copy of a slice from a DataFrame.\n",
      "Try using .loc[row_indexer,col_indexer] = value instead\n",
      "\n",
      "See the caveats in the documentation: https://pandas.pydata.org/pandas-docs/stable/user_guide/indexing.html#returning-a-view-versus-a-copy\n",
      "  df_ROS_WH['BMI'] = df_ROS_WH['체중'] / df_ROS_WH['신장(m)^2']\n"
     ]
    }
   ],
   "source": [
    "df_ROS_WH['BMI'] = df_ROS_WH['체중'] / df_ROS_WH['신장(m)^2']"
   ]
  },
  {
   "cell_type": "code",
   "execution_count": 27,
   "id": "98e50b94-1c82-4a36-a153-ee7a55f81eb0",
   "metadata": {
    "tags": []
   },
   "outputs": [],
   "source": [
    "## 조건을 걸고 싶어서 chat에 물어봄. \n",
    "def BMI_calculation(BMI):\n",
    "    if (BMI) < 18.5 :\n",
    "        return '저체중'\n",
    "    elif 18.5 <= (BMI) < 23 :\n",
    "        return '정상체중'\n",
    "    elif 23 <= (BMI) < 25 :\n",
    "        return '과체중'\n",
    "    elif 25 <= (BMI) < 30 :\n",
    "        return '1단계비만'\n",
    "    elif 30 <= (BMI) <35 : \n",
    "        return '2단계비만'\n",
    "    elif 35 <= (BMI) : \n",
    "        return '고도비만'\n",
    "    else :\n",
    "        return '측정이상'"
   ]
  },
  {
   "cell_type": "code",
   "execution_count": 21,
   "id": "e5425799-d05a-436b-b600-d9637680679c",
   "metadata": {
    "tags": []
   },
   "outputs": [
    {
     "name": "stderr",
     "output_type": "stream",
     "text": [
      "C:\\Users\\01-15\\AppData\\Local\\Temp\\ipykernel_1204\\814384599.py:1: SettingWithCopyWarning: \n",
      "A value is trying to be set on a copy of a slice from a DataFrame.\n",
      "Try using .loc[row_indexer,col_indexer] = value instead\n",
      "\n",
      "See the caveats in the documentation: https://pandas.pydata.org/pandas-docs/stable/user_guide/indexing.html#returning-a-view-versus-a-copy\n",
      "  df_ROS_WH['BMI_범위'] = df_ROS_WH['BMI'].apply(BMI_calculation)\n"
     ]
    }
   ],
   "source": [
    "df_ROS_WH['BMI_범위'] = df_ROS_WH['BMI'].apply(BMI_calculation)"
   ]
  },
  {
   "cell_type": "code",
   "execution_count": 22,
   "id": "3f62b7dd-e6aa-4398-bef4-301ddd4ea495",
   "metadata": {
    "tags": []
   },
   "outputs": [
    {
     "data": {
      "text/html": [
       "<div>\n",
       "<style scoped>\n",
       "    .dataframe tbody tr th:only-of-type {\n",
       "        vertical-align: middle;\n",
       "    }\n",
       "\n",
       "    .dataframe tbody tr th {\n",
       "        vertical-align: top;\n",
       "    }\n",
       "\n",
       "    .dataframe thead th {\n",
       "        text-align: right;\n",
       "    }\n",
       "</style>\n",
       "<table border=\"1\" class=\"dataframe\">\n",
       "  <thead>\n",
       "    <tr style=\"text-align: right;\">\n",
       "      <th></th>\n",
       "      <th>신장</th>\n",
       "      <th>체중</th>\n",
       "      <th>환자ID</th>\n",
       "      <th>신장_소수</th>\n",
       "      <th>신장(m)</th>\n",
       "      <th>신장(m)^2</th>\n",
       "      <th>BMI</th>\n",
       "      <th>BMI_범위</th>\n",
       "    </tr>\n",
       "  </thead>\n",
       "  <tbody>\n",
       "    <tr>\n",
       "      <th>0</th>\n",
       "      <td>163</td>\n",
       "      <td>60.3</td>\n",
       "      <td>1PT</td>\n",
       "      <td>163.0</td>\n",
       "      <td>1.63</td>\n",
       "      <td>2.6569</td>\n",
       "      <td>22.695623</td>\n",
       "      <td>정상체중</td>\n",
       "    </tr>\n",
       "    <tr>\n",
       "      <th>1</th>\n",
       "      <td>171</td>\n",
       "      <td>71.7</td>\n",
       "      <td>2PT</td>\n",
       "      <td>171.0</td>\n",
       "      <td>1.71</td>\n",
       "      <td>2.9241</td>\n",
       "      <td>24.520365</td>\n",
       "      <td>과체중</td>\n",
       "    </tr>\n",
       "    <tr>\n",
       "      <th>2</th>\n",
       "      <td>178</td>\n",
       "      <td>77.1</td>\n",
       "      <td>3PT</td>\n",
       "      <td>178.0</td>\n",
       "      <td>1.78</td>\n",
       "      <td>3.1684</td>\n",
       "      <td>24.334049</td>\n",
       "      <td>과체중</td>\n",
       "    </tr>\n",
       "    <tr>\n",
       "      <th>3</th>\n",
       "      <td>174</td>\n",
       "      <td>74.2</td>\n",
       "      <td>4PT</td>\n",
       "      <td>174.0</td>\n",
       "      <td>1.74</td>\n",
       "      <td>3.0276</td>\n",
       "      <td>24.507861</td>\n",
       "      <td>과체중</td>\n",
       "    </tr>\n",
       "    <tr>\n",
       "      <th>4</th>\n",
       "      <td>183</td>\n",
       "      <td>80.7</td>\n",
       "      <td>5PT</td>\n",
       "      <td>183.0</td>\n",
       "      <td>1.83</td>\n",
       "      <td>3.3489</td>\n",
       "      <td>24.097465</td>\n",
       "      <td>과체중</td>\n",
       "    </tr>\n",
       "    <tr>\n",
       "      <th>...</th>\n",
       "      <td>...</td>\n",
       "      <td>...</td>\n",
       "      <td>...</td>\n",
       "      <td>...</td>\n",
       "      <td>...</td>\n",
       "      <td>...</td>\n",
       "      <td>...</td>\n",
       "      <td>...</td>\n",
       "    </tr>\n",
       "    <tr>\n",
       "      <th>1889</th>\n",
       "      <td>157</td>\n",
       "      <td>64.0</td>\n",
       "      <td>1890PT</td>\n",
       "      <td>157.0</td>\n",
       "      <td>1.57</td>\n",
       "      <td>2.4649</td>\n",
       "      <td>25.964542</td>\n",
       "      <td>1단계비만</td>\n",
       "    </tr>\n",
       "    <tr>\n",
       "      <th>1890</th>\n",
       "      <td>157</td>\n",
       "      <td>59.0</td>\n",
       "      <td>1891PT</td>\n",
       "      <td>157.0</td>\n",
       "      <td>1.57</td>\n",
       "      <td>2.4649</td>\n",
       "      <td>23.936062</td>\n",
       "      <td>과체중</td>\n",
       "    </tr>\n",
       "    <tr>\n",
       "      <th>1891</th>\n",
       "      <td>167</td>\n",
       "      <td>70.0</td>\n",
       "      <td>1892PT</td>\n",
       "      <td>167.0</td>\n",
       "      <td>1.67</td>\n",
       "      <td>2.7889</td>\n",
       "      <td>25.099502</td>\n",
       "      <td>1단계비만</td>\n",
       "    </tr>\n",
       "    <tr>\n",
       "      <th>1892</th>\n",
       "      <td>177</td>\n",
       "      <td>77.0</td>\n",
       "      <td>1893PT</td>\n",
       "      <td>177.0</td>\n",
       "      <td>1.77</td>\n",
       "      <td>3.1329</td>\n",
       "      <td>24.577867</td>\n",
       "      <td>과체중</td>\n",
       "    </tr>\n",
       "    <tr>\n",
       "      <th>1893</th>\n",
       "      <td>168</td>\n",
       "      <td>49.0</td>\n",
       "      <td>1894PT</td>\n",
       "      <td>168.0</td>\n",
       "      <td>1.68</td>\n",
       "      <td>2.8224</td>\n",
       "      <td>17.361111</td>\n",
       "      <td>저체중</td>\n",
       "    </tr>\n",
       "  </tbody>\n",
       "</table>\n",
       "<p>1894 rows × 8 columns</p>\n",
       "</div>"
      ],
      "text/plain": [
       "       신장    체중    환자ID  신장_소수  신장(m)  신장(m)^2        BMI BMI_범위\n",
       "0     163  60.3     1PT  163.0   1.63   2.6569  22.695623   정상체중\n",
       "1     171  71.7     2PT  171.0   1.71   2.9241  24.520365    과체중\n",
       "2     178  77.1     3PT  178.0   1.78   3.1684  24.334049    과체중\n",
       "3     174  74.2     4PT  174.0   1.74   3.0276  24.507861    과체중\n",
       "4     183  80.7     5PT  183.0   1.83   3.3489  24.097465    과체중\n",
       "...   ...   ...     ...    ...    ...      ...        ...    ...\n",
       "1889  157  64.0  1890PT  157.0   1.57   2.4649  25.964542  1단계비만\n",
       "1890  157  59.0  1891PT  157.0   1.57   2.4649  23.936062    과체중\n",
       "1891  167  70.0  1892PT  167.0   1.67   2.7889  25.099502  1단계비만\n",
       "1892  177  77.0  1893PT  177.0   1.77   3.1329  24.577867    과체중\n",
       "1893  168  49.0  1894PT  168.0   1.68   2.8224  17.361111    저체중\n",
       "\n",
       "[1894 rows x 8 columns]"
      ]
     },
     "execution_count": 22,
     "metadata": {},
     "output_type": "execute_result"
    }
   ],
   "source": [
    "df_ROS_WH"
   ]
  },
  {
   "cell_type": "code",
   "execution_count": 23,
   "id": "a4c446bb-be67-4e86-be48-323371029e31",
   "metadata": {
    "tags": []
   },
   "outputs": [
    {
     "data": {
      "text/html": [
       "<div>\n",
       "<style scoped>\n",
       "    .dataframe tbody tr th:only-of-type {\n",
       "        vertical-align: middle;\n",
       "    }\n",
       "\n",
       "    .dataframe tbody tr th {\n",
       "        vertical-align: top;\n",
       "    }\n",
       "\n",
       "    .dataframe thead th {\n",
       "        text-align: right;\n",
       "    }\n",
       "</style>\n",
       "<table border=\"1\" class=\"dataframe\">\n",
       "  <thead>\n",
       "    <tr style=\"text-align: right;\">\n",
       "      <th></th>\n",
       "      <th>BMI</th>\n",
       "      <th>신장</th>\n",
       "      <th>신장(m)</th>\n",
       "      <th>신장(m)^2</th>\n",
       "      <th>신장_소수</th>\n",
       "      <th>체중</th>\n",
       "      <th>환자ID</th>\n",
       "    </tr>\n",
       "    <tr>\n",
       "      <th>BMI_범위</th>\n",
       "      <th></th>\n",
       "      <th></th>\n",
       "      <th></th>\n",
       "      <th></th>\n",
       "      <th></th>\n",
       "      <th></th>\n",
       "      <th></th>\n",
       "    </tr>\n",
       "  </thead>\n",
       "  <tbody>\n",
       "    <tr>\n",
       "      <th>1단계비만</th>\n",
       "      <td>403</td>\n",
       "      <td>403</td>\n",
       "      <td>403</td>\n",
       "      <td>403</td>\n",
       "      <td>403</td>\n",
       "      <td>403</td>\n",
       "      <td>403</td>\n",
       "    </tr>\n",
       "    <tr>\n",
       "      <th>2단계비만</th>\n",
       "      <td>58</td>\n",
       "      <td>58</td>\n",
       "      <td>58</td>\n",
       "      <td>58</td>\n",
       "      <td>58</td>\n",
       "      <td>58</td>\n",
       "      <td>58</td>\n",
       "    </tr>\n",
       "    <tr>\n",
       "      <th>고도비만</th>\n",
       "      <td>5</td>\n",
       "      <td>5</td>\n",
       "      <td>5</td>\n",
       "      <td>5</td>\n",
       "      <td>5</td>\n",
       "      <td>5</td>\n",
       "      <td>5</td>\n",
       "    </tr>\n",
       "    <tr>\n",
       "      <th>과체중</th>\n",
       "      <td>821</td>\n",
       "      <td>821</td>\n",
       "      <td>821</td>\n",
       "      <td>821</td>\n",
       "      <td>821</td>\n",
       "      <td>821</td>\n",
       "      <td>821</td>\n",
       "    </tr>\n",
       "    <tr>\n",
       "      <th>저체중</th>\n",
       "      <td>38</td>\n",
       "      <td>38</td>\n",
       "      <td>38</td>\n",
       "      <td>38</td>\n",
       "      <td>38</td>\n",
       "      <td>38</td>\n",
       "      <td>38</td>\n",
       "    </tr>\n",
       "    <tr>\n",
       "      <th>정상체중</th>\n",
       "      <td>569</td>\n",
       "      <td>569</td>\n",
       "      <td>569</td>\n",
       "      <td>569</td>\n",
       "      <td>569</td>\n",
       "      <td>569</td>\n",
       "      <td>569</td>\n",
       "    </tr>\n",
       "  </tbody>\n",
       "</table>\n",
       "</div>"
      ],
      "text/plain": [
       "        BMI   신장  신장(m)  신장(m)^2  신장_소수   체중  환자ID\n",
       "BMI_범위                                            \n",
       "1단계비만   403  403    403      403    403  403   403\n",
       "2단계비만    58   58     58       58     58   58    58\n",
       "고도비만      5    5      5        5      5    5     5\n",
       "과체중     821  821    821      821    821  821   821\n",
       "저체중      38   38     38       38     38   38    38\n",
       "정상체중    569  569    569      569    569  569   569"
      ]
     },
     "execution_count": 23,
     "metadata": {},
     "output_type": "execute_result"
    }
   ],
   "source": [
    "df_BMI_pivot=pd.pivot_table(data=df_ROS_WH, index='BMI_범위', aggfunc=len)\n",
    "df_BMI_pivot"
   ]
  },
  {
   "cell_type": "code",
   "execution_count": 24,
   "id": "d798d682-e7d2-4b02-bf89-b17e9cdc8723",
   "metadata": {
    "tags": []
   },
   "outputs": [],
   "source": [
    "df_BMI_pivot['BMI_범위'] = df_BMI_pivot.index"
   ]
  },
  {
   "cell_type": "code",
   "execution_count": 25,
   "id": "300f851f-7d5c-4c7f-9d93-e535fc9661a7",
   "metadata": {
    "tags": []
   },
   "outputs": [
    {
     "data": {
      "text/html": [
       "<div>\n",
       "<style scoped>\n",
       "    .dataframe tbody tr th:only-of-type {\n",
       "        vertical-align: middle;\n",
       "    }\n",
       "\n",
       "    .dataframe tbody tr th {\n",
       "        vertical-align: top;\n",
       "    }\n",
       "\n",
       "    .dataframe thead th {\n",
       "        text-align: right;\n",
       "    }\n",
       "</style>\n",
       "<table border=\"1\" class=\"dataframe\">\n",
       "  <thead>\n",
       "    <tr style=\"text-align: right;\">\n",
       "      <th></th>\n",
       "      <th>BMI</th>\n",
       "      <th>신장</th>\n",
       "      <th>신장(m)</th>\n",
       "      <th>신장(m)^2</th>\n",
       "      <th>신장_소수</th>\n",
       "      <th>체중</th>\n",
       "      <th>환자ID</th>\n",
       "      <th>BMI_범위</th>\n",
       "    </tr>\n",
       "    <tr>\n",
       "      <th>BMI_범위</th>\n",
       "      <th></th>\n",
       "      <th></th>\n",
       "      <th></th>\n",
       "      <th></th>\n",
       "      <th></th>\n",
       "      <th></th>\n",
       "      <th></th>\n",
       "      <th></th>\n",
       "    </tr>\n",
       "  </thead>\n",
       "  <tbody>\n",
       "    <tr>\n",
       "      <th>1단계비만</th>\n",
       "      <td>403</td>\n",
       "      <td>403</td>\n",
       "      <td>403</td>\n",
       "      <td>403</td>\n",
       "      <td>403</td>\n",
       "      <td>403</td>\n",
       "      <td>403</td>\n",
       "      <td>1단계비만</td>\n",
       "    </tr>\n",
       "    <tr>\n",
       "      <th>2단계비만</th>\n",
       "      <td>58</td>\n",
       "      <td>58</td>\n",
       "      <td>58</td>\n",
       "      <td>58</td>\n",
       "      <td>58</td>\n",
       "      <td>58</td>\n",
       "      <td>58</td>\n",
       "      <td>2단계비만</td>\n",
       "    </tr>\n",
       "  </tbody>\n",
       "</table>\n",
       "</div>"
      ],
      "text/plain": [
       "        BMI   신장  신장(m)  신장(m)^2  신장_소수   체중  환자ID BMI_범위\n",
       "BMI_범위                                                   \n",
       "1단계비만   403  403    403      403    403  403   403  1단계비만\n",
       "2단계비만    58   58     58       58     58   58    58  2단계비만"
      ]
     },
     "execution_count": 25,
     "metadata": {},
     "output_type": "execute_result"
    }
   ],
   "source": [
    "df_BMI_pivot[:2]"
   ]
  },
  {
   "cell_type": "code",
   "execution_count": 26,
   "id": "66fe7a92-5c67-4811-bcfa-3e4619070726",
   "metadata": {
    "tags": []
   },
   "outputs": [
    {
     "data": {
      "image/png": "[encoded data removed]",
      "text/plain": [
       "<Figure size 640x480 with 1 Axes>"
      ]
     },
     "metadata": {},
     "output_type": "display_data"
    }
   ],
   "source": [
    "sns.barplot(data=df_BMI_pivot, x='BMI_범위', y='환자ID')\n",
    "plt.title('BMI별 환자 수 ')\n",
    "plt.show()"
   ]
  },
  {
   "cell_type": "markdown",
   "id": "b56bde23-55e4-4ff5-95d4-0d16c0cd1312",
   "metadata": {},
   "source": [
    "#### 결과\n",
    "    - 디스크 환자의 체중은 1순위가 과제충, 2순위가 정상체중, 3순위가 1단계 비만 으로 보여짐. \n",
    "    - BMI와 디스크 환자의 연관성이 있을 것이라 생각했음. \n",
    "        ⇒ 이 데이터로 알 수 있는것. \n",
    "            1_ 일반적으로 환자들 사이에 과체중이 많음 \n",
    "            2_ 고도비만이 상대적으로 적은 수 임. 아마 디스크의 심한 정도나 재발 여부는 여기가 높지 않을까.. \n",
    "            3_ 과체중, 정상체중, 1단계비만 높은 이유는 직업이나 생활 행동 습관에서 나타나지 않을까 생각됨. \n",
    "                -> 이들의 직업 및 평소 습관이 궁금함. "
   ]
  },
  {
   "cell_type": "code",
   "execution_count": null,
   "id": "f4b93027-b7a5-410e-aa1b-e9a426e31fd6",
   "metadata": {},
   "outputs": [],
   "source": []
  }
 ],
 "metadata": {
  "kernelspec": {
   "display_name": "Python 3 (ipykernel)",
   "language": "python",
   "name": "python3"
  },
  "language_info": {
   "codemirror_mode": {
    "name": "ipython",
    "version": 3
   },
   "file_extension": ".py",
   "mimetype": "text/x-python",
   "name": "python",
   "nbconvert_exporter": "python",
   "pygments_lexer": "ipython3",
   "version": "3.11.3"
  }
 },
 "nbformat": 4,
 "nbformat_minor": 5
}
