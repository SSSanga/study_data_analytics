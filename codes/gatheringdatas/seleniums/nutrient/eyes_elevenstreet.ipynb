{
 "cells": [
  {
   "cell_type": "code",
   "execution_count": null,
   "id": "d6d59024-50bc-4dbb-9291-a5d509a3038f",
   "metadata": {},
   "outputs": [],
   "source": [
    "from selenium import webdriver\n",
    "import time\n",
    "import pandas as pd\n"
   ]
  },
  {
   "cell_type": "code",
   "execution_count": null,
   "id": "7e4f4b82-c958-4463-9e48-7eeb6ab02e4a",
   "metadata": {},
   "outputs": [],
   "source": [
    "import pymongo as mg\n"
   ]
  },
  {
   "cell_type": "code",
   "execution_count": null,
   "id": "ab38ad57-fab1-434b-a9e0-ea1ce2e4c990",
   "metadata": {},
   "outputs": [],
   "source": [
    "from selenium.webdriver.support.ui import WebDriverWait\n",
    "\n",
    "from selenium.webdriver.chrome.options import Options\n",
    "import subprocess\n",
    "import shutil\n"
   ]
  },
  {
   "cell_type": "code",
   "execution_count": null,
   "id": "584922f0-25ac-4cbe-86b1-64aea8d630be",
   "metadata": {},
   "outputs": [],
   "source": [
    "# 자신 맞는 chrome.exe 위치 변경 필요\n",
    "subprocess.Popen(r'C:\\Program Files\\Google\\Chrome\\Application\\chrome.exe --remote-debugging-port=9222 --user-data-dir=\"C:\\chrometemp\"')\n",
    "\n",
    "options = webdriver.ChromeOptions()\n",
    "options.add_experimental_option(\"debuggerAddress\", \"127.0.0.1:9222\")\n",
    "  # Experimental option as an argument"
   ]
  },
  {
   "cell_type": "code",
   "execution_count": null,
   "id": "c0b9a37a-43d0-4236-b0cd-62e6f1590afe",
   "metadata": {},
   "outputs": [],
   "source": [
    "#open chrome browser\n",
    "browser = webdriver.Chrome(executable_path='C:/Users/01-15/Develops/chromedriver.exe', options=options) #webdriver_selenium과 web을 연결해주기위함.\n",
    "browser.set_window_size(1560,2000)"
   ]
  },
  {
   "cell_type": "code",
   "execution_count": null,
   "id": "875000ef-59e5-4f74-b737-776d2caa5d38",
   "metadata": {},
   "outputs": [],
   "source": [
    "# url in address window\n",
    "browser.get('https://search.11st.co.kr/pc/total-search?kwd=%25EB%2588%2588%25EA%25B0%259C%25EC%2584%25A0%2520%25EC%2598%2581%25EC%2596%2591%25EC%25A0%259C&tabId=TOTAL_SEARCH')\n",
    "browser.implicitly_wait(10)"
   ]
  },
  {
   "cell_type": "code",
   "execution_count": null,
   "id": "c798c10a-32fc-4fb4-9ac8-db9a18cbbd7a",
   "metadata": {},
   "outputs": [],
   "source": [
    "## 리뷰 많은 순 클릭\n",
    "click_path='#layBodyWrap > div > div > div.l_search_content > div.search_content > div.c_search_sorting > div > div > div > div'\n",
    "browser.find_element_by_css_selector(click_path).click()\n",
    "select_category='div.c_search_sorting > div > div > div > ul > li:nth-child(5)'\n",
    "browser.find_element_by_css_selector(select_category).click()"
   ]
  },
  {
   "cell_type": "code",
   "execution_count": null,
   "id": "46dd603e-2bf1-4677-949d-19566a2e65ee",
   "metadata": {},
   "outputs": [],
   "source": [
    "## pagination 하기\n",
    "# 검색 결과 # div.search_content > div > p > span\n",
    "product_total = browser.find_element_by_css_selector('div.search_content > div > p > span')\n",
    "product_total_str = product_total.text\n",
    "# 쉼표를 제거합니다.\n",
    "product_total_del = product_total_str.replace(',', '')\n",
    "product_total_count = int(product_total_del)"
   ]
  },
  {
   "cell_type": "code",
   "execution_count": null,
   "id": "1a1ca619-af39-4cff-ba5f-9e3cea74e107",
   "metadata": {},
   "outputs": [],
   "source": [
    "print(product_total_count) ## 검색 결과_숫자\n",
    "\n",
    "product_standard_count_per = 60 ## 상품목록수"
   ]
  },
  {
   "cell_type": "code",
   "execution_count": null,
   "id": "940603d2-6bac-4667-a1a1-bfc764ac52a0",
   "metadata": {},
   "outputs": [],
   "source": [
    "loop_count_int = int(product_total_count / product_standard_count_per) \n",
    "print(loop_count_int) ## 상품 총 페이지수 "
   ]
  },
  {
   "cell_type": "code",
   "execution_count": null,
   "id": "e32e933d-0da6-4bfd-a15a-706b3b0b2a1f",
   "metadata": {},
   "outputs": [],
   "source": [
    "# 현재 페이지 번호를 초기화합니다.\n",
    "current_page = 1\n",
    "\n",
    "# pagination 버튼을 끝까지 순환하면서 페이지 이동합니다.\n",
    "while current_page <= loop_count_int:\n",
    "    for i in range(1, 5):  # 1부터 60까지 순회합니다.\n",
    "        try:\n",
    "            product_page = f'#section_commonPrd > div.c-search-list > ul > li:nth-child({i}) > div > a'\n",
    "            product = browser.find_element_by_css_selector(product_page)\n",
    "            product.click()\n",
    "            # 새로 열린 창으로 브라우저 컨텍스트를 전환합니다.\n",
    "            browser.switch_to.window(browser.window_handles[-1]) \n",
    "            browser.implicitly_wait(2)\n",
    "            ## -> browser.window_handles[-]하면 옆으로 쭉쭉 생기는건가봄. \n",
    "            # 현재 페이지를 닫습니다.\n",
    "            browser.close()\n",
    "            # 다음 상품을 클릭하기 전에 원래의 창으로 다시 전환합니다.\n",
    "            browser.switch_to.window(browser.window_handles[0])\n",
    "                        \n",
    "        except:\n",
    "            print(f'에러: {i}')\n",
    "            pass\n",
    "        # Pagination 버튼을 클릭합니다.\n",
    "    current_page += 1\n",
    "    page_button_css = f'#section_commonPrd > nav > ul > li:nth-child({current_page % 10 + 2}) > button'\n",
    "    page_button = browser.find_element_by_css_selector(page_button_css)\n",
    "    page_button.click()\n",
    "    \n",
    "    # 10번째 페이지일 경우 next 버튼 클릭\n",
    "    if current_page % 10 == 0:\n",
    "        next_button = browser.find_element_by_css_selector('#section_commonPrd > nav > ul > li.next > button')\n",
    "        next_button.click()"
   ]
  },
  {
   "cell_type": "code",
   "execution_count": null,
   "id": "e6b46c47-1646-4da1-8c49-7d3613e44f50",
   "metadata": {},
   "outputs": [],
   "source": [
    "product_name= browser.find_element_by_css_selector('div.c_product_info_title > h1').text\n",
    "product_name\n",
    "# 리뷰보기 클릭 불필요\n",
    "browser.switch_to.frame('ifrmReview')\n",
    "while True:\n",
    "    try:\n",
    "        # 리뷰 더보기 버튼을 찾습니다.\n",
    "        button = '#review-list-page-area > div > button'\n",
    "        button_click=browser.find_element_by_css_selector(button)\n",
    "        \n",
    "        # 리뷰 더보기 버튼을 클릭합니다.\n",
    "        button_click.click()\n",
    "        \n",
    "        # 클릭 후 잠시 대기합니다 (사이트 로딩에 따라 조절)\n",
    "        time.sleep(2)\n",
    "    except:\n",
    "        # 리뷰 더보기 버튼을 더 이상 찾을 수 없으면 반복 종료합니다.\n",
    "        print('리뷰 더보기 버튼을 더 이상 찾을 수 없음')\n",
    "        break"
   ]
  },
  {
   "cell_type": "code",
   "execution_count": null,
   "id": "5a51dc87-f075-4e1a-b869-db547130c74b",
   "metadata": {},
   "outputs": [],
   "source": [
    "##리뷰 번들\n",
    "reviews_bundle = browser.find_elements_by_css_selector('.review_list_element')\n",
    "len(reviews_bundle)"
   ]
  },
  {
   "cell_type": "code",
   "execution_count": null,
   "id": "d0a39b0a-7836-4309-90ef-2fd18ed35f5b",
   "metadata": {},
   "outputs": [],
   "source": [
    "## 일단 총 리뷰수를 int로 바꾼다. \n",
    "review_total_count_text = browser.find_element_by_css_selector('h4 > span > i').text\n",
    "    \n",
    "## 혜인설명: 총 댓글 수를 정규화로 뽑아냄 .\n",
    "import re # reqexpress function\n",
    "result_list = re.findall(r'\\d+', review_total_count_text)\n",
    "# print(result_list[0], int(result_list[0]))\n",
    "        \n",
    "review_total_count = int(result_list[0])  # 리뷰 총 갯수\n",
    "review_total_count\n",
    "\n",
    "\n",
    "# In[21]:\n",
    "\n",
    "\n",
    "review_standard_count_per = 10\n",
    "\n",
    "loop_count_int = int(review_total_count / review_standard_count_per)\n",
    "for count in range(1, loop_count_int+1) :\n",
    "    try :\n",
    "        reviews_bundle = browser.find_elements_by_css_selector('.review_list_element')\n",
    "        # print('current reviews_bundle count : {}'.format(len(reviews_bundle)))\n",
    "        reviews_bundle[len(reviews_bundle)-1].click()\n",
    "        time.sleep(3)\n",
    "    except :\n",
    "        # print('pass')\n",
    "        pass\n",
    "print('Done', len(reviews_bundle))\n",
    "print(int(loop_count_int))\n"
   ]
  },
  {
   "cell_type": "code",
   "execution_count": null,
   "id": "ea6209f2-1b23-4d57-9107-0b3aa29a2b7b",
   "metadata": {},
   "outputs": [],
   "source": [
    "len(reviews_bundle)\n",
    "reviews_list = list()\n",
    "\n",
    "# 페이지 넘기기를 위한 루프 설정\n",
    "for page in range(1, loop_count_int + 2):  # 1부터 loop_count_int + 1까지 반복\n",
    "    # ul:nth-child(n) 설정\n",
    "    ul_selector = f'ul:nth-child({page})'\n",
    "\n",
    "    # 한 페이지당 가져올 리뷰 수 설정\n",
    "    review_standard_count_per = 10\n",
    "\n",
    "    for review_num in range(1, review_standard_count_per + 1):\n",
    "        try:\n",
    "            # 리뷰 내용을 가져오는 코드\n",
    "            review_content = browser.find_element_by_css_selector(\n",
    "                f'{ul_selector} > li:nth-child({review_num}) > div > div').text\n",
    "\n",
    "            # \"더보기\" 버튼이 있는지 확인\n",
    "            try:\n",
    "                more_button = browser.find_element_by_css_selector(\n",
    "                    f'{ul_selector} > li:nth-child({review_num}) > div > div > div > button')\n",
    "                more_button.click()  # \"더보기\" 버튼 클릭\n",
    "                review_content += more_button.find_element_by_xpath(\"./following-sibling::span\").text\n",
    "                print('펼쳐짐')\n",
    "            except :\n",
    "                pass\n",
    "\n",
    "            review_date = browser.find_element_by_css_selector(\n",
    "                f'{ul_selector} > li:nth-child({review_num}) > div.c_product_review_cont > p.side > span').text\n",
    "            review_star = browser.find_element_by_css_selector(\n",
    "                f'{ul_selector} > li:nth-child({review_num}) > div > p.grade > span > em').text\n",
    "            review_writer = browser.find_element_by_css_selector(\n",
    "                f'{ul_selector} > li:nth-child({review_num}) > dl > dt').text\n",
    "\n",
    "            # 리뷰 정보를 리스트로 저장하고 리스트에 추가\n",
    "            review_data = [product_name, review_content, review_date, review_star, review_writer]\n",
    "            reviews_list.append(review_data)\n",
    "\n",
    "        except Exception as e:\n",
    "            print(f\"Error collecting review {review_num} on page {page}: {str(e)}\")\n",
    "\n",
    "        # Check if the length of reviews_list matches reviews_bundle\n",
    "        if len(reviews_list) == len(reviews_bundle):\n",
    "            break  # Break out of the loop if the lengths match\n",
    "\n",
    "    # Check again after the inner loop to break from the outer loop\n",
    "    if len(reviews_list) == len(reviews_bundle):\n",
    "        break"
   ]
  },
  {
   "cell_type": "code",
   "execution_count": null,
   "id": "489bf234-77e7-4a58-8d28-90533a505e06",
   "metadata": {},
   "outputs": [],
   "source": [
    "len(reviews_list)"
   ]
  }
 ],
 "metadata": {
  "kernelspec": {
   "display_name": "Python 3 (ipykernel)",
   "language": "python",
   "name": "python3"
  },
  "language_info": {
   "codemirror_mode": {
    "name": "ipython",
    "version": 3
   },
   "file_extension": ".py",
   "mimetype": "text/x-python",
   "name": "python",
   "nbconvert_exporter": "python",
   "pygments_lexer": "ipython3",
   "version": "3.11.3"
  }
 },
 "nbformat": 4,
 "nbformat_minor": 5
}
