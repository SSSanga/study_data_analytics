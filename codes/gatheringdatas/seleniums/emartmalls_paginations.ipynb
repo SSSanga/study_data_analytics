{
 "cells": [
  {
   "cell_type": "code",
   "execution_count": 1,
   "id": "6da0c894-3c5e-46e1-a6cf-740ca4399b32",
   "metadata": {
    "tags": []
   },
   "outputs": [],
   "source": [
    "from selenium import webdriver"
   ]
  },
  {
   "cell_type": "code",
   "execution_count": 2,
   "id": "a006f4e0-49fc-4653-8bf8-13bf50c900d3",
   "metadata": {
    "tags": []
   },
   "outputs": [],
   "source": [
    "#open chrome browser\n",
    "browser = webdriver.Chrome(executable_path='../../../../chromedriver.exe') #webdriver_selenium과 web을 연결해주기위함. "
   ]
  },
  {
   "cell_type": "code",
   "execution_count": 3,
   "id": "c1863389-a4c3-41ec-866c-6be7a3de3377",
   "metadata": {
    "tags": []
   },
   "outputs": [],
   "source": [
    "# url in address window\n",
    "browser.get('https://emart.ssg.com/disp/category.ssg?dispCtgId=6000214033')"
   ]
  },
  {
   "cell_type": "markdown",
   "id": "95c34b96-bb19-4cdd-ac70-c34c4d3dc63b",
   "metadata": {},
   "source": [
    "### 여러개 가져오기\n",
    "- class 이름으로 가져온다. "
   ]
  },
  {
   "cell_type": "code",
   "execution_count": 4,
   "id": "94d63d3b-00b5-47c7-85c6-e847aeddb63d",
   "metadata": {
    "tags": []
   },
   "outputs": [
    {
     "data": {
      "text/plain": [
       "(list, selenium.webdriver.remote.webelement.WebElement)"
      ]
     },
     "execution_count": 4,
     "metadata": {},
     "output_type": "execute_result"
    }
   ],
   "source": [
    "elements_path = '.mnemitem_goods_tit'\n",
    "elements = browser.find_elements_by_css_selector(elements_path)\n",
    "type(elements), type(elements[0]) ## 이걸 for문으로 돌려서 text로 잡으면 됨......."
   ]
  },
  {
   "cell_type": "markdown",
   "id": "7a5b3e10-5b45-40a1-a0d0-f5c563a14f3e",
   "metadata": {},
   "source": [
    "#### for문 안에도 try-except 를 넣어서 방지해준다. "
   ]
  },
  {
   "cell_type": "code",
   "execution_count": 5,
   "id": "1ed84e97-d4a0-4eb4-bb01-d70b29b46ec4",
   "metadata": {
    "tags": []
   },
   "outputs": [
    {
     "name": "stdout",
     "output_type": "stream",
     "text": [
      "몰리스 쉬야응가 1회용 패드 L 50매\n",
      "몰리스 쉬야응가 1회용 패드 L 50매\n",
      "몰리스 쉬야응가 1회용 패드 M 100매\n",
      "몰리스 쉬야응가 1회용 패드 M 100매\n",
      "\n",
      "\n",
      "\n",
      "\n",
      "\n",
      "\n",
      "\n",
      "\n",
      "\n",
      "\n",
      "\n",
      "\n",
      "\n",
      "\n",
      "\n",
      "\n",
      "반려견패드(중)40*50cm*100매\n",
      "반려견패드(대)60*70cm*45매\n",
      "순살듬뿍 치킨말이스틱 30P (300g)\n",
      "순살듬뿍 오리말이스틱 30P (300g)\n",
      "건강한간식 순살듬뿍 고구마 오리말이 300g\n",
      "건강한간식 순살듬뿍 고구마 치킨말이 300g\n",
      "몰리스픽 반려견 패드 L 45매\n",
      "건강한간식 순살듬뿍 안심오리 300g\n",
      "반려견 사료 10kg\n",
      "몰리스 화이트 스틱껌 소프트치킨 400g\n",
      "템테이션 맛있는 닭고기맛 75g\n",
      "몰리스픽 반려견 패드 M 100매\n",
      "국민가격 DTC 치킨고구마 져키 1kg\n",
      "몰리스 미끄러지지 않는 패드 M 80매\n",
      "몰리스 쉬야응가 1회용 패드 M 100매\n",
      "템테이션 고소한 참치맛 75g\n",
      "건강한간식 순살듬뿍 안심치킨 300g\n",
      "치킨 슬라이스 1kg\n",
      "몰리스 미니 닭가슴살과 연어\n",
      "포켄스 덴탈스틱 후레시 칼슘 S 작은별 220g\n",
      "템테이션 믹스업 참치 연어 새우맛 75g\n",
      "츄잉스틱 플레인요거트 250g\n",
      "자연소재 양고기육포&쌀 460g\n",
      "밥이보약 Dog 튼튼한 관절 8kg (네오2 유통기한 23.10.17)\n",
      "템테이션 풍부한 해산물 맛75g\n",
      "몰리스 3~4회용 패드 L 35매\n",
      "포켄스 덴탈스틱 후레시 블루베리 S 작은별 220g\n",
      "[몰리스]프로발란스 어덜트 8kg\n",
      "(이마트가 직접 수입한) 딱 한번 반려견 패드 M 200매\n",
      "자연소재 소고기육포스틱 180g\n",
      "국민 두부 고양이 모래(오리지널)\n",
      "포켄스 덴티페어리 M 75g\n",
      "포켄스 덴티페어리 SS 150g\n",
      "맥시 비프져키 800g\n",
      "몰리스미니참치와도미\n",
      "[포켄스] 덴티 페어리(소)\n",
      "원더푸드 반려견 고구마말랭이 간식 1kg\n",
      "챠오 츄루 참치 4개입\n",
      "챠오 츄르 참치/해물믹스맛 20개입\n",
      "순살간식 오리고기 순살 300g\n",
      "해피밀 황태와 소고기 1.2kg\n",
      "몰리스 미끄러지지 않는 패드 L 35매\n",
      "포켄스 덴탈스틱 후레시 오메가3 S 작은별 220g\n",
      "몰리스픽 전연령 반려묘사료 15KG\n",
      "몰리스 닭가슴살과흰살생선\n",
      "슈퍼츄 터키츄 본S 10개입\n",
      "Think your Dog Teeth 소고기우유껌 15P\n",
      "[시저] 연어와 감자 (100g*3개)\n",
      "몰리스 3~4회용 패드 M 80매\n",
      "반려묘사료 10kg\n",
      "몰리스 크런치홀릭 닭고기 60g\n",
      "템테이션 연어맛 75g\n",
      "[쉬바] 참치 흰 살과 도미와 그레이비 소스 85g\n",
      "칠면조힘줄 스트립 85g\n",
      "챠오 츄르 닭가슴살 4개입\n",
      "몰리스픽 전연령 반려묘사료 5KG\n",
      "Natural 밀크스틱27P(80g)\n",
      "몰리스미니참치와게맛살\n",
      "[시저 Cesar] 비프 사료 100g*3\n",
      "후코홀릭 명태베리\n",
      "[쉬바] 촉촉한 닭가슴살과 그레이비 소스 85g\n",
      "위스카스 캣 주니어 포켓 오션피쉬 1.1kg (2~12개월)\n",
      "해피밀 황태와 오리 1.2kg\n",
      "몰리스 크런치홀릭 연어 60g\n",
      "국민 두부 고양이 모래(녹차)\n",
      "헌터본 연어 16P 240g\n",
      "챠오 츄르 가다랑어 4개입\n",
      "해피밀 황태와 연어 1.2kg\n",
      "몰리스 쉬야응가 1회용 패드 XL 40매\n",
      "템테이션 부드러운 우유맛 75g\n",
      "[시저] 흰살생선과 야채 (100g*3개)\n",
      "슈퍼츄 터키츄 링S 1개입\n",
      "내츄럴랩 건강한치즈 애견간식 요거트 스틱 100g\n",
      "보양대첩 쿨링 30g캔 *8입\n",
      "자연소재 오리고기 육포스틱 460g\n",
      "츄르비 닭가슴살&구운가다랑어 4개입\n",
      "몰리스 냄새잡는 패드 M 80매\n",
      "츄잉스틱 딸기요거트 250g\n",
      "가 직접 수입한 치킨 화이트본 S 13개입\n",
      "몰리스 치즈 화이트스틱껌 치킨 270g\n"
     ]
    }
   ],
   "source": [
    "for webelement in elements : \n",
    "    try : \n",
    "    # webelement와 동일한 형식은 element.text\n",
    "        print(webelement.text)\n",
    "    except : \n",
    "        pass"
   ]
  },
  {
   "cell_type": "markdown",
   "id": "bacbac83-ee76-4fcf-94b0-6344dd0c5f84",
   "metadata": {},
   "source": [
    "### pagination\n",
    "- #area_itemlist > div.paginate > div > a:nth-child(2)\n",
    "- page 1 tag :#area_itemlist > div.paginate > div > strong : 1\n",
    "- page 4 tag :#area_itemlist > div.paginate > div > a:nth-child(4)\n",
    "- page 10 tag :#area_itemlist > div.paginate > div > a:nth-child(10)\n",
    "    - a:nth-child(10) 이렇게 하면 오류남. \n",
    "    - a:nth-of-type({}) 이렇게 하면 화면이 작동은 함. \n",
    "        - 방어코드\n",
    "        - → import time , time.sleep(2~5sec 사이로 적어준다) "
   ]
  },
  {
   "cell_type": "code",
   "execution_count": 14,
   "id": "563078de-e756-4360-a926-fd1d1158b170",
   "metadata": {
    "tags": []
   },
   "outputs": [
    {
     "ename": "NoSuchElementException",
     "evalue": "Message: no such element: Unable to locate element: {\"method\":\"css selector\",\"selector\":\"#area_itemlist > div.paginate > div > a:nth-child(5)\"}\n  (Session info: chrome=116.0.5845.180)\n",
     "output_type": "error",
     "traceback": [
      "\u001b[1;31m---------------------------------------------------------------------------\u001b[0m",
      "\u001b[1;31mNoSuchElementException\u001b[0m                    Traceback (most recent call last)",
      "Cell \u001b[1;32mIn[14], line 2\u001b[0m\n\u001b[0;32m      1\u001b[0m element_path \u001b[38;5;241m=\u001b[39m \u001b[38;5;124m'\u001b[39m\u001b[38;5;124m#area_itemlist > div.paginate > div > a:nth-child(5)\u001b[39m\u001b[38;5;124m'\u001b[39m\n\u001b[1;32m----> 2\u001b[0m pagination \u001b[38;5;241m=\u001b[39m browser\u001b[38;5;241m.\u001b[39mfind_element_by_css_selector(element_path)\n\u001b[0;32m      3\u001b[0m pagination\u001b[38;5;241m.\u001b[39mclick()\n",
      "File \u001b[1;32m~\\anaconda3\\Lib\\site-packages\\selenium\\webdriver\\remote\\webdriver.py:598\u001b[0m, in \u001b[0;36mWebDriver.find_element_by_css_selector\u001b[1;34m(self, css_selector)\u001b[0m\n\u001b[0;32m    582\u001b[0m \u001b[38;5;28;01mdef\u001b[39;00m \u001b[38;5;21mfind_element_by_css_selector\u001b[39m(\u001b[38;5;28mself\u001b[39m, css_selector):\n\u001b[0;32m    583\u001b[0m \u001b[38;5;250m    \u001b[39m\u001b[38;5;124;03m\"\"\"\u001b[39;00m\n\u001b[0;32m    584\u001b[0m \u001b[38;5;124;03m    Finds an element by css selector.\u001b[39;00m\n\u001b[0;32m    585\u001b[0m \n\u001b[1;32m   (...)\u001b[0m\n\u001b[0;32m    596\u001b[0m \u001b[38;5;124;03m        element = driver.find_element_by_css_selector('#foo')\u001b[39;00m\n\u001b[0;32m    597\u001b[0m \u001b[38;5;124;03m    \"\"\"\u001b[39;00m\n\u001b[1;32m--> 598\u001b[0m     \u001b[38;5;28;01mreturn\u001b[39;00m \u001b[38;5;28mself\u001b[39m\u001b[38;5;241m.\u001b[39mfind_element(by\u001b[38;5;241m=\u001b[39mBy\u001b[38;5;241m.\u001b[39mCSS_SELECTOR, value\u001b[38;5;241m=\u001b[39mcss_selector)\n",
      "File \u001b[1;32m~\\anaconda3\\Lib\\site-packages\\selenium\\webdriver\\remote\\webdriver.py:976\u001b[0m, in \u001b[0;36mWebDriver.find_element\u001b[1;34m(self, by, value)\u001b[0m\n\u001b[0;32m    974\u001b[0m         by \u001b[38;5;241m=\u001b[39m By\u001b[38;5;241m.\u001b[39mCSS_SELECTOR\n\u001b[0;32m    975\u001b[0m         value \u001b[38;5;241m=\u001b[39m \u001b[38;5;124m'\u001b[39m\u001b[38;5;124m[name=\u001b[39m\u001b[38;5;124m\"\u001b[39m\u001b[38;5;132;01m%s\u001b[39;00m\u001b[38;5;124m\"\u001b[39m\u001b[38;5;124m]\u001b[39m\u001b[38;5;124m'\u001b[39m \u001b[38;5;241m%\u001b[39m value\n\u001b[1;32m--> 976\u001b[0m \u001b[38;5;28;01mreturn\u001b[39;00m \u001b[38;5;28mself\u001b[39m\u001b[38;5;241m.\u001b[39mexecute(Command\u001b[38;5;241m.\u001b[39mFIND_ELEMENT, {\n\u001b[0;32m    977\u001b[0m     \u001b[38;5;124m'\u001b[39m\u001b[38;5;124musing\u001b[39m\u001b[38;5;124m'\u001b[39m: by,\n\u001b[0;32m    978\u001b[0m     \u001b[38;5;124m'\u001b[39m\u001b[38;5;124mvalue\u001b[39m\u001b[38;5;124m'\u001b[39m: value})[\u001b[38;5;124m'\u001b[39m\u001b[38;5;124mvalue\u001b[39m\u001b[38;5;124m'\u001b[39m]\n",
      "File \u001b[1;32m~\\anaconda3\\Lib\\site-packages\\selenium\\webdriver\\remote\\webdriver.py:321\u001b[0m, in \u001b[0;36mWebDriver.execute\u001b[1;34m(self, driver_command, params)\u001b[0m\n\u001b[0;32m    319\u001b[0m response \u001b[38;5;241m=\u001b[39m \u001b[38;5;28mself\u001b[39m\u001b[38;5;241m.\u001b[39mcommand_executor\u001b[38;5;241m.\u001b[39mexecute(driver_command, params)\n\u001b[0;32m    320\u001b[0m \u001b[38;5;28;01mif\u001b[39;00m response:\n\u001b[1;32m--> 321\u001b[0m     \u001b[38;5;28mself\u001b[39m\u001b[38;5;241m.\u001b[39merror_handler\u001b[38;5;241m.\u001b[39mcheck_response(response)\n\u001b[0;32m    322\u001b[0m     response[\u001b[38;5;124m'\u001b[39m\u001b[38;5;124mvalue\u001b[39m\u001b[38;5;124m'\u001b[39m] \u001b[38;5;241m=\u001b[39m \u001b[38;5;28mself\u001b[39m\u001b[38;5;241m.\u001b[39m_unwrap_value(\n\u001b[0;32m    323\u001b[0m         response\u001b[38;5;241m.\u001b[39mget(\u001b[38;5;124m'\u001b[39m\u001b[38;5;124mvalue\u001b[39m\u001b[38;5;124m'\u001b[39m, \u001b[38;5;28;01mNone\u001b[39;00m))\n\u001b[0;32m    324\u001b[0m     \u001b[38;5;28;01mreturn\u001b[39;00m response\n",
      "File \u001b[1;32m~\\anaconda3\\Lib\\site-packages\\selenium\\webdriver\\remote\\errorhandler.py:242\u001b[0m, in \u001b[0;36mErrorHandler.check_response\u001b[1;34m(self, response)\u001b[0m\n\u001b[0;32m    240\u001b[0m         alert_text \u001b[38;5;241m=\u001b[39m value[\u001b[38;5;124m'\u001b[39m\u001b[38;5;124malert\u001b[39m\u001b[38;5;124m'\u001b[39m]\u001b[38;5;241m.\u001b[39mget(\u001b[38;5;124m'\u001b[39m\u001b[38;5;124mtext\u001b[39m\u001b[38;5;124m'\u001b[39m)\n\u001b[0;32m    241\u001b[0m     \u001b[38;5;28;01mraise\u001b[39;00m exception_class(message, screen, stacktrace, alert_text)\n\u001b[1;32m--> 242\u001b[0m \u001b[38;5;28;01mraise\u001b[39;00m exception_class(message, screen, stacktrace)\n",
      "\u001b[1;31mNoSuchElementException\u001b[0m: Message: no such element: Unable to locate element: {\"method\":\"css selector\",\"selector\":\"#area_itemlist > div.paginate > div > a:nth-child(5)\"}\n  (Session info: chrome=116.0.5845.180)\n"
     ]
    }
   ],
   "source": [
    "element_path = '#area_itemlist > div.paginate > div > a:nth-child(5)'\n",
    "pagination = browser.find_element_by_css_selector(element_path)\n",
    "pagination.click()"
   ]
  },
  {
   "cell_type": "code",
   "execution_count": 7,
   "id": "295ef522-bd4a-4c5a-82fc-e9552c8ba587",
   "metadata": {
    "tags": []
   },
   "outputs": [],
   "source": [
    "browser.implicitly_wait(60) ##loading 시간\n"
   ]
  },
  {
   "cell_type": "code",
   "execution_count": null,
   "id": "71f8f28b-9125-4820-9c64-52932b8a7d95",
   "metadata": {},
   "outputs": [],
   "source": [
    "elements_title_path = '.mnemitem_goods_tit'\n",
    "webelements = browser.find_elements_by_css_selector(elements_title_path)\n",
    "for webelement in webelements : \n",
    "    try : \n",
    "    # webelement와 동일한 형식은 element.text\n",
    "        print(webelement.text)\n",
    "    except : \n",
    "        pass"
   ]
  },
  {
   "cell_type": "code",
   "execution_count": 13,
   "id": "cb635295-e0e6-4432-8ff3-152e10d55895",
   "metadata": {
    "tags": []
   },
   "outputs": [
    {
     "name": "stdout",
     "output_type": "stream",
     "text": [
      "성공:#area_itemlist > div.paginate > div > a:nth-of-type(1)\n",
      "\n",
      "\n",
      "\n",
      "\n",
      "\n",
      "\n",
      "\n",
      "\n",
      "\n",
      "\n",
      "\n",
      "\n",
      "\n",
      "\n",
      "\n",
      "\n",
      "\n",
      "\n",
      "\n",
      "\n",
      "반려견패드(중)40*50cm*100매\n",
      "반려견패드(대)60*70cm*45매\n",
      "순살듬뿍 치킨말이스틱 30P (300g)\n",
      "순살듬뿍 오리말이스틱 30P (300g)\n",
      "건강한간식 순살듬뿍 고구마 오리말이 300g\n",
      "건강한간식 순살듬뿍 고구마 치킨말이 300g\n",
      "몰리스픽 반려견 패드 L 45매\n",
      "건강한간식 순살듬뿍 안심오리 300g\n",
      "반려견 사료 10kg\n",
      "몰리스 화이트 스틱껌 소프트치킨 400g\n",
      "템테이션 맛있는 닭고기맛 75g\n",
      "몰리스픽 반려견 패드 M 100매\n",
      "국민가격 DTC 치킨고구마 져키 1kg\n",
      "몰리스 미끄러지지 않는 패드 M 80매\n",
      "몰리스 쉬야응가 1회용 패드 M 100매\n",
      "템테이션 고소한 참치맛 75g\n",
      "건강한간식 순살듬뿍 안심치킨 300g\n",
      "치킨 슬라이스 1kg\n",
      "몰리스 미니 닭가슴살과 연어\n",
      "포켄스 덴탈스틱 후레시 칼슘 S 작은별 220g\n",
      "템테이션 믹스업 참치 연어 새우맛 75g\n",
      "츄잉스틱 플레인요거트 250g\n",
      "자연소재 양고기육포&쌀 460g\n",
      "밥이보약 Dog 튼튼한 관절 8kg (네오2 유통기한 23.10.17)\n",
      "템테이션 풍부한 해산물 맛75g\n",
      "몰리스 3~4회용 패드 L 35매\n",
      "포켄스 덴탈스틱 후레시 블루베리 S 작은별 220g\n",
      "[몰리스]프로발란스 어덜트 8kg\n",
      "(이마트가 직접 수입한) 딱 한번 반려견 패드 M 200매\n",
      "자연소재 소고기육포스틱 180g\n",
      "국민 두부 고양이 모래(오리지널)\n",
      "포켄스 덴티페어리 M 75g\n",
      "포켄스 덴티페어리 SS 150g\n",
      "맥시 비프져키 800g\n",
      "몰리스미니참치와도미\n",
      "[포켄스] 덴티 페어리(소)\n",
      "원더푸드 반려견 고구마말랭이 간식 1kg\n",
      "챠오 츄루 참치 4개입\n",
      "챠오 츄르 참치/해물믹스맛 20개입\n",
      "순살간식 오리고기 순살 300g\n",
      "해피밀 황태와 소고기 1.2kg\n",
      "몰리스 미끄러지지 않는 패드 L 35매\n",
      "포켄스 덴탈스틱 후레시 오메가3 S 작은별 220g\n",
      "몰리스픽 전연령 반려묘사료 15KG\n",
      "몰리스 닭가슴살과흰살생선\n",
      "슈퍼츄 터키츄 본S 10개입\n",
      "Think your Dog Teeth 소고기우유껌 15P\n",
      "[시저] 연어와 감자 (100g*3개)\n",
      "몰리스 3~4회용 패드 M 80매\n",
      "반려묘사료 10kg\n",
      "몰리스 크런치홀릭 닭고기 60g\n",
      "템테이션 연어맛 75g\n",
      "[쉬바] 참치 흰 살과 도미와 그레이비 소스 85g\n",
      "칠면조힘줄 스트립 85g\n",
      "챠오 츄르 닭가슴살 4개입\n",
      "몰리스픽 전연령 반려묘사료 5KG\n",
      "Natural 밀크스틱27P(80g)\n",
      "몰리스미니참치와게맛살\n",
      "[시저 Cesar] 비프 사료 100g*3\n",
      "후코홀릭 명태베리\n",
      "[쉬바] 촉촉한 닭가슴살과 그레이비 소스 85g\n",
      "위스카스 캣 주니어 포켓 오션피쉬 1.1kg (2~12개월)\n",
      "해피밀 황태와 오리 1.2kg\n",
      "몰리스 크런치홀릭 연어 60g\n",
      "국민 두부 고양이 모래(녹차)\n",
      "헌터본 연어 16P 240g\n",
      "챠오 츄르 가다랑어 4개입\n",
      "해피밀 황태와 연어 1.2kg\n",
      "몰리스 쉬야응가 1회용 패드 XL 40매\n",
      "템테이션 부드러운 우유맛 75g\n",
      "[시저] 흰살생선과 야채 (100g*3개)\n",
      "슈퍼츄 터키츄 링S 1개입\n",
      "내츄럴랩 건강한치즈 애견간식 요거트 스틱 100g\n",
      "보양대첩 쿨링 30g캔 *8입\n",
      "자연소재 오리고기 육포스틱 460g\n",
      "츄르비 닭가슴살&구운가다랑어 4개입\n",
      "몰리스 냄새잡는 패드 M 80매\n",
      "츄잉스틱 딸기요거트 250g\n",
      "가 직접 수입한 치킨 화이트본 S 13개입\n",
      "몰리스 치즈 화이트스틱껌 치킨 270g\n",
      "성공:#area_itemlist > div.paginate > div > a:nth-of-type(2)\n",
      "\n",
      "\n",
      "\n",
      "\n",
      "\n",
      "\n",
      "\n",
      "\n",
      "\n",
      "\n",
      "\n",
      "\n",
      "\n",
      "\n",
      "\n",
      "\n",
      "\n",
      "\n",
      "\n",
      "\n",
      "아투 독 오리 1.5kg\n",
      "몰리스 짜먹는 고등어 56g\n",
      "[시저 Cesar] 쇠고기와 참치 사료 100g*3팩\n",
      "반려견 골든 황태(스틱)\n",
      "가 직접 수입한 치킨 화이트본 M 3개입\n",
      "[시저 Cesar] 비프 앤 치킨 사료 100*3g\n",
      "에티펫 눈물자국 깨끗시트 (30매)\n",
      "몰리스픽 오리저키 300g\n",
      "닥터할리펫밀크바닐라\n",
      "몰리스 쉬야응가 튀지않는 패드 M 45매\n",
      "몰리스 크런치홀릭 양고기 60g\n",
      "더독 수제 삼계탕\n",
      "부들부들 덴탈 케어 치약\n",
      "뉴트리나 건강백서 푸들 2kg\n",
      "아스크 게살 슬라이스 50g\n",
      "건강백서 비숑 2kg\n",
      "30days 닭가슴살 30개입\n",
      "덴티츄 구강&면역 양고기 21개입\n",
      "몰리스 덴탈껌 우유칼슘 300g\n",
      "미유믹스 리얼 치킨과 비프 78g\n",
      "[기획팩] 빈즈라이크 오리목뼈 1kg\n",
      "원데이케어 건강한 관절 12개입\n",
      "[위스카스whiskas] 키튼참치 80g\n",
      "챠오 쁘띠 참치 5개입\n",
      "셰프요리 칠면조 순살 400g\n",
      "뉴트리나 건강백서 말티즈 2kg\n",
      "ThinkYourDogTeeth연어딩고우유껌스틱20P\n",
      "뉴트리나 건강백서 건강까지 챙기는 쌀로 만든 껌 120g\n",
      "건강백서 베지버거 100g\n",
      "헬씨미요 고양이간식 참치 100g\n",
      "Think your dog teeth 소가죽우유껌 3P(210\n",
      "빈즈라이크 국내산 오리날개 500g\n",
      "카샤카샤 붕붕 와이어 낚시대\n",
      "몰리스 하드 오리 져키 250g\n",
      "덴탈카리에스 280g\n",
      "[비타크래프트] 비타 캣얌 치즈 40G\n",
      "밥이보약 CAT 빛나는 피모 2kg\n",
      "밥이보약 CAT NO스트레스 2kg\n",
      "프리스키 파티믹스 피크닉 60g\n",
      "[몰리스]프로발란스 관절강화 및 연골보호 전연령 2.6kg\n",
      "에티펫 부드럽게칫솔(누구나)\n",
      "퓨리나 알포 성견용 소고기맛 3kg\n",
      "[국민가격]골든황태(채)\n",
      "밥이보약 CAT 알맞은 체중 2kg\n",
      "몰리스 쉬야응가 1회용 패드 S 120매\n",
      "챠오 츄르 참치&연어 4개입\n",
      "가 직접 수입한 치킨 화이트본 S 5개입\n",
      "[비타크래프트] 비타 캣얌 연어 40G\n",
      "파티믹스 치킨 60g\n",
      "[쓱배송] 60days 고양이간식 츄르(12g*60ea)\n",
      "미유믹스 버라이어티팩 치킨,참치,새우 936g\n",
      "[시저 Cesar] 비프 앤 치킨 사료 100*3g\n",
      "위스카스파우치 고등어 (80g*6개)\n",
      "더독 4220 치약\n",
      "지위픽 독 사슴고기 1kg\n",
      "팬시피스트 연어 멀티팩(85g*3)\n",
      "몰리스픽 오리 고구마말이 500g\n",
      "불리스틱 중소형 6p\n",
      "팬시피스트 치킨 튜나 플레이크 멀티(85g*3)\n",
      "뉴트리나 건강백서 건강한 체중 2kg\n",
      "서울우유 아이펫밀크 70ml x 3팩\n",
      "시저 간식 사과, 양배추와 고구마 큐브 100g\n",
      "몰리스 화이트스틱껌 소프트 오리 400g\n",
      "서울우유 아이펫밀크 180ml x 3팩\n",
      "[시저 Cesar] 닭고기 사료 100g*3팩\n",
      "손가락 칫솔 (1회용)\n",
      "몰리스픽 짜먹는 연어\n",
      "덴티츄 구강&관절 캥거루 21개입\n",
      "포켄스 덴티페어리 S 150g\n",
      "퓨리나 베긴 스트립 베이컨 오리지날 170g\n",
      "발톱가는 고양이 쇼파형 스크래쳐\n",
      "[비타크래프트] 크리스피크런치 덴탈60g\n",
      "몰리스픽 반려견 패드 XL 35매\n",
      "헬씨미요 고양이간식 멸치(60g)\n",
      "몰리스픽 전연령 반려견 사료 2kg\n",
      "위스카스 시니어 참치 80g\n",
      "원데이케어 건강한 피부 12개입\n",
      "[시저]쇠고기와 닭고기(100g*12팩)\n",
      "후코홀릭 황태와야채 120g\n",
      "포켄스 베이비파우더 샴푸 550ml\n",
      "성공:#area_itemlist > div.paginate > div > a:nth-of-type(3)\n",
      "\n",
      "\n",
      "\n",
      "\n",
      "\n",
      "\n",
      "\n",
      "\n",
      "\n",
      "\n",
      "\n",
      "\n",
      "\n",
      "\n",
      "\n",
      "\n",
      "\n",
      "\n",
      "\n",
      "\n",
      "[시저 Cesar] 비프 앤 치즈 사료 (100g*3)\n",
      "뉴트리나 건강백서 건강한 관절 2kg\n",
      "윌로펫 뉴트리탑 면역(전연령) 1.2kg\n",
      "몰리스픽 전연령 반려견 사료 15kg\n",
      "템테이션 믹스업 닭고기 연어 체다치즈맛 75g\n",
      "챠오 츄르 가다랑어포 4개입\n",
      "캣차우 컴플리트 전연령용 6kg\n",
      "[비타크래프트] 비타 캣스틱 연어 18G\n",
      "헌터본 사슴 16P 240g\n",
      "쉬바참치와연어파우치6팩 420g\n",
      "[시저 Cesar] 쇠고기와 참치 사료 100g*3팩\n",
      "칠면조힘줄 하드링(s)\n",
      "몰리스 냄새잡는 패드 L 35매\n",
      "쉬바 참치와 연어 70g\n",
      "치카치카 우유 치실껌 SS 48g\n",
      "쉬바 참치 슬라이스와 그레이비 소스 85g\n",
      "쉬바 참치와 닭고기 70g\n",
      "몰리스 쉬야응가 1회용 패드 L 50매\n",
      "[몰리스]프로발란스 피부관리와 모질강화 전연령 6kg\n",
      "캣츠스프링 벤토나이트모래 무향 10L\n",
      "[더독] 반려견용 치약 70g\n",
      "[쉬바] 참치 살코기와 통새우와 그레이비 소스 85g\n",
      "포켄스 덴티페어리 SS 65g\n",
      "덴티츄 구강&눈 사슴고기 21개입\n",
      "자연소재 어포&오리고기180G\n",
      "쉬바 참치살코기와 게살그레이비소스85g\n",
      "몰리스 짜먹는 대구살 56g\n",
      "시저 14세 이상 쇠고기와쌀과야채100Gx3\n",
      "Think your dog teeth 소가죽우유껌 44P(25\n",
      "ThinkYourDogTeeth소고기딩고우유껌스틱20P\n",
      "몰리스 쉬야응가 튀지않는 패드(L)\n",
      "치카치카 치실껌SS 20P(120g)\n",
      "Think your dog teeth 소가죽우유껌 18P(25\n",
      "포켄스 말티즈 전용 샴푸&린스\n",
      "몰리스 짜먹는 게맛살 56g\n",
      "이나바 금빛육수 닭가슴살&가츠오부시 70g*1개\n",
      "슈퍼츄 터키츄 본S 1개입\n",
      "뉴트리나 건강백서 건강한 피부 2kg\n",
      "이나바 금빛육수 컵 닭가슴살&가리비 70g*1개\n",
      "[위스카스 whiskas]주니어 오션피쉬 1.1kg\n",
      "에티펫 얼룩냄새깨끗 청소티슈\n",
      "캣츠스프링 벤토나이트모래 유향 10L\n",
      "몰리스 덴탈껌 비타민 300g\n",
      "몰리스 크런치홀릭 참치 60g\n",
      "마이독 스테이크하우스 소고기 큐브 200g\n",
      "완피 크리미트릿 치킨 70g (14g*5P)\n",
      "포비스 귀세정제 100ml\n",
      "헬씨미요 고양이간식 소고기(100g)\n",
      "보양대첩 쿨링-오리와 황태1.8kg\n",
      "몰리스 덴탈껌 우유칼슘 300g\n",
      "쉬바 참치 흰살과 젤리 소스 85g\n",
      "포켄스 과일먹은 치즈덴탈껌 딸기 100g\n",
      "New캐츠랑 전연령7kg\n",
      "Think your Dog Teeth 연어우유껌 15P\n",
      "시저 11세이상 닭고기 100Gx3\n",
      "국민가격 NTC 돼지귀 슬라이스 300g\n",
      "몰리스 짜먹는 연어 56g\n",
      "팬시피스트 인스퍼레이션 치킨&시금치 70g\n",
      "이나바 금빛육수 컵 닭가슴살&치어 70g*1개\n",
      "몰리스픽 비프고구마져키 1KG\n",
      "시저 11세 이상 쇠고기 100gx3\n",
      "포켄스 푸들 전용 샴푸&린스\n",
      "[시저 Cesar] 닭고기 사료 100g*3팩\n",
      "[비타크래프트] 비타 캣스틱 코어피쉬 18g\n",
      "완피 크리미트릿 참치&연어 70g (14g*5P)\n",
      "국민가격 NTC 돼지족발 400g\n",
      "[시저 Cesar] 불고기 사료 100g*3팩\n",
      "포켄스 탈취제 은은한 베이비 파우더향\n",
      "밥이보약 Dog 알맞은체중 2kg\n",
      "[비타크래프트] 캣스틱 치킨 캣그라스18g\n",
      "Think your dog teeth 소가죽우유껌 6P(210\n",
      "위스카스 테이스티믹스 닭고기,참치와 당근 in 그레이비 70g*6개\n",
      "위스카스 참치 (80g * 6개)\n",
      "츄르비 닭가슴살&구운닭가슴살 4개입\n",
      "밥이보약 DOG 튼튼한 관절 2kg\n",
      "지위픽 독 소고기 1kg\n",
      "[비타크래프트] 캣얌 치킨캣그라스40g\n",
      "[시저 Cesar] 양고기 사료 100g*3팩\n",
      "몰리스픽 치킨저키 300g\n",
      "30days 연어츄르 30개입\n",
      "성공:#area_itemlist > div.paginate > div > a:nth-of-type(4)\n",
      "실패:#area_itemlist > div.paginate > div > a:nth-of-type(4)\n",
      "성공:#area_itemlist > div.paginate > div > a:nth-of-type(5)\n",
      "실패:#area_itemlist > div.paginate > div > a:nth-of-type(5)\n",
      "성공:#area_itemlist > div.paginate > div > a:nth-of-type(6)\n",
      "실패:#area_itemlist > div.paginate > div > a:nth-of-type(6)\n",
      "성공:#area_itemlist > div.paginate > div > a:nth-of-type(7)\n",
      "실패:#area_itemlist > div.paginate > div > a:nth-of-type(7)\n",
      "성공:#area_itemlist > div.paginate > div > a:nth-of-type(8)\n",
      "실패:#area_itemlist > div.paginate > div > a:nth-of-type(8)\n",
      "성공:#area_itemlist > div.paginate > div > a:nth-of-type(9)\n",
      "실패:#area_itemlist > div.paginate > div > a:nth-of-type(9)\n",
      "성공:#area_itemlist > div.paginate > div > a:nth-of-type(10)\n",
      "실패:#area_itemlist > div.paginate > div > a:nth-of-type(10)\n"
     ]
    }
   ],
   "source": [
    "### pagination 10page 넘어가기 \n",
    "import time\n",
    "for page_number in range(1,11):\n",
    "        element_path = '#area_itemlist > div.paginate > div > a:nth-of-type({})'.format(page_number)\n",
    "        try: \n",
    "            print('성공:{}'.format(element_path))\n",
    "            paginations = browser.find_element_by_css_selector(element_path)\n",
    "            paginations.click()\n",
    "            time.sleep(3)\n",
    "        \n",
    "            elements_title_path = '.mnemitem_goods_tit'\n",
    "            webelements = browser.find_elements_by_css_selector(elements_title_path)\n",
    "            \n",
    "            for webelement in webelements : \n",
    "                try : \n",
    "                # webelement와 동일한 형식은 element.text\n",
    "                    print(webelement.text)\n",
    "                except : \n",
    "                    pass\n",
    "            \n",
    "            # recent_page = '#area_itemlist > div.paginate > div > strong'\n",
    "        except: \n",
    "            print('실패:{}'.format(element_path))\n",
    "            pass\n",
    "        "
   ]
  },
  {
   "cell_type": "markdown",
   "id": "0be0aff5-ea38-4152-9130-3c6283488d27",
   "metadata": {},
   "source": [
    "#### 묶어져있는 내용을 각 column과 value값으로 넣을 수 있게 해보기\n"
   ]
  },
  {
   "cell_type": "code",
   "execution_count": 15,
   "id": "c673ccdf-ab10-4a31-847b-d797b47116d4",
   "metadata": {
    "tags": []
   },
   "outputs": [
    {
     "data": {
      "text/plain": [
       "selenium.webdriver.remote.webelement.WebElement"
      ]
     },
     "execution_count": 15,
     "metadata": {},
     "output_type": "execute_result"
    }
   ],
   "source": [
    "element_bundle_path='li.mnemitem_grid_item.swiper-slide.swiper-slide-active > div'\n",
    "element_bundle = browser.find_element_by_css_selector(element_bundle_path)\n",
    "type(element_bundle)"
   ]
  },
  {
   "cell_type": "code",
   "execution_count": 16,
   "id": "77ae721c-6157-4839-942c-8c320ef61e0b",
   "metadata": {
    "tags": []
   },
   "outputs": [
    {
     "data": {
      "text/plain": [
       "\"장바구니 담기\\n쓱배송\\n새벽배송 가능\\nMOLLY'S 몰리스 쉬야응가 1회용 패드 L 50매\\n판매가격\\n13,900\\n원\\n1포 당 278원\\n상품평점 5점 만점에\\n4.9\\n상품평 개수\\n(1,478)\""
      ]
     },
     "execution_count": 16,
     "metadata": {},
     "output_type": "execute_result"
    }
   ],
   "source": [
    "element_bundle.text"
   ]
  },
  {
   "cell_type": "code",
   "execution_count": 18,
   "id": "dd4804e5-f701-4400-85d4-cbc012c18480",
   "metadata": {
    "tags": []
   },
   "outputs": [
    {
     "ename": "StaleElementReferenceException",
     "evalue": "Message: stale element reference: stale element not found\n  (Session info: chrome=116.0.5845.180)\n",
     "output_type": "error",
     "traceback": [
      "\u001b[1;31m---------------------------------------------------------------------------\u001b[0m",
      "\u001b[1;31mStaleElementReferenceException\u001b[0m            Traceback (most recent call last)",
      "Cell \u001b[1;32mIn[18], line 2\u001b[0m\n\u001b[0;32m      1\u001b[0m \u001b[38;5;66;03m# 회사명, 제품명(title) 가격(price), 단위가격, 선호도, 해시태그(hashtags)\u001b[39;00m\n\u001b[1;32m----> 2\u001b[0m title \u001b[38;5;241m=\u001b[39m element_bundle\u001b[38;5;241m.\u001b[39mfind_element_by_css_selector(\u001b[38;5;124m'\u001b[39m\u001b[38;5;124m.mnemitem_goods_tit\u001b[39m\u001b[38;5;124m'\u001b[39m)\u001b[38;5;241m.\u001b[39mtext\n\u001b[0;32m      3\u001b[0m price \u001b[38;5;241m=\u001b[39m element_bundle\u001b[38;5;241m.\u001b[39mfind_element_by_css_selector(\u001b[38;5;124m'\u001b[39m\u001b[38;5;124m.ssg_price\u001b[39m\u001b[38;5;124m'\u001b[39m)\u001b[38;5;241m.\u001b[39mtext\n\u001b[0;32m      4\u001b[0m \u001b[38;5;66;03m# hashtags=element_bundle.find_element_by_css_selector('mnemitem_tag_linkarea').text # 해시태그는 묶여있으므로 \u001b[39;00m\n",
      "File \u001b[1;32m~\\anaconda3\\Lib\\site-packages\\selenium\\webdriver\\remote\\webelement.py:430\u001b[0m, in \u001b[0;36mWebElement.find_element_by_css_selector\u001b[1;34m(self, css_selector)\u001b[0m\n\u001b[0;32m    415\u001b[0m \u001b[38;5;28;01mdef\u001b[39;00m \u001b[38;5;21mfind_element_by_css_selector\u001b[39m(\u001b[38;5;28mself\u001b[39m, css_selector):\n\u001b[0;32m    416\u001b[0m \u001b[38;5;250m    \u001b[39m\u001b[38;5;124;03m\"\"\"Finds element within this element's children by CSS selector.\u001b[39;00m\n\u001b[0;32m    417\u001b[0m \n\u001b[0;32m    418\u001b[0m \u001b[38;5;124;03m    :Args:\u001b[39;00m\n\u001b[1;32m   (...)\u001b[0m\n\u001b[0;32m    428\u001b[0m \u001b[38;5;124;03m        element = element.find_element_by_css_selector('#foo')\u001b[39;00m\n\u001b[0;32m    429\u001b[0m \u001b[38;5;124;03m    \"\"\"\u001b[39;00m\n\u001b[1;32m--> 430\u001b[0m     \u001b[38;5;28;01mreturn\u001b[39;00m \u001b[38;5;28mself\u001b[39m\u001b[38;5;241m.\u001b[39mfind_element(by\u001b[38;5;241m=\u001b[39mBy\u001b[38;5;241m.\u001b[39mCSS_SELECTOR, value\u001b[38;5;241m=\u001b[39mcss_selector)\n",
      "File \u001b[1;32m~\\anaconda3\\Lib\\site-packages\\selenium\\webdriver\\remote\\webelement.py:658\u001b[0m, in \u001b[0;36mWebElement.find_element\u001b[1;34m(self, by, value)\u001b[0m\n\u001b[0;32m    655\u001b[0m         by \u001b[38;5;241m=\u001b[39m By\u001b[38;5;241m.\u001b[39mCSS_SELECTOR\n\u001b[0;32m    656\u001b[0m         value \u001b[38;5;241m=\u001b[39m \u001b[38;5;124m'\u001b[39m\u001b[38;5;124m[name=\u001b[39m\u001b[38;5;124m\"\u001b[39m\u001b[38;5;132;01m%s\u001b[39;00m\u001b[38;5;124m\"\u001b[39m\u001b[38;5;124m]\u001b[39m\u001b[38;5;124m'\u001b[39m \u001b[38;5;241m%\u001b[39m value\n\u001b[1;32m--> 658\u001b[0m \u001b[38;5;28;01mreturn\u001b[39;00m \u001b[38;5;28mself\u001b[39m\u001b[38;5;241m.\u001b[39m_execute(Command\u001b[38;5;241m.\u001b[39mFIND_CHILD_ELEMENT,\n\u001b[0;32m    659\u001b[0m                      {\u001b[38;5;124m\"\u001b[39m\u001b[38;5;124musing\u001b[39m\u001b[38;5;124m\"\u001b[39m: by, \u001b[38;5;124m\"\u001b[39m\u001b[38;5;124mvalue\u001b[39m\u001b[38;5;124m\"\u001b[39m: value})[\u001b[38;5;124m'\u001b[39m\u001b[38;5;124mvalue\u001b[39m\u001b[38;5;124m'\u001b[39m]\n",
      "File \u001b[1;32m~\\anaconda3\\Lib\\site-packages\\selenium\\webdriver\\remote\\webelement.py:633\u001b[0m, in \u001b[0;36mWebElement._execute\u001b[1;34m(self, command, params)\u001b[0m\n\u001b[0;32m    631\u001b[0m     params \u001b[38;5;241m=\u001b[39m {}\n\u001b[0;32m    632\u001b[0m params[\u001b[38;5;124m'\u001b[39m\u001b[38;5;124mid\u001b[39m\u001b[38;5;124m'\u001b[39m] \u001b[38;5;241m=\u001b[39m \u001b[38;5;28mself\u001b[39m\u001b[38;5;241m.\u001b[39m_id\n\u001b[1;32m--> 633\u001b[0m \u001b[38;5;28;01mreturn\u001b[39;00m \u001b[38;5;28mself\u001b[39m\u001b[38;5;241m.\u001b[39m_parent\u001b[38;5;241m.\u001b[39mexecute(command, params)\n",
      "File \u001b[1;32m~\\anaconda3\\Lib\\site-packages\\selenium\\webdriver\\remote\\webdriver.py:321\u001b[0m, in \u001b[0;36mWebDriver.execute\u001b[1;34m(self, driver_command, params)\u001b[0m\n\u001b[0;32m    319\u001b[0m response \u001b[38;5;241m=\u001b[39m \u001b[38;5;28mself\u001b[39m\u001b[38;5;241m.\u001b[39mcommand_executor\u001b[38;5;241m.\u001b[39mexecute(driver_command, params)\n\u001b[0;32m    320\u001b[0m \u001b[38;5;28;01mif\u001b[39;00m response:\n\u001b[1;32m--> 321\u001b[0m     \u001b[38;5;28mself\u001b[39m\u001b[38;5;241m.\u001b[39merror_handler\u001b[38;5;241m.\u001b[39mcheck_response(response)\n\u001b[0;32m    322\u001b[0m     response[\u001b[38;5;124m'\u001b[39m\u001b[38;5;124mvalue\u001b[39m\u001b[38;5;124m'\u001b[39m] \u001b[38;5;241m=\u001b[39m \u001b[38;5;28mself\u001b[39m\u001b[38;5;241m.\u001b[39m_unwrap_value(\n\u001b[0;32m    323\u001b[0m         response\u001b[38;5;241m.\u001b[39mget(\u001b[38;5;124m'\u001b[39m\u001b[38;5;124mvalue\u001b[39m\u001b[38;5;124m'\u001b[39m, \u001b[38;5;28;01mNone\u001b[39;00m))\n\u001b[0;32m    324\u001b[0m     \u001b[38;5;28;01mreturn\u001b[39;00m response\n",
      "File \u001b[1;32m~\\anaconda3\\Lib\\site-packages\\selenium\\webdriver\\remote\\errorhandler.py:242\u001b[0m, in \u001b[0;36mErrorHandler.check_response\u001b[1;34m(self, response)\u001b[0m\n\u001b[0;32m    240\u001b[0m         alert_text \u001b[38;5;241m=\u001b[39m value[\u001b[38;5;124m'\u001b[39m\u001b[38;5;124malert\u001b[39m\u001b[38;5;124m'\u001b[39m]\u001b[38;5;241m.\u001b[39mget(\u001b[38;5;124m'\u001b[39m\u001b[38;5;124mtext\u001b[39m\u001b[38;5;124m'\u001b[39m)\n\u001b[0;32m    241\u001b[0m     \u001b[38;5;28;01mraise\u001b[39;00m exception_class(message, screen, stacktrace, alert_text)\n\u001b[1;32m--> 242\u001b[0m \u001b[38;5;28;01mraise\u001b[39;00m exception_class(message, screen, stacktrace)\n",
      "\u001b[1;31mStaleElementReferenceException\u001b[0m: Message: stale element reference: stale element not found\n  (Session info: chrome=116.0.5845.180)\n"
     ]
    }
   ],
   "source": [
    "# 회사명, 제품명(title) 가격(price), 단위가격, 선호도, 해시태그(hashtags)\n",
    "title = element_bundle.find_element_by_css_selector('.mnemitem_goods_tit').text\n",
    "price = element_bundle.find_element_by_css_selector('.ssg_price').text\n",
    "# hashtags=element_bundle.find_element_by_css_selector('mnemitem_tag_linkarea').text # 해시태그는 묶여있으므로 \n",
    "[title, price]"
   ]
  },
  {
   "cell_type": "code",
   "execution_count": 12,
   "id": "6e5df0d1-7cb6-4950-8937-695e309d3e6e",
   "metadata": {
    "tags": []
   },
   "outputs": [],
   "source": [
    "browser.quit() ## browser닫힘"
   ]
  },
  {
   "cell_type": "markdown",
   "id": "ebe2dc09-f285-4d0d-ac98-b931227c40e1",
   "metadata": {},
   "source": []
  }
 ],
 "metadata": {
  "kernelspec": {
   "display_name": "Python 3 (ipykernel)",
   "language": "python",
   "name": "python3"
  },
  "language_info": {
   "codemirror_mode": {
    "name": "ipython",
    "version": 3
   },
   "file_extension": ".py",
   "mimetype": "text/x-python",
   "name": "python",
   "nbconvert_exporter": "python",
   "pygments_lexer": "ipython3",
   "version": "3.11.4"
  }
 },
 "nbformat": 4,
 "nbformat_minor": 5
}
