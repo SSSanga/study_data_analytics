{
 "cells": [
  {
   "cell_type": "code",
   "execution_count": 1,
   "id": "ae3bc87c-9060-4808-9081-b134d93ca853",
   "metadata": {
    "tags": []
   },
   "outputs": [],
   "source": [
    "# %pip install wget"
   ]
  },
  {
   "cell_type": "code",
   "execution_count": 2,
   "id": "b26cf763-af00-400d-bc3e-0cc494e8aa69",
   "metadata": {
    "tags": []
   },
   "outputs": [],
   "source": [
    "# import wget"
   ]
  },
  {
   "cell_type": "code",
   "execution_count": 3,
   "id": "bbade76a-788f-418c-8ac9-6b6b6f741053",
   "metadata": {
    "tags": []
   },
   "outputs": [],
   "source": [
    "# ## wget: url의 파일들을 가져올 수 있는 기능\n",
    "# wget.download('https://raw.githubusercontent.com/e9t/nsmc/master/ratings_train.txt')"
   ]
  },
  {
   "cell_type": "code",
   "execution_count": 4,
   "id": "0c2887e5-f25c-43ba-9a58-bfd9b0832e96",
   "metadata": {
    "tags": []
   },
   "outputs": [],
   "source": [
    "import pandas as pd"
   ]
  },
  {
   "cell_type": "code",
   "execution_count": 5,
   "id": "0bd447fc-2d7a-4f81-8207-76a24788d107",
   "metadata": {
    "tags": []
   },
   "outputs": [
    {
     "data": {
      "text/html": [
       "<div>\n",
       "<style scoped>\n",
       "    .dataframe tbody tr th:only-of-type {\n",
       "        vertical-align: middle;\n",
       "    }\n",
       "\n",
       "    .dataframe tbody tr th {\n",
       "        vertical-align: top;\n",
       "    }\n",
       "\n",
       "    .dataframe thead th {\n",
       "        text-align: right;\n",
       "    }\n",
       "</style>\n",
       "<table border=\"1\" class=\"dataframe\">\n",
       "  <thead>\n",
       "    <tr style=\"text-align: right;\">\n",
       "      <th></th>\n",
       "      <th>id</th>\n",
       "      <th>document</th>\n",
       "      <th>label</th>\n",
       "    </tr>\n",
       "  </thead>\n",
       "  <tbody>\n",
       "    <tr>\n",
       "      <th>0</th>\n",
       "      <td>9976970</td>\n",
       "      <td>아 더빙.. 진짜 짜증나네요 목소리</td>\n",
       "      <td>0</td>\n",
       "    </tr>\n",
       "    <tr>\n",
       "      <th>1</th>\n",
       "      <td>3819312</td>\n",
       "      <td>흠...포스터보고 초딩영화줄....오버연기조차 가볍지 않구나</td>\n",
       "      <td>1</td>\n",
       "    </tr>\n",
       "    <tr>\n",
       "      <th>2</th>\n",
       "      <td>10265843</td>\n",
       "      <td>너무재밓었다그래서보는것을추천한다</td>\n",
       "      <td>0</td>\n",
       "    </tr>\n",
       "  </tbody>\n",
       "</table>\n",
       "</div>"
      ],
      "text/plain": [
       "         id                           document  label\n",
       "0   9976970                아 더빙.. 진짜 짜증나네요 목소리      0\n",
       "1   3819312  흠...포스터보고 초딩영화줄....오버연기조차 가볍지 않구나      1\n",
       "2  10265843                  너무재밓었다그래서보는것을추천한다      0"
      ]
     },
     "execution_count": 5,
     "metadata": {},
     "output_type": "execute_result"
    }
   ],
   "source": [
    "df_naver_movie_comment=pd.read_csv('./ratings_train.txt', sep='\\t')\n",
    "df_naver_movie_comment[:3] # id: 게시판 number, document: 댓글, label: 긍정1 부정 0"
   ]
  },
  {
   "cell_type": "markdown",
   "id": "a19bdf9d-01f5-4888-99f2-b01619dea6ab",
   "metadata": {},
   "source": [
    "## 머신러닝 의한 감성 분석\n",
    "- 0. label: 긍정 1, 부정 0\n",
    "    - 1인것은 긍정 array로, 0인것은 부정 array로 합친다. \n",
    "- 1. 형태소 분석을 통해 품사 분류를 진행\n",
    "- 2. vector 토큰화 (단어를 숫자화(OHE이용?))\n",
    "- 3. 목표 변수 생성\n",
    "- 4. 머신러닝 학습\n",
    "- 5. 머신러닝 학습을 통한 예측\n"
   ]
  },
  {
   "cell_type": "markdown",
   "id": "e432c3e9-68e1-4698-ae16-8dea7426687e",
   "metadata": {},
   "source": [
    "### 0. 긍정 1, 부정 0\n",
    "- label이 0에 해당하는 것과 1에 해당하는 것을 나눠서 합친다.?\n",
    "- 일단 0 따로 1따로 나눠봐. \n",
    "- 나눈 다음에 positive, negative로 나누고 그걸 positive + negative로 합친다. "
   ]
  },
  {
   "cell_type": "code",
   "execution_count": 6,
   "id": "ac01f573-4731-4ac9-abb8-8e20b27dcb8f",
   "metadata": {
    "tags": []
   },
   "outputs": [],
   "source": [
    "condition_neg=(df_naver_movie_comment['label'] == 0 )\n",
    "df_movie_negative=df_naver_movie_comment[condition_neg]"
   ]
  },
  {
   "cell_type": "code",
   "execution_count": 7,
   "id": "9c7986e1-61e0-4fe1-b20a-9556766d9a42",
   "metadata": {
    "tags": []
   },
   "outputs": [],
   "source": [
    "doc_negative=df_movie_negative['document'][:10].values"
   ]
  },
  {
   "cell_type": "code",
   "execution_count": 8,
   "id": "742057b3-d921-415c-be6f-e1f71874f69d",
   "metadata": {
    "tags": []
   },
   "outputs": [],
   "source": [
    "condition_pos=(df_naver_movie_comment['label'] == 1 )\n",
    "df_movie_positive=df_naver_movie_comment[condition_pos]"
   ]
  },
  {
   "cell_type": "code",
   "execution_count": 9,
   "id": "787fa380-f306-4695-8d6c-76521a881cee",
   "metadata": {
    "tags": []
   },
   "outputs": [],
   "source": [
    "doc_positive=df_movie_positive['document'][:10].values"
   ]
  },
  {
   "cell_type": "code",
   "execution_count": 10,
   "id": "e32ad80e-a286-4d32-a36e-e8824bc1d253",
   "metadata": {
    "tags": []
   },
   "outputs": [
    {
     "data": {
      "text/plain": [
       "(numpy.ndarray, numpy.ndarray)"
      ]
     },
     "execution_count": 10,
     "metadata": {},
     "output_type": "execute_result"
    }
   ],
   "source": [
    "type(doc_negative), type(doc_positive)"
   ]
  },
  {
   "cell_type": "code",
   "execution_count": 11,
   "id": "36c13074-ba32-4a41-9cdc-89bc696364db",
   "metadata": {
    "tags": []
   },
   "outputs": [],
   "source": [
    "doc_total=doc_positive + doc_negative"
   ]
  },
  {
   "cell_type": "code",
   "execution_count": 12,
   "id": "b577a4fd-ab9e-4701-ad7b-37a1db10ef93",
   "metadata": {
    "tags": []
   },
   "outputs": [
    {
     "data": {
      "text/plain": [
       "10"
      ]
     },
     "execution_count": 12,
     "metadata": {},
     "output_type": "execute_result"
    }
   ],
   "source": [
    "len(doc_total)"
   ]
  },
  {
   "cell_type": "markdown",
   "id": "d83bf37a-6c5c-47dc-9ce9-2c55de0af6f9",
   "metadata": {},
   "source": [
    "### 형태소 분석을 통해 품사 분류를 진행\n"
   ]
  },
  {
   "cell_type": "code",
   "execution_count": 13,
   "id": "a0bcbfc7-4644-4b23-a637-b6c9f7650186",
   "metadata": {
    "tags": []
   },
   "outputs": [],
   "source": [
    "from mecab import MeCab"
   ]
  },
  {
   "cell_type": "code",
   "execution_count": 14,
   "id": "4dc277e9-561c-4165-90db-0441b7c71629",
   "metadata": {
    "tags": []
   },
   "outputs": [],
   "source": [
    "mecab = MeCab()"
   ]
  },
  {
   "cell_type": "code",
   "execution_count": null,
   "id": "3a47b3fa-a02c-49c3-a5b7-83815719e34c",
   "metadata": {
    "tags": []
   },
   "outputs": [],
   "source": [
    "mecab.pos(doc_total)"
   ]
  },
  {
   "cell_type": "markdown",
   "id": "e470a94f-81f6-451f-975f-1fa50f87c15d",
   "metadata": {},
   "source": [
    "### 벡터 토큰화\n",
    "- "
   ]
  },
  {
   "cell_type": "code",
   "execution_count": 1,
   "id": "9502774f-0f23-4adc-a69f-c42edd7534f4",
   "metadata": {
    "tags": []
   },
   "outputs": [],
   "source": [
    "from sklearn.feature_extraction.text import CountVectorizer, TfidfVectorizer"
   ]
  },
  {
   "cell_type": "code",
   "execution_count": null,
   "id": "34d73392-4d98-4927-b99d-1efbc75e8270",
   "metadata": {},
   "outputs": [],
   "source": [
    "모델 교육이 끝나면 새로운 영화 리뷰 댓글들을 넣고 예측 하기 "
   ]
  },
  {
   "cell_type": "code",
   "execution_count": null,
   "id": "c6c3a62c-0e94-4e05-87cf-aa6108dc8e53",
   "metadata": {},
   "outputs": [],
   "source": []
  }
 ],
 "metadata": {
  "kernelspec": {
   "display_name": "Python 3 (ipykernel)",
   "language": "python",
   "name": "python3"
  },
  "language_info": {
   "codemirror_mode": {
    "name": "ipython",
    "version": 3
   },
   "file_extension": ".py",
   "mimetype": "text/x-python",
   "name": "python",
   "nbconvert_exporter": "python",
   "pygments_lexer": "ipython3",
   "version": "3.11.3"
  }
 },
 "nbformat": 4,
 "nbformat_minor": 5
}
