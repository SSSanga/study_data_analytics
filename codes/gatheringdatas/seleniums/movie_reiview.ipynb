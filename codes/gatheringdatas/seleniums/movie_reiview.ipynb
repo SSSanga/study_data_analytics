{
 "cells": [
  {
   "cell_type": "markdown",
   "id": "4a991bde-4ab1-4178-aae1-d5bdff1dc074",
   "metadata": {},
   "source": [
    "#### 왓챠피디아\n",
    "- 영화 코멘트 scraping\n",
    "- 자연어 처리에 예측시키기\n"
   ]
  },
  {
   "cell_type": "code",
   "execution_count": 7,
   "id": "bbcded0d-29c6-4630-a994-98a42e9581d8",
   "metadata": {
    "tags": []
   },
   "outputs": [],
   "source": [
    "from selenium import webdriver\n",
    "from selenium.webdriver.common.action_chains import ActionChains\n",
    "import time"
   ]
  },
  {
   "cell_type": "code",
   "execution_count": 2,
   "id": "65cf8dbc-07aa-4490-a1c4-82cc34dfc122",
   "metadata": {
    "tags": []
   },
   "outputs": [],
   "source": [
    "# open chrome browser\n",
    "browser = webdriver.Chrome(executable_path='../../../../chromedriver.exe')"
   ]
  },
  {
   "cell_type": "code",
   "execution_count": 3,
   "id": "22386ca2-5d6c-4e0a-9f6e-08d63523e82e",
   "metadata": {
    "tags": []
   },
   "outputs": [],
   "source": [
    "# url in address window\n",
    "browser.get('https://pedia.watcha.com/ko-KR/contents/mWLyD8p')"
   ]
  },
  {
   "cell_type": "code",
   "execution_count": 4,
   "id": "c2b65735-1ee4-459c-a15e-110b42e987d0",
   "metadata": {
    "tags": []
   },
   "outputs": [],
   "source": [
    "browser.implicitly_wait(10)"
   ]
  },
  {
   "cell_type": "code",
   "execution_count": null,
   "id": "dbc2e30c-e5b2-422c-826c-aa3215276a4b",
   "metadata": {},
   "outputs": [],
   "source": [
    "scroll_element = driver.find_element_by_tag_name(\"body\")"
   ]
  },
  {
   "cell_type": "code",
   "execution_count": null,
   "id": "bc82d027-f386-42bb-b119-6fbf102b454a",
   "metadata": {},
   "outputs": [],
   "source": [
    "actions = ActionChains(driver)"
   ]
  },
  {
   "cell_type": "markdown",
   "id": "51915ec2-c678-4ac2-9cc8-cacceb1e8eac",
   "metadata": {},
   "source": [
    "#### 스크롤 내용과 방향을 지정\n",
    "- 아래로 스크롤: actions.move_to_element(scroll_element).send_keys(Keys.ARROW_DOWN).perform()\n",
    "- 위로 스크롤: actions.move_to_element(scroll_element).send_keys(Keys.ARROW_UP).perform()"
   ]
  },
  {
   "cell_type": "code",
   "execution_count": null,
   "id": "edcd5f23-7a68-4535-a630-9f35570fa61a",
   "metadata": {},
   "outputs": [],
   "source": [
    "# 여기서는 아래로 스크롤 예제를 보여줍니다.\n",
    "actions.move_to_element(scroll_element).send_keys(Keys.ARROW_DOWN).perform()"
   ]
  },
  {
   "cell_type": "markdown",
   "id": "da2de809-ba4b-4311-82fa-7ba77ec29f30",
   "metadata": {},
   "source": [
    "### 코멘트 더보기 클릭\n",
    "- header > div > div"
   ]
  },
  {
   "cell_type": "code",
   "execution_count": null,
   "id": "37a47481-f8f6-4b6e-a12a-8e8bb7e3d20d",
   "metadata": {},
   "outputs": [],
   "source": []
  },
  {
   "cell_type": "code",
   "execution_count": 6,
   "id": "65ee5b85-3438-4ebe-b058-48ed36d8cde6",
   "metadata": {
    "tags": []
   },
   "outputs": [],
   "source": [
    "click_path = 'header > div > div'\n",
    "review_page= browser.find_element_by_css_selector(click_path)"
   ]
  },
  {
   "cell_type": "code",
   "execution_count": null,
   "id": "c1d55df6-0c02-4cf0-b841-52bb6cc60376",
   "metadata": {},
   "outputs": [],
   "source": []
  }
 ],
 "metadata": {
  "kernelspec": {
   "display_name": "Python 3 (ipykernel)",
   "language": "python",
   "name": "python3"
  },
  "language_info": {
   "codemirror_mode": {
    "name": "ipython",
    "version": 3
   },
   "file_extension": ".py",
   "mimetype": "text/x-python",
   "name": "python",
   "nbconvert_exporter": "python",
   "pygments_lexer": "ipython3",
   "version": "3.11.3"
  }
 },
 "nbformat": 4,
 "nbformat_minor": 5
}
