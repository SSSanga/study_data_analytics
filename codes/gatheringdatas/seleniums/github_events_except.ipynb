{
 "cells": [
  {
   "cell_type": "markdown",
   "id": "86ec9ec3-a8d3-4719-86e1-95cc5e3d1153",
   "metadata": {},
   "source": [
    "### Github Singin"
   ]
  },
  {
   "cell_type": "code",
   "execution_count": 6,
   "id": "a507f645-2c43-472c-8b8f-b7d745691e39",
   "metadata": {
    "tags": []
   },
   "outputs": [],
   "source": [
    "from selenium import webdriver"
   ]
  },
  {
   "cell_type": "code",
   "execution_count": 20,
   "id": "4ece7a7d-39b0-4290-9443-9b8587d75402",
   "metadata": {
    "tags": []
   },
   "outputs": [],
   "source": [
    "options = webdriver.ChromeOptions()\n",
    "options.add_argument(\"--window-size=1560,840\")\n",
    "# browser = webdriver.Chrome(executable_path='../../../../chromedriver.exe', options=options)#webdriver_selenium과 web을 연결해주기위함.\n",
    "browser = webdriver.Chrome(executable_path='../../../../chromedriver.exe')"
   ]
  },
  {
   "cell_type": "code",
   "execution_count": 21,
   "id": "7233f1cc-cf66-45a9-91b7-53055d029338",
   "metadata": {
    "tags": []
   },
   "outputs": [],
   "source": [
    "#open chrome browser\n",
    "browser.get('https://github.com/')"
   ]
  },
  {
   "cell_type": "code",
   "execution_count": 22,
   "id": "32ddb6cd-3b76-44b4-b3c6-a51db48ae2d6",
   "metadata": {
    "tags": []
   },
   "outputs": [
    {
     "data": {
      "text/plain": [
       "selenium.webdriver.chrome.webdriver.WebDriver"
      ]
     },
     "execution_count": 22,
     "metadata": {},
     "output_type": "execute_result"
    }
   ],
   "source": [
    "type(browser)"
   ]
  },
  {
   "cell_type": "markdown",
   "id": "562eabaa-a3c9-4bf7-a992-e73bc91d8c5f",
   "metadata": {},
   "source": [
    "### 접힘 Click 먼저 해야함. \n",
    "- 소소하게 찾기: login 나오는 곳이 숨겨져 있음. \n",
    "    -1. 일단 숨어진 메뉴를 클릭 \n",
    "    - (원본: body > div.logged-out.env-production.page-responsive.header-overlay.home-campaign > div.position-relative.js-header-wrapper > header > div > div.d-flex.flex-justify-between.flex-items-center.width-full.width-lg-auto > div.flex-1.flex-order-2.text-right > button\n",
    "        수정: 'div.flex-1.flex-order-2.text-right > button' \n",
    "         - 강사님 choice: body > div.logged-out.env-production.page-responsive.header-overlay.home-campaign > div.position-relative.js-header-wrapper > header > div > div.d-flex.flex-justify-between.flex-items-center.width-full.width-lg-auto > div.flex-1.flex-order-2.text-right > button > span > span\n",
    "           )\n",
    "    -2. 거기서 로그인을 클릭 : div > div > div > a.HeaderMenu-link.HeaderMenu-link--sign-in\n",
    "    \n",
    "- 결과: 방어코드 필요함. size에 따라 접힘버튼이 생기거나 안생기거나 함. \n",
    "    - options = webdriver.ChromeOptions()\n",
    "    - options.add_argument(\"--window-size=1560,840\")\n",
    "    - browser = webdriver.Chrome(executable_path='../../../../chromedriver.exe', options=options)\n",
    "### login Click link tag check\n",
    "\n",
    "- 원래 copy selector : div.HeaderMenu--logged-out.p-responsive.height-fit.position-lg-relative.d-lg-flex.flex-column.flex-auto.pt-7.pb-4.top-0 > div > div > div > a\n",
    "\n",
    "- Click tag: div > div > div > a.HeaderMenu-link.HeaderMenu-link--sign-in\n",
    "\n",
    "\n"
   ]
  },
  {
   "cell_type": "code",
   "execution_count": 23,
   "id": "9e665f40-d337-4f0d-bde1-523deb061691",
   "metadata": {
    "tags": []
   },
   "outputs": [],
   "source": [
    "## 접힘버튼 클릭 _에러 발생할수있으므로 try_except 문 넣는다. \n",
    "element_path = 'body > div.logged-out.env-production.page-responsive.header-overlay.home-campaign > div.position-relative.js-header-wrapper > header > div > div.d-flex.flex-justify-between.flex-items-center.width-full.width-lg-auto > div.flex-1.flex-order-2.text-right > button > span > span'\n",
    "try: \n",
    "    collapsed_menu=browser.find_element_by_css_selector(element_path) \n",
    "    collapsed_menu.click() ## 접힘버튼 클릭 \n",
    "# 여기서 browser화면을 그대로 사용할것인가???page가 변경되야함? NOPE \n",
    "# Click 해서 page가 바뀌어야함. 고로 return 안함. 변수 안담음\n",
    "# return or 변수를 담는 경우는 그 page에서 그대로 작업을 할 경우. \n",
    "except : \n",
    "    pass"
   ]
  },
  {
   "cell_type": "code",
   "execution_count": 24,
   "id": "55dff745-a162-4835-b9f8-57a5d587c915",
   "metadata": {
    "tags": []
   },
   "outputs": [
    {
     "data": {
      "text/plain": [
       "selenium.webdriver.remote.webelement.WebElement"
      ]
     },
     "execution_count": 24,
     "metadata": {},
     "output_type": "execute_result"
    }
   ],
   "source": [
    "type(collapsed_menu) # 결과 print: selenium.webdriver.remote.webelement.WebElement"
   ]
  },
  {
   "cell_type": "code",
   "execution_count": 25,
   "id": "3195318b-ebae-4252-8472-6a07bd3b0a43",
   "metadata": {
    "tags": []
   },
   "outputs": [],
   "source": [
    "## login button 클릭\n",
    "element_path='div > div > div > a.HeaderMenu-link.HeaderMenu-link--sign-in'\n",
    "signin_button=browser.find_element_by_css_selector(element_path) "
   ]
  },
  {
   "cell_type": "code",
   "execution_count": 26,
   "id": "2909dad4-8a52-4f62-be19-5c389626d1c8",
   "metadata": {
    "tags": []
   },
   "outputs": [],
   "source": [
    "signin_button.click() ## login button 클릭 "
   ]
  },
  {
   "cell_type": "markdown",
   "id": "5f7756dd-f5b7-44fd-8830-339a360c7757",
   "metadata": {},
   "source": [
    "### login page tag check\n",
    "- Username input tag: #login_field\n",
    "- Password input tag: #password\n",
    "- Sign in click tag\n",
    "    - 원래: #login > div.auth-form-body.mt-3 > form > div > input.btn.btn-primary.btn-block.js-sign-in-button\n",
    "    - 수정: input.btn.btn-primary.btn-block.js-sign-in-button"
   ]
  },
  {
   "cell_type": "code",
   "execution_count": 14,
   "id": "ec1ddd08-86d3-4a5d-bd51-0b99db000ff7",
   "metadata": {
    "tags": []
   },
   "outputs": [],
   "source": [
    "element_path='#login_field' # login ID 채우기 \n",
    "login_filed=browser.find_element_by_css_selector(element_path)"
   ]
  },
  {
   "cell_type": "code",
   "execution_count": 15,
   "id": "b830acd2-267b-470f-9224-16abcb0a1c64",
   "metadata": {
    "tags": []
   },
   "outputs": [],
   "source": [
    "login_filed.send_keys('ksa901125@gmail.com')"
   ]
  },
  {
   "cell_type": "code",
   "execution_count": 16,
   "id": "fdceb16f-8399-4a32-8f73-498e6fa19b7b",
   "metadata": {
    "tags": []
   },
   "outputs": [],
   "source": [
    "element_path='#password' # Password 채우기 \n",
    "password=browser.find_element_by_css_selector(element_path)"
   ]
  },
  {
   "cell_type": "code",
   "execution_count": 17,
   "id": "9589d181-0ae3-409c-8407-6245fe3f7ca3",
   "metadata": {
    "tags": []
   },
   "outputs": [],
   "source": [
    "password.send_keys('#####')"
   ]
  },
  {
   "cell_type": "code",
   "execution_count": 18,
   "id": "4ddc912c-9d4c-4559-8ab5-da9eb4fe2b4c",
   "metadata": {
    "tags": []
   },
   "outputs": [],
   "source": [
    "element_path='input.btn.btn-primary.btn-block.js-sign-in-button' # sign button 누르기 \n",
    "signin_button=browser.find_element_by_css_selector(element_path)"
   ]
  },
  {
   "cell_type": "code",
   "execution_count": 19,
   "id": "5a27e5dc-1243-4980-b594-f808dc85f875",
   "metadata": {
    "tags": []
   },
   "outputs": [],
   "source": [
    "signin_button.click()"
   ]
  },
  {
   "cell_type": "code",
   "execution_count": null,
   "id": "d2aae29c-b63c-411f-ab28-0ef6f9a2519c",
   "metadata": {},
   "outputs": [],
   "source": []
  },
  {
   "cell_type": "code",
   "execution_count": 24,
   "id": "48697723-0e7d-4a89-a81e-a5db9f240438",
   "metadata": {
    "tags": []
   },
   "outputs": [],
   "source": [
    "# browser.quit()"
   ]
  },
  {
   "cell_type": "code",
   "execution_count": null,
   "id": "03071678-2afd-4b5b-be1f-871113baeb06",
   "metadata": {},
   "outputs": [],
   "source": []
  }
 ],
 "metadata": {
  "kernelspec": {
   "display_name": "Python 3 (ipykernel)",
   "language": "python",
   "name": "python3"
  },
  "language_info": {
   "codemirror_mode": {
    "name": "ipython",
    "version": 3
   },
   "file_extension": ".py",
   "mimetype": "text/x-python",
   "name": "python",
   "nbconvert_exporter": "python",
   "pygments_lexer": "ipython3",
   "version": "3.11.3"
  }
 },
 "nbformat": 4,
 "nbformat_minor": 5
}
