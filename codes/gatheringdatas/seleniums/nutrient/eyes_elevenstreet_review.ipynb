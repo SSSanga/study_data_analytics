{
 "cells": [
  {
   "cell_type": "code",
   "execution_count": 29,
   "id": "8a13bfac-ba3b-45b4-ae75-8e65d8e2010c",
   "metadata": {
    "tags": []
   },
   "outputs": [],
   "source": [
    "from selenium import webdriver\n",
    "import time\n",
    "import pandas as pd\n",
    "# import pymongo as mg\n",
    "from selenium.webdriver.support.ui import WebDriverWait"
   ]
  },
  {
   "cell_type": "code",
   "execution_count": 30,
   "id": "765b58b7-6594-4d46-91a2-8a167c8612e0",
   "metadata": {
    "tags": []
   },
   "outputs": [],
   "source": [
    "from selenium.webdriver.chrome.options import Options\n",
    "import subprocess\n",
    "import shutil\n",
    "\n",
    "# 자신 맞는 chrome.exe 위치 변경 필요\n",
    "subprocess.Popen(r'C:\\Program Files\\Google\\Chrome\\Application\\chrome.exe --remote-debugging-port=9222 --user-data-dir=\"C:\\chrometemp\"')\n",
    "\n",
    "options = webdriver.ChromeOptions()\n",
    "options.add_experimental_option(\"debuggerAddress\", \"127.0.0.1:9222\")\n",
    "  # Experimental option as an argument"
   ]
  },
  {
   "cell_type": "code",
   "execution_count": 31,
   "id": "e174b75a-6e72-4899-a1d3-e6e33571cfea",
   "metadata": {
    "tags": []
   },
   "outputs": [],
   "source": [
    "#open chrome browser\n",
    "browser = webdriver.Chrome(executable_path='../../../../../chromedriver.exe', options=options) #webdriver_selenium과 web을 연결해주기위함.\n",
    "browser.set_window_size(1560,2000)"
   ]
  },
  {
   "cell_type": "code",
   "execution_count": 32,
   "id": "4364a60c-213d-4271-bd2a-1402589109d3",
   "metadata": {
    "tags": []
   },
   "outputs": [],
   "source": [
    "# url in address window\n",
    "browser.get('https://search.11st.co.kr/pc/total-search?kwd=%25EB%2588%2588%2520%25EC%2598%2581%25EC%2596%2591%25EC%25A0%259C&tabId=TOTAL_SEARCH')\n",
    "browser.implicitly_wait(3)"
   ]
  },
  {
   "cell_type": "code",
   "execution_count": 33,
   "id": "7dde0c56-e8ea-4e4e-a208-c8ef32264a5f",
   "metadata": {
    "tags": []
   },
   "outputs": [],
   "source": [
    "# ## 리뷰 많은 순 클릭\n",
    "# click_path='#layBodyWrap > div > div > div.l_search_content > div.search_content > div.c_search_sorting > div > div > div > div'\n",
    "# browser.find_element_by_css_selector(click_path).click()\n",
    "# select_category='div.c_search_sorting > div > div > div > ul > li:nth-child(5)'\n",
    "# browser.find_element_by_css_selector(select_category).click()"
   ]
  },
  {
   "cell_type": "code",
   "execution_count": 34,
   "id": "5d583a42-c60b-4ce7-bc7a-c1d83a4337f0",
   "metadata": {
    "tags": []
   },
   "outputs": [],
   "source": [
    "## 제품 클릭하기\n",
    "product_page = '#section_commonPrd > div.c-search-list > ul > li:nth-child(3)'\n",
    "product_info=browser.find_element_by_css_selector(product_page)\n",
    "product_info.click()"
   ]
  },
  {
   "cell_type": "code",
   "execution_count": 35,
   "id": "79bb0122-0e96-46d6-b361-95f9856169ff",
   "metadata": {
    "tags": []
   },
   "outputs": [],
   "source": [
    "## 제품 이름을가져오고싶음. "
   ]
  },
  {
   "cell_type": "markdown",
   "id": "ad2e252c-a972-4b87-9e66-983fd5a2a993",
   "metadata": {},
   "source": [
    "### 제품정보\n",
    "- 제품명: div.c_product_info_title > h1\n",
    "\n",
    "### 리뷰보기 single \n",
    "\n",
    "- 리뷰 보기 클릭: #tabMenuDetail2\n",
    "- 리뷰 날짜: #review-list-page-area > ul:nth-child(1) > li:nth-child(4) > div.c_product_review_cont > p.side > span\n",
    "- 스크롤 내려서 리뷰 더보기를 눌러야함. \n",
    "- 리뷰 더보기를 계속 눌러야함_리뷰가 다 나올때까지 클릭하는걸로 하자. \n",
    "    - 이 내용은 chat에 물어보기\n",
    "- 리뷰 내용: #review-list-page-area > ul:nth-child(1) > li:nth-child(4) > div > div > div.cont_text_wrap > p\n",
    "    - 리뷰 내용이 너무 길면 : 더보기 눌러야함: div.cont_text_wrap > p.cont_btn.review-expand 이게 또 사용이 될까??\n",
    "- 리뷰 별점:#review-list-page-area > ul:nth-child(1) > li:nth-child(4) > div > p.grade > span > em\n",
    "    - .get_attribute('aria-label')\n",
    "- 리뷰 작성자: #review-list-page-area > ul:nth-child(1) > li:nth-child(4) > dl > dt\n",
    "\n"
   ]
  },
  {
   "cell_type": "code",
   "execution_count": 36,
   "id": "baf89238-c3d7-49ae-9c4e-4b5333f3750d",
   "metadata": {
    "tags": []
   },
   "outputs": [],
   "source": [
    "# 새로 열린 창으로 전환\n",
    "new_window_handle = None\n",
    "while not new_window_handle:\n",
    "    for handle in browser.window_handles:\n",
    "        if handle != browser.current_window_handle:\n",
    "            new_window_handle = handle\n",
    "            break"
   ]
  },
  {
   "cell_type": "code",
   "execution_count": 37,
   "id": "3590e108-d1ad-472f-97bb-8be362186408",
   "metadata": {
    "tags": []
   },
   "outputs": [],
   "source": [
    "browser.switch_to.window(new_window_handle)"
   ]
  },
  {
   "cell_type": "code",
   "execution_count": 38,
   "id": "ab6335d0-e05e-4315-8fab-e6649ffab718",
   "metadata": {
    "tags": []
   },
   "outputs": [],
   "source": [
    "# 새 창의 주소를 변수로 저장\n",
    "new_window_url = browser.current_url"
   ]
  },
  {
   "cell_type": "code",
   "execution_count": 39,
   "id": "ea80d664-2ab4-4b47-99f6-c0b7b7ea6478",
   "metadata": {
    "tags": []
   },
   "outputs": [],
   "source": [
    "# ## 리뷰 보기\n",
    "# review_page = '#prdReview > strong'\n",
    "# review_click=browser.find_element_by_css_selector(review_page)\n",
    "# review_click.click()"
   ]
  },
  {
   "cell_type": "code",
   "execution_count": 40,
   "id": "750f0c17-dc3d-4f54-8179-e189f5ac3e97",
   "metadata": {
    "tags": []
   },
   "outputs": [
    {
     "data": {
      "text/plain": [
       "'종근당건강 아이클리어 루테인 500mg x 30캡슐 -up'"
      ]
     },
     "execution_count": 40,
     "metadata": {},
     "output_type": "execute_result"
    }
   ],
   "source": [
    "product_name= browser.find_element_by_css_selector('div.c_product_info_title > h1').text\n",
    "product_name"
   ]
  },
  {
   "cell_type": "code",
   "execution_count": 41,
   "id": "dd740bc9-93cb-47b8-9da1-123f4064d86b",
   "metadata": {
    "tags": []
   },
   "outputs": [],
   "source": [
    "# 리뷰보기 클릭 불필요\n",
    "browser.switch_to.frame('ifrmReview')"
   ]
  },
  {
   "cell_type": "code",
   "execution_count": 42,
   "id": "968b3399-17c2-4457-9c98-0298e5e3eee7",
   "metadata": {
    "tags": []
   },
   "outputs": [],
   "source": [
    "# # 리뷰 더보기 클릭_리뷰 더보기 버튼없을때까지 누르기\n",
    "# while True : \n",
    "#     try : \n",
    "#         button = '#review-list-page-area > div > button'\n",
    "#         button_click=browser.find_element_by_css_selector(button)\n",
    "#         button_click.click()\n",
    "#         time.sleep(2) \n",
    "        \n",
    "#     except:\n",
    "#         print('리뷰 더보기 없음')\n",
    "#         break\n"
   ]
  },
  {
   "cell_type": "code",
   "execution_count": 43,
   "id": "8af797c9-4a3b-4075-a8b2-daba97a21e56",
   "metadata": {
    "tags": []
   },
   "outputs": [],
   "source": [
    "# ## 리뷰 내용 더보기 \n",
    "# text_more = 'cont_btn review-expand'\n",
    "# text_click = browser.find_element_by_css_select(text_more)\n",
    "# text_click.click()\n",
    "# time.sleep(2)"
   ]
  },
  {
   "cell_type": "code",
   "execution_count": 44,
   "id": "ed07fa80-3f85-4ba7-a8b8-eb5ac996c88c",
   "metadata": {
    "tags": []
   },
   "outputs": [
    {
     "name": "stdout",
     "output_type": "stream",
     "text": [
      "리뷰 더보기 버튼을 더 이상 찾을 수 없음\n"
     ]
    }
   ],
   "source": [
    "while True:\n",
    "    try:\n",
    "        # 리뷰 더보기 버튼을 찾습니다.\n",
    "        button = '#review-list-page-area > div > button'\n",
    "        button_click=browser.find_element_by_css_selector(button)\n",
    "        \n",
    "        # 리뷰 더보기 버튼을 클릭합니다.\n",
    "        button_click.click()\n",
    "        \n",
    "        # 클릭 후 잠시 대기합니다 (사이트 로딩에 따라 조절)\n",
    "        time.sleep(2)\n",
    "        \n",
    "        try:\n",
    "            # 리뷰 내용 더보기 버튼을 찾습니다.\n",
    "            content_more_selector = 'button.c_product_btn.c_product_btn_more6.review-expand-open-text'\n",
    "            content_more_button = browser.find_element_by_css_selector(content_more_selector)\n",
    "            \n",
    "            # 리뷰 내용 더보기 버튼을 클릭합니다.\n",
    "            content_more_button.click()\n",
    "            \n",
    "            # 클릭 후 잠시 대기합니다 (사이트 로딩에 따라 조절)\n",
    "            time.sleep(2)\n",
    "            \n",
    "        except :\n",
    "            continue\n",
    "        \n",
    "    except:\n",
    "        # 리뷰 더보기 버튼을 더 이상 찾을 수 없으면 반복 종료합니다.\n",
    "        print('리뷰 더보기 버튼을 더 이상 찾을 수 없음')\n",
    "        break"
   ]
  },
  {
   "cell_type": "code",
   "execution_count": 45,
   "id": "45edd0e0-db8c-4137-8454-289d91f9b7d0",
   "metadata": {
    "tags": []
   },
   "outputs": [
    {
     "data": {
      "text/plain": [
       "19"
      ]
     },
     "execution_count": 45,
     "metadata": {},
     "output_type": "execute_result"
    }
   ],
   "source": [
    "##리뷰 번들\n",
    "reviews_bundle = browser.find_elements_by_css_selector('.review_list_element')\n",
    "len(reviews_bundle)"
   ]
  },
  {
   "cell_type": "code",
   "execution_count": 46,
   "id": "f1da3ac2-3aa9-4d13-9083-f4d13267b2c7",
   "metadata": {
    "tags": []
   },
   "outputs": [
    {
     "name": "stdout",
     "output_type": "stream",
     "text": [
      "kkt0***\n",
      "평점 별 5점 중 4\n",
      "유통기한 보통이에요 포장상태 보통이에요 효과 보통이에요\n",
      "가격대비 만족합니다\n",
      "2023.07.05 신고\n",
      "꾹 0 이 리뷰가 도움이 되었다면 꾹!\n"
     ]
    }
   ],
   "source": [
    "print(reviews_bundle[17].text)"
   ]
  },
  {
   "cell_type": "markdown",
   "id": "abf09aa8-6231-4f25-acaa-a3f1519069e8",
   "metadata": {},
   "source": [
    "- collection에 넣을 column명\n",
    "['product_name'] ['review_date'] ['review_content'] ['review_star'] [review_writer] "
   ]
  },
  {
   "cell_type": "markdown",
   "id": "3960f8ab-d6a0-4c1f-bcfc-fb594399ec11",
   "metadata": {},
   "source": [
    "#### #review-list-page-area > ul:nth-child(2) > li:nth-child(8)\n",
    "- 리뷰 더보기를 클릭하면 ul:nth-child(2) 이게 늘어나고 그 안에서 li:nth-child(8)이게 1부터 10까지 있음. \n",
    "이걸 for문 돌려.."
   ]
  },
  {
   "cell_type": "code",
   "execution_count": 47,
   "id": "b80a45e8-d292-47ff-8f65-5a5dc6e354e5",
   "metadata": {},
   "outputs": [
    {
     "data": {
      "text/plain": [
       "('가격대비 만족합니다', '2023.07.05', '4', 'kkt0***')"
      ]
     },
     "execution_count": 47,
     "metadata": {},
     "output_type": "execute_result"
    }
   ],
   "source": [
    "# product_name= browser.find_element_by_css_selector('div.c_product_info_title > h1').text\n",
    "review_content = reviews_bundle[17].find_element_by_css_selector('div.c_product_review_cont > div > div.cont_text_wrap > p').text ##bundle에서 0번째 가져옴?\n",
    "review_date = reviews_bundle[17].find_element_by_css_selector('div.c_product_review_cont > p.side > span').text \n",
    "review_star = reviews_bundle[17].find_element_by_css_selector('p.grade > span > em').text\n",
    "review_writer = reviews_bundle[17].find_element_by_css_selector('dl > dt').text \n",
    "review_content, review_date, review_star, review_writer"
   ]
  },
  {
   "cell_type": "markdown",
   "id": "1eeaa7a7-b737-462a-acda-3b3d463042ab",
   "metadata": {},
   "source": [
    "### 리뷰보기 multiple\n",
    "- 리뷰 묶음: #review-list-page-area\n",
    "\n",
    "- 리뷰 날짜: div > p.side > span\n",
    "- 리뷰 내용: div.cont_text_wrap > p\n",
    "- 리뷰 별점: .c_seller_grade em\n",
    "- 리뷰 작성자: .c_product_reviewer dt.name"
   ]
  },
  {
   "cell_type": "code",
   "execution_count": 48,
   "id": "e4b442e7-d620-4ca0-8297-0d86a84f23e4",
   "metadata": {
    "tags": []
   },
   "outputs": [
    {
     "data": {
      "text/plain": [
       "19"
      ]
     },
     "execution_count": 48,
     "metadata": {},
     "output_type": "execute_result"
    }
   ],
   "source": [
    "## 에러 처리 필요 ::: 케어네이션... 앱은 리뷰 1.09천개로 표시됩\n",
    "## 일단 총 리뷰수를 int로 바꾼다. \n",
    "review_total_count_text = browser.find_element_by_css_selector('h4 > span > i').text\n",
    "    \n",
    "## 혜인설명: 총 댓글 수를 정규화로 뽑아냄 .\n",
    "import re # reqexpress function\n",
    "result_list = re.findall(r'\\d+', review_total_count_text)\n",
    "# print(result_list[0], int(result_list[0]))\n",
    "        \n",
    "review_total_count = int(result_list[0])  # 리뷰 총 갯수\n",
    "review_total_count"
   ]
  },
  {
   "cell_type": "code",
   "execution_count": 49,
   "id": "4d5d0ba7-d2c8-429d-9e5d-6bf860e3a9bd",
   "metadata": {
    "tags": []
   },
   "outputs": [
    {
     "name": "stdout",
     "output_type": "stream",
     "text": [
      "current reviews_bundle count : 19\n",
      "Done 19\n",
      "1\n"
     ]
    }
   ],
   "source": [
    "review_standard_count_per = 10\n",
    "\n",
    "loop_count_int = int(review_total_count / review_standard_count_per)\n",
    "for count in range(1, loop_count_int+1) :\n",
    "    try :\n",
    "        reviews_bundle = browser.find_elements_by_css_selector('.review_list_element')\n",
    "        print('current reviews_bundle count : {}'.format(len(reviews_bundle)))\n",
    "        reviews_bundle[len(reviews_bundle)-1].click()\n",
    "        time.sleep(3)\n",
    "    except :\n",
    "        print('pass')\n",
    "        pass\n",
    "print('Done', len(reviews_bundle))\n",
    "print(int(loop_count_int))"
   ]
  },
  {
   "cell_type": "code",
   "execution_count": 53,
   "id": "d29252e0-3eb8-4886-b347-8432a4e9fd15",
   "metadata": {
    "tags": []
   },
   "outputs": [
    {
     "ename": "NoSuchElementException",
     "evalue": "Message: no such element: Unable to locate element: {\"method\":\"css selector\",\"selector\":\"ul:nth-child(2) > li:nth-child(10) > div > div\"}\n  (Session info: chrome=116.0.5845.188)\n",
     "output_type": "error",
     "traceback": [
      "\u001b[1;31m---------------------------------------------------------------------------\u001b[0m",
      "\u001b[1;31mNoSuchElementException\u001b[0m                    Traceback (most recent call last)",
      "Cell \u001b[1;32mIn[53], line 13\u001b[0m\n\u001b[0;32m      9\u001b[0m review_standard_count_per \u001b[38;5;241m=\u001b[39m \u001b[38;5;241m10\u001b[39m\n\u001b[0;32m     11\u001b[0m \u001b[38;5;28;01mfor\u001b[39;00m review_num \u001b[38;5;129;01min\u001b[39;00m \u001b[38;5;28mrange\u001b[39m(\u001b[38;5;241m1\u001b[39m, review_standard_count_per \u001b[38;5;241m+\u001b[39m \u001b[38;5;241m1\u001b[39m):\n\u001b[0;32m     12\u001b[0m     \u001b[38;5;66;03m# 리뷰 정보를 가져오는 코드\u001b[39;00m\n\u001b[1;32m---> 13\u001b[0m     review_content \u001b[38;5;241m=\u001b[39m browser\u001b[38;5;241m.\u001b[39mfind_element_by_css_selector(\n\u001b[0;32m     14\u001b[0m         \u001b[38;5;124mf\u001b[39m\u001b[38;5;124m'\u001b[39m\u001b[38;5;132;01m{\u001b[39;00mul_selector\u001b[38;5;132;01m}\u001b[39;00m\u001b[38;5;124m > li:nth-child(\u001b[39m\u001b[38;5;132;01m{\u001b[39;00mreview_num\u001b[38;5;132;01m}\u001b[39;00m\u001b[38;5;124m) > div > div\u001b[39m\u001b[38;5;124m'\u001b[39m)\u001b[38;5;241m.\u001b[39mtext\n\u001b[0;32m     15\u001b[0m     review_date \u001b[38;5;241m=\u001b[39m browser\u001b[38;5;241m.\u001b[39mfind_element_by_css_selector(\n\u001b[0;32m     16\u001b[0m         \u001b[38;5;124mf\u001b[39m\u001b[38;5;124m'\u001b[39m\u001b[38;5;132;01m{\u001b[39;00mul_selector\u001b[38;5;132;01m}\u001b[39;00m\u001b[38;5;124m > li:nth-child(\u001b[39m\u001b[38;5;132;01m{\u001b[39;00mreview_num\u001b[38;5;132;01m}\u001b[39;00m\u001b[38;5;124m) > div.c_product_review_cont > p.side > span\u001b[39m\u001b[38;5;124m'\u001b[39m)\u001b[38;5;241m.\u001b[39mtext\n\u001b[0;32m     17\u001b[0m     review_star \u001b[38;5;241m=\u001b[39m browser\u001b[38;5;241m.\u001b[39mfind_element_by_css_selector(\n\u001b[0;32m     18\u001b[0m         \u001b[38;5;124mf\u001b[39m\u001b[38;5;124m'\u001b[39m\u001b[38;5;132;01m{\u001b[39;00mul_selector\u001b[38;5;132;01m}\u001b[39;00m\u001b[38;5;124m > li:nth-child(\u001b[39m\u001b[38;5;132;01m{\u001b[39;00mreview_num\u001b[38;5;132;01m}\u001b[39;00m\u001b[38;5;124m) > div > p.grade > span > em\u001b[39m\u001b[38;5;124m'\u001b[39m)\u001b[38;5;241m.\u001b[39mtext\n",
      "File \u001b[1;32m~\\anaconda3\\Lib\\site-packages\\selenium\\webdriver\\remote\\webdriver.py:598\u001b[0m, in \u001b[0;36mWebDriver.find_element_by_css_selector\u001b[1;34m(self, css_selector)\u001b[0m\n\u001b[0;32m    582\u001b[0m \u001b[38;5;28;01mdef\u001b[39;00m \u001b[38;5;21mfind_element_by_css_selector\u001b[39m(\u001b[38;5;28mself\u001b[39m, css_selector):\n\u001b[0;32m    583\u001b[0m \u001b[38;5;250m    \u001b[39m\u001b[38;5;124;03m\"\"\"\u001b[39;00m\n\u001b[0;32m    584\u001b[0m \u001b[38;5;124;03m    Finds an element by css selector.\u001b[39;00m\n\u001b[0;32m    585\u001b[0m \n\u001b[1;32m   (...)\u001b[0m\n\u001b[0;32m    596\u001b[0m \u001b[38;5;124;03m        element = driver.find_element_by_css_selector('#foo')\u001b[39;00m\n\u001b[0;32m    597\u001b[0m \u001b[38;5;124;03m    \"\"\"\u001b[39;00m\n\u001b[1;32m--> 598\u001b[0m     \u001b[38;5;28;01mreturn\u001b[39;00m \u001b[38;5;28mself\u001b[39m\u001b[38;5;241m.\u001b[39mfind_element(by\u001b[38;5;241m=\u001b[39mBy\u001b[38;5;241m.\u001b[39mCSS_SELECTOR, value\u001b[38;5;241m=\u001b[39mcss_selector)\n",
      "File \u001b[1;32m~\\anaconda3\\Lib\\site-packages\\selenium\\webdriver\\remote\\webdriver.py:976\u001b[0m, in \u001b[0;36mWebDriver.find_element\u001b[1;34m(self, by, value)\u001b[0m\n\u001b[0;32m    974\u001b[0m         by \u001b[38;5;241m=\u001b[39m By\u001b[38;5;241m.\u001b[39mCSS_SELECTOR\n\u001b[0;32m    975\u001b[0m         value \u001b[38;5;241m=\u001b[39m \u001b[38;5;124m'\u001b[39m\u001b[38;5;124m[name=\u001b[39m\u001b[38;5;124m\"\u001b[39m\u001b[38;5;132;01m%s\u001b[39;00m\u001b[38;5;124m\"\u001b[39m\u001b[38;5;124m]\u001b[39m\u001b[38;5;124m'\u001b[39m \u001b[38;5;241m%\u001b[39m value\n\u001b[1;32m--> 976\u001b[0m \u001b[38;5;28;01mreturn\u001b[39;00m \u001b[38;5;28mself\u001b[39m\u001b[38;5;241m.\u001b[39mexecute(Command\u001b[38;5;241m.\u001b[39mFIND_ELEMENT, {\n\u001b[0;32m    977\u001b[0m     \u001b[38;5;124m'\u001b[39m\u001b[38;5;124musing\u001b[39m\u001b[38;5;124m'\u001b[39m: by,\n\u001b[0;32m    978\u001b[0m     \u001b[38;5;124m'\u001b[39m\u001b[38;5;124mvalue\u001b[39m\u001b[38;5;124m'\u001b[39m: value})[\u001b[38;5;124m'\u001b[39m\u001b[38;5;124mvalue\u001b[39m\u001b[38;5;124m'\u001b[39m]\n",
      "File \u001b[1;32m~\\anaconda3\\Lib\\site-packages\\selenium\\webdriver\\remote\\webdriver.py:321\u001b[0m, in \u001b[0;36mWebDriver.execute\u001b[1;34m(self, driver_command, params)\u001b[0m\n\u001b[0;32m    319\u001b[0m response \u001b[38;5;241m=\u001b[39m \u001b[38;5;28mself\u001b[39m\u001b[38;5;241m.\u001b[39mcommand_executor\u001b[38;5;241m.\u001b[39mexecute(driver_command, params)\n\u001b[0;32m    320\u001b[0m \u001b[38;5;28;01mif\u001b[39;00m response:\n\u001b[1;32m--> 321\u001b[0m     \u001b[38;5;28mself\u001b[39m\u001b[38;5;241m.\u001b[39merror_handler\u001b[38;5;241m.\u001b[39mcheck_response(response)\n\u001b[0;32m    322\u001b[0m     response[\u001b[38;5;124m'\u001b[39m\u001b[38;5;124mvalue\u001b[39m\u001b[38;5;124m'\u001b[39m] \u001b[38;5;241m=\u001b[39m \u001b[38;5;28mself\u001b[39m\u001b[38;5;241m.\u001b[39m_unwrap_value(\n\u001b[0;32m    323\u001b[0m         response\u001b[38;5;241m.\u001b[39mget(\u001b[38;5;124m'\u001b[39m\u001b[38;5;124mvalue\u001b[39m\u001b[38;5;124m'\u001b[39m, \u001b[38;5;28;01mNone\u001b[39;00m))\n\u001b[0;32m    324\u001b[0m     \u001b[38;5;28;01mreturn\u001b[39;00m response\n",
      "File \u001b[1;32m~\\anaconda3\\Lib\\site-packages\\selenium\\webdriver\\remote\\errorhandler.py:242\u001b[0m, in \u001b[0;36mErrorHandler.check_response\u001b[1;34m(self, response)\u001b[0m\n\u001b[0;32m    240\u001b[0m         alert_text \u001b[38;5;241m=\u001b[39m value[\u001b[38;5;124m'\u001b[39m\u001b[38;5;124malert\u001b[39m\u001b[38;5;124m'\u001b[39m]\u001b[38;5;241m.\u001b[39mget(\u001b[38;5;124m'\u001b[39m\u001b[38;5;124mtext\u001b[39m\u001b[38;5;124m'\u001b[39m)\n\u001b[0;32m    241\u001b[0m     \u001b[38;5;28;01mraise\u001b[39;00m exception_class(message, screen, stacktrace, alert_text)\n\u001b[1;32m--> 242\u001b[0m \u001b[38;5;28;01mraise\u001b[39;00m exception_class(message, screen, stacktrace)\n",
      "\u001b[1;31mNoSuchElementException\u001b[0m: Message: no such element: Unable to locate element: {\"method\":\"css selector\",\"selector\":\"ul:nth-child(2) > li:nth-child(10) > div > div\"}\n  (Session info: chrome=116.0.5845.188)\n"
     ]
    }
   ],
   "source": [
    "reviews_bundle = list()\n",
    "\n",
    "# 페이지 넘기기를 위한 루프 설정\n",
    "for page in range(1, loop_count_int + 2):  # 1부터 loop_count_int + 1까지 반복\n",
    "    # ul:nth-child(n) 설정\n",
    "    ul_selector = f'ul:nth-child({page})'\n",
    "\n",
    "    # 한 페이지당 가져올 리뷰 수 설정\n",
    "    review_standard_count_per = 10\n",
    "\n",
    "    for review_num in range(1, review_standard_count_per + 1):\n",
    "        # 리뷰 정보를 가져오는 코드\n",
    "        review_content = browser.find_element_by_css_selector(\n",
    "            f'{ul_selector} > li:nth-child({review_num}) > div > div').text\n",
    "        review_date = browser.find_element_by_css_selector(\n",
    "            f'{ul_selector} > li:nth-child({review_num}) > div.c_product_review_cont > p.side > span').text\n",
    "        review_star = browser.find_element_by_css_selector(\n",
    "            f'{ul_selector} > li:nth-child({review_num}) > div > p.grade > span > em').text\n",
    "        review_writer = browser.find_element_by_css_selector(\n",
    "            f'{ul_selector} > li:nth-child({review_num}) > dl > dt').text\n",
    "\n",
    "        # 리뷰 정보를 딕셔너리로 저장하고 리스트에 추가\n",
    "        review_data = {\n",
    "            'content': review_content,\n",
    "            'date': review_date,\n",
    "            'star': review_star,\n",
    "            'writer': review_writer\n",
    "        }\n",
    "        reviews_bundle.append(review_data)\n",
    "\n",
    "    # 다음 페이지로 이동 (예: 다음 페이지로 이동하는 코드를 여기에 추가)\n",
    "\n",
    "# # 웹 브라우저 종료\n",
    "# browser.quit()\n",
    "\n",
    "# 수집된 리뷰 출력 또는 저장\n",
    "for review_bundle in reviews_bundle:\n",
    "    print(review_bundle)"
   ]
  },
  {
   "cell_type": "code",
   "execution_count": 23,
   "id": "f097e809-1a72-46f5-a91d-818e4486a768",
   "metadata": {
    "tags": []
   },
   "outputs": [
    {
     "data": {
      "text/plain": [
       "('엄마가 드시던 제품\\n여기가 젤 저렴해요', '2023.09.11', '5', 'ourp**')"
      ]
     },
     "execution_count": 23,
     "metadata": {},
     "output_type": "execute_result"
    }
   ],
   "source": [
    "review_content = browser.find_element_by_css_selector('ul:nth-child(2) > li:nth-child(5) > div > div').text\n",
    "review_date = browser.find_element_by_css_selector('ul:nth-child(2) > li:nth-child(5) > div.c_product_review_cont > p.side > span').text\n",
    "review_star = browser.find_element_by_css_selector('ul:nth-child(2) > li:nth-child(5) > div > p.grade > span > em').text\n",
    "review_writer = browser.find_element_by_css_selector('ul:nth-child(2) > li:nth-child(5) > dl > dt').text\n",
    "review_content, review_date, review_star, review_writer"
   ]
  },
  {
   "cell_type": "code",
   "execution_count": 24,
   "id": "90362a2b-3bf2-4663-9821-02b75364ae11",
   "metadata": {
    "tags": []
   },
   "outputs": [
    {
     "name": "stdout",
     "output_type": "stream",
     "text": [
      "에러\n",
      "에러\n",
      "에러\n",
      "에러\n",
      "에러\n",
      "에러\n",
      "에러\n",
      "에러\n",
      "에러\n",
      "에러\n"
     ]
    }
   ],
   "source": [
    "for n in range(1, loop_count_int + 1):  # 1부터 시작하여 n을 증가시킵니다.\n",
    "    for m in range(1, 11):  # 1부터 10까지 m을 증가시킵니다.\n",
    "        try:\n",
    "            product_name = browser.find_element_by_css_selector('div.c_product_info_title > h1').text\n",
    "            review_content = browser.find_element_by_css_selector(\n",
    "                f'ul:nth-child({n}) > li:nth-child({m}) > div.c_product_review_cont > div > div.cont_text_wrap > p').text\n",
    "            review_date = browser.find_element_by_css_selector(\n",
    "                f'ul:nth-child({n}) > li:nth-child({m}) > div.c_product_review_cont > p.side > span').text\n",
    "            review_star = browser.find_element_by_css_selector(\n",
    "                f'ul:nth-child({n}) > li:nth-child({m}) > p.grade > span > em').text\n",
    "            review_writer = browser.find_element_by_css_selector(\n",
    "                f'ul:nth-child({n}) > li:nth-child({m}) > dl > dt').text\n",
    "\n",
    "            # 필요한 작업 수행\n",
    "            print(product_name, review_content, review_date, review_star, review_writer)\n",
    "        except :\n",
    "            print('에러')\n",
    "            pass"
   ]
  },
  {
   "cell_type": "code",
   "execution_count": 28,
   "id": "f9771cd1-fee2-4ebb-b2ab-0aba94f1bb00",
   "metadata": {},
   "outputs": [
    {
     "name": "stdout",
     "output_type": "stream",
     "text": [
      "에러임\n",
      "에러임\n",
      "에러임\n"
     ]
    }
   ],
   "source": [
    "reviews_list = list()\n",
    "for review_item in reviews_bundle:\n",
    "    try:\n",
    "        review_content = review_item.find_element_by_css_selector('div.c_product_review_cont > div > div.cont_text_wrap > p').text\n",
    "        review_date = review_item.find_element_by_css_selector('div.c_product_review_cont > p.side > span').text\n",
    "        review_star = review_item.find_element_by_css_selector('p.grade > span > em').text\n",
    "        review_writer = review_item.find_element_by_css_selector('dl > dt').text\n",
    "        review_list = [review_content, review_date, review_star, review_writer]\n",
    "        reviews_list.append(review_list)\n",
    "    except:\n",
    "        # 해당 리뷰 버블에서 필요한 요소를 찾을 수 없는 경우\n",
    "        # 이 부분을 처리하거나, 아무것도 하지 않도록 설정할 수 있습니다.\n",
    "        print('에러임')\n",
    "        pass"
   ]
  },
  {
   "cell_type": "code",
   "execution_count": null,
   "id": "18fd53b1-ca83-4b9d-b79f-e008cc9df3be",
   "metadata": {},
   "outputs": [],
   "source": []
  }
 ],
 "metadata": {
  "kernelspec": {
   "display_name": "Python 3 (ipykernel)",
   "language": "python",
   "name": "python3"
  },
  "language_info": {
   "codemirror_mode": {
    "name": "ipython",
    "version": 3
   },
   "file_extension": ".py",
   "mimetype": "text/x-python",
   "name": "python",
   "nbconvert_exporter": "python",
   "pygments_lexer": "ipython3",
   "version": "3.11.3"
  }
 },
 "nbformat": 4,
 "nbformat_minor": 5
}
