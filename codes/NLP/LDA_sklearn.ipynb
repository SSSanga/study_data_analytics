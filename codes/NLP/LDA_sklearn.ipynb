{
 "cells": [
  {
   "cell_type": "code",
   "execution_count": 1,
   "id": "cab7d9bb-6490-49be-b55b-484560ea7aaa",
   "metadata": {
    "tags": []
   },
   "outputs": [],
   "source": [
    "sentences = [\n",
    "    \"오늘 날씨가 좋아서 나들이 가고 싶다.\", # -> [오늘, 날씨가, 좋아서 ...]\n",
    "    \"이 영화는 정말 재미있었어요.\",\n",
    "    \"맛있는 음식을 먹으러 갈까요?\",\n",
    "    \"운동을 하면 건강에 좋아지는 것 같아요.\",\n",
    "    \"공부하기 싫어서 미루고 있어요.\",\n",
    "    \"여행 계획을 세우고 있는데 어디로 갈까요?\",\n",
    "    \"좋은 책을 읽으면 마음이 편안해져요.\",\n",
    "    \"오늘은 친구들과 만나서 재미있게 놀았어요.\",\n",
    "    \"새로운 언어를 배우는 것은 어려워도 흥미로워요.\",\n",
    "    \"주말에 가족들과 함께 시간을 보내기로 했습니다.\"\n",
    "]"
   ]
  },
  {
   "cell_type": "code",
   "execution_count": 2,
   "id": "e70693c4-427b-4548-9050-5dc7a6a3856f",
   "metadata": {
    "tags": []
   },
   "outputs": [],
   "source": [
    "from mecab import MeCab"
   ]
  },
  {
   "cell_type": "code",
   "execution_count": 3,
   "id": "cf39a516-eb9d-4b1d-85a4-ea8944943dc7",
   "metadata": {
    "tags": []
   },
   "outputs": [],
   "source": [
    "mecab=MeCab()"
   ]
  },
  {
   "cell_type": "markdown",
   "id": "76b9db46-d725-4f1a-b534-091cb95ac903",
   "metadata": {},
   "source": [
    "### 자연어 전처리 "
   ]
  },
  {
   "cell_type": "code",
   "execution_count": 12,
   "id": "342de3b9-23ee-42e3-8574-d13fc7029d70",
   "metadata": {
    "tags": []
   },
   "outputs": [
    {
     "data": {
      "text/plain": [
       "<function __main__.tokenizer(raw, pos=['Noun', 'Alpha', 'Verb', 'Number'], stopword=['가', '고', '을', '를', '이', '는'])>"
      ]
     },
     "execution_count": 12,
     "metadata": {},
     "output_type": "execute_result"
    }
   ],
   "source": [
    "\n",
    "# 불용어 리스트 생성 (예시)\n",
    "stopwords = ['가', '고', '을', '를', '이', '는']\n",
    "from konlpy.tag import Okt\n",
    "\n",
    "# Okt 형태소 분석기 인스턴스 생성\n",
    "okt = Okt()\n",
    "\n",
    "# 불용어 리스트 생성 (예시)\n",
    "stopwords = ['가', '고', '을', '를', '이', '는']\n",
    "\n",
    "# 토크나이징 함수 정의\n",
    "def tokenizer(raw, pos=[\"Noun\",\"Alpha\",\"Verb\",\"Number\"], stopword=stopwords):\n",
    "    return [\n",
    "        word for word, tag in okt.pos(\n",
    "            raw, \n",
    "            norm=True,   # normalize 그랰ㅋㅏ -> 그래ㅋㅋ\n",
    "            stem=True    # stemming 바뀌나->바뀌다\n",
    "            )\n",
    "            if len(word) > 1 and tag in pos and word not in stopword\n",
    "\n",
    "    ]\n",
    "tokenizer "
   ]
  },
  {
   "cell_type": "code",
   "execution_count": 5,
   "id": "6f79895d-914e-44d3-b9ad-98dc7a9d6755",
   "metadata": {
    "tags": []
   },
   "outputs": [],
   "source": [
    "# ## 명사만 추출\n",
    "# morphs_list = list()\n",
    "# for sentence in sentences :\n",
    "#     morphs = mecab.nouns(sentence)\n",
    "#     morphs_list = morphs_list + morphs\n",
    "# morphs_list"
   ]
  },
  {
   "cell_type": "code",
   "execution_count": 6,
   "id": "79d760b8-b053-4c03-90a8-d4530ae3e42e",
   "metadata": {
    "tags": []
   },
   "outputs": [],
   "source": [
    "from sklearn.feature_extraction.text import TfidfVectorizer"
   ]
  },
  {
   "cell_type": "code",
   "execution_count": 7,
   "id": "1b667ed5-6a9f-408d-8200-96b5ccdd016f",
   "metadata": {
    "tags": []
   },
   "outputs": [],
   "source": [
    "vectorizer = TfidfVectorizer(tokenizer=tokenizer, use_idf=True)"
   ]
  },
  {
   "cell_type": "code",
   "execution_count": 8,
   "id": "9e433b20-6dab-4738-9bc7-2bf88875cda2",
   "metadata": {
    "tags": []
   },
   "outputs": [
    {
     "name": "stderr",
     "output_type": "stream",
     "text": [
      "C:\\Users\\01-15\\anaconda3\\Lib\\site-packages\\sklearn\\feature_extraction\\text.py:528: UserWarning: The parameter 'token_pattern' will not be used since 'tokenizer' is not None'\n",
      "  warnings.warn(\n"
     ]
    },
    {
     "data": {
      "text/plain": [
       "array([[0.46015789, 0.        , 0.        , 0.        , 0.        ,\n",
       "        0.        , 0.46015789, 0.46015789, 0.        , 0.        ,\n",
       "        0.        , 0.        , 0.        , 0.        , 0.        ,\n",
       "        0.        , 0.        , 0.46015789, 0.        , 0.        ,\n",
       "        0.        , 0.        , 0.39117625, 0.        , 0.        ,\n",
       "        0.        , 0.        , 0.        , 0.        , 0.        ,\n",
       "        0.        ],\n",
       "       [0.        , 0.        , 0.        , 0.        , 0.        ,\n",
       "        0.        , 0.        , 0.        , 0.        , 0.        ,\n",
       "        0.        , 0.        , 0.        , 0.        , 0.        ,\n",
       "        0.        , 0.        , 0.        , 0.        , 0.        ,\n",
       "        0.        , 0.70710678, 0.        , 0.        , 0.        ,\n",
       "        0.        , 0.70710678, 0.        , 0.        , 0.        ,\n",
       "        0.        ],\n",
       "       [0.        , 0.        , 0.51519219, 0.        , 0.        ,\n",
       "        0.        , 0.        , 0.        , 0.        , 0.        ,\n",
       "        0.        , 0.60604332, 0.        , 0.        , 0.        ,\n",
       "        0.        , 0.        , 0.        , 0.        , 0.        ,\n",
       "        0.        , 0.        , 0.        , 0.        , 0.60604332,\n",
       "        0.        , 0.        , 0.        , 0.        , 0.        ,\n",
       "        0.        ],\n",
       "       [0.        , 0.        , 0.        , 0.53051081, 0.        ,\n",
       "        0.        , 0.        , 0.        , 0.        , 0.        ,\n",
       "        0.        , 0.        , 0.        , 0.        , 0.        ,\n",
       "        0.        , 0.        , 0.        , 0.        , 0.        ,\n",
       "        0.        , 0.        , 0.        , 0.53051081, 0.        ,\n",
       "        0.        , 0.        , 0.53051081, 0.        , 0.        ,\n",
       "        0.39455653],\n",
       "       [0.        , 0.        , 0.        , 0.        , 0.        ,\n",
       "        0.62583988, 0.        , 0.        , 0.        , 0.        ,\n",
       "        0.        , 0.        , 0.62583988, 0.        , 0.        ,\n",
       "        0.        , 0.        , 0.        , 0.        , 0.        ,\n",
       "        0.        , 0.        , 0.        , 0.        , 0.        ,\n",
       "        0.        , 0.        , 0.        , 0.        , 0.        ,\n",
       "        0.46545557],\n",
       "       [0.        , 0.        , 0.39117625, 0.        , 0.46015789,\n",
       "        0.        , 0.        , 0.        , 0.        , 0.        ,\n",
       "        0.        , 0.        , 0.        , 0.        , 0.        ,\n",
       "        0.46015789, 0.        , 0.        , 0.46015789, 0.        ,\n",
       "        0.46015789, 0.        , 0.        , 0.        , 0.        ,\n",
       "        0.        , 0.        , 0.        , 0.        , 0.        ,\n",
       "        0.        ],\n",
       "       [0.        , 0.        , 0.        , 0.        , 0.        ,\n",
       "        0.        , 0.        , 0.        , 0.        , 0.70710678,\n",
       "        0.        , 0.        , 0.        , 0.        , 0.        ,\n",
       "        0.        , 0.        , 0.        , 0.        , 0.        ,\n",
       "        0.        , 0.        , 0.        , 0.        , 0.        ,\n",
       "        0.70710678, 0.        , 0.        , 0.        , 0.        ,\n",
       "        0.        ],\n",
       "       [0.        , 0.        , 0.        , 0.        , 0.        ,\n",
       "        0.        , 0.        , 0.        , 0.5182909 , 0.        ,\n",
       "        0.5182909 , 0.        , 0.        , 0.        , 0.        ,\n",
       "        0.        , 0.        , 0.        , 0.        , 0.        ,\n",
       "        0.        , 0.        , 0.44059462, 0.        , 0.        ,\n",
       "        0.        , 0.        , 0.        , 0.        , 0.5182909 ,\n",
       "        0.        ],\n",
       "       [0.        , 0.        , 0.        , 0.        , 0.        ,\n",
       "        0.        , 0.        , 0.        , 0.        , 0.        ,\n",
       "        0.        , 0.        , 0.        , 0.70710678, 0.        ,\n",
       "        0.        , 0.        , 0.        , 0.        , 0.70710678,\n",
       "        0.        , 0.        , 0.        , 0.        , 0.        ,\n",
       "        0.        , 0.        , 0.        , 0.        , 0.        ,\n",
       "        0.        ],\n",
       "       [0.        , 0.46864588, 0.        , 0.        , 0.        ,\n",
       "        0.        , 0.        , 0.        , 0.        , 0.        ,\n",
       "        0.        , 0.        , 0.        , 0.        , 0.46864588,\n",
       "        0.        , 0.46864588, 0.        , 0.        , 0.        ,\n",
       "        0.        , 0.        , 0.        , 0.        , 0.        ,\n",
       "        0.        , 0.        , 0.        , 0.46864588, 0.        ,\n",
       "        0.34854576]])"
      ]
     },
     "execution_count": 8,
     "metadata": {},
     "output_type": "execute_result"
    }
   ],
   "source": [
    "features = vectorizer.fit_transform(sentences) ## gensim의 dictionary 형태와 유사하게 만들어짐. \n",
    "features.toarray()"
   ]
  },
  {
   "cell_type": "code",
   "execution_count": 10,
   "id": "f376ea8e-4b8c-4e4f-b800-7bf77e12d7fd",
   "metadata": {},
   "outputs": [
    {
     "data": {
      "text/plain": [
       "array(['가다', '가족', '갈다', '건강', '계획', '공부', '나들이', '날씨', '놀다', '마음', '만나다',\n",
       "       '먹다', '미루다', '배우다', '보내다', '세우다', '시간', '싶다', '어디', '언어', '여행',\n",
       "       '영화', '오늘', '운동', '음식', '읽다', '정말', '좋아지다', '주말', '친구', '하다'],\n",
       "      dtype=object)"
      ]
     },
     "execution_count": 10,
     "metadata": {},
     "output_type": "execute_result"
    }
   ],
   "source": [
    "vectorizer.get_feature_names_out()"
   ]
  },
  {
   "cell_type": "markdown",
   "id": "e978b503-414a-4e6e-834f-54ba360ab829",
   "metadata": {},
   "source": [
    "### LDA 모델 적용 using sklearn\n",
    "- lda_model=LatentDirichletAllocation(n_components=3, random_state=111) ## 인스턴스화 , n_components =3 토픽 개수 "
   ]
  },
  {
   "cell_type": "code",
   "execution_count": null,
   "id": "04d117b6-5c35-4ae3-b9ba-69ebbe00d63b",
   "metadata": {
    "tags": []
   },
   "outputs": [],
   "source": [
    "## sklearn의 Lda_model from sklearn.decomposition import LatentDirichletAllocation\n",
    "from sklearn.decomposition import LatentDirichletAllocation"
   ]
  },
  {
   "cell_type": "code",
   "execution_count": null,
   "id": "88894a6f-2001-4948-a1af-31f9d96a4af8",
   "metadata": {
    "tags": []
   },
   "outputs": [],
   "source": [
    "lda_model=LatentDirichletAllocation(n_components=3, random_state=111) ## 인스턴스화 "
   ]
  },
  {
   "cell_type": "code",
   "execution_count": null,
   "id": "2c4c3b51-3a4c-4f16-9091-d05bd57e132a",
   "metadata": {
    "tags": []
   },
   "outputs": [],
   "source": [
    "lda_model.fit(features) # 학습화 시킴. "
   ]
  },
  {
   "cell_type": "code",
   "execution_count": null,
   "id": "c82c44c9-652c-4db3-829e-ca3e4f098c3b",
   "metadata": {
    "tags": []
   },
   "outputs": [],
   "source": [
    "lda_model.components_ # 토픽에 대한 중요도를 수치화"
   ]
  },
  {
   "cell_type": "code",
   "execution_count": null,
   "id": "719c2de0-d1d7-449b-823e-c13c7261af23",
   "metadata": {
    "tags": []
   },
   "outputs": [],
   "source": [
    "len(lda_model.components_[0])"
   ]
  },
  {
   "cell_type": "code",
   "execution_count": null,
   "id": "86d57415-559a-4105-b97d-424897321814",
   "metadata": {
    "tags": []
   },
   "outputs": [],
   "source": [
    "topics_list = lda_model.components_[0]"
   ]
  },
  {
   "attachments": {
    "2b44def1-c828-4972-b3ae-1eec160971fa.png": {
     "image/png": "[encoded data removed]"
    }
   },
   "cell_type": "markdown",
   "id": "b1b0735f-1d92-4a56-8a25-6e0092cc5dd3",
   "metadata": {
    "jp-MarkdownHeadingCollapsed": true,
    "tags": []
   },
   "source": [
    "### 토픽별 단어 표시\n",
    "![image.png](attachment:2b44def1-c828-4972-b3ae-1eec160971fa.png)"
   ]
  },
  {
   "cell_type": "code",
   "execution_count": null,
   "id": "06b4140d-d25a-44c5-a57f-8dbce0c97471",
   "metadata": {
    "tags": []
   },
   "outputs": [],
   "source": [
    "dictionary_list=vectorizer.get_feature_names_out() # vectorizer에 fit한 글자. len(lda_model.components_[0]) = len(vectorizer.get_feature_names_out())"
   ]
  },
  {
   "cell_type": "code",
   "execution_count": null,
   "id": "35bf3541-76d7-4f27-a8ab-d707fe8a381b",
   "metadata": {
    "tags": []
   },
   "outputs": [],
   "source": [
    "import pandas as pd"
   ]
  },
  {
   "cell_type": "code",
   "execution_count": null,
   "id": "b624e66a-ba30-454c-b5ba-854bef49f408",
   "metadata": {
    "tags": []
   },
   "outputs": [],
   "source": [
    "# df_datas = [topics_list, dictionary_list] # 2차원 계열로 넣는다. \n",
    "# df_topics = pd.DataFrame(df_datas)"
   ]
  },
  {
   "cell_type": "code",
   "execution_count": null,
   "id": "8436364e-0b85-4dc8-9fa9-935f033c4d09",
   "metadata": {
    "tags": []
   },
   "outputs": [],
   "source": [
    "# df_topics=df_topics.T # 행렬의 기능: 대각선을 기준으로 뒤집는 기능\n",
    "# df_topics"
   ]
  },
  {
   "cell_type": "code",
   "execution_count": null,
   "id": "70623794-e6db-4188-8f50-51d9774f5dc3",
   "metadata": {
    "tags": []
   },
   "outputs": [],
   "source": [
    "# df_topics.columns"
   ]
  },
  {
   "cell_type": "code",
   "execution_count": null,
   "id": "9a2a5a6c-7761-4d65-80ec-d023a2aab26c",
   "metadata": {
    "tags": []
   },
   "outputs": [],
   "source": [
    "# ## \n",
    "# df_topics.sort_values(0, ascending=False)"
   ]
  },
  {
   "cell_type": "markdown",
   "id": "6d6b6476-1e3e-4149-9059-ad0ae74e86cf",
   "metadata": {
    "jp-MarkdownHeadingCollapsed": true,
    "tags": []
   },
   "source": [
    "#### quest _ topic 2의 단어 중요도 "
   ]
  },
  {
   "cell_type": "code",
   "execution_count": null,
   "id": "12fbea3a-f41e-454c-bc83-a02cb128b7c2",
   "metadata": {
    "tags": []
   },
   "outputs": [],
   "source": [
    "second_list=lda_model.components_[1]"
   ]
  },
  {
   "cell_type": "code",
   "execution_count": null,
   "id": "9487dac7-5717-4154-93f2-1a9c8110fb8a",
   "metadata": {
    "tags": []
   },
   "outputs": [],
   "source": [
    "df_datas_two = [second_list, dictionary_list]\n"
   ]
  },
  {
   "cell_type": "code",
   "execution_count": null,
   "id": "89ca652f-8e63-4bad-8331-866e1a501f73",
   "metadata": {
    "tags": []
   },
   "outputs": [],
   "source": [
    "df_topics_two = pd.DataFrame(df_datas_two)\n",
    "df_topics_two=df_topics_two.T"
   ]
  },
  {
   "cell_type": "code",
   "execution_count": null,
   "id": "64e5a834-c2cc-4c5c-89a9-d229de5876d1",
   "metadata": {
    "tags": []
   },
   "outputs": [],
   "source": [
    "df_topics_two.sort_values(0, ascending=False)"
   ]
  },
  {
   "cell_type": "markdown",
   "id": "5c5f1a2a-7168-4e63-8560-8f830b301d82",
   "metadata": {
    "tags": []
   },
   "source": [
    "### 댓글과 주요 토픽 연결 (중요도 check)"
   ]
  },
  {
   "cell_type": "code",
   "execution_count": null,
   "id": "1670ea11-cc6d-472d-81b2-9157ef347beb",
   "metadata": {
    "tags": []
   },
   "outputs": [],
   "source": [
    "### 1. 상위 단어 추출 _ 배열식으로 되어있음. lda_model.components_의 order by 필요 이걸 for문으로 돌려서 뽑아낸다. \n",
    "topics_list=list()\n",
    "for topic in lda_model.components_ :\n",
    "    df_datas = [topic, dictionary_list]\n",
    "    df_topics = pd.DataFrame(df_datas)\n",
    "    df_topics = df_topics.T\n",
    "    df_topics = df_topics.sort_values(0, ascending=False) # 0 : column임. \n",
    "    # print(df_topics[:3])\n",
    "    ### 2. topic에 해당하는 단어들을 떼서 looping돌면서 가져오기 \n",
    "    ### 1번 column으로 가져오기\n",
    "    topics_text = ' '.join(df_topics[1].values[:4]) # Series로 가져오기. \n",
    "    # keyword들을 더 많이 뽑고싶다면 .values[:word]원하는만큼\n",
    "    print(topics_text)\n",
    "    topics_list.append(topics_text)"
   ]
  },
  {
   "cell_type": "code",
   "execution_count": null,
   "id": "5070ea7c-ca6a-4f5e-9e66-9cbfe7e452b9",
   "metadata": {
    "tags": []
   },
   "outputs": [],
   "source": [
    "topics_list_add = [topics_list, ['Topic0', 'Topic1', 'Topic2']]\n",
    "df_topic_keyword = pd.DataFrame(topics_list_add)\n",
    "df_topic_keyword.T"
   ]
  },
  {
   "cell_type": "code",
   "execution_count": null,
   "id": "4f1070bd-2211-48f5-9a68-9ae29c0da856",
   "metadata": {
    "tags": []
   },
   "outputs": [],
   "source": [
    "# df_topics[1].values # 위에서 df_topic을 sort_values하여 descending으로 해서 확률이 높은 순으로 단어를 가져올수있음"
   ]
  },
  {
   "cell_type": "code",
   "execution_count": null,
   "id": "0da600b0-1d00-4338-8856-215408808961",
   "metadata": {
    "tags": []
   },
   "outputs": [],
   "source": [
    "# ' '.join(df_topics[1].values[:4]) # series를 하나의 문장으로 생성"
   ]
  },
  {
   "cell_type": "code",
   "execution_count": null,
   "id": "a8a547c5-c7da-494c-991d-288d1f6ca060",
   "metadata": {
    "tags": []
   },
   "outputs": [],
   "source": [
    "topics_output=lda_model.transform(features) "
   ]
  },
  {
   "cell_type": "code",
   "execution_count": null,
   "id": "9c70b28a-853c-4300-96ff-c6d1dad89fe6",
   "metadata": {
    "tags": []
   },
   "outputs": [],
   "source": [
    "topics_output "
   ]
  },
  {
   "cell_type": "markdown",
   "id": "0d1c2ce3-9268-4371-bde2-31300278257e",
   "metadata": {},
   "source": [
    "-첫번째 줄 document에서 2번째 토픽의 주제가 강한편이다 라는걸 추측할수있음. "
   ]
  },
  {
   "cell_type": "markdown",
   "id": "bd09315b-3d3c-4ee7-b701-e9135d0c6705",
   "metadata": {},
   "source": [
    "### 각 댓글별 topic 분류"
   ]
  },
  {
   "cell_type": "code",
   "execution_count": null,
   "id": "5921688b-ab3b-4b51-9257-14fddf9c38dc",
   "metadata": {
    "tags": []
   },
   "outputs": [],
   "source": [
    "lda_model.n_components"
   ]
  },
  {
   "cell_type": "code",
   "execution_count": null,
   "id": "7a439e1c-c855-45cc-a0dd-c6fe3d51b220",
   "metadata": {
    "tags": []
   },
   "outputs": [],
   "source": [
    "import numpy as np"
   ]
  },
  {
   "cell_type": "code",
   "execution_count": null,
   "id": "cf6f83ac-e83f-4f92-a993-58915cdff5e6",
   "metadata": {
    "tags": []
   },
   "outputs": [],
   "source": [
    "## topics_output을 dataframe에 담고나서 argmax를 할거\n",
    "df_topics_score = pd.DataFrame(topics_output) # 각 댓글 당 토픽 분류 점수 "
   ]
  },
  {
   "cell_type": "code",
   "execution_count": null,
   "id": "58165f7d-b219-4af7-8417-b0e0920047aa",
   "metadata": {
    "tags": []
   },
   "outputs": [],
   "source": [
    "# 각 댓글마다 토픽 분류 지정\n",
    "dominant_in_topic = np.argmax(topics_output, axis=1)"
   ]
  },
  {
   "cell_type": "code",
   "execution_count": null,
   "id": "bc4c9448-0783-4dd9-a695-91f30d1c4f4b",
   "metadata": {
    "tags": []
   },
   "outputs": [],
   "source": [
    "df_topics_score['dominant_topic'] = dominant_in_topic\n",
    "df_topics_score"
   ]
  },
  {
   "cell_type": "code",
   "execution_count": null,
   "id": "4f4079d9-be5f-4e4e-91b4-39838dca70ad",
   "metadata": {
    "tags": []
   },
   "outputs": [],
   "source": [
    "type(sentences)"
   ]
  },
  {
   "cell_type": "code",
   "execution_count": null,
   "id": "f578bc37-12cd-46d1-88b7-39f1fe435033",
   "metadata": {
    "tags": []
   },
   "outputs": [],
   "source": [
    "len(sentences), len(df_topics_score)"
   ]
  },
  {
   "cell_type": "code",
   "execution_count": null,
   "id": "ad081813-e07c-4a65-946b-f9b3e8a28d04",
   "metadata": {
    "tags": []
   },
   "outputs": [],
   "source": [
    "df_topics_score['sentences']=sentences\n",
    "df_topics_score"
   ]
  },
  {
   "cell_type": "code",
   "execution_count": null,
   "id": "13aad626-94e4-4173-98bf-d511ac75ff46",
   "metadata": {},
   "outputs": [],
   "source": []
  }
 ],
 "metadata": {
  "kernelspec": {
   "display_name": "Python 3 (ipykernel)",
   "language": "python",
   "name": "python3"
  },
  "language_info": {
   "codemirror_mode": {
    "name": "ipython",
    "version": 3
   },
   "file_extension": ".py",
   "mimetype": "text/x-python",
   "name": "python",
   "nbconvert_exporter": "python",
   "pygments_lexer": "ipython3",
   "version": "3.11.3"
  }
 },
 "nbformat": 4,
 "nbformat_minor": 5
}
