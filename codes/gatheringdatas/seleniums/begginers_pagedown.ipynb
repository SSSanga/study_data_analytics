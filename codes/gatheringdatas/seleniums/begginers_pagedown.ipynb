{
 "cells": [
  {
   "cell_type": "code",
   "execution_count": 1,
   "id": "0190ba1b-dbc8-4096-92f3-a0068a7921f9",
   "metadata": {
    "tags": []
   },
   "outputs": [],
   "source": [
    "from selenium import webdriver"
   ]
  },
  {
   "cell_type": "code",
   "execution_count": 2,
   "id": "34ba26f0-17f9-4a00-8ecb-fdcd3848ae01",
   "metadata": {
    "tags": []
   },
   "outputs": [],
   "source": [
    "import selenium"
   ]
  },
  {
   "cell_type": "code",
   "execution_count": 3,
   "id": "9c3b2a2b-b754-48dd-ac3d-9b02ee48a7cd",
   "metadata": {
    "tags": []
   },
   "outputs": [
    {
     "name": "stdout",
     "output_type": "stream",
     "text": [
      "Selenium 버전: 3.141.0\n"
     ]
    }
   ],
   "source": [
    "print(\"Selenium 버전:\", selenium.__version__)"
   ]
  },
  {
   "cell_type": "code",
   "execution_count": 5,
   "id": "ed8f1fff-e6c0-43d3-a8d3-f38be888f78d",
   "metadata": {
    "tags": []
   },
   "outputs": [],
   "source": [
    "# open chrome browser\n",
    "browser = webdriver.Chrome(executable_path='../../../../chromedriver.exe')"
   ]
  },
  {
   "cell_type": "code",
   "execution_count": 6,
   "id": "8ac2da21-6fe5-417f-9032-b490be4bf992",
   "metadata": {
    "tags": []
   },
   "outputs": [],
   "source": [
    "# url in address window\n",
    "browser.get('https://www.w3schools.com/')"
   ]
  },
  {
   "cell_type": "code",
   "execution_count": 7,
   "id": "3607c04b-1b94-43e1-ba12-d514daa385f3",
   "metadata": {
    "tags": []
   },
   "outputs": [
    {
     "data": {
      "text/plain": [
       "True"
      ]
     },
     "execution_count": 7,
     "metadata": {},
     "output_type": "execute_result"
    }
   ],
   "source": [
    "# Screenshot\n",
    "browser.save_screenshot('./begginers.png')"
   ]
  },
  {
   "cell_type": "markdown",
   "id": "68603418-0251-4671-a615-912768d7fd46",
   "metadata": {},
   "source": [
    "## 마우스 스크롤 기능 구현"
   ]
  },
  {
   "cell_type": "code",
   "execution_count": 8,
   "id": "460025fc-7eea-44fa-867f-f70797ecf876",
   "metadata": {
    "tags": []
   },
   "outputs": [],
   "source": [
    "from selenium.webdriver.common.keys import Keys\n",
    "# page down\n",
    "body_element = browser.find_element_by_css_selector('body')\n",
    "# body 엘리먼트에 PAGE_DOWN 키를 여러 번 전송하여 스크롤 다운\n",
    "for _ in range(5):  # 5번 페이지 다운 키를 누름\n",
    "    body_element.send_keys(Keys.PAGE_DOWN)"
   ]
  },
  {
   "cell_type": "code",
   "execution_count": 9,
   "id": "c375bb50-13fb-4ed5-950b-17a737b80eff",
   "metadata": {
    "tags": []
   },
   "outputs": [],
   "source": [
    "# page up\n",
    "browser.find_element_by_css_selector('body').send_keys(Keys.PAGE_UP)"
   ]
  },
  {
   "cell_type": "code",
   "execution_count": 10,
   "id": "482a98b6-e89f-4f3f-8fd5-2432ed02dfff",
   "metadata": {
    "tags": []
   },
   "outputs": [
    {
     "data": {
      "text/plain": [
       "(667, 12657)"
      ]
     },
     "execution_count": 10,
     "metadata": {},
     "output_type": "execute_result"
    }
   ],
   "source": [
    "## 화면 끝까지 이동\n",
    "screen_height = browser.execute_script('return window.innerHeight')\n",
    "document_height = browser.execute_script('return document.body.scrollHeight')\n",
    "screen_height, document_height"
   ]
  },
  {
   "cell_type": "code",
   "execution_count": 11,
   "id": "a1932b93-f60a-4713-a4cd-c584563e8aa3",
   "metadata": {
    "collapsed": true,
    "jupyter": {
     "outputs_hidden": true
    },
    "tags": []
   },
   "outputs": [
    {
     "name": "stdout",
     "output_type": "stream",
     "text": [
      "3583 12657\n",
      "4166.199951171875 12657\n",
      "4749.39990234375 12657\n",
      "5332.60009765625 12657\n",
      "5915.7998046875 12657\n",
      "6499 12657\n",
      "7082.2001953125 12657\n",
      "7665.39990234375 12657\n",
      "8248.60009765625 12657\n",
      "8831.7998046875 12657\n",
      "9415 12657\n",
      "9998.2001953125 12657\n",
      "10581.400390625 12657\n",
      "11164.599609375 12657\n",
      "11747.7998046875 12657\n",
      "12331 12657\n",
      "12914.2001953125 12657\n"
     ]
    }
   ],
   "source": [
    "import time\n",
    "while True:\n",
    "    browser.find_element_by_css_selector('body').send_keys(Keys.PAGE_DOWN)\n",
    "    time.sleep(1)\n",
    "    # window.pageYOffset 이용\n",
    "    current_scroll_position = browser.execute_script('return window.pageYOffset + {0}'.format(screen_height))\n",
    "    \n",
    "    print(current_scroll_position, document_height)\n",
    "    if current_scroll_position >= document_height :\n",
    "        break\n",
    "    "
   ]
  },
  {
   "cell_type": "code",
   "execution_count": 6,
   "id": "a72ff79d-e9d4-4a2d-b72d-3a3ddcc88bff",
   "metadata": {},
   "outputs": [],
   "source": [
    "#browser.quit()"
   ]
  },
  {
   "cell_type": "code",
   "execution_count": null,
   "id": "9974b9d8-24d5-4e26-8dd8-2590c227ca1b",
   "metadata": {},
   "outputs": [],
   "source": []
  },
  {
   "cell_type": "code",
   "execution_count": null,
   "id": "3644929b-349e-4735-ba25-0b6325231b72",
   "metadata": {},
   "outputs": [],
   "source": []
  }
 ],
 "metadata": {
  "kernelspec": {
   "display_name": "Python 3 (ipykernel)",
   "language": "python",
   "name": "python3"
  },
  "language_info": {
   "codemirror_mode": {
    "name": "ipython",
    "version": 3
   },
   "file_extension": ".py",
   "mimetype": "text/x-python",
   "name": "python",
   "nbconvert_exporter": "python",
   "pygments_lexer": "ipython3",
   "version": "3.11.3"
  }
 },
 "nbformat": 4,
 "nbformat_minor": 5
}
