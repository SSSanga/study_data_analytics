{
 "cells": [
  {
   "cell_type": "markdown",
   "id": "cb1d3779-abf8-4185-ad4c-3ab40b7f0629",
   "metadata": {},
   "source": [
    "## 한글 형태소 분석기기\n",
    " -  refer : https://konlpy-ko.readthedocs.io/ko/v0.6.0/"
   ]
  },
  {
   "cell_type": "code",
   "execution_count": 1,
   "id": "6582a5dc-84c5-402d-8cba-ffb1ad1b88d0",
   "metadata": {
    "tags": []
   },
   "outputs": [],
   "source": [
    "# !pip install konlpy "
   ]
  },
  {
   "cell_type": "markdown",
   "id": "de6218fe-d8d1-471b-992e-8910b230b54b",
   "metadata": {},
   "source": [
    "### Okt: 한글형태분석기 중 하나 "
   ]
  },
  {
   "cell_type": "code",
   "execution_count": 2,
   "id": "29921090-9400-4d7d-899e-663f86aab81f",
   "metadata": {
    "tags": []
   },
   "outputs": [],
   "source": [
    "from konlpy.tag import Okt"
   ]
  },
  {
   "cell_type": "code",
   "execution_count": 3,
   "id": "15f7f177-952d-4a66-8db1-123e902bdad8",
   "metadata": {
    "tags": []
   },
   "outputs": [],
   "source": [
    "okt=Okt()"
   ]
  },
  {
   "cell_type": "code",
   "execution_count": 4,
   "id": "aa89f169-9561-4d8a-9eb9-37b95e5111ac",
   "metadata": {
    "tags": []
   },
   "outputs": [],
   "source": [
    "sentence_list =[\n",
    "'아버지가방에들어가신다',\n",
    "'나는 밥을 먹는다','하늘을 나는 자동차',\n",
    "'아이폰 기다리다 지쳐 애플공홈에서 언락폰질러버렸다 6+ 128기가실버ㅋ']"
   ]
  },
  {
   "cell_type": "code",
   "execution_count": 5,
   "id": "4db5a07b-0918-4391-bc13-ee99a7281e37",
   "metadata": {
    "tags": []
   },
   "outputs": [
    {
     "data": {
      "text/plain": [
       "['나', '는', '밥', '을', '먹는다']"
      ]
     },
     "execution_count": 5,
     "metadata": {},
     "output_type": "execute_result"
    }
   ],
   "source": [
    "okt.morphs(sentence_list[1])"
   ]
  },
  {
   "cell_type": "markdown",
   "id": "f016e63d-018e-418c-949b-56a6b4c5f5d5",
   "metadata": {},
   "source": [
    "### Mecab\n"
   ]
  },
  {
   "cell_type": "code",
   "execution_count": 6,
   "id": "40422737-0052-4254-9069-c8bdd7e92246",
   "metadata": {
    "tags": []
   },
   "outputs": [
    {
     "name": "stdout",
     "output_type": "stream",
     "text": [
      "Requirement already satisfied: python-mecab-ko in c:\\users\\01-15\\anaconda3\\lib\\site-packages (1.3.3)\n",
      "Requirement already satisfied: python-mecab-ko-dic in c:\\users\\01-15\\anaconda3\\lib\\site-packages (from python-mecab-ko) (2.1.1.post2)\n"
     ]
    }
   ],
   "source": [
    "!pip install python-mecab-ko"
   ]
  },
  {
   "cell_type": "code",
   "execution_count": 7,
   "id": "ae36c8db-8c57-4333-88dd-829fa699ef1c",
   "metadata": {
    "tags": []
   },
   "outputs": [],
   "source": [
    "from mecab import MeCab"
   ]
  },
  {
   "cell_type": "code",
   "execution_count": 8,
   "id": "3b8ffd98-b163-4b72-a37b-a505dd8e5bdb",
   "metadata": {
    "tags": []
   },
   "outputs": [],
   "source": [
    "mecab = MeCab()"
   ]
  },
  {
   "cell_type": "code",
   "execution_count": 9,
   "id": "213adc00-185a-4edf-b7da-915663e05f8a",
   "metadata": {
    "tags": []
   },
   "outputs": [
    {
     "data": {
      "text/plain": [
       "['아버지', '가', '방', '에', '들어가', '신다']"
      ]
     },
     "execution_count": 9,
     "metadata": {},
     "output_type": "execute_result"
    }
   ],
   "source": [
    "mecab.morphs(sentence_list[0])"
   ]
  },
  {
   "cell_type": "code",
   "execution_count": 10,
   "id": "dece4c94-0688-428a-b7a9-3fd69a47e366",
   "metadata": {
    "tags": []
   },
   "outputs": [
    {
     "data": {
      "text/plain": [
       "[('아버지', 'NNG'),\n",
       " ('가', 'JKS'),\n",
       " ('방', 'NNG'),\n",
       " ('에', 'JKB'),\n",
       " ('들어가', 'VV'),\n",
       " ('신다', 'EP+EC')]"
      ]
     },
     "execution_count": 10,
     "metadata": {},
     "output_type": "execute_result"
    }
   ],
   "source": [
    "mecab.pos(sentence_list[0])"
   ]
  },
  {
   "cell_type": "markdown",
   "id": "45729481-68ba-4a76-90ca-14b8644a7473",
   "metadata": {
    "tags": []
   },
   "source": [
    "분석에는 명사 NNG 와 동사 VV를 주로 쓴다. "
   ]
  },
  {
   "cell_type": "code",
   "execution_count": 12,
   "id": "d543c668-5a43-4d25-86b2-cf081738c0d2",
   "metadata": {
    "tags": []
   },
   "outputs": [
    {
     "data": {
      "text/plain": [
       "[Morpheme(span=Span(start=0, end=2), surface='애플', feature=Feature(pos='NNP', semantic='인명', has_jongseong=True, reading='애플', type=None, start_pos=None, end_pos=None, expression=None))]"
      ]
     },
     "execution_count": 12,
     "metadata": {},
     "output_type": "execute_result"
    }
   ],
   "source": [
    "mecab.parse('애플')"
   ]
  },
  {
   "cell_type": "code",
   "execution_count": 14,
   "id": "048ffed1-a242-4814-8f1e-d616a293da95",
   "metadata": {
    "tags": []
   },
   "outputs": [
    {
     "name": "stdout",
     "output_type": "stream",
     "text": [
      "['아버지', '가', '방', '에', '들어가', '신다']\n",
      "['나', '는', '밥', '을', '먹', '는다']\n",
      "['하늘', '을', '나', '는', '자동차']\n",
      "['아이폰', '기다리', '다', '지쳐', '애플', '공홈', '에서', '언락', '폰', '질러', '버렸', '다', '6', '+', '128', '기', '가', '실버', 'ㅋ']\n"
     ]
    }
   ],
   "source": [
    "# sentence로 for문을 돌린다. \n",
    "for sentence in sentence_list :\n",
    "    morphs_list = mecab.morphs(sentence) #list로 받아낸다. \n",
    "    print(morphs_list)"
   ]
  },
  {
   "cell_type": "code",
   "execution_count": null,
   "id": "15dc1d71-1eb8-42dc-9f9e-de5097763066",
   "metadata": {},
   "outputs": [],
   "source": []
  }
 ],
 "metadata": {
  "kernelspec": {
   "display_name": "Python 3 (ipykernel)",
   "language": "python",
   "name": "python3"
  },
  "language_info": {
   "codemirror_mode": {
    "name": "ipython",
    "version": 3
   },
   "file_extension": ".py",
   "mimetype": "text/x-python",
   "name": "python",
   "nbconvert_exporter": "python",
   "pygments_lexer": "ipython3",
   "version": "3.11.3"
  }
 },
 "nbformat": 4,
 "nbformat_minor": 5
}
