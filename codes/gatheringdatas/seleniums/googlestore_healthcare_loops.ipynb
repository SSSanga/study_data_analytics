{
 "cells": [
  {
   "cell_type": "code",
   "execution_count": 1,
   "id": "2da82480-06d3-40b8-8ee8-f4c7b7506eaf",
   "metadata": {
    "tags": []
   },
   "outputs": [],
   "source": [
    "from selenium import webdriver"
   ]
  },
  {
   "cell_type": "code",
   "execution_count": 2,
   "id": "e01c6938-584b-4269-9ca9-4e4196135494",
   "metadata": {
    "tags": []
   },
   "outputs": [],
   "source": [
    "import pandas as pd"
   ]
  },
  {
   "cell_type": "code",
   "execution_count": 3,
   "id": "60ff40bf-2c7e-4e70-b42c-2f8d644ceb40",
   "metadata": {
    "tags": []
   },
   "outputs": [],
   "source": [
    "#open chrome browser\n",
    "options = webdriver.ChromeOptions()\n",
    "options.add_argument(\"--window-size=1560,840\")\n",
    "browser = webdriver.Chrome(executable_path='../../../../chromedriver.exe', options=options) #webdriver_selenium과 web을 연결해주기위함. "
   ]
  },
  {
   "cell_type": "code",
   "execution_count": 4,
   "id": "57bb6770-7abe-4ed8-9bc8-e886f372df60",
   "metadata": {
    "tags": []
   },
   "outputs": [],
   "source": [
    "# url in address window\n",
    "browser.get('https://play.google.com/store/search?q=%ED%97%AC%EC%8A%A4%EC%BC%80%EC%96%B4%EC%95%B1&c=apps&hl=ko-KR')\n",
    "browser.implicitly_wait(10)"
   ]
  },
  {
   "cell_type": "markdown",
   "id": "abce11df-0c99-4291-be01-9f9ea963db73",
   "metadata": {},
   "source": [
    "## 제품클릭 클릭하기\n",
    "- 일단 홈페이지에서 클릭. \n",
    "   - section > div > div > div > div:nth-child(2) > div > div\n",
    "   \n",
    "- 헬스케어앱 검색 결과 list로 돌아가기_list에서 다른 어플을 클릭해서 그에 해당하는 어플이름, 회사명, 리뷰들을 다 가지고 와야함.\n",
    "    - section > div > div > div > div"
   ]
  },
  {
   "cell_type": "code",
   "execution_count": 6,
   "id": "74c9095d-ee54-4f87-a7a8-c7c45953dd58",
   "metadata": {
    "tags": []
   },
   "outputs": [
    {
     "data": {
      "text/plain": [
       "9"
      ]
     },
     "execution_count": 6,
     "metadata": {},
     "output_type": "execute_result"
    }
   ],
   "source": [
    "click_path='section > div > div > div > div'\n",
    "path_list=browser.find_elements_by_css_selector(click_path)\n",
    "len(path_list)"
   ]
  },
  {
   "cell_type": "markdown",
   "id": "69bb1e3b-e136-4c30-8cc6-4d833466a31b",
   "metadata": {},
   "source": [
    "## 제품정보\n",
    "- 서비스명: div > h1 > span\n",
    "- 회사명: div.Il7kR > div > div > div > a > span\n",
    "- 앱정보: div:nth-child(1) > c-wiz:nth-child(2) > div > section > div\n",
    "- 업데이트 날짜: nts1 이라는데 무슨말인지... 일단 pass\n"
   ]
  },
  {
   "cell_type": "code",
   "execution_count": 7,
   "id": "ec1f9001-373a-41bf-9096-a7a8bd82b285",
   "metadata": {
    "tags": []
   },
   "outputs": [
    {
     "ename": "WebDriverException",
     "evalue": "Message: disconnected: unable to send message to renderer\n  (failed to check if window was closed: disconnected: not connected to DevTools)\n  (Session info: chrome=116.0.5845.180)\n",
     "output_type": "error",
     "traceback": [
      "\u001b[1;31m---------------------------------------------------------------------------\u001b[0m",
      "\u001b[1;31mWebDriverException\u001b[0m                        Traceback (most recent call last)",
      "Cell \u001b[1;32mIn[7], line 1\u001b[0m\n\u001b[1;32m----> 1\u001b[0m service_name \u001b[38;5;241m=\u001b[39m browser\u001b[38;5;241m.\u001b[39mfind_element_by_css_selector(\u001b[38;5;124m'\u001b[39m\u001b[38;5;124mdiv > h1 > span\u001b[39m\u001b[38;5;124m'\u001b[39m)\u001b[38;5;241m.\u001b[39mtext\n\u001b[0;32m      2\u001b[0m company_name \u001b[38;5;241m=\u001b[39m browser\u001b[38;5;241m.\u001b[39mfind_element_by_css_selector(\u001b[38;5;124m'\u001b[39m\u001b[38;5;124mdiv.Il7kR > div > div > div > a > span\u001b[39m\u001b[38;5;124m'\u001b[39m)\u001b[38;5;241m.\u001b[39mtext\n\u001b[0;32m      3\u001b[0m app_info \u001b[38;5;241m=\u001b[39m browser\u001b[38;5;241m.\u001b[39mfind_element_by_css_selector(\u001b[38;5;124m'\u001b[39m\u001b[38;5;124mdiv:nth-child(1) > c-wiz:nth-child(2) > div > section > div\u001b[39m\u001b[38;5;124m'\u001b[39m)\u001b[38;5;241m.\u001b[39mtext\n",
      "File \u001b[1;32m~\\anaconda3\\Lib\\site-packages\\selenium\\webdriver\\remote\\webdriver.py:598\u001b[0m, in \u001b[0;36mWebDriver.find_element_by_css_selector\u001b[1;34m(self, css_selector)\u001b[0m\n\u001b[0;32m    582\u001b[0m \u001b[38;5;28;01mdef\u001b[39;00m \u001b[38;5;21mfind_element_by_css_selector\u001b[39m(\u001b[38;5;28mself\u001b[39m, css_selector):\n\u001b[0;32m    583\u001b[0m \u001b[38;5;250m    \u001b[39m\u001b[38;5;124;03m\"\"\"\u001b[39;00m\n\u001b[0;32m    584\u001b[0m \u001b[38;5;124;03m    Finds an element by css selector.\u001b[39;00m\n\u001b[0;32m    585\u001b[0m \n\u001b[1;32m   (...)\u001b[0m\n\u001b[0;32m    596\u001b[0m \u001b[38;5;124;03m        element = driver.find_element_by_css_selector('#foo')\u001b[39;00m\n\u001b[0;32m    597\u001b[0m \u001b[38;5;124;03m    \"\"\"\u001b[39;00m\n\u001b[1;32m--> 598\u001b[0m     \u001b[38;5;28;01mreturn\u001b[39;00m \u001b[38;5;28mself\u001b[39m\u001b[38;5;241m.\u001b[39mfind_element(by\u001b[38;5;241m=\u001b[39mBy\u001b[38;5;241m.\u001b[39mCSS_SELECTOR, value\u001b[38;5;241m=\u001b[39mcss_selector)\n",
      "File \u001b[1;32m~\\anaconda3\\Lib\\site-packages\\selenium\\webdriver\\remote\\webdriver.py:976\u001b[0m, in \u001b[0;36mWebDriver.find_element\u001b[1;34m(self, by, value)\u001b[0m\n\u001b[0;32m    974\u001b[0m         by \u001b[38;5;241m=\u001b[39m By\u001b[38;5;241m.\u001b[39mCSS_SELECTOR\n\u001b[0;32m    975\u001b[0m         value \u001b[38;5;241m=\u001b[39m \u001b[38;5;124m'\u001b[39m\u001b[38;5;124m[name=\u001b[39m\u001b[38;5;124m\"\u001b[39m\u001b[38;5;132;01m%s\u001b[39;00m\u001b[38;5;124m\"\u001b[39m\u001b[38;5;124m]\u001b[39m\u001b[38;5;124m'\u001b[39m \u001b[38;5;241m%\u001b[39m value\n\u001b[1;32m--> 976\u001b[0m \u001b[38;5;28;01mreturn\u001b[39;00m \u001b[38;5;28mself\u001b[39m\u001b[38;5;241m.\u001b[39mexecute(Command\u001b[38;5;241m.\u001b[39mFIND_ELEMENT, {\n\u001b[0;32m    977\u001b[0m     \u001b[38;5;124m'\u001b[39m\u001b[38;5;124musing\u001b[39m\u001b[38;5;124m'\u001b[39m: by,\n\u001b[0;32m    978\u001b[0m     \u001b[38;5;124m'\u001b[39m\u001b[38;5;124mvalue\u001b[39m\u001b[38;5;124m'\u001b[39m: value})[\u001b[38;5;124m'\u001b[39m\u001b[38;5;124mvalue\u001b[39m\u001b[38;5;124m'\u001b[39m]\n",
      "File \u001b[1;32m~\\anaconda3\\Lib\\site-packages\\selenium\\webdriver\\remote\\webdriver.py:321\u001b[0m, in \u001b[0;36mWebDriver.execute\u001b[1;34m(self, driver_command, params)\u001b[0m\n\u001b[0;32m    319\u001b[0m response \u001b[38;5;241m=\u001b[39m \u001b[38;5;28mself\u001b[39m\u001b[38;5;241m.\u001b[39mcommand_executor\u001b[38;5;241m.\u001b[39mexecute(driver_command, params)\n\u001b[0;32m    320\u001b[0m \u001b[38;5;28;01mif\u001b[39;00m response:\n\u001b[1;32m--> 321\u001b[0m     \u001b[38;5;28mself\u001b[39m\u001b[38;5;241m.\u001b[39merror_handler\u001b[38;5;241m.\u001b[39mcheck_response(response)\n\u001b[0;32m    322\u001b[0m     response[\u001b[38;5;124m'\u001b[39m\u001b[38;5;124mvalue\u001b[39m\u001b[38;5;124m'\u001b[39m] \u001b[38;5;241m=\u001b[39m \u001b[38;5;28mself\u001b[39m\u001b[38;5;241m.\u001b[39m_unwrap_value(\n\u001b[0;32m    323\u001b[0m         response\u001b[38;5;241m.\u001b[39mget(\u001b[38;5;124m'\u001b[39m\u001b[38;5;124mvalue\u001b[39m\u001b[38;5;124m'\u001b[39m, \u001b[38;5;28;01mNone\u001b[39;00m))\n\u001b[0;32m    324\u001b[0m     \u001b[38;5;28;01mreturn\u001b[39;00m response\n",
      "File \u001b[1;32m~\\anaconda3\\Lib\\site-packages\\selenium\\webdriver\\remote\\errorhandler.py:242\u001b[0m, in \u001b[0;36mErrorHandler.check_response\u001b[1;34m(self, response)\u001b[0m\n\u001b[0;32m    240\u001b[0m         alert_text \u001b[38;5;241m=\u001b[39m value[\u001b[38;5;124m'\u001b[39m\u001b[38;5;124malert\u001b[39m\u001b[38;5;124m'\u001b[39m]\u001b[38;5;241m.\u001b[39mget(\u001b[38;5;124m'\u001b[39m\u001b[38;5;124mtext\u001b[39m\u001b[38;5;124m'\u001b[39m)\n\u001b[0;32m    241\u001b[0m     \u001b[38;5;28;01mraise\u001b[39;00m exception_class(message, screen, stacktrace, alert_text)\n\u001b[1;32m--> 242\u001b[0m \u001b[38;5;28;01mraise\u001b[39;00m exception_class(message, screen, stacktrace)\n",
      "\u001b[1;31mWebDriverException\u001b[0m: Message: disconnected: unable to send message to renderer\n  (failed to check if window was closed: disconnected: not connected to DevTools)\n  (Session info: chrome=116.0.5845.180)\n"
     ]
    }
   ],
   "source": [
    "service_name = browser.find_element_by_css_selector('div > h1 > span').text\n",
    "company_name = browser.find_element_by_css_selector('div.Il7kR > div > div > div > a > span').text\n",
    "app_info = browser.find_element_by_css_selector('div:nth-child(1) > c-wiz:nth-child(2) > div > section > div').text\n",
    "[service_name, company_name, app_info]"
   ]
  },
  {
   "cell_type": "markdown",
   "id": "ae37bcc4-3dac-4a7b-8d65-96df8f438b82",
   "metadata": {},
   "source": [
    "## 리뷰 모두 보기_click\n",
    "- click tag: div.Jwxk6d > div:nth-child(5) > div > div > button > div.VfPpkd-RLmnJb"
   ]
  },
  {
   "cell_type": "code",
   "execution_count": null,
   "id": "e24e9ca1-9b91-4c25-804d-c0798bd75c29",
   "metadata": {},
   "outputs": [],
   "source": [
    "import time\n",
    "time.sleep(2)"
   ]
  },
  {
   "cell_type": "code",
   "execution_count": null,
   "id": "3489f8ed-6d53-466a-a6a3-69435d214675",
   "metadata": {
    "tags": []
   },
   "outputs": [],
   "source": [
    "browser.find_element_by_xpath('//*/div/div/button/*[contains(text(), \"리뷰\")]').click()"
   ]
  },
  {
   "cell_type": "markdown",
   "id": "c2c434eb-06f9-47f9-91f8-6bdac788dc92",
   "metadata": {},
   "source": [
    "## 리뷰 내용 가져오기\n",
    "- 리뷰 묶음 tag : div.fysCi > div > div:nth-child(2) > div\n",
    "- 내용 tag : div.h3YV2d\n",
    "- 날짜 tag : header > div.Jx4nYe > span\n",
    "- 별점 tag : header > div.Jx4nYe > div (별점은 get_attribute)"
   ]
  },
  {
   "cell_type": "code",
   "execution_count": null,
   "id": "5449ff52-f080-4b2e-b4cd-ec3dbd11dd0e",
   "metadata": {
    "tags": []
   },
   "outputs": [],
   "source": [
    "reviews_bundle = browser.find_elements_by_css_selector('div.fysCi > div > div:nth-child(2) > div')\n",
    "len(reviews_bundle)"
   ]
  },
  {
   "cell_type": "markdown",
   "id": "17b48ea8-04f6-462d-968a-1e65db453fa9",
   "metadata": {},
   "source": [
    "review의 bundle을 한꺼번에 loading!! 하면 40개가 나옴. 이를 forloop 돌림!!"
   ]
  },
  {
   "cell_type": "markdown",
   "id": "f6ce219d-bf91-4724-9964-fa9dedbdafca",
   "metadata": {},
   "source": [
    "### loaded된 전체 (40개) review 가져오기. \n",
    "- 이중 for문 필.. \n"
   ]
  },
  {
   "cell_type": "code",
   "execution_count": null,
   "id": "cb841324-148a-4443-bf3e-649ad7ab6b00",
   "metadata": {
    "tags": []
   },
   "outputs": [],
   "source": [
    "### loaded된 전체 (40개) review 가져오기. \n",
    "reviews_list = list()\n",
    "for review_bundle in reviews_bundle :\n",
    "    content = review_bundle.find_element_by_css_selector('div.h3YV2d').text ##bundle에서 0번째 가져옴?\n",
    "    date = review_bundle.find_element_by_css_selector('header > div.Jx4nYe > span').text \n",
    "    stars = review_bundle.find_element_by_css_selector('header > div.Jx4nYe > div').get_attribute('aria-label')\n",
    "    review_list = [content, date, stars] # 한개씩 나옴 = record 1개씩 나옴\n",
    "    reviews_list.append(review_list) ## 리뷰에 대한 모든 record들이 담김.\n",
    "    \n",
    "len(reviews_list)"
   ]
  },
  {
   "cell_type": "code",
   "execution_count": null,
   "id": "fd75c1aa-0e07-42a8-b983-aa44fdd67e30",
   "metadata": {
    "tags": []
   },
   "outputs": [],
   "source": [
    "reviews_list ## dataframe으로 한번 csv 담은다음에 이후 나오는 record들은 concat으로 .. or mongoDB에 넣는게 편할 수 있음. "
   ]
  },
  {
   "cell_type": "code",
   "execution_count": null,
   "id": "e9222212-a51a-44a0-81f9-442535ea3b43",
   "metadata": {},
   "outputs": [],
   "source": [
    "browser.back() # 팝업창 닫기 "
   ]
  },
  {
   "cell_type": "code",
   "execution_count": null,
   "id": "07e60212-3364-47bb-9391-454dadd8e4f2",
   "metadata": {
    "tags": []
   },
   "outputs": [],
   "source": [
    "browser.back() # 헬스케어앱 검색 결과 list로 돌아가기"
   ]
  },
  {
   "cell_type": "markdown",
   "id": "e66f5cac-b902-4d6f-9ab3-432f04b31ab1",
   "metadata": {
    "tags": []
   },
   "source": [
    "### 헬스케어앱 검색 결과 list로 돌아가기_list에서 다른 어플을 클릭해서 그에 해당하는 어플이름, 회사명, 리뷰들을 다 가지고 와야함.\n",
    "- #yDmH0d > c-wiz.SSPGKf.glB9Ve.xsXTx > div > div > c-wiz > c-wiz > c-wiz > section > div > div > div > div:nth-child(1)\n",
    "\n",
    "- #yDmH0d > c-wiz.SSPGKf.glB9Ve.xsXTx > div > div > c-wiz > c-wiz > c-wiz > section > div > div > div > div:nth-child(2)\n",
    "\n",
    "- #yDmH0d > c-wiz.SSPGKf.glB9Ve.xsXTx > div > div > c-wiz > c-wiz > c-wiz > section > div > div > div > div:nth-child(12)\n",
    "\n",
    "- 공통은 section > div > div > div > div\n"
   ]
  },
  {
   "cell_type": "code",
   "execution_count": null,
   "id": "bad25388-127b-42ea-8cbc-41a47b2554b5",
   "metadata": {},
   "outputs": [],
   "source": []
  },
  {
   "cell_type": "code",
   "execution_count": null,
   "id": "2851564b-b984-4c5f-8962-535497eadcc1",
   "metadata": {},
   "outputs": [],
   "source": []
  },
  {
   "cell_type": "code",
   "execution_count": null,
   "id": "aebaf095-66a1-47ec-8735-9078c63aa81b",
   "metadata": {
    "tags": []
   },
   "outputs": [],
   "source": [
    "browser.quit() ## browser닫힘"
   ]
  }
 ],
 "metadata": {
  "kernelspec": {
   "display_name": "Python 3 (ipykernel)",
   "language": "python",
   "name": "python3"
  },
  "language_info": {
   "codemirror_mode": {
    "name": "ipython",
    "version": 3
   },
   "file_extension": ".py",
   "mimetype": "text/x-python",
   "name": "python",
   "nbconvert_exporter": "python",
   "pygments_lexer": "ipython3",
   "version": "3.11.4"
  }
 },
 "nbformat": 4,
 "nbformat_minor": 5
}
