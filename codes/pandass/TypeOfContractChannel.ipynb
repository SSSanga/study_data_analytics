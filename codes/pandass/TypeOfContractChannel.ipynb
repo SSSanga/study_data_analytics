{
 "cells": [
  {
   "cell_type": "markdown",
   "id": "f2d192b7-aadb-4417-944f-f97e5323ec14",
   "metadata": {},
   "source": [
    "#### from dataset: https://blog.naver.com/data_station/222493245799"
   ]
  },
  {
   "cell_type": "code",
   "execution_count": 1,
   "id": "db8bfff9-a15e-41c3-8ce8-18304d2ba995",
   "metadata": {
    "tags": []
   },
   "outputs": [],
   "source": [
    "import pandas as pd"
   ]
  },
  {
   "cell_type": "code",
   "execution_count": 2,
   "id": "417c7604-c791-454b-b144-f9fd8ceda83a",
   "metadata": {
    "tags": []
   },
   "outputs": [
    {
     "data": {
      "text/html": [
       "<div>\n",
       "<style scoped>\n",
       "    .dataframe tbody tr th:only-of-type {\n",
       "        vertical-align: middle;\n",
       "    }\n",
       "\n",
       "    .dataframe tbody tr th {\n",
       "        vertical-align: top;\n",
       "    }\n",
       "\n",
       "    .dataframe thead th {\n",
       "        text-align: right;\n",
       "    }\n",
       "</style>\n",
       "<table border=\"1\" class=\"dataframe\">\n",
       "  <thead>\n",
       "    <tr style=\"text-align: right;\">\n",
       "      <th></th>\n",
       "      <th>id</th>\n",
       "      <th>type_of_contract</th>\n",
       "      <th>type_of_contract2</th>\n",
       "      <th>channel</th>\n",
       "      <th>datetime</th>\n",
       "      <th>Term</th>\n",
       "      <th>payment_type</th>\n",
       "      <th>product</th>\n",
       "      <th>amount</th>\n",
       "      <th>state</th>\n",
       "      <th>overdue_count</th>\n",
       "      <th>overdue</th>\n",
       "      <th>credit rating</th>\n",
       "      <th>bank</th>\n",
       "      <th>cancellation</th>\n",
       "      <th>age</th>\n",
       "      <th>Mileage</th>\n",
       "    </tr>\n",
       "  </thead>\n",
       "  <tbody>\n",
       "    <tr>\n",
       "      <th>0</th>\n",
       "      <td>66758234</td>\n",
       "      <td>렌탈</td>\n",
       "      <td>Normal</td>\n",
       "      <td>서비스 방문</td>\n",
       "      <td>2019-10-20</td>\n",
       "      <td>60</td>\n",
       "      <td>CMS</td>\n",
       "      <td>K1</td>\n",
       "      <td>96900</td>\n",
       "      <td>계약확정</td>\n",
       "      <td>0</td>\n",
       "      <td>없음</td>\n",
       "      <td>9.0</td>\n",
       "      <td>새마을금고</td>\n",
       "      <td>정상</td>\n",
       "      <td>43.0</td>\n",
       "      <td>1862.0</td>\n",
       "    </tr>\n",
       "    <tr>\n",
       "      <th>1</th>\n",
       "      <td>66755948</td>\n",
       "      <td>렌탈</td>\n",
       "      <td>Extension_Rental</td>\n",
       "      <td>서비스 방문</td>\n",
       "      <td>2019-10-20</td>\n",
       "      <td>60</td>\n",
       "      <td>카드이체</td>\n",
       "      <td>K1</td>\n",
       "      <td>102900</td>\n",
       "      <td>계약확정</td>\n",
       "      <td>0</td>\n",
       "      <td>없음</td>\n",
       "      <td>2.0</td>\n",
       "      <td>현대카드</td>\n",
       "      <td>정상</td>\n",
       "      <td>62.0</td>\n",
       "      <td>2532.0</td>\n",
       "    </tr>\n",
       "    <tr>\n",
       "      <th>2</th>\n",
       "      <td>66756657</td>\n",
       "      <td>렌탈</td>\n",
       "      <td>Normal</td>\n",
       "      <td>홈쇼핑/방송</td>\n",
       "      <td>2019-10-20</td>\n",
       "      <td>60</td>\n",
       "      <td>CMS</td>\n",
       "      <td>K1</td>\n",
       "      <td>96900</td>\n",
       "      <td>계약확정</td>\n",
       "      <td>0</td>\n",
       "      <td>없음</td>\n",
       "      <td>8.0</td>\n",
       "      <td>우리은행</td>\n",
       "      <td>정상</td>\n",
       "      <td>60.0</td>\n",
       "      <td>2363.0</td>\n",
       "    </tr>\n",
       "    <tr>\n",
       "      <th>3</th>\n",
       "      <td>66423450</td>\n",
       "      <td>멤버십</td>\n",
       "      <td>TAS</td>\n",
       "      <td>렌탈재계약</td>\n",
       "      <td>2019-10-20</td>\n",
       "      <td>12</td>\n",
       "      <td>CMS</td>\n",
       "      <td>K1</td>\n",
       "      <td>66900</td>\n",
       "      <td>계약확정</td>\n",
       "      <td>0</td>\n",
       "      <td>없음</td>\n",
       "      <td>5.0</td>\n",
       "      <td>농협은행</td>\n",
       "      <td>정상</td>\n",
       "      <td>60.0</td>\n",
       "      <td>2449.0</td>\n",
       "    </tr>\n",
       "    <tr>\n",
       "      <th>4</th>\n",
       "      <td>66423204</td>\n",
       "      <td>멤버십</td>\n",
       "      <td>TAS</td>\n",
       "      <td>렌탈재계약</td>\n",
       "      <td>2019-10-20</td>\n",
       "      <td>12</td>\n",
       "      <td>CMS</td>\n",
       "      <td>K1</td>\n",
       "      <td>66900</td>\n",
       "      <td>해약확정</td>\n",
       "      <td>12</td>\n",
       "      <td>있음</td>\n",
       "      <td>8.0</td>\n",
       "      <td>농협은행</td>\n",
       "      <td>해약</td>\n",
       "      <td>51.0</td>\n",
       "      <td>1942.0</td>\n",
       "    </tr>\n",
       "    <tr>\n",
       "      <th>...</th>\n",
       "      <td>...</td>\n",
       "      <td>...</td>\n",
       "      <td>...</td>\n",
       "      <td>...</td>\n",
       "      <td>...</td>\n",
       "      <td>...</td>\n",
       "      <td>...</td>\n",
       "      <td>...</td>\n",
       "      <td>...</td>\n",
       "      <td>...</td>\n",
       "      <td>...</td>\n",
       "      <td>...</td>\n",
       "      <td>...</td>\n",
       "      <td>...</td>\n",
       "      <td>...</td>\n",
       "      <td>...</td>\n",
       "      <td>...</td>\n",
       "    </tr>\n",
       "    <tr>\n",
       "      <th>51299</th>\n",
       "      <td>66579515</td>\n",
       "      <td>NaN</td>\n",
       "      <td>Promotion</td>\n",
       "      <td>R관리방판</td>\n",
       "      <td>2020-02-03</td>\n",
       "      <td>60</td>\n",
       "      <td>무통장</td>\n",
       "      <td>K3</td>\n",
       "      <td>96900</td>\n",
       "      <td>계약확정</td>\n",
       "      <td>0</td>\n",
       "      <td>없음</td>\n",
       "      <td>NaN</td>\n",
       "      <td>롯데카드</td>\n",
       "      <td>정상</td>\n",
       "      <td>NaN</td>\n",
       "      <td>NaN</td>\n",
       "    </tr>\n",
       "    <tr>\n",
       "      <th>51300</th>\n",
       "      <td>66799558</td>\n",
       "      <td>렌탈</td>\n",
       "      <td>Normal</td>\n",
       "      <td>영업방판</td>\n",
       "      <td>2020-02-03</td>\n",
       "      <td>60</td>\n",
       "      <td>카드이체</td>\n",
       "      <td>K1</td>\n",
       "      <td>96900</td>\n",
       "      <td>해약확정</td>\n",
       "      <td>0</td>\n",
       "      <td>없음</td>\n",
       "      <td>8.0</td>\n",
       "      <td>롯데카드</td>\n",
       "      <td>해약</td>\n",
       "      <td>39.0</td>\n",
       "      <td>1753.0</td>\n",
       "    </tr>\n",
       "    <tr>\n",
       "      <th>51301</th>\n",
       "      <td>66799197</td>\n",
       "      <td>렌탈</td>\n",
       "      <td>Promotion</td>\n",
       "      <td>홈쇼핑/방송</td>\n",
       "      <td>2020-02-03</td>\n",
       "      <td>39</td>\n",
       "      <td>무통장</td>\n",
       "      <td>K5</td>\n",
       "      <td>120900</td>\n",
       "      <td>해약확정</td>\n",
       "      <td>0</td>\n",
       "      <td>없음</td>\n",
       "      <td>1.0</td>\n",
       "      <td>NaN</td>\n",
       "      <td>해약</td>\n",
       "      <td>51.0</td>\n",
       "      <td>2217.0</td>\n",
       "    </tr>\n",
       "    <tr>\n",
       "      <th>51302</th>\n",
       "      <td>66792778</td>\n",
       "      <td>NaN</td>\n",
       "      <td>Normal</td>\n",
       "      <td>렌탈총판</td>\n",
       "      <td>2020-02-03</td>\n",
       "      <td>60</td>\n",
       "      <td>카드이체</td>\n",
       "      <td>K1</td>\n",
       "      <td>96900</td>\n",
       "      <td>계약확정</td>\n",
       "      <td>0</td>\n",
       "      <td>없음</td>\n",
       "      <td>2.0</td>\n",
       "      <td>신한카드</td>\n",
       "      <td>정상</td>\n",
       "      <td>64.0</td>\n",
       "      <td>2588.0</td>\n",
       "    </tr>\n",
       "    <tr>\n",
       "      <th>51303</th>\n",
       "      <td>66799607</td>\n",
       "      <td>렌탈</td>\n",
       "      <td>Normal</td>\n",
       "      <td>하이마트</td>\n",
       "      <td>2020-02-03</td>\n",
       "      <td>60</td>\n",
       "      <td>CMS</td>\n",
       "      <td>K1</td>\n",
       "      <td>96900</td>\n",
       "      <td>해약확정</td>\n",
       "      <td>0</td>\n",
       "      <td>없음</td>\n",
       "      <td>8.0</td>\n",
       "      <td>농협은행</td>\n",
       "      <td>해약</td>\n",
       "      <td>53.0</td>\n",
       "      <td>2130.0</td>\n",
       "    </tr>\n",
       "  </tbody>\n",
       "</table>\n",
       "<p>51304 rows × 17 columns</p>\n",
       "</div>"
      ],
      "text/plain": [
       "             id type_of_contract type_of_contract2 channel    datetime  Term  \\\n",
       "0      66758234               렌탈            Normal  서비스 방문  2019-10-20    60   \n",
       "1      66755948               렌탈  Extension_Rental  서비스 방문  2019-10-20    60   \n",
       "2      66756657               렌탈            Normal  홈쇼핑/방송  2019-10-20    60   \n",
       "3      66423450              멤버십               TAS   렌탈재계약  2019-10-20    12   \n",
       "4      66423204              멤버십               TAS   렌탈재계약  2019-10-20    12   \n",
       "...         ...              ...               ...     ...         ...   ...   \n",
       "51299  66579515              NaN         Promotion   R관리방판  2020-02-03    60   \n",
       "51300  66799558               렌탈            Normal    영업방판  2020-02-03    60   \n",
       "51301  66799197               렌탈         Promotion  홈쇼핑/방송  2020-02-03    39   \n",
       "51302  66792778              NaN            Normal    렌탈총판  2020-02-03    60   \n",
       "51303  66799607               렌탈            Normal    하이마트  2020-02-03    60   \n",
       "\n",
       "      payment_type product  amount state  overdue_count overdue  \\\n",
       "0              CMS      K1   96900  계약확정              0      없음   \n",
       "1             카드이체      K1  102900  계약확정              0      없음   \n",
       "2              CMS      K1   96900  계약확정              0      없음   \n",
       "3              CMS      K1   66900  계약확정              0      없음   \n",
       "4              CMS      K1   66900  해약확정             12      있음   \n",
       "...            ...     ...     ...   ...            ...     ...   \n",
       "51299          무통장      K3   96900  계약확정              0      없음   \n",
       "51300         카드이체      K1   96900  해약확정              0      없음   \n",
       "51301          무통장      K5  120900  해약확정              0      없음   \n",
       "51302         카드이체      K1   96900  계약확정              0      없음   \n",
       "51303          CMS      K1   96900  해약확정              0      없음   \n",
       "\n",
       "       credit rating   bank cancellation   age  Mileage  \n",
       "0                9.0  새마을금고           정상  43.0   1862.0  \n",
       "1                2.0   현대카드           정상  62.0   2532.0  \n",
       "2                8.0   우리은행           정상  60.0   2363.0  \n",
       "3                5.0   농협은행           정상  60.0   2449.0  \n",
       "4                8.0   농협은행           해약  51.0   1942.0  \n",
       "...              ...    ...          ...   ...      ...  \n",
       "51299            NaN   롯데카드           정상   NaN      NaN  \n",
       "51300            8.0   롯데카드           해약  39.0   1753.0  \n",
       "51301            1.0    NaN           해약  51.0   2217.0  \n",
       "51302            2.0   신한카드           정상  64.0   2588.0  \n",
       "51303            8.0   농협은행           해약  53.0   2130.0  \n",
       "\n",
       "[51304 rows x 17 columns]"
      ]
     },
     "execution_count": 2,
     "metadata": {},
     "output_type": "execute_result"
    }
   ],
   "source": [
    "df_TOCC=pd.read_csv('../../datasets/TypeOfContractChannel.csv')\n",
    "df_TOCC"
   ]
  },
  {
   "cell_type": "code",
   "execution_count": 3,
   "id": "77319f5f-ef72-4f42-a533-9b4d0b33d3b0",
   "metadata": {
    "tags": []
   },
   "outputs": [
    {
     "data": {
      "text/plain": [
       "array([66758234, 66755948, 66756657, ..., 66799197, 66792778, 66799607],\n",
       "      dtype=int64)"
      ]
     },
     "execution_count": 3,
     "metadata": {},
     "output_type": "execute_result"
    }
   ],
   "source": [
    "df_TOCC['id'].unique()"
   ]
  },
  {
   "cell_type": "code",
   "execution_count": 4,
   "id": "8c63f6f4-f499-4e24-93a1-2e3134a5a3ef",
   "metadata": {
    "tags": []
   },
   "outputs": [
    {
     "data": {
      "text/plain": [
       "25777820    187\n",
       "25869517     45\n",
       "25733179     38\n",
       "25722644     34\n",
       "25863590     28\n",
       "           ... \n",
       "66150388      1\n",
       "66771536      1\n",
       "66430740      1\n",
       "66642112      1\n",
       "66777649      1\n",
       "Name: id, Length: 43636, dtype: int64"
      ]
     },
     "execution_count": 4,
     "metadata": {},
     "output_type": "execute_result"
    }
   ],
   "source": [
    "df_TOCC['id'].value_counts()"
   ]
  },
  {
   "cell_type": "code",
   "execution_count": 8,
   "id": "34c685c8-9d0b-41c3-9689-4c6baf491efa",
   "metadata": {
    "tags": []
   },
   "outputs": [
    {
     "data": {
      "text/plain": [
       "0        True\n",
       "1        True\n",
       "2        True\n",
       "3        True\n",
       "4        True\n",
       "         ... \n",
       "51299    True\n",
       "51300    True\n",
       "51301    True\n",
       "51302    True\n",
       "51303    True\n",
       "Name: id, Length: 51304, dtype: bool"
      ]
     },
     "execution_count": 8,
     "metadata": {},
     "output_type": "execute_result"
    }
   ],
   "source": [
    "value df_TOCC['id'] == '25777820'"
   ]
  },
  {
   "cell_type": "code",
   "execution_count": 9,
   "id": "6f215658-8083-4338-9551-d0a7357c0779",
   "metadata": {
    "tags": []
   },
   "outputs": [
    {
     "data": {
      "text/html": [
       "<div>\n",
       "<style scoped>\n",
       "    .dataframe tbody tr th:only-of-type {\n",
       "        vertical-align: middle;\n",
       "    }\n",
       "\n",
       "    .dataframe tbody tr th {\n",
       "        vertical-align: top;\n",
       "    }\n",
       "\n",
       "    .dataframe thead th {\n",
       "        text-align: right;\n",
       "    }\n",
       "</style>\n",
       "<table border=\"1\" class=\"dataframe\">\n",
       "  <thead>\n",
       "    <tr style=\"text-align: right;\">\n",
       "      <th></th>\n",
       "      <th>Term</th>\n",
       "      <th>amount</th>\n",
       "      <th>overdue_count</th>\n",
       "      <th>credit rating</th>\n",
       "      <th>age</th>\n",
       "      <th>Mileage</th>\n",
       "    </tr>\n",
       "  </thead>\n",
       "  <tbody>\n",
       "    <tr>\n",
       "      <th>count</th>\n",
       "      <td>51304.000000</td>\n",
       "      <td>51304.000000</td>\n",
       "      <td>51304.000000</td>\n",
       "      <td>42521.000000</td>\n",
       "      <td>40509.000000</td>\n",
       "      <td>40509.000000</td>\n",
       "    </tr>\n",
       "    <tr>\n",
       "      <th>mean</th>\n",
       "      <td>55.638527</td>\n",
       "      <td>93994.980021</td>\n",
       "      <td>0.161040</td>\n",
       "      <td>3.428894</td>\n",
       "      <td>46.608285</td>\n",
       "      <td>1967.922412</td>\n",
       "    </tr>\n",
       "    <tr>\n",
       "      <th>std</th>\n",
       "      <td>12.010117</td>\n",
       "      <td>15305.147334</td>\n",
       "      <td>1.122356</td>\n",
       "      <td>2.213590</td>\n",
       "      <td>13.465977</td>\n",
       "      <td>436.707329</td>\n",
       "    </tr>\n",
       "    <tr>\n",
       "      <th>min</th>\n",
       "      <td>12.000000</td>\n",
       "      <td>54603.000000</td>\n",
       "      <td>-1.000000</td>\n",
       "      <td>0.000000</td>\n",
       "      <td>20.000000</td>\n",
       "      <td>872.000000</td>\n",
       "    </tr>\n",
       "    <tr>\n",
       "      <th>25%</th>\n",
       "      <td>60.000000</td>\n",
       "      <td>81900.000000</td>\n",
       "      <td>0.000000</td>\n",
       "      <td>1.000000</td>\n",
       "      <td>37.000000</td>\n",
       "      <td>1646.000000</td>\n",
       "    </tr>\n",
       "    <tr>\n",
       "      <th>50%</th>\n",
       "      <td>60.000000</td>\n",
       "      <td>96900.000000</td>\n",
       "      <td>0.000000</td>\n",
       "      <td>3.000000</td>\n",
       "      <td>46.000000</td>\n",
       "      <td>1946.000000</td>\n",
       "    </tr>\n",
       "    <tr>\n",
       "      <th>75%</th>\n",
       "      <td>60.000000</td>\n",
       "      <td>98400.000000</td>\n",
       "      <td>0.000000</td>\n",
       "      <td>5.000000</td>\n",
       "      <td>56.000000</td>\n",
       "      <td>2263.000000</td>\n",
       "    </tr>\n",
       "    <tr>\n",
       "      <th>max</th>\n",
       "      <td>60.000000</td>\n",
       "      <td>215700.000000</td>\n",
       "      <td>15.000000</td>\n",
       "      <td>10.000000</td>\n",
       "      <td>107.000000</td>\n",
       "      <td>3803.000000</td>\n",
       "    </tr>\n",
       "  </tbody>\n",
       "</table>\n",
       "</div>"
      ],
      "text/plain": [
       "               Term         amount  overdue_count  credit rating  \\\n",
       "count  51304.000000   51304.000000   51304.000000   42521.000000   \n",
       "mean      55.638527   93994.980021       0.161040       3.428894   \n",
       "std       12.010117   15305.147334       1.122356       2.213590   \n",
       "min       12.000000   54603.000000      -1.000000       0.000000   \n",
       "25%       60.000000   81900.000000       0.000000       1.000000   \n",
       "50%       60.000000   96900.000000       0.000000       3.000000   \n",
       "75%       60.000000   98400.000000       0.000000       5.000000   \n",
       "max       60.000000  215700.000000      15.000000      10.000000   \n",
       "\n",
       "                age       Mileage  \n",
       "count  40509.000000  40509.000000  \n",
       "mean      46.608285   1967.922412  \n",
       "std       13.465977    436.707329  \n",
       "min       20.000000    872.000000  \n",
       "25%       37.000000   1646.000000  \n",
       "50%       46.000000   1946.000000  \n",
       "75%       56.000000   2263.000000  \n",
       "max      107.000000   3803.000000  "
      ]
     },
     "execution_count": 9,
     "metadata": {},
     "output_type": "execute_result"
    }
   ],
   "source": [
    "df_TOCC.describe()"
   ]
  },
  {
   "cell_type": "code",
   "execution_count": 10,
   "id": "911da259-b328-4898-903f-db676202c318",
   "metadata": {
    "tags": []
   },
   "outputs": [
    {
     "data": {
      "text/plain": [
       "<bound method DataFrame.info of              id type_of_contract type_of_contract2 channel    datetime  Term  \\\n",
       "0      25777820               렌탈            Normal  서비스 방문  2019-10-20    60   \n",
       "1      25777820               렌탈  Extension_Rental  서비스 방문  2019-10-20    60   \n",
       "2      25777820               렌탈            Normal  홈쇼핑/방송  2019-10-20    60   \n",
       "3      25777820              멤버십               TAS   렌탈재계약  2019-10-20    12   \n",
       "4      25777820              멤버십               TAS   렌탈재계약  2019-10-20    12   \n",
       "...         ...              ...               ...     ...         ...   ...   \n",
       "51299  25777820              NaN         Promotion   R관리방판  2020-02-03    60   \n",
       "51300  25777820               렌탈            Normal    영업방판  2020-02-03    60   \n",
       "51301  25777820               렌탈         Promotion  홈쇼핑/방송  2020-02-03    39   \n",
       "51302  25777820              NaN            Normal    렌탈총판  2020-02-03    60   \n",
       "51303  25777820               렌탈            Normal    하이마트  2020-02-03    60   \n",
       "\n",
       "      payment_type product  amount state  overdue_count overdue  \\\n",
       "0              CMS      K1   96900  계약확정              0      없음   \n",
       "1             카드이체      K1  102900  계약확정              0      없음   \n",
       "2              CMS      K1   96900  계약확정              0      없음   \n",
       "3              CMS      K1   66900  계약확정              0      없음   \n",
       "4              CMS      K1   66900  해약확정             12      있음   \n",
       "...            ...     ...     ...   ...            ...     ...   \n",
       "51299          무통장      K3   96900  계약확정              0      없음   \n",
       "51300         카드이체      K1   96900  해약확정              0      없음   \n",
       "51301          무통장      K5  120900  해약확정              0      없음   \n",
       "51302         카드이체      K1   96900  계약확정              0      없음   \n",
       "51303          CMS      K1   96900  해약확정              0      없음   \n",
       "\n",
       "       credit rating   bank cancellation   age  Mileage  \n",
       "0                9.0  새마을금고           정상  43.0   1862.0  \n",
       "1                2.0   현대카드           정상  62.0   2532.0  \n",
       "2                8.0   우리은행           정상  60.0   2363.0  \n",
       "3                5.0   농협은행           정상  60.0   2449.0  \n",
       "4                8.0   농협은행           해약  51.0   1942.0  \n",
       "...              ...    ...          ...   ...      ...  \n",
       "51299            NaN   롯데카드           정상   NaN      NaN  \n",
       "51300            8.0   롯데카드           해약  39.0   1753.0  \n",
       "51301            1.0    NaN           해약  51.0   2217.0  \n",
       "51302            2.0   신한카드           정상  64.0   2588.0  \n",
       "51303            8.0   농협은행           해약  53.0   2130.0  \n",
       "\n",
       "[51304 rows x 17 columns]>"
      ]
     },
     "execution_count": 10,
     "metadata": {},
     "output_type": "execute_result"
    }
   ],
   "source": [
    "df_TOCC.info"
   ]
  },
  {
   "cell_type": "code",
   "execution_count": 13,
   "id": "eb889434-dfb0-49f5-bb05-75b8a354a633",
   "metadata": {
    "tags": []
   },
   "outputs": [
    {
     "data": {
      "text/html": [
       "<div>\n",
       "<style scoped>\n",
       "    .dataframe tbody tr th:only-of-type {\n",
       "        vertical-align: middle;\n",
       "    }\n",
       "\n",
       "    .dataframe tbody tr th {\n",
       "        vertical-align: top;\n",
       "    }\n",
       "\n",
       "    .dataframe thead th {\n",
       "        text-align: right;\n",
       "    }\n",
       "</style>\n",
       "<table border=\"1\" class=\"dataframe\">\n",
       "  <thead>\n",
       "    <tr style=\"text-align: right;\">\n",
       "      <th></th>\n",
       "      <th>id</th>\n",
       "      <th>type_of_contract</th>\n",
       "      <th>type_of_contract2</th>\n",
       "      <th>channel</th>\n",
       "      <th>datetime</th>\n",
       "      <th>payment_type</th>\n",
       "      <th>product</th>\n",
       "      <th>state</th>\n",
       "      <th>overdue</th>\n",
       "      <th>bank</th>\n",
       "      <th>cancellation</th>\n",
       "    </tr>\n",
       "  </thead>\n",
       "  <tbody>\n",
       "    <tr>\n",
       "      <th>count</th>\n",
       "      <td>51304</td>\n",
       "      <td>51300</td>\n",
       "      <td>51303</td>\n",
       "      <td>51304</td>\n",
       "      <td>51304</td>\n",
       "      <td>51304</td>\n",
       "      <td>51303</td>\n",
       "      <td>51304</td>\n",
       "      <td>51302</td>\n",
       "      <td>48544</td>\n",
       "      <td>51279</td>\n",
       "    </tr>\n",
       "    <tr>\n",
       "      <th>unique</th>\n",
       "      <td>1</td>\n",
       "      <td>2</td>\n",
       "      <td>9</td>\n",
       "      <td>20</td>\n",
       "      <td>101</td>\n",
       "      <td>5</td>\n",
       "      <td>6</td>\n",
       "      <td>4</td>\n",
       "      <td>2</td>\n",
       "      <td>46</td>\n",
       "      <td>2</td>\n",
       "    </tr>\n",
       "    <tr>\n",
       "      <th>top</th>\n",
       "      <td>25777820</td>\n",
       "      <td>렌탈</td>\n",
       "      <td>Promotion</td>\n",
       "      <td>서비스 방문</td>\n",
       "      <td>2019-10-29</td>\n",
       "      <td>CMS</td>\n",
       "      <td>K1</td>\n",
       "      <td>계약확정</td>\n",
       "      <td>없음</td>\n",
       "      <td>국민은행</td>\n",
       "      <td>정상</td>\n",
       "    </tr>\n",
       "    <tr>\n",
       "      <th>freq</th>\n",
       "      <td>51304</td>\n",
       "      <td>46481</td>\n",
       "      <td>15811</td>\n",
       "      <td>15186</td>\n",
       "      <td>817</td>\n",
       "      <td>32825</td>\n",
       "      <td>39134</td>\n",
       "      <td>50350</td>\n",
       "      <td>49112</td>\n",
       "      <td>9901</td>\n",
       "      <td>50372</td>\n",
       "    </tr>\n",
       "  </tbody>\n",
       "</table>\n",
       "</div>"
      ],
      "text/plain": [
       "              id type_of_contract type_of_contract2 channel    datetime  \\\n",
       "count      51304            51300             51303   51304       51304   \n",
       "unique         1                2                 9      20         101   \n",
       "top     25777820               렌탈         Promotion  서비스 방문  2019-10-29   \n",
       "freq       51304            46481             15811   15186         817   \n",
       "\n",
       "       payment_type product  state overdue   bank cancellation  \n",
       "count         51304   51303  51304   51302  48544        51279  \n",
       "unique            5       6      4       2     46            2  \n",
       "top             CMS      K1   계약확정      없음   국민은행           정상  \n",
       "freq          32825   39134  50350   49112   9901        50372  "
      ]
     },
     "execution_count": 13,
     "metadata": {},
     "output_type": "execute_result"
    }
   ],
   "source": [
    "df_TOCC.describe(include=object)"
   ]
  },
  {
   "cell_type": "code",
   "execution_count": 14,
   "id": "84ffffa5-b29e-4390-bf6c-d44cbd19ce24",
   "metadata": {
    "tags": []
   },
   "outputs": [
    {
     "data": {
      "text/plain": [
       "array(['렌탈', '멤버십', nan], dtype=object)"
      ]
     },
     "execution_count": 14,
     "metadata": {},
     "output_type": "execute_result"
    }
   ],
   "source": [
    "df_TOCC['type_of_contract'].unique()"
   ]
  },
  {
   "cell_type": "code",
   "execution_count": 15,
   "id": "04452f47-b0e4-4016-855b-d4727ef9422d",
   "metadata": {
    "tags": []
   },
   "outputs": [
    {
     "name": "stdout",
     "output_type": "stream",
     "text": [
      "<class 'pandas.core.frame.DataFrame'>\n",
      "RangeIndex: 51304 entries, 0 to 51303\n",
      "Data columns (total 17 columns):\n",
      " #   Column             Non-Null Count  Dtype  \n",
      "---  ------             --------------  -----  \n",
      " 0   id                 51304 non-null  object \n",
      " 1   type_of_contract   51300 non-null  object \n",
      " 2   type_of_contract2  51303 non-null  object \n",
      " 3   channel            51304 non-null  object \n",
      " 4   datetime           51304 non-null  object \n",
      " 5   Term               51304 non-null  int64  \n",
      " 6   payment_type       51304 non-null  object \n",
      " 7   product            51303 non-null  object \n",
      " 8   amount             51304 non-null  int64  \n",
      " 9   state              51304 non-null  object \n",
      " 10  overdue_count      51304 non-null  int64  \n",
      " 11  overdue            51302 non-null  object \n",
      " 12  credit rating      42521 non-null  float64\n",
      " 13  bank               48544 non-null  object \n",
      " 14  cancellation       51279 non-null  object \n",
      " 15  age                40509 non-null  float64\n",
      " 16  Mileage            40509 non-null  float64\n",
      "dtypes: float64(3), int64(3), object(11)\n",
      "memory usage: 6.7+ MB\n"
     ]
    }
   ],
   "source": [
    "df_TOCC.info()"
   ]
  },
  {
   "cell_type": "code",
   "execution_count": 16,
   "id": "f5513ff7-1a7f-456f-bb37-7c05ba525050",
   "metadata": {
    "tags": []
   },
   "outputs": [
    {
     "data": {
      "text/plain": [
       "렌탈     46481\n",
       "멤버십     4819\n",
       "Name: type_of_contract, dtype: int64"
      ]
     },
     "execution_count": 16,
     "metadata": {},
     "output_type": "execute_result"
    }
   ],
   "source": [
    "df_TOCC['type_of_contract'].value_counts()"
   ]
  },
  {
   "cell_type": "code",
   "execution_count": 17,
   "id": "1e2ef582-7513-46d9-9893-78d0547ff663",
   "metadata": {
    "tags": []
   },
   "outputs": [
    {
     "data": {
      "text/plain": [
       "array(['Normal', 'Extension_Rental', 'TAS', 'Promotion', 'Package', nan,\n",
       "       'TA1', 'TA3', 'Group', 'TA2'], dtype=object)"
      ]
     },
     "execution_count": 17,
     "metadata": {},
     "output_type": "execute_result"
    }
   ],
   "source": [
    "df_TOCC['type_of_contract2'].unique()"
   ]
  },
  {
   "cell_type": "code",
   "execution_count": 18,
   "id": "8d34e58a-64b2-4c4e-be53-c36030b0b263",
   "metadata": {
    "tags": []
   },
   "outputs": [
    {
     "data": {
      "text/plain": [
       "Promotion           15811\n",
       "Normal              15324\n",
       "Package             10184\n",
       "Extension_Rental     4975\n",
       "TAS                  2627\n",
       "TA2                  2087\n",
       "Group                 190\n",
       "TA3                    92\n",
       "TA1                    13\n",
       "Name: type_of_contract2, dtype: int64"
      ]
     },
     "execution_count": 18,
     "metadata": {},
     "output_type": "execute_result"
    }
   ],
   "source": [
    "df_TOCC['type_of_contract2'].value_counts()"
   ]
  },
  {
   "cell_type": "code",
   "execution_count": 19,
   "id": "b4c333bd-203c-4204-ac32-3840fcda8e85",
   "metadata": {
    "tags": []
   },
   "outputs": [
    {
     "data": {
      "text/plain": [
       "array(['서비스 방문', '홈쇼핑/방송', '렌탈재계약', '렌탈총판', '전자랜드', '홈플러스', '일반', '영업방판',\n",
       "       '하이마트', '이마트', '홈쇼핑/인터넷', 'R빌리미', 'R유통사', 'R인터넷', 'R관리방판',\n",
       "       'R농협인터넷몰', 'R농협', 'R법인', 'R렌탈운영', 'R법인그룹'], dtype=object)"
      ]
     },
     "execution_count": 19,
     "metadata": {},
     "output_type": "execute_result"
    }
   ],
   "source": [
    "df_TOCC['channel'].unique()"
   ]
  },
  {
   "cell_type": "code",
   "execution_count": 20,
   "id": "9a954b6a-3bfa-45a4-98bf-54cc34be6f23",
   "metadata": {
    "tags": []
   },
   "outputs": [
    {
     "data": {
      "text/plain": [
       "서비스 방문     15186\n",
       "홈쇼핑/방송     12977\n",
       "렌탈총판        5544\n",
       "R관리방판       4727\n",
       "하이마트        3227\n",
       "영업방판        3039\n",
       "렌탈재계약       2193\n",
       "일반          1232\n",
       "전자랜드        1205\n",
       "R빌리미         560\n",
       "이마트          265\n",
       "홈플러스         225\n",
       "R인터넷         198\n",
       "R유통사         188\n",
       "홈쇼핑/인터넷      177\n",
       "R렌탈운영        120\n",
       "R농협          119\n",
       "R농협인터넷몰       83\n",
       "R법인그룹         20\n",
       "R법인           19\n",
       "Name: channel, dtype: int64"
      ]
     },
     "execution_count": 20,
     "metadata": {},
     "output_type": "execute_result"
    }
   ],
   "source": [
    "df_TOCC['channel'].value_counts()"
   ]
  },
  {
   "cell_type": "code",
   "execution_count": 21,
   "id": "9462d746-2dd9-4d78-9639-661bdef0e626",
   "metadata": {
    "tags": []
   },
   "outputs": [
    {
     "data": {
      "text/plain": [
       "array(['2019-10-20', '2019-10-21', '2019-10-22', '2019-10-23',\n",
       "       '2019-10-24', '2019-10-25', '2019-10-26', '2019-10-27',\n",
       "       '2019-10-28', '2019-10-29', '2019-10-30', '2019-10-31',\n",
       "       '2019-11-01', '2019-11-02', '2019-11-03', '2019-11-04',\n",
       "       '2019-11-05', '2019-11-06', '2019-11-07', '2019-11-08',\n",
       "       '2019-11-09', '2019-11-10', '2019-11-11', '2019-11-12',\n",
       "       '2019-11-13', '2019-11-14', '2019-11-15', '2019-11-16',\n",
       "       '2019-11-17', '2019-11-18', '2019-11-19', '2019-11-20',\n",
       "       '2019-11-21', '2019-11-22', '2019-11-23', '2019-11-24',\n",
       "       '2019-11-25', '2019-11-26', '2019-11-27', '2019-11-28',\n",
       "       '2019-11-29', '2019-11-30', '2019-12-01', '2019-12-02',\n",
       "       '2019-12-03', '2019-12-04', '2019-12-05', '2019-12-06',\n",
       "       '2019-12-07', '2019-12-08', '2019-12-09', '2019-12-10',\n",
       "       '2019-12-11', '2019-12-12', '2019-12-13', '2019-12-14',\n",
       "       '2019-12-15', '2019-12-16', '2019-12-17', '2019-12-18',\n",
       "       '2019-12-19', '2019-12-20', '2019-12-21', '2019-12-22',\n",
       "       '2019-12-23', '2019-12-24', '2019-12-25', '2019-12-26',\n",
       "       '2019-12-27', '2019-12-28', '2019-12-29', '2019-12-30',\n",
       "       '2020-01-06', '2020-01-07', '2020-01-08', '2020-01-09',\n",
       "       '2020-01-10', '2020-01-11', '2020-01-12', '2020-01-13',\n",
       "       '2020-01-14', '2020-01-15', '2020-01-16', '2020-01-17',\n",
       "       '2020-01-18', '2020-01-19', '2020-01-20', '2020-01-21',\n",
       "       '2020-01-22', '2020-01-23', '2020-01-24', '2020-01-25',\n",
       "       '2020-01-26', '2020-01-27', '2020-01-28', '2020-01-29',\n",
       "       '2020-01-30', '2020-01-31', '2020-02-01', '2020-02-02',\n",
       "       '2020-02-03'], dtype=object)"
      ]
     },
     "execution_count": 21,
     "metadata": {},
     "output_type": "execute_result"
    }
   ],
   "source": [
    "df_TOCC['datetime'].unique()"
   ]
  },
  {
   "cell_type": "code",
   "execution_count": 22,
   "id": "3ce1d777-494b-486f-a373-fa39d1ca218b",
   "metadata": {
    "tags": []
   },
   "outputs": [
    {
     "data": {
      "text/plain": [
       "2019-10-29    817\n",
       "2019-11-25    805\n",
       "2019-10-25    800\n",
       "2019-10-22    786\n",
       "2020-01-13    745\n",
       "             ... \n",
       "2020-01-25     30\n",
       "2019-12-14     29\n",
       "2019-10-20     28\n",
       "2020-01-11     27\n",
       "2020-01-06      1\n",
       "Name: datetime, Length: 101, dtype: int64"
      ]
     },
     "execution_count": 22,
     "metadata": {},
     "output_type": "execute_result"
    }
   ],
   "source": [
    "df_TOCC['datetime'].value_counts()"
   ]
  },
  {
   "cell_type": "code",
   "execution_count": 23,
   "id": "7b19f511-3590-4569-a27f-f54a286f7d76",
   "metadata": {
    "tags": []
   },
   "outputs": [
    {
     "data": {
      "text/plain": [
       "array([60, 12, 36, 39], dtype=int64)"
      ]
     },
     "execution_count": 23,
     "metadata": {},
     "output_type": "execute_result"
    }
   ],
   "source": [
    "df_TOCC['Term'].unique()"
   ]
  },
  {
   "cell_type": "code",
   "execution_count": 24,
   "id": "c245c6e0-2756-4c30-ad5e-238bde4c06b8",
   "metadata": {
    "tags": []
   },
   "outputs": [
    {
     "data": {
      "text/plain": [
       "60    44536\n",
       "36     3352\n",
       "12     2651\n",
       "39      765\n",
       "Name: Term, dtype: int64"
      ]
     },
     "execution_count": 24,
     "metadata": {},
     "output_type": "execute_result"
    }
   ],
   "source": [
    "df_TOCC['Term'].value_counts()"
   ]
  },
  {
   "cell_type": "code",
   "execution_count": 25,
   "id": "68952448-1a6c-4d32-b902-d65853cab939",
   "metadata": {
    "tags": []
   },
   "outputs": [
    {
     "data": {
      "text/plain": [
       "array(['CMS', '카드이체', '가상계좌', '지로', '무통장'], dtype=object)"
      ]
     },
     "execution_count": 25,
     "metadata": {},
     "output_type": "execute_result"
    }
   ],
   "source": [
    "df_TOCC['payment_type'].unique()"
   ]
  },
  {
   "cell_type": "code",
   "execution_count": 26,
   "id": "308d9a15-1b39-498c-a831-b47115c10fae",
   "metadata": {
    "tags": []
   },
   "outputs": [
    {
     "data": {
      "text/plain": [
       "CMS     32825\n",
       "카드이체    15717\n",
       "무통장      2085\n",
       "가상계좌      612\n",
       "지로         65\n",
       "Name: payment_type, dtype: int64"
      ]
     },
     "execution_count": 26,
     "metadata": {},
     "output_type": "execute_result"
    }
   ],
   "source": [
    "df_TOCC['payment_type'].value_counts()"
   ]
  },
  {
   "cell_type": "code",
   "execution_count": 27,
   "id": "58389040-900c-4624-8b70-23663817a60b",
   "metadata": {
    "tags": []
   },
   "outputs": [
    {
     "data": {
      "text/plain": [
       "array(['K1', 'K3', 'K2', 'K4', 'K6', nan, 'K5'], dtype=object)"
      ]
     },
     "execution_count": 27,
     "metadata": {},
     "output_type": "execute_result"
    }
   ],
   "source": [
    "df_TOCC['product'].unique()"
   ]
  },
  {
   "cell_type": "code",
   "execution_count": 28,
   "id": "ef721fdc-1e10-4ea3-94ad-7d58517b4fab",
   "metadata": {
    "tags": []
   },
   "outputs": [
    {
     "data": {
      "text/plain": [
       "K1    39134\n",
       "K2     8995\n",
       "K3     2082\n",
       "K5      645\n",
       "K4      327\n",
       "K6      120\n",
       "Name: product, dtype: int64"
      ]
     },
     "execution_count": 28,
     "metadata": {},
     "output_type": "execute_result"
    }
   ],
   "source": [
    "df_TOCC['product'].value_counts()"
   ]
  },
  {
   "cell_type": "code",
   "execution_count": 29,
   "id": "c12d969b-4930-4396-a1e0-83acf7ae4f96",
   "metadata": {
    "tags": []
   },
   "outputs": [
    {
     "data": {
      "text/plain": [
       "array([ 96900, 102900,  66900,  90900,  98400,  80400, 105900,  81900,\n",
       "       111900,  87900, 134700, 142200,  96600, 126900, 124200,  75900,\n",
       "       125700,  78900, 104400,  89400, 115200, 110700, 145200, 180750,\n",
       "       185700,  55200, 120900, 108900, 118200,  84900, 123000,  72900,\n",
       "       127200, 144900, 121200, 112200, 109200, 133200, 141900, 116700,\n",
       "       114150, 138900, 151200, 111300, 215700, 134400, 137700,  99900,\n",
       "       101550, 136950,  93900, 129900,  95400, 113700, 101400, 167700,\n",
       "       117900,  98910, 107700, 100200, 130200, 102450, 136200, 119400,\n",
       "       110400, 104700,  85350,  99600,  54603,  56979,  58743,  60225,\n",
       "        66396,  72138,  77154,  77985,  62673,  64326,  87960,  87930,\n",
       "       155700, 113460, 131400,  68625, 113400, 126450, 105300,  90930,\n",
       "       131700,  60603, 114900,  89100,  82200,  80310], dtype=int64)"
      ]
     },
     "execution_count": 29,
     "metadata": {},
     "output_type": "execute_result"
    }
   ],
   "source": [
    "df_TOCC['amount'].unique()"
   ]
  },
  {
   "cell_type": "code",
   "execution_count": 30,
   "id": "71d72a73-1ad2-4d8b-be7e-ac42c8248d1b",
   "metadata": {
    "tags": []
   },
   "outputs": [
    {
     "data": {
      "text/plain": [
       "96900     19006\n",
       "81900      7973\n",
       "105900     5588\n",
       "90900      2990\n",
       "66900      2436\n",
       "          ...  \n",
       "104700        1\n",
       "60603         1\n",
       "136950        1\n",
       "151200        1\n",
       "111300        1\n",
       "Name: amount, Length: 94, dtype: int64"
      ]
     },
     "execution_count": 30,
     "metadata": {},
     "output_type": "execute_result"
    }
   ],
   "source": [
    "df_TOCC['amount'].value_counts()"
   ]
  },
  {
   "cell_type": "code",
   "execution_count": 31,
   "id": "dee11740-8163-44ce-9ef9-45dd7d2e4712",
   "metadata": {
    "tags": []
   },
   "outputs": [
    {
     "data": {
      "text/plain": [
       "array(['계약확정', '해약확정', '기간만료', '해약진행중'], dtype=object)"
      ]
     },
     "execution_count": 31,
     "metadata": {},
     "output_type": "execute_result"
    }
   ],
   "source": [
    "df_TOCC['state'].unique()"
   ]
  },
  {
   "cell_type": "code",
   "execution_count": 32,
   "id": "6108940d-83ea-4d62-9e7c-9aeaad0028fb",
   "metadata": {
    "tags": []
   },
   "outputs": [
    {
     "data": {
      "text/plain": [
       "<bound method IndexOpsMixin.value_counts of 0        계약확정\n",
       "1        계약확정\n",
       "2        계약확정\n",
       "3        계약확정\n",
       "4        해약확정\n",
       "         ... \n",
       "51299    계약확정\n",
       "51300    해약확정\n",
       "51301    해약확정\n",
       "51302    계약확정\n",
       "51303    해약확정\n",
       "Name: state, Length: 51304, dtype: object>"
      ]
     },
     "execution_count": 32,
     "metadata": {},
     "output_type": "execute_result"
    }
   ],
   "source": [
    "df_TOCC['state'].value_counts"
   ]
  },
  {
   "cell_type": "code",
   "execution_count": 33,
   "id": "5cd58daa-6c42-41d4-a97c-21e63cf28d86",
   "metadata": {
    "tags": []
   },
   "outputs": [
    {
     "ename": "SyntaxError",
     "evalue": "incomplete input (1744680968.py, line 1)",
     "output_type": "error",
     "traceback": [
      "\u001b[1;36m  Cell \u001b[1;32mIn[33], line 1\u001b[1;36m\u001b[0m\n\u001b[1;33m    (df_TOCC['state'].value_counts()\u001b[0m\n\u001b[1;37m                                    ^\u001b[0m\n\u001b[1;31mSyntaxError\u001b[0m\u001b[1;31m:\u001b[0m incomplete input\n"
     ]
    }
   ],
   "source": [
    "(df_TOCC['state'].value_counts()"
   ]
  },
  {
   "cell_type": "code",
   "execution_count": 34,
   "id": "5df3c468-833a-4a0f-addb-4bd593b052fd",
   "metadata": {
    "tags": []
   },
   "outputs": [
    {
     "data": {
      "text/plain": [
       "계약확정     50350\n",
       "해약확정       907\n",
       "기간만료        33\n",
       "해약진행중       14\n",
       "Name: state, dtype: int64"
      ]
     },
     "execution_count": 34,
     "metadata": {},
     "output_type": "execute_result"
    }
   ],
   "source": [
    "df_TOCC['state'].value_counts()"
   ]
  },
  {
   "cell_type": "code",
   "execution_count": 35,
   "id": "5d99992b-5c26-47b5-a4c5-eba58cecb2ad",
   "metadata": {
    "tags": []
   },
   "outputs": [
    {
     "data": {
      "text/plain": [
       "array([ 0, 12,  1, 15,  4,  2,  9, 10,  7,  5, 11, 13,  3, -1,  8, 14,  6],\n",
       "      dtype=int64)"
      ]
     },
     "execution_count": 35,
     "metadata": {},
     "output_type": "execute_result"
    }
   ],
   "source": [
    "df_TOCC['overdue_count'].unique()"
   ]
  },
  {
   "cell_type": "code",
   "execution_count": 36,
   "id": "58625698-136c-4a4c-a8dc-7c7ac9ef8a47",
   "metadata": {
    "tags": []
   },
   "outputs": [
    {
     "data": {
      "text/plain": [
       " 0     49096\n",
       " 1       972\n",
       " 2       389\n",
       " 3       147\n",
       " 12      113\n",
       " 4       111\n",
       " 5        74\n",
       " 10       64\n",
       " 7        59\n",
       " 8        57\n",
       " 11       56\n",
       " 14       45\n",
       " 9        44\n",
       " 13       44\n",
       "-1        17\n",
       " 15       11\n",
       " 6         5\n",
       "Name: overdue_count, dtype: int64"
      ]
     },
     "execution_count": 36,
     "metadata": {},
     "output_type": "execute_result"
    }
   ],
   "source": [
    "df_TOCC['overdue_count'].value_counts()"
   ]
  },
  {
   "cell_type": "code",
   "execution_count": 37,
   "id": "3407c45d-cccf-41c3-a530-5cdc7d4587af",
   "metadata": {
    "tags": []
   },
   "outputs": [
    {
     "data": {
      "text/plain": [
       "array(['없음', '있음', nan], dtype=object)"
      ]
     },
     "execution_count": 37,
     "metadata": {},
     "output_type": "execute_result"
    }
   ],
   "source": [
    "df_TOCC['overdue'].unique()"
   ]
  },
  {
   "cell_type": "code",
   "execution_count": 38,
   "id": "d6970063-affb-4e3d-a1a1-3490737f155d",
   "metadata": {
    "tags": []
   },
   "outputs": [
    {
     "data": {
      "text/plain": [
       "없음    49112\n",
       "있음     2190\n",
       "Name: overdue, dtype: int64"
      ]
     },
     "execution_count": 38,
     "metadata": {},
     "output_type": "execute_result"
    }
   ],
   "source": [
    "df_TOCC['overdue'].value_counts()"
   ]
  },
  {
   "cell_type": "code",
   "execution_count": 39,
   "id": "7afad4c9-392f-4ed5-9b7d-ec58eedc6f3e",
   "metadata": {
    "tags": []
   },
   "outputs": [
    {
     "data": {
      "text/plain": [
       "array([ 9.,  2.,  8.,  5.,  1.,  7., nan,  3.,  6.,  4., 10.,  0.])"
      ]
     },
     "execution_count": 39,
     "metadata": {},
     "output_type": "execute_result"
    }
   ],
   "source": [
    "df_TOCC['credit rating'].unique()"
   ]
  },
  {
   "cell_type": "code",
   "execution_count": 40,
   "id": "aa607c3c-994b-4299-b934-7ed6af6b3a66",
   "metadata": {
    "tags": []
   },
   "outputs": [
    {
     "data": {
      "text/plain": [
       "1.0     10778\n",
       "2.0      8228\n",
       "4.0      5379\n",
       "3.0      4997\n",
       "5.0      4317\n",
       "6.0      3818\n",
       "7.0      2717\n",
       "8.0      1542\n",
       "9.0       639\n",
       "0.0        60\n",
       "10.0       46\n",
       "Name: credit rating, dtype: int64"
      ]
     },
     "execution_count": 40,
     "metadata": {},
     "output_type": "execute_result"
    }
   ],
   "source": [
    "df_TOCC['credit rating'].value_counts()"
   ]
  },
  {
   "cell_type": "code",
   "execution_count": 41,
   "id": "04f8d783-b415-4f7a-9286-6035e9ac0c5a",
   "metadata": {
    "tags": []
   },
   "outputs": [
    {
     "data": {
      "text/plain": [
       "array(['새마을금고', '현대카드', '우리은행', '농협은행', '국민은행', '롯데카드', '신한은행', '국민카드',\n",
       "       '우체국', '기업은행', 'SC제일은행', nan, '대구은행', '하나은행', '신한카드', '삼성카드',\n",
       "       '광주은행', '외환은행', '부산은행', 'BC카드', '씨티은행', '신협중앙회', '경남은행', '미래에셋증권',\n",
       "       '외환카드', '수협중앙회', '유안타증권', '전북은행', '상호저축은행', '대신증권', '산업은행', '현대증권',\n",
       "       '산림조합중앙회', '제주은행', '삼성증권', '하나대투증권', 'SK증권', '수협카드', '한국투자증권',\n",
       "       '신한금융투자', '하나SK', 'NH농협카드', '메리츠종합금융증권', '하이투자증권', '우리카드', '대우증권',\n",
       "       '씨티카드'], dtype=object)"
      ]
     },
     "execution_count": 41,
     "metadata": {},
     "output_type": "execute_result"
    }
   ],
   "source": [
    "df_TOCC['bank'].unique()"
   ]
  },
  {
   "cell_type": "code",
   "execution_count": 42,
   "id": "6dfe2a93-b2d9-4b76-be9b-e02cd647d909",
   "metadata": {
    "tags": []
   },
   "outputs": [
    {
     "data": {
      "text/plain": [
       "국민은행         9901\n",
       "롯데카드         9518\n",
       "농협은행         6278\n",
       "신한은행         3522\n",
       "우리은행         3386\n",
       "기업은행         1963\n",
       "신한카드         1533\n",
       "하나은행         1446\n",
       "국민카드         1311\n",
       "BC카드         1264\n",
       "새마을금고         964\n",
       "부산은행          888\n",
       "삼성카드          884\n",
       "현대카드          876\n",
       "대구은행          746\n",
       "우체국           717\n",
       "외환은행          586\n",
       "외환카드          530\n",
       "경남은행          442\n",
       "SC제일은행        439\n",
       "광주은행          347\n",
       "신협중앙회         341\n",
       "전북은행          195\n",
       "씨티은행          162\n",
       "수협중앙회         160\n",
       "제주은행           40\n",
       "유안타증권          27\n",
       "산업은행           23\n",
       "현대증권           11\n",
       "삼성증권            7\n",
       "하나SK            6\n",
       "미래에셋증권          5\n",
       "NH농협카드          4\n",
       "한국투자증권          4\n",
       "신한금융투자          4\n",
       "우리카드            3\n",
       "대우증권            2\n",
       "하이투자증권          1\n",
       "메리츠종합금융증권       1\n",
       "수협카드            1\n",
       "상호저축은행          1\n",
       "SK증권            1\n",
       "하나대투증권          1\n",
       "산림조합중앙회         1\n",
       "대신증권            1\n",
       "씨티카드            1\n",
       "Name: bank, dtype: int64"
      ]
     },
     "execution_count": 42,
     "metadata": {},
     "output_type": "execute_result"
    }
   ],
   "source": [
    "df_TOCC['bank'].value_counts()"
   ]
  },
  {
   "cell_type": "code",
   "execution_count": 43,
   "id": "ef2afc9e-0bce-42d8-a1bf-af686a9ae9f9",
   "metadata": {
    "tags": []
   },
   "outputs": [
    {
     "data": {
      "text/plain": [
       "array(['정상', '해약', nan], dtype=object)"
      ]
     },
     "execution_count": 43,
     "metadata": {},
     "output_type": "execute_result"
    }
   ],
   "source": [
    "df_TOCC['cancellation'].unique()"
   ]
  },
  {
   "cell_type": "code",
   "execution_count": 44,
   "id": "dacad61e-9128-41a1-81aa-1dc0661c6b0d",
   "metadata": {
    "tags": []
   },
   "outputs": [
    {
     "data": {
      "text/plain": [
       "정상    50372\n",
       "해약      907\n",
       "Name: cancellation, dtype: int64"
      ]
     },
     "execution_count": 44,
     "metadata": {},
     "output_type": "execute_result"
    }
   ],
   "source": [
    "df_TOCC['cancellation'].value_counts()"
   ]
  },
  {
   "cell_type": "code",
   "execution_count": 45,
   "id": "5f91d9a7-aac8-4296-8df2-049bb8e5e53e",
   "metadata": {
    "tags": []
   },
   "outputs": [
    {
     "data": {
      "text/plain": [
       "array([ 43.,  62.,  60.,  51.,  52.,  59.,  nan,  61.,  24.,  37.,  28.,\n",
       "        29.,  34.,  54.,  33.,  48.,  47.,  41.,  73.,  55.,  74.,  40.,\n",
       "        85.,  64.,  65.,  46.,  26.,  31.,  32.,  36.,  25.,  42.,  45.,\n",
       "        58.,  49.,  56.,  69.,  53.,  22.,  63.,  38.,  30.,  50.,  57.,\n",
       "        44.,  27.,  76.,  23.,  39.,  66.,  72.,  67.,  70.,  20.,  71.,\n",
       "        68.,  75.,  83.,  81.,  86.,  77.,  35.,  82.,  21.,  80.,  79.,\n",
       "        84.,  78.,  88.,  98.,  91.,  89.,  92., 103.,  94.,  87.,  93.,\n",
       "        96., 107.,  90., 104.,  95.,  97., 100., 101.])"
      ]
     },
     "execution_count": 45,
     "metadata": {},
     "output_type": "execute_result"
    }
   ],
   "source": [
    "df_TOCC['age'].unique()"
   ]
  },
  {
   "cell_type": "code",
   "execution_count": 46,
   "id": "feae6a24-18f8-48ab-bd4c-57fe7e4672da",
   "metadata": {
    "tags": []
   },
   "outputs": [
    {
     "data": {
      "text/plain": [
       "43.0     1166\n",
       "40.0     1146\n",
       "42.0     1132\n",
       "48.0     1113\n",
       "47.0     1112\n",
       "         ... \n",
       "107.0       1\n",
       "104.0       1\n",
       "97.0        1\n",
       "100.0       1\n",
       "101.0       1\n",
       "Name: age, Length: 84, dtype: int64"
      ]
     },
     "execution_count": 46,
     "metadata": {},
     "output_type": "execute_result"
    }
   ],
   "source": [
    "df_TOCC['age'].value_counts()"
   ]
  },
  {
   "cell_type": "code",
   "execution_count": 47,
   "id": "0efd8084-505f-49c4-abf0-41f7965b4bc7",
   "metadata": {
    "tags": []
   },
   "outputs": [
    {
     "data": {
      "text/plain": [
       "array([1862., 2532., 2363., ...,  990., 3384., 3280.])"
      ]
     },
     "execution_count": 47,
     "metadata": {},
     "output_type": "execute_result"
    }
   ],
   "source": [
    "df_TOCC['Mileage'].unique()"
   ]
  },
  {
   "cell_type": "code",
   "execution_count": 48,
   "id": "74a9f0f2-a6d0-4fe5-80c3-0945da1406a3",
   "metadata": {
    "tags": []
   },
   "outputs": [
    {
     "data": {
      "text/plain": [
       "2030.0    53\n",
       "1814.0    50\n",
       "1775.0    50\n",
       "2010.0    48\n",
       "1944.0    47\n",
       "          ..\n",
       "3127.0     1\n",
       "3091.0     1\n",
       "3031.0     1\n",
       "3284.0     1\n",
       "3280.0     1\n",
       "Name: Mileage, Length: 2297, dtype: int64"
      ]
     },
     "execution_count": 48,
     "metadata": {},
     "output_type": "execute_result"
    }
   ],
   "source": [
    "df_TOCC['Mileage'].value_counts()"
   ]
  },
  {
   "cell_type": "code",
   "execution_count": null,
   "id": "2173799a-9ab7-47dd-829c-40c5ed3d9253",
   "metadata": {},
   "outputs": [],
   "source": []
  }
 ],
 "metadata": {
  "kernelspec": {
   "display_name": "Python 3 (ipykernel)",
   "language": "python",
   "name": "python3"
  },
  "language_info": {
   "codemirror_mode": {
    "name": "ipython",
    "version": 3
   },
   "file_extension": ".py",
   "mimetype": "text/x-python",
   "name": "python",
   "nbconvert_exporter": "python",
   "pygments_lexer": "ipython3",
   "version": "3.11.3"
  }
 },
 "nbformat": 4,
 "nbformat_minor": 5
}
