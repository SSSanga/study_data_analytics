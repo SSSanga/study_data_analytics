{
 "cells": [
  {
   "cell_type": "code",
   "execution_count": 1,
   "id": "b4071b0e-febf-4a21-823c-ca48c9a036ad",
   "metadata": {
    "tags": []
   },
   "outputs": [],
   "source": [
    "import pandas as pd\n",
    "import pymongo as mg"
   ]
  },
  {
   "cell_type": "code",
   "execution_count": 2,
   "id": "189f6142-162a-4778-824e-2dfe6fa3e431",
   "metadata": {
    "tags": []
   },
   "outputs": [],
   "source": [
    "client=mg.MongoClient(host='mongodb://localhost:27017')"
   ]
  },
  {
   "cell_type": "code",
   "execution_count": 3,
   "id": "872ab9da-9180-40de-a56b-7e47938975fd",
   "metadata": {
    "tags": []
   },
   "outputs": [],
   "source": [
    "databases=client['db_medicals']"
   ]
  },
  {
   "cell_type": "code",
   "execution_count": 4,
   "id": "c4f3d236-f589-4b8a-9a3b-49ea70858a2a",
   "metadata": {
    "tags": []
   },
   "outputs": [],
   "source": [
    "collection = databases['RecurrenceOfSurgery']"
   ]
  },
  {
   "cell_type": "code",
   "execution_count": 5,
   "id": "d9ad59b4-e509-4f0f-9b38-ce2d8c5cc4a5",
   "metadata": {
    "tags": []
   },
   "outputs": [],
   "source": [
    "cursor = collection.find({})\n",
    "list_BOS=list(cursor)"
   ]
  },
  {
   "cell_type": "code",
   "execution_count": 6,
   "id": "cb7ebc13-ebe8-4eb3-bd64-9cde7b406869",
   "metadata": {
    "tags": []
   },
   "outputs": [
    {
     "data": {
      "text/html": [
       "<div>\n",
       "<style scoped>\n",
       "    .dataframe tbody tr th:only-of-type {\n",
       "        vertical-align: middle;\n",
       "    }\n",
       "\n",
       "    .dataframe tbody tr th {\n",
       "        vertical-align: top;\n",
       "    }\n",
       "\n",
       "    .dataframe thead th {\n",
       "        text-align: right;\n",
       "    }\n",
       "</style>\n",
       "<table border=\"1\" class=\"dataframe\">\n",
       "  <thead>\n",
       "    <tr style=\"text-align: right;\">\n",
       "      <th></th>\n",
       "      <th>_id</th>\n",
       "      <th>Unnamed: 0</th>\n",
       "      <th>환자ID</th>\n",
       "      <th>Large Lymphocyte</th>\n",
       "      <th>Location of herniation</th>\n",
       "      <th>ODI</th>\n",
       "      <th>가족력</th>\n",
       "      <th>간질성폐질환</th>\n",
       "      <th>고혈압여부</th>\n",
       "      <th>과거수술횟수</th>\n",
       "      <th>...</th>\n",
       "      <th>Modic change</th>\n",
       "      <th>PI</th>\n",
       "      <th>PT</th>\n",
       "      <th>Seg Angle(raw)</th>\n",
       "      <th>Vaccum disc</th>\n",
       "      <th>골밀도</th>\n",
       "      <th>디스크단면적</th>\n",
       "      <th>디스크위치</th>\n",
       "      <th>척추이동척도</th>\n",
       "      <th>척추전방위증</th>\n",
       "    </tr>\n",
       "  </thead>\n",
       "  <tbody>\n",
       "    <tr>\n",
       "      <th>0</th>\n",
       "      <td>64d3393f7d99ddbe719c3a05</td>\n",
       "      <td>0</td>\n",
       "      <td>1PT</td>\n",
       "      <td>22.8</td>\n",
       "      <td>3</td>\n",
       "      <td>51.0</td>\n",
       "      <td>0.0</td>\n",
       "      <td>0</td>\n",
       "      <td>0</td>\n",
       "      <td>0</td>\n",
       "      <td>...</td>\n",
       "      <td>3</td>\n",
       "      <td>51.6</td>\n",
       "      <td>36.6</td>\n",
       "      <td>14.4</td>\n",
       "      <td>0</td>\n",
       "      <td>-1.01</td>\n",
       "      <td>2048.50</td>\n",
       "      <td>4</td>\n",
       "      <td>Down</td>\n",
       "      <td>0</td>\n",
       "    </tr>\n",
       "    <tr>\n",
       "      <th>1</th>\n",
       "      <td>64d3393f7d99ddbe719c3a06</td>\n",
       "      <td>1</td>\n",
       "      <td>2PT</td>\n",
       "      <td>44.9</td>\n",
       "      <td>4</td>\n",
       "      <td>26.0</td>\n",
       "      <td>0.0</td>\n",
       "      <td>0</td>\n",
       "      <td>0</td>\n",
       "      <td>0</td>\n",
       "      <td>...</td>\n",
       "      <td>0</td>\n",
       "      <td>40.8</td>\n",
       "      <td>7.2</td>\n",
       "      <td>17.8</td>\n",
       "      <td>0</td>\n",
       "      <td>-1.14</td>\n",
       "      <td>1753.10</td>\n",
       "      <td>4</td>\n",
       "      <td>Up</td>\n",
       "      <td>0</td>\n",
       "    </tr>\n",
       "    <tr>\n",
       "      <th>2</th>\n",
       "      <td>64d3393f7d99ddbe719c3a07</td>\n",
       "      <td>2</td>\n",
       "      <td>3PT</td>\n",
       "      <td>53.0</td>\n",
       "      <td>3</td>\n",
       "      <td>NaN</td>\n",
       "      <td>0.0</td>\n",
       "      <td>0</td>\n",
       "      <td>0</td>\n",
       "      <td>1</td>\n",
       "      <td>...</td>\n",
       "      <td>0</td>\n",
       "      <td>67.5</td>\n",
       "      <td>27.3</td>\n",
       "      <td>10.2</td>\n",
       "      <td>0</td>\n",
       "      <td>-1.77</td>\n",
       "      <td>1749.00</td>\n",
       "      <td>4</td>\n",
       "      <td>Down</td>\n",
       "      <td>0</td>\n",
       "    </tr>\n",
       "    <tr>\n",
       "      <th>3</th>\n",
       "      <td>64d3393f7d99ddbe719c3a08</td>\n",
       "      <td>3</td>\n",
       "      <td>4PT</td>\n",
       "      <td>54.7</td>\n",
       "      <td>4</td>\n",
       "      <td>18.0</td>\n",
       "      <td>0.0</td>\n",
       "      <td>0</td>\n",
       "      <td>1</td>\n",
       "      <td>0</td>\n",
       "      <td>...</td>\n",
       "      <td>0</td>\n",
       "      <td>49.2</td>\n",
       "      <td>18.7</td>\n",
       "      <td>19.9</td>\n",
       "      <td>0</td>\n",
       "      <td>-1.58</td>\n",
       "      <td>1796.20</td>\n",
       "      <td>4</td>\n",
       "      <td>Down</td>\n",
       "      <td>0</td>\n",
       "    </tr>\n",
       "    <tr>\n",
       "      <th>4</th>\n",
       "      <td>64d3393f7d99ddbe719c3a09</td>\n",
       "      <td>4</td>\n",
       "      <td>5PT</td>\n",
       "      <td>53.8</td>\n",
       "      <td>4</td>\n",
       "      <td>NaN</td>\n",
       "      <td>0.0</td>\n",
       "      <td>0</td>\n",
       "      <td>1</td>\n",
       "      <td>0</td>\n",
       "      <td>...</td>\n",
       "      <td>0</td>\n",
       "      <td>58.8</td>\n",
       "      <td>14.7</td>\n",
       "      <td>5.2</td>\n",
       "      <td>0</td>\n",
       "      <td>-0.79</td>\n",
       "      <td>2021.48</td>\n",
       "      <td>4</td>\n",
       "      <td>Up</td>\n",
       "      <td>0</td>\n",
       "    </tr>\n",
       "  </tbody>\n",
       "</table>\n",
       "<p>5 rows × 53 columns</p>\n",
       "</div>"
      ],
      "text/plain": [
       "                        _id  Unnamed: 0 환자ID  Large Lymphocyte  \\\n",
       "0  64d3393f7d99ddbe719c3a05           0  1PT              22.8   \n",
       "1  64d3393f7d99ddbe719c3a06           1  2PT              44.9   \n",
       "2  64d3393f7d99ddbe719c3a07           2  3PT              53.0   \n",
       "3  64d3393f7d99ddbe719c3a08           3  4PT              54.7   \n",
       "4  64d3393f7d99ddbe719c3a09           4  5PT              53.8   \n",
       "\n",
       "   Location of herniation   ODI  가족력  간질성폐질환  고혈압여부  과거수술횟수  ...  \\\n",
       "0                       3  51.0  0.0       0      0       0  ...   \n",
       "1                       4  26.0  0.0       0      0       0  ...   \n",
       "2                       3   NaN  0.0       0      0       1  ...   \n",
       "3                       4  18.0  0.0       0      1       0  ...   \n",
       "4                       4   NaN  0.0       0      1       0  ...   \n",
       "\n",
       "   Modic change    PI    PT  Seg Angle(raw)  Vaccum disc   골밀도   디스크단면적  \\\n",
       "0             3  51.6  36.6            14.4            0 -1.01  2048.50   \n",
       "1             0  40.8   7.2            17.8            0 -1.14  1753.10   \n",
       "2             0  67.5  27.3            10.2            0 -1.77  1749.00   \n",
       "3             0  49.2  18.7            19.9            0 -1.58  1796.20   \n",
       "4             0  58.8  14.7             5.2            0 -0.79  2021.48   \n",
       "\n",
       "   디스크위치  척추이동척도  척추전방위증  \n",
       "0      4    Down       0  \n",
       "1      4      Up       0  \n",
       "2      4    Down       0  \n",
       "3      4    Down       0  \n",
       "4      4      Up       0  \n",
       "\n",
       "[5 rows x 53 columns]"
      ]
     },
     "execution_count": 6,
     "metadata": {},
     "output_type": "execute_result"
    }
   ],
   "source": [
    "df_BOS = pd.DataFrame(list_BOS)\n",
    "df_BOS.head(5)"
   ]
  },
  {
   "cell_type": "markdown",
   "id": "483f4a5b-31c3-41da-b585-ec17b3d87464",
   "metadata": {},
   "source": [
    "info를 보았을때 일단 _id, Unnamed drop 시킬래"
   ]
  },
  {
   "cell_type": "code",
   "execution_count": 7,
   "id": "eea821ad-c084-425c-a424-f67eb19d0595",
   "metadata": {
    "tags": []
   },
   "outputs": [
    {
     "name": "stdout",
     "output_type": "stream",
     "text": [
      "<class 'pandas.core.frame.DataFrame'>\n",
      "RangeIndex: 1894 entries, 0 to 1893\n",
      "Data columns (total 53 columns):\n",
      " #   Column                  Non-Null Count  Dtype  \n",
      "---  ------                  --------------  -----  \n",
      " 0   _id                     1894 non-null   object \n",
      " 1   Unnamed: 0              1894 non-null   int64  \n",
      " 2   환자ID                    1894 non-null   object \n",
      " 3   Large Lymphocyte        1894 non-null   float64\n",
      " 4   Location of herniation  1894 non-null   int64  \n",
      " 5   ODI                     462 non-null    float64\n",
      " 6   가족력                     1843 non-null   float64\n",
      " 7   간질성폐질환                  1894 non-null   int64  \n",
      " 8   고혈압여부                   1894 non-null   int64  \n",
      " 9   과거수술횟수                  1894 non-null   int64  \n",
      " 10  당뇨여부                    1894 non-null   int64  \n",
      " 11  말초동맥질환여부                1894 non-null   int64  \n",
      " 12  빈혈여부                    1894 non-null   int64  \n",
      " 13  성별                      1894 non-null   int64  \n",
      " 14  스테로이드치료                 1894 non-null   int64  \n",
      " 15  신부전여부                   1894 non-null   int64  \n",
      " 16  신장                      1894 non-null   int64  \n",
      " 17  심혈관질환                   1894 non-null   int64  \n",
      " 18  암발병여부                   1894 non-null   int64  \n",
      " 19  연령                      1894 non-null   int64  \n",
      " 20  우울증여부                   1894 non-null   int64  \n",
      " 21  입원기간                    1894 non-null   int64  \n",
      " 22  입원일자                    1894 non-null   int64  \n",
      " 23  종양진행여부                  1894 non-null   int64  \n",
      " 24  직업                      1479 non-null   object \n",
      " 25  체중                      1894 non-null   float64\n",
      " 26  퇴원일자                    1894 non-null   int64  \n",
      " 27  헤모글로빈수치                 1893 non-null   float64\n",
      " 28  혈전합병증여부                 1894 non-null   int64  \n",
      " 29  환자통증정도                  1894 non-null   int64  \n",
      " 30  흡연여부                    1894 non-null   int64  \n",
      " 31  통증기간(월)                 1890 non-null   float64\n",
      " 32  수술기법                    1813 non-null   object \n",
      " 33  수술시간                    1840 non-null   float64\n",
      " 34  수술실패여부                  1894 non-null   int64  \n",
      " 35  수술일자                    1894 non-null   int64  \n",
      " 36  재발여부                    1894 non-null   int64  \n",
      " 37  혈액형                     1894 non-null   object \n",
      " 38  전방디스크높이(mm)             1894 non-null   float64\n",
      " 39  후방디스크높이(mm)             1894 non-null   float64\n",
      " 40  지방축적도                   1891 non-null   float64\n",
      " 41  Instability             1894 non-null   int64  \n",
      " 42  MF + ES                 1894 non-null   float64\n",
      " 43  Modic change            1894 non-null   int64  \n",
      " 44  PI                      1890 non-null   float64\n",
      " 45  PT                      1890 non-null   float64\n",
      " 46  Seg Angle(raw)          1893 non-null   float64\n",
      " 47  Vaccum disc             1894 non-null   int64  \n",
      " 48  골밀도                     998 non-null    float64\n",
      " 49  디스크단면적                  1893 non-null   float64\n",
      " 50  디스크위치                   1894 non-null   int64  \n",
      " 51  척추이동척도                  1894 non-null   object \n",
      " 52  척추전방위증                  1894 non-null   int64  \n",
      "dtypes: float64(16), int64(31), object(6)\n",
      "memory usage: 784.4+ KB\n"
     ]
    }
   ],
   "source": [
    "df_BOS.info()"
   ]
  },
  {
   "cell_type": "code",
   "execution_count": 9,
   "id": "9dd6bf25-fa78-4692-b056-59c93b5acbf8",
   "metadata": {
    "tags": []
   },
   "outputs": [
    {
     "data": {
      "text/plain": [
       "Index(['_id', 'Unnamed: 0', '환자ID', 'Large Lymphocyte',\n",
       "       'Location of herniation', 'ODI', '가족력', '간질성폐질환', '고혈압여부', '과거수술횟수',\n",
       "       '당뇨여부', '말초동맥질환여부', '빈혈여부', '성별', '스테로이드치료', '신부전여부', '신장', '심혈관질환',\n",
       "       '암발병여부', '연령', '우울증여부', '입원기간', '입원일자', '종양진행여부', '직업', '체중', '퇴원일자',\n",
       "       '헤모글로빈수치', '혈전합병증여부', '환자통증정도', '흡연여부', '통증기간(월)', '수술기법', '수술시간',\n",
       "       '수술실패여부', '수술일자', '재발여부', '혈액형', '전방디스크높이(mm)', '후방디스크높이(mm)', '지방축적도',\n",
       "       'Instability', 'MF + ES', 'Modic change', 'PI', 'PT', 'Seg Angle(raw)',\n",
       "       'Vaccum disc', '골밀도', '디스크단면적', '디스크위치', '척추이동척도', '척추전방위증'],\n",
       "      dtype='object')"
      ]
     },
     "execution_count": 9,
     "metadata": {},
     "output_type": "execute_result"
    }
   ],
   "source": [
    "df_BOS.columns"
   ]
  },
  {
   "cell_type": "code",
   "execution_count": 12,
   "id": "097c09fd-5d63-41df-bc6c-6634bb1bfb6a",
   "metadata": {
    "tags": []
   },
   "outputs": [
    {
     "data": {
      "text/html": [
       "<div>\n",
       "<style scoped>\n",
       "    .dataframe tbody tr th:only-of-type {\n",
       "        vertical-align: middle;\n",
       "    }\n",
       "\n",
       "    .dataframe tbody tr th {\n",
       "        vertical-align: top;\n",
       "    }\n",
       "\n",
       "    .dataframe thead th {\n",
       "        text-align: right;\n",
       "    }\n",
       "</style>\n",
       "<table border=\"1\" class=\"dataframe\">\n",
       "  <thead>\n",
       "    <tr style=\"text-align: right;\">\n",
       "      <th></th>\n",
       "      <th>환자ID</th>\n",
       "      <th>Large Lymphocyte</th>\n",
       "      <th>Location of herniation</th>\n",
       "      <th>ODI</th>\n",
       "      <th>가족력</th>\n",
       "      <th>간질성폐질환</th>\n",
       "      <th>고혈압여부</th>\n",
       "      <th>과거수술횟수</th>\n",
       "      <th>당뇨여부</th>\n",
       "      <th>말초동맥질환여부</th>\n",
       "      <th>...</th>\n",
       "      <th>Modic change</th>\n",
       "      <th>PI</th>\n",
       "      <th>PT</th>\n",
       "      <th>Seg Angle(raw)</th>\n",
       "      <th>Vaccum disc</th>\n",
       "      <th>골밀도</th>\n",
       "      <th>디스크단면적</th>\n",
       "      <th>디스크위치</th>\n",
       "      <th>척추이동척도</th>\n",
       "      <th>척추전방위증</th>\n",
       "    </tr>\n",
       "  </thead>\n",
       "  <tbody>\n",
       "    <tr>\n",
       "      <th>0</th>\n",
       "      <td>1PT</td>\n",
       "      <td>22.8</td>\n",
       "      <td>3</td>\n",
       "      <td>51.0</td>\n",
       "      <td>0.0</td>\n",
       "      <td>0</td>\n",
       "      <td>0</td>\n",
       "      <td>0</td>\n",
       "      <td>0</td>\n",
       "      <td>0</td>\n",
       "      <td>...</td>\n",
       "      <td>3</td>\n",
       "      <td>51.6</td>\n",
       "      <td>36.6</td>\n",
       "      <td>14.4</td>\n",
       "      <td>0</td>\n",
       "      <td>-1.01</td>\n",
       "      <td>2048.50</td>\n",
       "      <td>4</td>\n",
       "      <td>Down</td>\n",
       "      <td>0</td>\n",
       "    </tr>\n",
       "    <tr>\n",
       "      <th>1</th>\n",
       "      <td>2PT</td>\n",
       "      <td>44.9</td>\n",
       "      <td>4</td>\n",
       "      <td>26.0</td>\n",
       "      <td>0.0</td>\n",
       "      <td>0</td>\n",
       "      <td>0</td>\n",
       "      <td>0</td>\n",
       "      <td>0</td>\n",
       "      <td>0</td>\n",
       "      <td>...</td>\n",
       "      <td>0</td>\n",
       "      <td>40.8</td>\n",
       "      <td>7.2</td>\n",
       "      <td>17.8</td>\n",
       "      <td>0</td>\n",
       "      <td>-1.14</td>\n",
       "      <td>1753.10</td>\n",
       "      <td>4</td>\n",
       "      <td>Up</td>\n",
       "      <td>0</td>\n",
       "    </tr>\n",
       "    <tr>\n",
       "      <th>2</th>\n",
       "      <td>3PT</td>\n",
       "      <td>53.0</td>\n",
       "      <td>3</td>\n",
       "      <td>NaN</td>\n",
       "      <td>0.0</td>\n",
       "      <td>0</td>\n",
       "      <td>0</td>\n",
       "      <td>1</td>\n",
       "      <td>0</td>\n",
       "      <td>0</td>\n",
       "      <td>...</td>\n",
       "      <td>0</td>\n",
       "      <td>67.5</td>\n",
       "      <td>27.3</td>\n",
       "      <td>10.2</td>\n",
       "      <td>0</td>\n",
       "      <td>-1.77</td>\n",
       "      <td>1749.00</td>\n",
       "      <td>4</td>\n",
       "      <td>Down</td>\n",
       "      <td>0</td>\n",
       "    </tr>\n",
       "    <tr>\n",
       "      <th>3</th>\n",
       "      <td>4PT</td>\n",
       "      <td>54.7</td>\n",
       "      <td>4</td>\n",
       "      <td>18.0</td>\n",
       "      <td>0.0</td>\n",
       "      <td>0</td>\n",
       "      <td>1</td>\n",
       "      <td>0</td>\n",
       "      <td>0</td>\n",
       "      <td>0</td>\n",
       "      <td>...</td>\n",
       "      <td>0</td>\n",
       "      <td>49.2</td>\n",
       "      <td>18.7</td>\n",
       "      <td>19.9</td>\n",
       "      <td>0</td>\n",
       "      <td>-1.58</td>\n",
       "      <td>1796.20</td>\n",
       "      <td>4</td>\n",
       "      <td>Down</td>\n",
       "      <td>0</td>\n",
       "    </tr>\n",
       "    <tr>\n",
       "      <th>4</th>\n",
       "      <td>5PT</td>\n",
       "      <td>53.8</td>\n",
       "      <td>4</td>\n",
       "      <td>NaN</td>\n",
       "      <td>0.0</td>\n",
       "      <td>0</td>\n",
       "      <td>1</td>\n",
       "      <td>0</td>\n",
       "      <td>0</td>\n",
       "      <td>0</td>\n",
       "      <td>...</td>\n",
       "      <td>0</td>\n",
       "      <td>58.8</td>\n",
       "      <td>14.7</td>\n",
       "      <td>5.2</td>\n",
       "      <td>0</td>\n",
       "      <td>-0.79</td>\n",
       "      <td>2021.48</td>\n",
       "      <td>4</td>\n",
       "      <td>Up</td>\n",
       "      <td>0</td>\n",
       "    </tr>\n",
       "  </tbody>\n",
       "</table>\n",
       "<p>5 rows × 51 columns</p>\n",
       "</div>"
      ],
      "text/plain": [
       "  환자ID  Large Lymphocyte  Location of herniation   ODI  가족력  간질성폐질환  고혈압여부  \\\n",
       "0  1PT              22.8                       3  51.0  0.0       0      0   \n",
       "1  2PT              44.9                       4  26.0  0.0       0      0   \n",
       "2  3PT              53.0                       3   NaN  0.0       0      0   \n",
       "3  4PT              54.7                       4  18.0  0.0       0      1   \n",
       "4  5PT              53.8                       4   NaN  0.0       0      1   \n",
       "\n",
       "   과거수술횟수  당뇨여부  말초동맥질환여부  ...  Modic change    PI    PT  Seg Angle(raw)  \\\n",
       "0       0     0         0  ...             3  51.6  36.6            14.4   \n",
       "1       0     0         0  ...             0  40.8   7.2            17.8   \n",
       "2       1     0         0  ...             0  67.5  27.3            10.2   \n",
       "3       0     0         0  ...             0  49.2  18.7            19.9   \n",
       "4       0     0         0  ...             0  58.8  14.7             5.2   \n",
       "\n",
       "   Vaccum disc   골밀도   디스크단면적  디스크위치  척추이동척도  척추전방위증  \n",
       "0            0 -1.01  2048.50      4    Down       0  \n",
       "1            0 -1.14  1753.10      4      Up       0  \n",
       "2            0 -1.77  1749.00      4    Down       0  \n",
       "3            0 -1.58  1796.20      4    Down       0  \n",
       "4            0 -0.79  2021.48      4      Up       0  \n",
       "\n",
       "[5 rows x 51 columns]"
      ]
     },
     "execution_count": 12,
     "metadata": {},
     "output_type": "execute_result"
    }
   ],
   "source": [
    "df_BOS_drops=df_BOS.drop(columns=['_id', 'Unnamed: 0',])\n",
    "df_BOS_drops.head(5)"
   ]
  },
  {
   "cell_type": "code",
   "execution_count": 14,
   "id": "55e37907-b883-4e70-986f-bde40f7bbd4b",
   "metadata": {
    "tags": []
   },
   "outputs": [
    {
     "data": {
      "text/plain": [
       "Index(['환자ID', 'Large Lymphocyte', 'Location of herniation', 'ODI', '가족력',\n",
       "       '간질성폐질환', '고혈압여부', '과거수술횟수', '당뇨여부', '말초동맥질환여부', '빈혈여부', '성별',\n",
       "       '스테로이드치료', '신부전여부', '신장', '심혈관질환', '암발병여부', '연령', '우울증여부', '입원기간',\n",
       "       '입원일자', '종양진행여부', '직업', '체중', '퇴원일자', '헤모글로빈수치', '혈전합병증여부', '환자통증정도',\n",
       "       '흡연여부', '통증기간(월)', '수술기법', '수술시간', '수술실패여부', '수술일자', '재발여부', '혈액형',\n",
       "       '전방디스크높이(mm)', '후방디스크높이(mm)', '지방축적도', 'Instability', 'MF + ES',\n",
       "       'Modic change', 'PI', 'PT', 'Seg Angle(raw)', 'Vaccum disc', '골밀도',\n",
       "       '디스크단면적', '디스크위치', '척추이동척도', '척추전방위증'],\n",
       "      dtype='object')"
      ]
     },
     "execution_count": 14,
     "metadata": {},
     "output_type": "execute_result"
    }
   ],
   "source": [
    "df_BOS_drops.columns"
   ]
  },
  {
   "cell_type": "code",
   "execution_count": 15,
   "id": "bffc2a98-9ba9-4dea-a3c8-488187868600",
   "metadata": {
    "tags": []
   },
   "outputs": [
    {
     "data": {
      "text/html": [
       "<div>\n",
       "<style scoped>\n",
       "    .dataframe tbody tr th:only-of-type {\n",
       "        vertical-align: middle;\n",
       "    }\n",
       "\n",
       "    .dataframe tbody tr th {\n",
       "        vertical-align: top;\n",
       "    }\n",
       "\n",
       "    .dataframe thead th {\n",
       "        text-align: right;\n",
       "    }\n",
       "</style>\n",
       "<table border=\"1\" class=\"dataframe\">\n",
       "  <thead>\n",
       "    <tr style=\"text-align: right;\">\n",
       "      <th></th>\n",
       "      <th>Large Lymphocyte</th>\n",
       "      <th>Location of herniation</th>\n",
       "      <th>ODI</th>\n",
       "      <th>가족력</th>\n",
       "      <th>간질성폐질환</th>\n",
       "      <th>고혈압여부</th>\n",
       "      <th>과거수술횟수</th>\n",
       "      <th>당뇨여부</th>\n",
       "      <th>말초동맥질환여부</th>\n",
       "      <th>빈혈여부</th>\n",
       "      <th>...</th>\n",
       "      <th>MF + ES</th>\n",
       "      <th>Modic change</th>\n",
       "      <th>PI</th>\n",
       "      <th>PT</th>\n",
       "      <th>Seg Angle(raw)</th>\n",
       "      <th>Vaccum disc</th>\n",
       "      <th>골밀도</th>\n",
       "      <th>디스크단면적</th>\n",
       "      <th>디스크위치</th>\n",
       "      <th>척추전방위증</th>\n",
       "    </tr>\n",
       "  </thead>\n",
       "  <tbody>\n",
       "    <tr>\n",
       "      <th>count</th>\n",
       "      <td>1894.000000</td>\n",
       "      <td>1894.000000</td>\n",
       "      <td>462.000000</td>\n",
       "      <td>1843.000000</td>\n",
       "      <td>1894.000000</td>\n",
       "      <td>1894.000000</td>\n",
       "      <td>1894.000000</td>\n",
       "      <td>1894.000000</td>\n",
       "      <td>1894.000000</td>\n",
       "      <td>1894.000000</td>\n",
       "      <td>...</td>\n",
       "      <td>1894.000000</td>\n",
       "      <td>1894.000000</td>\n",
       "      <td>1890.000000</td>\n",
       "      <td>1890.000000</td>\n",
       "      <td>1893.000000</td>\n",
       "      <td>1894.000000</td>\n",
       "      <td>998.000000</td>\n",
       "      <td>1893.000000</td>\n",
       "      <td>1894.000000</td>\n",
       "      <td>1894.000000</td>\n",
       "    </tr>\n",
       "    <tr>\n",
       "      <th>mean</th>\n",
       "      <td>39.270750</td>\n",
       "      <td>2.295671</td>\n",
       "      <td>31.142857</td>\n",
       "      <td>0.049919</td>\n",
       "      <td>0.020063</td>\n",
       "      <td>0.130940</td>\n",
       "      <td>0.302534</td>\n",
       "      <td>0.062830</td>\n",
       "      <td>0.004224</td>\n",
       "      <td>0.024287</td>\n",
       "      <td>...</td>\n",
       "      <td>2096.421600</td>\n",
       "      <td>0.247096</td>\n",
       "      <td>46.593651</td>\n",
       "      <td>16.329841</td>\n",
       "      <td>15.287934</td>\n",
       "      <td>0.056494</td>\n",
       "      <td>-1.507325</td>\n",
       "      <td>1989.788774</td>\n",
       "      <td>4.430834</td>\n",
       "      <td>0.032207</td>\n",
       "    </tr>\n",
       "    <tr>\n",
       "      <th>std</th>\n",
       "      <td>13.675874</td>\n",
       "      <td>0.996143</td>\n",
       "      <td>10.131304</td>\n",
       "      <td>0.217836</td>\n",
       "      <td>0.140254</td>\n",
       "      <td>0.337424</td>\n",
       "      <td>0.638461</td>\n",
       "      <td>0.242721</td>\n",
       "      <td>0.064871</td>\n",
       "      <td>0.153980</td>\n",
       "      <td>...</td>\n",
       "      <td>472.834488</td>\n",
       "      <td>0.661506</td>\n",
       "      <td>22.736211</td>\n",
       "      <td>8.421322</td>\n",
       "      <td>10.426397</td>\n",
       "      <td>0.230935</td>\n",
       "      <td>0.495867</td>\n",
       "      <td>314.478436</td>\n",
       "      <td>3.595680</td>\n",
       "      <td>0.176596</td>\n",
       "    </tr>\n",
       "    <tr>\n",
       "      <th>min</th>\n",
       "      <td>0.000000</td>\n",
       "      <td>1.000000</td>\n",
       "      <td>4.000000</td>\n",
       "      <td>0.000000</td>\n",
       "      <td>0.000000</td>\n",
       "      <td>0.000000</td>\n",
       "      <td>0.000000</td>\n",
       "      <td>0.000000</td>\n",
       "      <td>0.000000</td>\n",
       "      <td>0.000000</td>\n",
       "      <td>...</td>\n",
       "      <td>1016.800000</td>\n",
       "      <td>0.000000</td>\n",
       "      <td>11.900000</td>\n",
       "      <td>-10.600000</td>\n",
       "      <td>-27.400000</td>\n",
       "      <td>0.000000</td>\n",
       "      <td>-2.840000</td>\n",
       "      <td>1145.800000</td>\n",
       "      <td>1.000000</td>\n",
       "      <td>0.000000</td>\n",
       "    </tr>\n",
       "    <tr>\n",
       "      <th>25%</th>\n",
       "      <td>30.700000</td>\n",
       "      <td>1.000000</td>\n",
       "      <td>24.250000</td>\n",
       "      <td>0.000000</td>\n",
       "      <td>0.000000</td>\n",
       "      <td>0.000000</td>\n",
       "      <td>0.000000</td>\n",
       "      <td>0.000000</td>\n",
       "      <td>0.000000</td>\n",
       "      <td>0.000000</td>\n",
       "      <td>...</td>\n",
       "      <td>1765.285000</td>\n",
       "      <td>0.000000</td>\n",
       "      <td>38.700000</td>\n",
       "      <td>10.500000</td>\n",
       "      <td>8.800000</td>\n",
       "      <td>0.000000</td>\n",
       "      <td>-1.820000</td>\n",
       "      <td>1777.000000</td>\n",
       "      <td>4.000000</td>\n",
       "      <td>0.000000</td>\n",
       "    </tr>\n",
       "    <tr>\n",
       "      <th>50%</th>\n",
       "      <td>40.200000</td>\n",
       "      <td>2.000000</td>\n",
       "      <td>31.500000</td>\n",
       "      <td>0.000000</td>\n",
       "      <td>0.000000</td>\n",
       "      <td>0.000000</td>\n",
       "      <td>0.000000</td>\n",
       "      <td>0.000000</td>\n",
       "      <td>0.000000</td>\n",
       "      <td>0.000000</td>\n",
       "      <td>...</td>\n",
       "      <td>2056.500000</td>\n",
       "      <td>0.000000</td>\n",
       "      <td>45.100000</td>\n",
       "      <td>15.700000</td>\n",
       "      <td>14.500000</td>\n",
       "      <td>0.000000</td>\n",
       "      <td>-1.520000</td>\n",
       "      <td>1985.500000</td>\n",
       "      <td>4.000000</td>\n",
       "      <td>0.000000</td>\n",
       "    </tr>\n",
       "    <tr>\n",
       "      <th>75%</th>\n",
       "      <td>48.600000</td>\n",
       "      <td>3.000000</td>\n",
       "      <td>38.000000</td>\n",
       "      <td>0.000000</td>\n",
       "      <td>0.000000</td>\n",
       "      <td>0.000000</td>\n",
       "      <td>0.000000</td>\n",
       "      <td>0.000000</td>\n",
       "      <td>0.000000</td>\n",
       "      <td>0.000000</td>\n",
       "      <td>...</td>\n",
       "      <td>2374.350000</td>\n",
       "      <td>0.000000</td>\n",
       "      <td>52.000000</td>\n",
       "      <td>21.400000</td>\n",
       "      <td>21.100000</td>\n",
       "      <td>0.000000</td>\n",
       "      <td>-1.202500</td>\n",
       "      <td>2178.500000</td>\n",
       "      <td>4.000000</td>\n",
       "      <td>0.000000</td>\n",
       "    </tr>\n",
       "    <tr>\n",
       "      <th>max</th>\n",
       "      <td>89.000000</td>\n",
       "      <td>5.000000</td>\n",
       "      <td>68.000000</td>\n",
       "      <td>1.000000</td>\n",
       "      <td>1.000000</td>\n",
       "      <td>1.000000</td>\n",
       "      <td>3.000000</td>\n",
       "      <td>1.000000</td>\n",
       "      <td>1.000000</td>\n",
       "      <td>1.000000</td>\n",
       "      <td>...</td>\n",
       "      <td>5569.000000</td>\n",
       "      <td>3.000000</td>\n",
       "      <td>559.000000</td>\n",
       "      <td>48.700000</td>\n",
       "      <td>165.000000</td>\n",
       "      <td>1.000000</td>\n",
       "      <td>1.700000</td>\n",
       "      <td>3214.200000</td>\n",
       "      <td>45.000000</td>\n",
       "      <td>1.000000</td>\n",
       "    </tr>\n",
       "  </tbody>\n",
       "</table>\n",
       "<p>8 rows × 46 columns</p>\n",
       "</div>"
      ],
      "text/plain": [
       "       Large Lymphocyte  Location of herniation         ODI          가족력  \\\n",
       "count       1894.000000             1894.000000  462.000000  1843.000000   \n",
       "mean          39.270750                2.295671   31.142857     0.049919   \n",
       "std           13.675874                0.996143   10.131304     0.217836   \n",
       "min            0.000000                1.000000    4.000000     0.000000   \n",
       "25%           30.700000                1.000000   24.250000     0.000000   \n",
       "50%           40.200000                2.000000   31.500000     0.000000   \n",
       "75%           48.600000                3.000000   38.000000     0.000000   \n",
       "max           89.000000                5.000000   68.000000     1.000000   \n",
       "\n",
       "            간질성폐질환        고혈압여부       과거수술횟수         당뇨여부     말초동맥질환여부  \\\n",
       "count  1894.000000  1894.000000  1894.000000  1894.000000  1894.000000   \n",
       "mean      0.020063     0.130940     0.302534     0.062830     0.004224   \n",
       "std       0.140254     0.337424     0.638461     0.242721     0.064871   \n",
       "min       0.000000     0.000000     0.000000     0.000000     0.000000   \n",
       "25%       0.000000     0.000000     0.000000     0.000000     0.000000   \n",
       "50%       0.000000     0.000000     0.000000     0.000000     0.000000   \n",
       "75%       0.000000     0.000000     0.000000     0.000000     0.000000   \n",
       "max       1.000000     1.000000     3.000000     1.000000     1.000000   \n",
       "\n",
       "              빈혈여부  ...      MF + ES  Modic change           PI           PT  \\\n",
       "count  1894.000000  ...  1894.000000   1894.000000  1890.000000  1890.000000   \n",
       "mean      0.024287  ...  2096.421600      0.247096    46.593651    16.329841   \n",
       "std       0.153980  ...   472.834488      0.661506    22.736211     8.421322   \n",
       "min       0.000000  ...  1016.800000      0.000000    11.900000   -10.600000   \n",
       "25%       0.000000  ...  1765.285000      0.000000    38.700000    10.500000   \n",
       "50%       0.000000  ...  2056.500000      0.000000    45.100000    15.700000   \n",
       "75%       0.000000  ...  2374.350000      0.000000    52.000000    21.400000   \n",
       "max       1.000000  ...  5569.000000      3.000000   559.000000    48.700000   \n",
       "\n",
       "       Seg Angle(raw)  Vaccum disc         골밀도       디스크단면적        디스크위치  \\\n",
       "count     1893.000000  1894.000000  998.000000  1893.000000  1894.000000   \n",
       "mean        15.287934     0.056494   -1.507325  1989.788774     4.430834   \n",
       "std         10.426397     0.230935    0.495867   314.478436     3.595680   \n",
       "min        -27.400000     0.000000   -2.840000  1145.800000     1.000000   \n",
       "25%          8.800000     0.000000   -1.820000  1777.000000     4.000000   \n",
       "50%         14.500000     0.000000   -1.520000  1985.500000     4.000000   \n",
       "75%         21.100000     0.000000   -1.202500  2178.500000     4.000000   \n",
       "max        165.000000     1.000000    1.700000  3214.200000    45.000000   \n",
       "\n",
       "            척추전방위증  \n",
       "count  1894.000000  \n",
       "mean      0.032207  \n",
       "std       0.176596  \n",
       "min       0.000000  \n",
       "25%       0.000000  \n",
       "50%       0.000000  \n",
       "75%       0.000000  \n",
       "max       1.000000  \n",
       "\n",
       "[8 rows x 46 columns]"
      ]
     },
     "execution_count": 15,
     "metadata": {},
     "output_type": "execute_result"
    }
   ],
   "source": [
    "df_BOS_drops.describe()"
   ]
  },
  {
   "cell_type": "code",
   "execution_count": 16,
   "id": "018c31fc-7c70-41a2-a7e0-c5e97a6d056b",
   "metadata": {
    "tags": []
   },
   "outputs": [
    {
     "data": {
      "text/plain": [
       "array([ 0.,  1., nan])"
      ]
     },
     "execution_count": 16,
     "metadata": {},
     "output_type": "execute_result"
    }
   ],
   "source": [
    "df_BOS_drops['가족력'].unique()"
   ]
  },
  {
   "cell_type": "code",
   "execution_count": 17,
   "id": "28eb3557-8ff3-4886-ab83-59c24ccaa8ac",
   "metadata": {
    "tags": []
   },
   "outputs": [
    {
     "data": {
      "text/plain": [
       "array([0, 1], dtype=int64)"
      ]
     },
     "execution_count": 17,
     "metadata": {},
     "output_type": "execute_result"
    }
   ],
   "source": [
    "df_BOS_drops['간질성폐질환'].unique()"
   ]
  },
  {
   "cell_type": "code",
   "execution_count": 18,
   "id": "1a430b46-a19d-4a93-8f21-94c80aa64fd8",
   "metadata": {
    "tags": []
   },
   "outputs": [
    {
     "data": {
      "text/plain": [
       "array([0, 1], dtype=int64)"
      ]
     },
     "execution_count": 18,
     "metadata": {},
     "output_type": "execute_result"
    }
   ],
   "source": [
    "df_BOS_drops['고혈압여부'].unique()"
   ]
  },
  {
   "cell_type": "code",
   "execution_count": 19,
   "id": "b23faee7-26a5-4ea5-ba12-adc4cb770719",
   "metadata": {
    "tags": []
   },
   "outputs": [
    {
     "data": {
      "text/plain": [
       "array([0, 1, 2, 3], dtype=int64)"
      ]
     },
     "execution_count": 19,
     "metadata": {},
     "output_type": "execute_result"
    }
   ],
   "source": [
    "df_BOS_drops['과거수술횟수'].unique()"
   ]
  },
  {
   "cell_type": "code",
   "execution_count": 20,
   "id": "abc672dc-3b2b-4b30-ba90-c84039f61044",
   "metadata": {
    "tags": []
   },
   "outputs": [
    {
     "data": {
      "text/plain": [
       "array([0, 1], dtype=int64)"
      ]
     },
     "execution_count": 20,
     "metadata": {},
     "output_type": "execute_result"
    }
   ],
   "source": [
    "df_BOS_drops['당뇨여부'].unique()"
   ]
  },
  {
   "cell_type": "code",
   "execution_count": 21,
   "id": "015f121a-48dc-47c7-9677-9552548d7d3c",
   "metadata": {
    "tags": []
   },
   "outputs": [
    {
     "data": {
      "text/plain": [
       "array([0, 1], dtype=int64)"
      ]
     },
     "execution_count": 21,
     "metadata": {},
     "output_type": "execute_result"
    }
   ],
   "source": [
    "df_BOS_drops['말초동맥질환여부'].unique()"
   ]
  },
  {
   "cell_type": "code",
   "execution_count": 22,
   "id": "1f198ffc-99ab-48c3-9711-29beb982b686",
   "metadata": {
    "tags": []
   },
   "outputs": [
    {
     "data": {
      "text/plain": [
       "array([0, 1], dtype=int64)"
      ]
     },
     "execution_count": 22,
     "metadata": {},
     "output_type": "execute_result"
    }
   ],
   "source": [
    "df_BOS_drops['빈혈여부'].unique()"
   ]
  },
  {
   "cell_type": "code",
   "execution_count": 24,
   "id": "85304c79-455e-454f-b0d6-c850dc7cad6f",
   "metadata": {
    "tags": []
   },
   "outputs": [
    {
     "data": {
      "text/plain": [
       "array([2, 1], dtype=int64)"
      ]
     },
     "execution_count": 24,
     "metadata": {},
     "output_type": "execute_result"
    }
   ],
   "source": [
    "df_BOS_drops['성별'].unique()"
   ]
  },
  {
   "cell_type": "code",
   "execution_count": 26,
   "id": "50acb0ca-4650-4023-8137-77a66800acba",
   "metadata": {
    "tags": []
   },
   "outputs": [
    {
     "data": {
      "text/plain": [
       "array([1, 0], dtype=int64)"
      ]
     },
     "execution_count": 26,
     "metadata": {},
     "output_type": "execute_result"
    }
   ],
   "source": [
    "df_BOS_drops['스테로이드치료'].unique()"
   ]
  },
  {
   "cell_type": "code",
   "execution_count": 28,
   "id": "bc39ebcc-4da8-446b-b6db-dac8f34f058f",
   "metadata": {
    "tags": []
   },
   "outputs": [
    {
     "data": {
      "text/plain": [
       "array([0, 1], dtype=int64)"
      ]
     },
     "execution_count": 28,
     "metadata": {},
     "output_type": "execute_result"
    }
   ],
   "source": [
    "df_BOS_drops['신부전여부'].unique()"
   ]
  },
  {
   "cell_type": "code",
   "execution_count": 30,
   "id": "1a2d9cd1-2163-4e01-905f-72b3e4434ac9",
   "metadata": {
    "tags": []
   },
   "outputs": [
    {
     "data": {
      "text/plain": [
       "array([0, 1], dtype=int64)"
      ]
     },
     "execution_count": 30,
     "metadata": {},
     "output_type": "execute_result"
    }
   ],
   "source": [
    "df_BOS_drops['심혈관질환'].unique()"
   ]
  },
  {
   "cell_type": "code",
   "execution_count": 31,
   "id": "f74bff73-de48-48b3-8514-5dabc9ae701c",
   "metadata": {
    "tags": []
   },
   "outputs": [
    {
     "data": {
      "text/plain": [
       "array([0, 1], dtype=int64)"
      ]
     },
     "execution_count": 31,
     "metadata": {},
     "output_type": "execute_result"
    }
   ],
   "source": [
    "df_BOS_drops['암발병여부'].unique()"
   ]
  },
  {
   "cell_type": "code",
   "execution_count": 32,
   "id": "554081d2-74cf-4fa2-9e77-9cf18969beee",
   "metadata": {
    "tags": []
   },
   "outputs": [
    {
     "data": {
      "text/plain": [
       "array([0, 1, 2], dtype=int64)"
      ]
     },
     "execution_count": 32,
     "metadata": {},
     "output_type": "execute_result"
    }
   ],
   "source": [
    "df_BOS_drops['우울증여부'].unique()"
   ]
  },
  {
   "cell_type": "code",
   "execution_count": 33,
   "id": "96331da2-b225-4fed-af56-aed6127f47f2",
   "metadata": {
    "tags": []
   },
   "outputs": [
    {
     "data": {
      "text/plain": [
       "array([ 2,  1,  3,  4,  8,  5, 44,  7, 27, 11,  6, 17, 46,  9, 18, 16,  0,\n",
       "       13, 15, 51, 12, 10], dtype=int64)"
      ]
     },
     "execution_count": 33,
     "metadata": {},
     "output_type": "execute_result"
    }
   ],
   "source": [
    "df_BOS_drops['입원기간'].unique()"
   ]
  },
  {
   "cell_type": "code",
   "execution_count": 34,
   "id": "5d67fa46-ea69-4e47-afdf-ad95378c5932",
   "metadata": {
    "tags": []
   },
   "outputs": [
    {
     "data": {
      "text/plain": [
       "array([20190713, 20190715, 20190729, ..., 20170410, 20170408, 20170412],\n",
       "      dtype=int64)"
      ]
     },
     "execution_count": 34,
     "metadata": {},
     "output_type": "execute_result"
    }
   ],
   "source": [
    "df_BOS_drops['입원일자'].unique()"
   ]
  },
  {
   "cell_type": "code",
   "execution_count": 35,
   "id": "11493126-52c1-4c24-97b1-2fc0861c2906",
   "metadata": {
    "tags": []
   },
   "outputs": [
    {
     "data": {
      "text/plain": [
       "array([0, 1], dtype=int64)"
      ]
     },
     "execution_count": 35,
     "metadata": {},
     "output_type": "execute_result"
    }
   ],
   "source": [
    "df_BOS_drops['종양진행여부'].unique()"
   ]
  },
  {
   "cell_type": "code",
   "execution_count": 36,
   "id": "c46426a5-5aff-41de-b58f-9776fadfa110",
   "metadata": {
    "tags": []
   },
   "outputs": [
    {
     "data": {
      "text/plain": [
       "array(['자영업', '운동선수', '특수전문직', '주부', '사업가', nan, '건설업', '운수업', '사무직',\n",
       "       '공무원', '농업', '의료직', '학생', '군인', '노동직', '교사', '예술가', '무직'],\n",
       "      dtype=object)"
      ]
     },
     "execution_count": 36,
     "metadata": {},
     "output_type": "execute_result"
    }
   ],
   "source": [
    "df_BOS_drops['직업'].unique()"
   ]
  },
  {
   "cell_type": "code",
   "execution_count": 37,
   "id": "7e27db36-1993-4abf-9587-a145d84a3409",
   "metadata": {
    "tags": []
   },
   "outputs": [
    {
     "data": {
      "text/plain": [
       "array([ 60.3,  71.7,  77.1,  74.2,  80.7,  60.8,  74.8,  81.2,  69.2,\n",
       "        63. ,  59.5,  64.9,  74.4,  74.6,  58.4,  75.6,  69.5,  85.2,\n",
       "        82.1,  59.9,  68.3,  58.6,  57.2,  77.8,  69.8,  83.2,  82. ,\n",
       "        78. ,  68.2,  73.3,  73.4,  70.9,  77.5,  71.9,  58.1,  58.2,\n",
       "        61.6,  76.8,  57.9,  80.2,  56. ,  72.1,  73.6,  58.3,  59.3,\n",
       "        71.3,  59.1,  75.2,  59.2,  70.1,  63.8,  69.6,  82.7,  69.4,\n",
       "        72. ,  59.4,  58.5,  57. ,  71.5,  63.2,  75.7,  59.8,  62.6,\n",
       "        59. ,  70.3,  75.3,  68.6,  78.6,  53.3,  57.5,  77. ,  77.9,\n",
       "        57.1,  66.4,  71.8,  76.4,  78.1,  84.8,  60.2,  58.7,  54.5,\n",
       "        81.4,  61.7,  57.3,  61.1,  78.2,  70.4,  64.6,  59.7,  56.8,\n",
       "        60.6,  73.8,  66. ,  53.7,  61.4,  62.8,  67.8,  56.4,  67.2,\n",
       "        79.6,  78.8,  64.2,  76. ,  61.5,  59.6,  56.7,  80. ,  81.8,\n",
       "        81. ,  77.3,  73. ,  60.4,  74.7,  57.4,  60.7,  72.4,  73.7,\n",
       "        79.9,  70.7,  74.3,  70.8,  57.6,  67.6,  81.6,  61.9,  55.8,\n",
       "        63.9,  70.5,  73.9,  69.1,  64. ,  76.2,  73.1,  69.3,  58.9,\n",
       "        71.1,  77.2,  61.2,  80.4,  64.8,  60.1,  67.1,  78.4,  57.8,\n",
       "        71. ,  85.3,  82.3,  76.5,  75.1,  75.8,  67.9,  70.6,  60.9,\n",
       "        73.5,  76.1,  63.1,  75. ,  57.7,  80.8,  62.4,  78.5,  60.5,\n",
       "        68.5,  67.5,  55.6,  81.1,  54.8,  66.1,  67.3,  78.3,  55.3,\n",
       "        79.8,  72.9,  66.6,  81.3,  82.2,  61.3,  81.7,  55.4,  62. ,\n",
       "        73.2,  72.3,  83. ,  71.2,  79.4,  55.9,  74.5,  63.3,  56.5,\n",
       "        68.8,  69. ,  52.9,  71.6,  80.3,  74. ,  76.3,  62.5,  77.7,\n",
       "        72.8,  76.7,  71.4,  79.3,  80.1,  84.7,  84.3,  60. ,  77.4,\n",
       "        75.9,  61.8,  85.9,  54.9,  68.4,  62.2,  69.7,  58.8,  56.6,\n",
       "        75.4,  65.8,  72.5,  72.2,  78.9,  67. ,  72.7,  84.5,  68. ,\n",
       "        74.1,  70.2,  82.4,  54. ,  66.9,  62.7,  64.3,  74.9,  80.9,\n",
       "        56.1,  75.5,  70. ,  84. ,  98. ,  61. ,  88. ,  65. ,  93. ,\n",
       "        55. ,  50. ,  86. ,  85. ,  79. ,  46. ,  58. ,  53. ,  45. ,\n",
       "        51. ,  97. ,  46.8,  43. ,  44. ,  49. ,  94. ,  52. ,  48. ,\n",
       "       100. , 110. ,  90. ,  63.5,  92. ,  35. , 113. ,  99. , 104. ,\n",
       "       103. ,  50.3,  99.5,  47. ,  87. ,  53.5,  38. ,  89. , 114. ,\n",
       "       136.1, 106. ,  95. ,  91. ,  87.6,  98.6,  54.6,  99.7,  47.5])"
      ]
     },
     "execution_count": 37,
     "metadata": {},
     "output_type": "execute_result"
    }
   ],
   "source": [
    "df_BOS_drops['체중'].unique()"
   ]
  },
  {
   "cell_type": "code",
   "execution_count": 38,
   "id": "04090a29-f8a1-4b86-aeaf-cebfc6a1f8ad",
   "metadata": {
    "tags": []
   },
   "outputs": [
    {
     "data": {
      "text/plain": [
       "array([20190716, 20190801, 20190803, ..., 20170412, 20170411, 20170413],\n",
       "      dtype=int64)"
      ]
     },
     "execution_count": 38,
     "metadata": {},
     "output_type": "execute_result"
    }
   ],
   "source": [
    "df_BOS_drops['퇴원일자'].unique()"
   ]
  },
  {
   "cell_type": "code",
   "execution_count": 39,
   "id": "77c86e65-e392-4900-b12b-e11c9e708224",
   "metadata": {
    "tags": []
   },
   "outputs": [
    {
     "data": {
      "text/plain": [
       "array([13.66, 13.73, 15.34, 15.38, 13.08, 15.2 , 15.78, 15.35, 15.03,\n",
       "       14.74, 12.04, 17.28, 17.23, 14.93, 14.1 , 15.05, 15.33, 16.49,\n",
       "       14.94, 15.67, 11.2 , 12.84, 12.63, 16.35, 15.95, 14.31, 16.52,\n",
       "       15.11, 15.89, 15.8 , 14.22, 15.6 , 15.19, 12.69, 16.47, 13.92,\n",
       "        9.95, 17.42, 13.17, 15.5 , 13.41, 13.4 , 13.03, 13.18, 12.3 ,\n",
       "       13.74, 15.41, 12.15, 15.01, 17.43, 15.7 , 17.25, 16.42, 17.49,\n",
       "       16.46, 13.52, 15.06, 13.19, 14.18, 13.27, 15.1 , 12.72, 13.2 ,\n",
       "       15.59, 15.29, 14.65, 16.65, 13.34, 14.57, 14.12, 15.79, 15.49,\n",
       "       11.19, 14.9 , 10.81, 17.01, 13.97, 13.83, 12.14, 14.59, 14.34,\n",
       "       16.62, 16.23, 16.38, 13.47, 11.7 , 12.47, 13.36, 14.37, 13.57,\n",
       "       15.55, 15.97, 15.92, 15.96, 16.08, 13.88, 14.24, 13.15, 14.99,\n",
       "       14.5 , 14.44, 13.99, 15.18, 15.43, 12.55, 15.87, 16.97, 12.5 ,\n",
       "       13.79, 12.71, 13.69, 13.6 , 15.81, 14.81, 13.  , 16.07, 12.91,\n",
       "       16.33, 15.12, 14.29, 13.89, 14.53, 18.08, 14.95, 16.1 , 13.84,\n",
       "       14.28, 14.4 , 13.81, 14.89, 13.82, 14.86, 12.34, 15.61, 15.17,\n",
       "       14.85, 13.54, 12.65, 16.87, 13.63, 13.61, 15.85, 14.77, 14.92,\n",
       "       17.82, 14.43, 13.14, 14.46, 14.76, 12.61, 17.1 , 13.71, 14.49,\n",
       "       14.42, 12.52, 16.43, 13.09, 17.54, 16.71, 17.92, 13.48, 12.41,\n",
       "       13.87, 14.38, 16.84, 12.74, 13.29, 14.48, 15.22, 14.69, 14.01,\n",
       "       14.56, 12.68, 12.05, 14.02, 17.55, 13.33, 12.82, 18.1 , 15.66,\n",
       "       17.  , 13.3 , 14.52, 14.82, 15.15, 13.85, 13.98, 14.51, 14.25,\n",
       "       12.24, 15.72, 12.31, 14.16, 16.36, 15.37, 15.02, 12.79, 14.71,\n",
       "       13.55, 13.76, 17.04, 12.54, 13.56, 13.25, 10.68, 14.8 , 17.17,\n",
       "       16.24, 12.28, 16.81, 13.46, 15.  , 13.05, 16.68, 15.44, 12.6 ,\n",
       "       17.51, 14.7 , 14.33, 14.63, 13.42, 11.77, 14.67, 11.95, 12.85,\n",
       "       17.11, 17.69, 12.76, 15.56, 14.54, 15.04, 13.31, 15.23, 11.17,\n",
       "       14.03, 16.53, 16.15, 13.68, 14.79, 16.4 , 16.03, 12.95, 15.51,\n",
       "       16.21, 13.8 , 17.24, 11.91, 12.83, 15.48, 16.67, 12.89, 14.91,\n",
       "       17.34, 15.26, 14.11, 14.05, 18.24, 11.84, 13.24, 13.02, 13.72,\n",
       "       17.32, 15.4 , 16.91, 12.17, 14.41, 18.26, 12.9 , 14.21, 12.19,\n",
       "       16.04, 13.7 , 15.45, 14.45, 14.35, 11.9 , 15.27, 12.59, 13.43,\n",
       "       17.63, 13.95, 13.12, 14.61, 15.39, 18.81, 12.09, 16.5 , 14.13,\n",
       "       14.09, 13.53, 17.14, 16.69, 16.01, 13.16, 15.65, 17.61, 10.92,\n",
       "       14.27, 12.35, 16.13, 15.31, 17.07, 13.75, 13.94, 12.03, 17.7 ,\n",
       "       11.71, 12.48, 17.81, 14.39, 16.98, 16.63, 14.87, 17.22, 15.82,\n",
       "       12.78, 15.91, 14.26, 13.01, 15.08, 12.43, 12.08, 19.38, 16.57,\n",
       "       16.12, 12.2 , 13.77, 16.41, 14.75, 14.47, 14.68, 14.55, 15.54,\n",
       "       16.48, 16.44, 15.42, 12.58, 14.07, 12.06, 14.96, 12.7 , 15.76,\n",
       "       16.32, 12.93, 14.06, 10.94, 12.37, 14.88, 19.28, 16.26, 15.07,\n",
       "       14.15, 15.86, 17.76, 12.16, 17.52, 13.38, 15.71, 13.67, 15.58,\n",
       "       12.25, 13.93, 16.73, 17.77, 17.18, 17.75, 11.98, 12.56, 14.84,\n",
       "       12.23, 13.44, 12.53, 12.73, 14.97, 12.97, 17.29, 16.18, 13.13,\n",
       "       12.4 , 16.7 , 11.5 , 15.14, 16.19, 12.51, 17.12, 13.9 , 18.71,\n",
       "       16.54, 13.5 , 15.64, 15.28, 15.74, 13.28, 16.3 , 18.4 , 14.62,\n",
       "       17.38, 13.39, 14.78, 14.58, 11.54, 11.33, 10.14, 13.23, 16.2 ,\n",
       "       15.83, 14.98, 14.08, 10.56, 16.75, 14.3 , 14.83, 12.86, 15.47,\n",
       "       13.06, 15.36, 16.06, 15.13, 16.58, 14.23, 16.76, 17.16, 17.48,\n",
       "       17.97, 13.58, 11.47, 12.02, 16.78, 15.24, 15.57, 16.34, 14.17,\n",
       "       15.53, 16.94, 13.96, 12.45, 11.79, 15.94, 16.99, 16.25, 11.87,\n",
       "       17.21, 16.02, 11.96, 13.45, 13.62, 16.74, 11.4 , 16.95, 15.75,\n",
       "       16.45, 13.64, 11.81, 15.63, 15.93, 15.09, 11.42, 13.49, 14.72,\n",
       "       14.14, 18.09, 15.46, 16.59, 17.57, 17.05, 12.81, 15.16, 11.8 ,\n",
       "       17.26, 13.1 , 13.91, 15.62, 18.07, 17.93, 15.52, 13.59, 12.46,\n",
       "        9.84, 14.64, 14.73, 15.21, 11.41, 16.93, 12.1 , 14.6 , 14.2 ,\n",
       "       15.3 , 16.8 , 10.6 , 17.2 , 16.9 , 15.9 , 16.6 , 11.  , 18.6 ,\n",
       "       16.  , 14.  ,  7.6 , 12.8 , 12.  , 17.3 , 17.4 , 11.3 , 17.9 ,\n",
       "       11.1 ,   nan,  7.  , 11.6 , 17.5 , 10.2 , 18.2 , 17.6 , 10.  ,\n",
       "        9.7 , 10.3 , 17.8 ,  8.6 , 10.4 ])"
      ]
     },
     "execution_count": 39,
     "metadata": {},
     "output_type": "execute_result"
    }
   ],
   "source": [
    "df_BOS_drops['헤모글로빈수치'].unique()"
   ]
  },
  {
   "cell_type": "code",
   "execution_count": 40,
   "id": "f7c0cfae-74e9-4b05-9f03-ae0e56172242",
   "metadata": {
    "tags": []
   },
   "outputs": [
    {
     "data": {
      "text/plain": [
       "array([0, 1], dtype=int64)"
      ]
     },
     "execution_count": 40,
     "metadata": {},
     "output_type": "execute_result"
    }
   ],
   "source": [
    "df_BOS_drops['혈전합병증여부'].unique()"
   ]
  },
  {
   "cell_type": "code",
   "execution_count": 41,
   "id": "4689710f-d88c-44fc-990c-ade5cccb79d3",
   "metadata": {
    "tags": []
   },
   "outputs": [
    {
     "data": {
      "text/plain": [
       "array([10,  7,  8,  9,  2,  1,  6,  5,  3,  4], dtype=int64)"
      ]
     },
     "execution_count": 41,
     "metadata": {},
     "output_type": "execute_result"
    }
   ],
   "source": [
    "df_BOS_drops['환자통증정도'].unique()"
   ]
  },
  {
   "cell_type": "code",
   "execution_count": 43,
   "id": "76bfc251-332c-4409-9207-c19b15a5767c",
   "metadata": {
    "tags": []
   },
   "outputs": [
    {
     "data": {
      "text/plain": [
       "array([0, 1], dtype=int64)"
      ]
     },
     "execution_count": 43,
     "metadata": {},
     "output_type": "execute_result"
    }
   ],
   "source": [
    "df_BOS_drops['흡연여부'].unique()"
   ]
  },
  {
   "cell_type": "code",
   "execution_count": 44,
   "id": "3401aeb3-2f15-482c-8f97-5bcb6cf31d4d",
   "metadata": {
    "tags": []
   },
   "outputs": [
    {
     "data": {
      "text/plain": [
       "array([1.00e+00, 2.00e+00, 3.00e+00, 1.20e+01, 7.00e+00, 2.00e-01,\n",
       "       6.00e+01, 4.80e+01, 1.80e+01, 9.00e+00, 6.00e+00, 5.00e+00,\n",
       "       4.00e+00, 2.10e+01, 5.00e-01, 1.60e+01, 8.00e+00,      nan,\n",
       "       3.00e-01, 1.50e+00, 8.40e+01, 7.50e-01, 3.50e+00, 2.50e-01,\n",
       "       1.20e+02, 2.20e+01, 4.50e+00, 2.40e+01, 6.30e+01, 9.60e+01,\n",
       "       1.00e+01, 1.08e+02, 8.00e-01, 1.00e-01, 3.60e+01, 3.20e+01,\n",
       "       1.70e+01, 1.80e+02, 4.60e+01, 0.00e+00, 1.50e+01, 2.50e+00,\n",
       "       1.30e+01, 2.40e+02, 1.40e+01, 3.00e+01, 1.10e+01, 3.60e+02])"
      ]
     },
     "execution_count": 44,
     "metadata": {},
     "output_type": "execute_result"
    }
   ],
   "source": [
    "df_BOS_drops['통증기간(월)'].unique()"
   ]
  },
  {
   "cell_type": "code",
   "execution_count": 45,
   "id": "037d27f3-fa24-489e-87ee-cc0b8669db15",
   "metadata": {
    "tags": []
   },
   "outputs": [
    {
     "data": {
      "text/plain": [
       "array(['TELD', 'IELD', nan], dtype=object)"
      ]
     },
     "execution_count": 45,
     "metadata": {},
     "output_type": "execute_result"
    }
   ],
   "source": [
    "df_BOS_drops['수술기법'].unique()"
   ]
  },
  {
   "cell_type": "code",
   "execution_count": 46,
   "id": "4e972307-2d5a-4d98-b5ac-0a38fd1777a0",
   "metadata": {
    "tags": []
   },
   "outputs": [
    {
     "data": {
      "text/plain": [
       "array([ 68.,  31.,  78.,  73.,  29.,  47.,   7.,  85.,  49.,  59.,  94.,\n",
       "        13.,  96.,  42.,  46.,  71.,  54.,  82.,  51.,  86., 106.,  89.,\n",
       "        58.,  35.,  65.,  72.,  50.,  80.,  87.,  60.,  70.,  67.,  63.,\n",
       "        90., 121.,  48., 111.,  98.,  81.,  69.,  44.,  79.,  92.,  55.,\n",
       "        61.,  99.,  37.,  84.,  39., 116.,  19.,  76., 102.,  30., 100.,\n",
       "       101.,  57., 129.,  28., 118.,  74., 109.,   6.,  75., 112., 108.,\n",
       "        40.,  88., 104.,  32.,  64.,  66.,  97.,  56.,  77.,  83.,  14.,\n",
       "        45., 122.,  95.,  34.,  23., 119.,  12., 107.,  21.,  33.,  43.,\n",
       "        22.,  25.,  16.,  26.,  53., 103.,  52., 105.,  38., 147.,  93.,\n",
       "        62.,  91., 110.,  41.,  36., 152., 128., 123.,  24.,  17., 117.,\n",
       "       126.,  27., 149.,  10.,   5., 115., 151., 114., 150., 141., 144.,\n",
       "        20., 131., 120.,  15., 140., 165., 190.,  nan, 155., 130., 125.,\n",
       "       220., 135., 145.])"
      ]
     },
     "execution_count": 46,
     "metadata": {},
     "output_type": "execute_result"
    }
   ],
   "source": [
    "df_BOS_drops['수술시간'].unique()"
   ]
  },
  {
   "cell_type": "code",
   "execution_count": 47,
   "id": "f386cc9a-c962-4daf-bc94-9e05e5755845",
   "metadata": {
    "tags": []
   },
   "outputs": [
    {
     "data": {
      "text/plain": [
       "45.0     124\n",
       "60.0     119\n",
       "40.0     102\n",
       "35.0      94\n",
       "30.0      89\n",
       "        ... \n",
       "14.0       1\n",
       "12.0       1\n",
       "147.0      1\n",
       "7.0        1\n",
       "145.0      1\n",
       "Name: 수술시간, Length: 134, dtype: int64"
      ]
     },
     "execution_count": 47,
     "metadata": {},
     "output_type": "execute_result"
    }
   ],
   "source": [
    "df_BOS_drops['수술시간'].value_counts()"
   ]
  },
  {
   "cell_type": "code",
   "execution_count": 48,
   "id": "87080a06-f494-4fc3-951f-e661e1cecc63",
   "metadata": {
    "tags": []
   },
   "outputs": [
    {
     "data": {
      "text/plain": [
       "0    1779\n",
       "1     115\n",
       "Name: 수술실패여부, dtype: int64"
      ]
     },
     "execution_count": 48,
     "metadata": {},
     "output_type": "execute_result"
    }
   ],
   "source": [
    "df_BOS_drops['수술실패여부'].value_counts()"
   ]
  },
  {
   "cell_type": "code",
   "execution_count": 49,
   "id": "11e589d6-4748-4488-aaf7-1b8edecba357",
   "metadata": {
    "tags": []
   },
   "outputs": [
    {
     "data": {
      "text/plain": [
       "array([0, 1], dtype=int64)"
      ]
     },
     "execution_count": 49,
     "metadata": {},
     "output_type": "execute_result"
    }
   ],
   "source": [
    "df_BOS_drops['수술실패여부'].unique()"
   ]
  },
  {
   "cell_type": "code",
   "execution_count": 51,
   "id": "60c875a0-a5ad-43de-8eca-0506337b5c71",
   "metadata": {
    "collapsed": true,
    "jupyter": {
     "outputs_hidden": true
    },
    "tags": []
   },
   "outputs": [
    {
     "data": {
      "text/plain": [
       "array([20190715, 20190716, 20190731, 20190802, 20190906, 20190907,\n",
       "       20190625, 20190402, 20191206, 20191213, 20191219, 20190209,\n",
       "       20191121, 20191222, 20190620, 20190222, 20190227, 20190108,\n",
       "       20190131, 20190228, 20190331, 20191003, 20191022, 20191218,\n",
       "       20200104, 20200107, 20200208, 20200210, 20200216, 20200303,\n",
       "       20200319, 20200420, 20200628, 20200728, 20190219, 20190313,\n",
       "       20190407, 20190504, 20190525, 20190622, 20190801, 20190128,\n",
       "       20190212, 20190403, 20190501, 20190526, 20190722, 20190821,\n",
       "       20190928, 20191030, 20191204, 20191228, 20200119, 20200305,\n",
       "       20200412, 20190123, 20190216, 20190225, 20190318, 20190401,\n",
       "       20190411, 20190529, 20190612, 20190719, 20190730, 20190818,\n",
       "       20190911, 20191001, 20191005, 20191102, 20191130, 20191211,\n",
       "       20191221, 20200122, 20200302, 20200719, 20190104, 20190309,\n",
       "       20191029, 20190203, 20190206, 20190324, 20190429, 20190530,\n",
       "       20190630, 20190831, 20190916, 20191002, 20200131, 20200229,\n",
       "       20200323, 20200629, 20200729, 20190506, 20190508, 20190713,\n",
       "       20190908, 20200522, 20190125, 20190330, 20190430, 20190103,\n",
       "       20190531, 20190102, 20190409, 20190527, 20190528, 20190611,\n",
       "       20190912, 20190517, 20190709, 20190628, 20190120, 20190115,\n",
       "       20190806, 20190910, 20191106, 20191128, 20191225, 20200115,\n",
       "       20200203, 20200222, 20200331, 20200421, 20200507, 20200527,\n",
       "       20200630, 20200727, 20200806, 20190105, 20200618, 20190516,\n",
       "       20191023, 20190414, 20190221, 20190714, 20190720, 20190201,\n",
       "       20190616, 20190816, 20200209, 20200308, 20190114, 20200731,\n",
       "       20190215, 20190627, 20190828, 20190919, 20191024, 20200516,\n",
       "       20200620, 20191214, 20190107, 20190424, 20190322, 20190406,\n",
       "       20190422, 20190510, 20190923, 20190119, 20190507, 20190618,\n",
       "       20190122, 20190607, 20190723, 20190811, 20191018, 20200116,\n",
       "       20200406, 20200528, 20200709, 20200730, 20190211, 20190112,\n",
       "       20191227, 20200127, 20200226, 20200603, 20200725, 20190111,\n",
       "       20190926, 20191215, 20200118, 20200215, 20200524, 20200622,\n",
       "       20200623, 20200721, 20190729, 20190113, 20190404, 20190717,\n",
       "       20190827, 20190915, 20191217, 20200130, 20200312, 20200518,\n",
       "       20200526, 20200625, 20200702, 20200804, 20190903, 20190920,\n",
       "       20191011, 20191014, 20191112, 20191119, 20191122, 20191212,\n",
       "       20190307, 20200718, 20190327, 20190521, 20190925, 20190208,\n",
       "       20190218, 20190319, 20190325, 20190418, 20190603, 20191025,\n",
       "       20190308, 20190405, 20190217, 20190106, 20190830, 20200519,\n",
       "       20190606, 20190924, 20190617, 20190817, 20190210, 20190214,\n",
       "       20190301, 20190109, 20190314, 20190428, 20190629, 20191010,\n",
       "       20191109, 20191205, 20191216, 20200120, 20200325, 20190220,\n",
       "       20190129, 20190223, 20190415, 20190310, 20190410, 20191004,\n",
       "       20190419, 20190302, 20190130, 20190202, 20190321, 20190328,\n",
       "       20190118, 20190126, 20190207, 20190503, 20190522, 20190706,\n",
       "       20190725, 20190326, 20190809, 20190604, 20190824, 20200324,\n",
       "       20190329, 20191012, 20190213, 20190304, 20190803, 20190204,\n",
       "       20200311, 20200411, 20200602, 20190127, 20190323, 20190421,\n",
       "       20190701, 20191125, 20200219, 20190626, 20190110, 20190224,\n",
       "       20190826, 20191008, 20200110, 20200207, 20200301, 20200322,\n",
       "       20200417, 20200508, 20190425, 20190710, 20190913, 20200314,\n",
       "       20190909, 20190624, 20190702, 20190829, 20191107, 20191231,\n",
       "       20200113, 20200218, 20200410, 20190502, 20190519, 20190621,\n",
       "       20200330, 20190905, 20200106, 20190303, 20190613, 20190718,\n",
       "       20191220, 20190726, 20191123, 20200418, 20200512, 20191021,\n",
       "       20190513, 20190704, 20190930, 20200710, 20190614, 20190808,\n",
       "       20200310, 20190608, 20190615, 20191105, 20200306, 20200227,\n",
       "       20190805, 20190116, 20191223, 20170830, 20091209, 20090727,\n",
       "       20111202, 20130206, 20120601, 20141230, 20120307, 20160316,\n",
       "       20120915, 20140123, 20120105, 20120314, 20120328, 20140903,\n",
       "       20100122, 20140730, 20110324, 20090311, 20110808, 20090810,\n",
       "       20170510, 20140904, 20121102, 20100621, 20100910, 20170113,\n",
       "       20090403, 20090406, 20110107, 20091109, 20120104, 20120613,\n",
       "       20110405, 20160419, 20090120, 20170403, 20170925, 20140519,\n",
       "       20120223, 20091030, 20120227, 20120228, 20110727, 20171020,\n",
       "       20160303, 20141204, 20150102, 20111123, 20110701, 20140716,\n",
       "       20140819, 20170703, 20141118, 20120525, 20170608, 20120201,\n",
       "       20110909, 20150114, 20100203, 20130318, 20170303, 20120110,\n",
       "       20120829, 20090130, 20170501, 20111227, 20110906, 20110616,\n",
       "       20120413, 20140307, 20171216, 20140512, 20131022, 20111130,\n",
       "       20180124, 20110418, 20130306, 20100426, 20110127, 20130828,\n",
       "       20160714, 20110921, 20130614, 20110307, 20110916, 20090708,\n",
       "       20110211, 20090602, 20110609, 20120210, 20120229, 20160602,\n",
       "       20091210, 20120106, 20090401, 20090328, 20090404, 20090408,\n",
       "       20100414, 20090410, 20090413, 20090409, 20110425, 20170330,\n",
       "       20090422, 20090415, 20090424, 20090921, 20171201, 20090506,\n",
       "       20090610, 20090421, 20091223, 20090428, 20090706, 20120215,\n",
       "       20090429, 20090605, 20090501, 20090515, 20090507, 20090514,\n",
       "       20090513, 20090509, 20090512, 20160510, 20090508, 20121212,\n",
       "       20090520, 20090601, 20090625, 20090518, 20141105, 20090703,\n",
       "       20090527, 20090713, 20090525, 20090521, 20090707, 20090529,\n",
       "       20090702, 20090603, 20090528, 20090612, 20090619, 20090622,\n",
       "       20090618, 20090608, 20150413, 20110524, 20090616, 20090717,\n",
       "       20110805, 20091007, 20090807, 20090904, 20091014, 20090813,\n",
       "       20090821, 20090812, 20090818, 20100824, 20100827, 20101112,\n",
       "       20100901, 20120516, 20100906, 20130117, 20100909, 20110601,\n",
       "       20100928, 20170712, 20100913, 20100916, 20101215, 20101210,\n",
       "       20100929, 20101020, 20110128, 20101007, 20111027, 20101019,\n",
       "       20101008, 20101222, 20101011, 20101012, 20101013, 20101029,\n",
       "       20110223, 20101025, 20110311, 20111118, 20110512, 20101022,\n",
       "       20111226, 20120605, 20101027, 20110214, 20110831, 20101110,\n",
       "       20111125, 20101103, 20101117, 20111001, 20150703, 20180220,\n",
       "       20101108, 20101217, 20101115, 20101231, 20101123, 20130326,\n",
       "       20101116, 20101124, 20101119, 20160412, 20101130, 20101227,\n",
       "       20110317, 20101201, 20101203, 20111214, 20101208, 20110124,\n",
       "       20110316, 20110509, 20121121, 20110121, 20101230, 20101224,\n",
       "       20110105, 20110907, 20101229, 20110111, 20110110, 20110308,\n",
       "       20111216, 20111024, 20111018, 20131128, 20111014, 20111007,\n",
       "       20111004, 20111217, 20111019, 20111010, 20111011, 20120514,\n",
       "       20111026, 20111017, 20111020, 20111221, 20111111, 20111021,\n",
       "       20121017, 20111025, 20120416, 20120120, 20111028, 20111031,\n",
       "       20111103, 20111107, 20111101, 20111108, 20111213, 20111109,\n",
       "       20111104, 20111114, 20111205, 20120323, 20111110, 20120316,\n",
       "       20111116, 20111121, 20140306, 20111209, 20111117, 20150921,\n",
       "       20111220, 20111122, 20160119, 20120615, 20111201, 20111128,\n",
       "       20111129, 20111206, 20111228, 20120405, 20120102, 20111212,\n",
       "       20120917, 20120912, 20120914, 20120913, 20121015, 20120928,\n",
       "       20120919, 20120921, 20121008, 20130506, 20120926, 20130808,\n",
       "       20130129, 20140425, 20121004, 20120927, 20140620, 20121113,\n",
       "       20121012, 20121010, 20121011, 20121016, 20121031, 20121018,\n",
       "       20130814, 20121207, 20130930, 20121109, 20121024, 20130104,\n",
       "       20121106, 20121026, 20121029, 20170825, 20121206, 20121107,\n",
       "       20121105, 20130307, 20121112, 20121114, 20121126, 20121127,\n",
       "       20121116, 20121115, 20121123, 20121205, 20130213, 20150416,\n",
       "       20121211, 20121129, 20121128, 20130111, 20130627, 20121210,\n",
       "       20121221, 20121214, 20121226, 20121218, 20140206, 20121227,\n",
       "       20121224, 20121219, 20130109, 20121228, 20140731, 20140805,\n",
       "       20140807, 20141001, 20140812, 20140827, 20140821, 20140901,\n",
       "       20140902, 20150119, 20141016, 20150105, 20140905, 20141002,\n",
       "       20140912, 20141211, 20140910, 20140916, 20140918, 20140926,\n",
       "       20150821, 20141013, 20150424, 20141119, 20150527, 20140930,\n",
       "       20141008, 20141010, 20140929, 20141014, 20150331, 20141007,\n",
       "       20151001, 20141020, 20141104, 20141024, 20141021, 20141028,\n",
       "       20141101, 20170804, 20141111, 20141103, 20141117, 20150203,\n",
       "       20160906, 20141127, 20141201, 20160614, 20141208, 20141209,\n",
       "       20141215, 20141218, 20141216, 20141222, 20141223, 20150302,\n",
       "       20141229, 20141226, 20150112, 20150106, 20150217, 20150216,\n",
       "       20160705, 20160628, 20160629, 20160701, 20160721, 20160706,\n",
       "       20160713, 20161013, 20161005, 20160707, 20161110, 20160819,\n",
       "       20160708, 20160810, 20160711, 20160712, 20160715, 20160727,\n",
       "       20171016, 20160722, 20160718, 20160811, 20170224, 20160729,\n",
       "       20160728, 20160805, 20161118, 20160928, 20161019, 20160809,\n",
       "       20160901, 20160930, 20160816, 20160826, 20161028, 20160823,\n",
       "       20160902, 20160905, 20170307, 20160922, 20160907, 20160913,\n",
       "       20170420, 20160927, 20161006, 20161007, 20161012, 20161024,\n",
       "       20161207, 20161017, 20161018, 20161025, 20170116, 20161101,\n",
       "       20161104, 20170105, 20170210, 20161117, 20161109, 20161116,\n",
       "       20161111, 20161123, 20170125, 20161227, 20161124, 20170419,\n",
       "       20170406, 20161209, 20161215, 20161223, 20170102, 20110310,\n",
       "       20110117, 20120521, 20140806, 20110114, 20110325, 20110118,\n",
       "       20110304, 20110404, 20110119, 20110126, 20110517, 20121204,\n",
       "       20130130, 20120627, 20110319, 20110329, 20110502, 20110131,\n",
       "       20120222, 20110302, 20110225, 20110209, 20120718, 20110216,\n",
       "       20110212, 20110222, 20150130, 20110221, 20110217, 20110218,\n",
       "       20111208, 20130902, 20111215, 20111219, 20111222, 20120111,\n",
       "       20161125, 20111223, 20120719, 20120112, 20111230, 20111229,\n",
       "       20120423, 20120103, 20120430, 20120420, 20130118, 20120203,\n",
       "       20120116, 20121231, 20130201, 20130311, 20130110, 20130112,\n",
       "       20150626, 20130115, 20130116, 20130123, 20140225, 20130125,\n",
       "       20130514, 20130128, 20130316, 20130305, 20130523, 20130415,\n",
       "       20130228, 20130214, 20130220, 20130628, 20170906, 20170630,\n",
       "       20140501, 20130227, 20130304, 20130525, 20130312, 20130313,\n",
       "       20130321, 20130319, 20130401, 20130516, 20151127, 20150120,\n",
       "       20150313, 20150108, 20150414, 20150113, 20150417, 20150227,\n",
       "       20150115, 20150117, 20150116, 20150330, 20151224, 20150127,\n",
       "       20150126, 20150129, 20150205, 20150212, 20150209, 20150224,\n",
       "       20150213, 20150402, 20150304, 20150226, 20150320, 20150311,\n",
       "       20150317, 20150427, 20151218, 20150323, 20150403, 20161229,\n",
       "       20161228, 20170111, 20170120, 20170119, 20170118, 20170306,\n",
       "       20170228, 20170201, 20170206, 20170215, 20170207, 20170208,\n",
       "       20170221, 20170223, 20170222, 20170317, 20170316, 20170322,\n",
       "       20170929, 20170315, 20170328, 20170324, 20170605, 20170327,\n",
       "       20170704, 20170404, 20170428, 20170707, 20170511, 20170407,\n",
       "       20170427, 20170411, 20170410, 20170412], dtype=int64)"
      ]
     },
     "execution_count": 51,
     "metadata": {},
     "output_type": "execute_result"
    }
   ],
   "source": [
    "df_BOS_drops['수술일자'].unique()"
   ]
  },
  {
   "cell_type": "code",
   "execution_count": 52,
   "id": "16eccca3-48e8-4c63-80c4-df44119ac356",
   "metadata": {
    "tags": []
   },
   "outputs": [
    {
     "data": {
      "text/plain": [
       "array([0, 1], dtype=int64)"
      ]
     },
     "execution_count": 52,
     "metadata": {},
     "output_type": "execute_result"
    }
   ],
   "source": [
    "df_BOS_drops['재발여부'].unique()"
   ]
  },
  {
   "cell_type": "code",
   "execution_count": 53,
   "id": "da954aab-67aa-47f8-a810-af0a4027c829",
   "metadata": {
    "tags": []
   },
   "outputs": [
    {
     "data": {
      "text/plain": [
       "array(['RH+A', 'RH+B', 'RH+O', 'RH+AB'], dtype=object)"
      ]
     },
     "execution_count": 53,
     "metadata": {},
     "output_type": "execute_result"
    }
   ],
   "source": [
    "df_BOS_drops['혈액형'].unique()"
   ]
  },
  {
   "cell_type": "code",
   "execution_count": 54,
   "id": "c012fe51-7f33-417a-a28b-407bb1dc0589",
   "metadata": {
    "tags": []
   },
   "outputs": [
    {
     "data": {
      "text/plain": [
       "array([16.1 , 13.7 , 13.6 , 10.6 , 17.1 , 12.8 , 12.2 , 14.1 , 14.7 ,\n",
       "       17.9 , 11.9 , 12.5 ,  9.6 , 14.3 , 14.4 , 10.5 , 18.1 , 14.  ,\n",
       "       19.6 , 12.7 , 11.2 , 13.8 , 13.9 , 12.4 , 13.2 , 11.3 ,  8.5 ,\n",
       "       17.2 , 15.8 , 10.  , 11.8 , 10.9 , 12.  ,  9.9 ,  9.39, 15.28,\n",
       "       11.19, 13.3 , 13.4 , 19.2 , 17.8 , 14.6 , 11.7 ,  8.7 , 15.6 ,\n",
       "       14.2 ,  9.  , 22.5 , 15.2 , 15.7 , 13.  ,  8.9 , 18.9 , 20.5 ,\n",
       "       16.9 , 11.  , 10.2 , 10.7 , 13.5 ,  9.5 , 15.1 ,  9.4 , 14.5 ,\n",
       "       19.3 ,  7.3 , 13.78,  7.68,  9.54, 13.41, 12.98, 10.3 ,  8.4 ,\n",
       "       15.3 , 12.1 , 14.9 , 13.1 , 12.3 , 11.1 ,  8.3 ,  8.2 , 16.5 ,\n",
       "        8.1 , 12.6 ,  9.3 , 10.1 , 15.4 , 10.03, 12.47, 12.88, 13.01,\n",
       "       10.84,  7.71, 11.15, 11.13, 13.49, 10.74, 15.21,  9.45,  9.94,\n",
       "       13.81,  7.64, 12.53, 11.79,  9.78, 14.26, 16.54, 10.69, 12.52,\n",
       "       10.01,  9.86, 11.87, 10.22,  9.38, 11.78,  8.01, 12.77, 13.93,\n",
       "       12.03, 16.41,  8.51, 11.42, 13.36, 11.16,  8.  ,  8.8 ,  9.8 ,\n",
       "        6.7 , 11.6 , 15.  ,  9.7 , 12.9 ,  9.1 ,  5.9 , 10.8 ,  6.8 ,\n",
       "       13.39, 10.44, 10.38, 12.56,  8.04, 10.45, 11.67, 10.56,  5.98,\n",
       "        8.58,  1.27,  7.41, 10.99,  6.68,  6.4 ,  9.2 ,  6.6 ,  6.9 ,\n",
       "        4.2 , 10.4 ,  4.  ,  6.5 ,  6.3 ,  5.8 ,  3.9 , 11.4 , 11.5 ,\n",
       "       19.5 , 16.3 , 16.  , 18.2 ,  8.45,  7.2 , 19.1 , 12.58, 11.73,\n",
       "        7.25, 12.85,  7.72, 11.25,  8.81, 14.09,  8.79, 14.22, 12.89,\n",
       "       10.79,  4.72,  7.  ,  6.1 ,  7.6 , 11.68,  7.7 ,  7.21,  7.8 ,\n",
       "        9.25,  5.2 ,  7.5 ,  4.7 ,  5.3 ,  1.5 , 14.8 , 17.5 , 18.3 ,\n",
       "       16.4 ,  6.  ,  8.92, 14.39,  9.66, 11.85, 14.65, 16.2 ,  5.  ,\n",
       "       17.4 ,  7.4 ,  7.9 , 16.8 , 13.63,  7.97, 10.55,  5.4 ,  4.1 ,\n",
       "        8.6 ,  9.96, 15.57, 12.36, 13.62, 12.84, 14.75,  8.57, 13.84,\n",
       "       11.12,  8.87,  8.96, 11.72,  9.26,  9.92,  9.98,  8.91, 11.51,\n",
       "       11.54,  6.45, 14.42, 11.95, 10.52,  7.87, 12.97, 11.38,  9.82,\n",
       "       12.13, 13.17, 11.86,  6.47,  5.5 , 15.5 , 14.01,  3.56, 12.31,\n",
       "       12.49,  8.29,  7.37, 10.12,  7.62, 15.9 , 18.7 ,  7.1 ,  8.34,\n",
       "       11.01, 10.83, 15.51, 12.54, 12.23, 11.89, 12.43, 14.66, 12.45,\n",
       "        8.31,  5.18, 17.  ])"
      ]
     },
     "execution_count": 54,
     "metadata": {},
     "output_type": "execute_result"
    }
   ],
   "source": [
    "df_BOS_drops['전방디스크높이(mm)'].unique()"
   ]
  },
  {
   "cell_type": "code",
   "execution_count": 55,
   "id": "2b832533-06c3-461d-990f-897dc4cfbc02",
   "metadata": {
    "tags": []
   },
   "outputs": [
    {
     "data": {
      "text/plain": [
       "array([ 12.3 ,   6.4 ,   7.4 ,   7.3 ,   8.1 ,  10.7 ,   8.4 ,   8.6 ,\n",
       "         7.5 ,   9.6 ,   6.8 ,   9.1 ,   8.3 ,   5.41,   8.2 ,  10.2 ,\n",
       "         7.8 ,   8.  ,   8.7 ,   7.1 ,   8.5 ,   6.9 ,  10.3 ,   3.4 ,\n",
       "         9.7 ,   7.62,   8.81,   8.79,   9.5 ,  11.7 ,   7.6 ,  11.4 ,\n",
       "         5.1 ,   7.2 ,   9.  ,  10.6 ,   5.4 ,   5.9 ,   5.2 ,  12.5 ,\n",
       "        12.2 ,  10.4 ,  11.1 ,   8.8 ,   9.9 ,   9.3 ,   9.8 ,   6.1 ,\n",
       "         7.  ,   6.23,   8.82,   7.71,  13.41,   7.42,   9.17,  10.1 ,\n",
       "        10.5 , 101.  ,   4.4 ,   9.4 ,  10.8 ,  13.7 ,   8.9 ,  11.3 ,\n",
       "        12.4 ,   8.96,   6.76,   9.96,   8.27,   8.87,  10.61,   7.64,\n",
       "        11.13,   7.96,   8.16,   8.22,   8.49,   9.87,   8.39,   7.34,\n",
       "         8.84,   7.06,   6.45,  10.02,   9.38,   7.54,   8.77,   8.83,\n",
       "         8.37,   7.13,   7.82,   6.89,   8.75,   9.02,  11.73,   9.88,\n",
       "         7.65,   9.12,   7.09,   7.83,  10.  ,   6.  ,   7.7 ,   3.7 ,\n",
       "         6.6 ,   6.5 ,   5.  ,   5.5 ,   6.12,   4.53,   9.82,  11.32,\n",
       "         6.73,  10.03,   7.25,   5.93,   5.3 ,   7.45,   3.56,   8.28,\n",
       "         4.69,   7.41,   9.44,   1.5 ,   4.8 ,   4.1 ,   4.  ,   6.7 ,\n",
       "         3.3 ,   6.3 ,   4.9 ,   1.  ,   2.6 ,   3.5 ,   3.  ,   4.7 ,\n",
       "         5.7 ,   5.6 ,  13.3 ,   4.6 ,  11.5 ,  12.  ,   9.2 ,  15.1 ,\n",
       "        11.2 ,  13.1 ,   6.68,   7.91,   9.66,   8.73,  10.46,  12.08,\n",
       "         7.03,  10.23,   8.36,   9.76,   7.9 ,  11.  ,  10.74,   7.85,\n",
       "         3.84,   7.29,   5.8 ,   3.89,   1.54,   7.97,   7.86,   6.28,\n",
       "        11.8 ,  11.9 ,   8.71,  10.69,   9.45,   6.2 ,  10.9 ,  11.6 ,\n",
       "        12.8 ,  12.9 ,   7.08,   8.29,   7.89,   9.67,   7.51,  10.11,\n",
       "        10.76,   9.73,  12.23,   5.89,   9.54,   9.39,   6.03,   9.59,\n",
       "        11.54,   6.77,   8.06,  10.27,  10.21,  12.64,  10.36,   6.04,\n",
       "         3.1 ,   4.3 ,   2.5 ,   2.8 ,   4.2 ,  13.2 ,   7.94,  11.19,\n",
       "         8.65,  11.67,   9.13,  11.27,   9.98,   6.47,   9.18,   3.6 ,\n",
       "         2.  ,   1.9 ,   7.59])"
      ]
     },
     "execution_count": 55,
     "metadata": {},
     "output_type": "execute_result"
    }
   ],
   "source": [
    "df_BOS_drops['후방디스크높이(mm)'].unique()"
   ]
  },
  {
   "cell_type": "code",
   "execution_count": 56,
   "id": "4cdeaafd-ec56-45c2-812a-79830ae32c35",
   "metadata": {
    "collapsed": true,
    "jupyter": {
     "outputs_hidden": true
    },
    "tags": []
   },
   "outputs": [
    {
     "data": {
      "text/plain": [
       "array([  282.3 ,   177.3 ,   256.8 ,   250.1 ,   232.2 ,   129.9 ,\n",
       "         161.02,   157.21,   127.1 ,   211.7 ,   104.4 ,    61.  ,\n",
       "         499.8 ,   252.8 ,   121.  ,    87.6 ,   253.1 ,   184.6 ,\n",
       "         220.5 ,   137.6 ,   394.1 ,   120.5 ,   122.  ,   161.6 ,\n",
       "         163.8 ,   111.5 ,   229.2 ,   196.  ,   222.7 ,   112.  ,\n",
       "         172.5 ,   296.6 ,   109.8 ,   268.5 ,   107.5 ,   204.  ,\n",
       "          71.1 ,   100.01,   121.03,   107.51,   241.6 ,   318.6 ,\n",
       "         121.3 ,   172.9 ,   153.7 ,   139.7 ,   104.3 ,   118.7 ,\n",
       "         177.7 ,   119.1 ,    93.9 ,    86.7 ,   114.4 ,   153.5 ,\n",
       "         127.6 ,   139.5 ,    72.5 ,    98.5 ,   129.3 ,   138.  ,\n",
       "         162.8 ,   318.4 ,    67.5 ,   197.1 ,   113.7 ,   151.3 ,\n",
       "         117.  ,    94.7 ,   130.6 ,   101.7 ,    93.  ,   147.  ,\n",
       "          90.8 ,    80.2 ,   110.3 ,    87.8 ,   115.8 ,   125.1 ,\n",
       "          79.  ,    93.2 ,    87.3 ,    94.8 ,   107.1 ,    79.1 ,\n",
       "         136.9 ,    71.9 ,   287.8 ,   149.6 ,    69.9 ,    95.1 ,\n",
       "         202.3 ,   237.5 ,    75.4 ,   242.63,   296.2 ,   166.38,\n",
       "         172.05,   138.68,   309.72,    68.4 ,    77.12,   473.9 ,\n",
       "         155.1 ,    95.8 ,   110.62,   108.1 ,   102.2 ,    76.3 ,\n",
       "         399.9 ,   104.6 ,   170.3 ,   128.6 ,   190.7 ,   247.5 ,\n",
       "         142.8 ,   105.7 ,    83.4 ,   309.2 ,   336.7 ,   105.4 ,\n",
       "         240.8 ,  2476.6 ,   230.7 ,   437.3 ,   155.5 ,   352.1 ,\n",
       "         100.2 ,   344.5 ,  2505.6 ,   164.4 ,   183.8 ,    76.1 ,\n",
       "         251.8 ,    48.3 ,   166.3 ,    85.5 ,    88.1 ,   202.8 ,\n",
       "          68.5 ,    85.8 ,   165.5 ,   109.7 ,   172.1 ,   443.73,\n",
       "         211.35,   278.86,    69.23,   352.12,   191.57,   146.13,\n",
       "         147.16,    78.03,   196.33,   199.12,   193.17,   317.06,\n",
       "         342.81,   419.8 ,   100.05,   125.89,   331.11,    84.09,\n",
       "          90.24,   137.74,   145.49,    59.63,   128.02,   314.76,\n",
       "         161.32,   239.59,   165.52,   116.68,   111.97,   170.5 ,\n",
       "         155.63,   214.73,    98.72,   932.28,   184.13,   286.49,\n",
       "         240.72,   266.52,    38.52,   282.6 ,   384.27,  3879.87,\n",
       "         665.2 ,   319.99,  1117.3 ,   151.81,   490.14,   148.92,\n",
       "         174.93,   106.26,   331.3 ,   230.13,    62.94,   161.76,\n",
       "         163.26,   189.22,   217.08,   249.88,   269.22,   226.29,\n",
       "         140.43,   116.77,   209.23,   228.86,   212.57,   350.03,\n",
       "         113.61,   117.52,   263.79,   118.65,   108.65,   123.12,\n",
       "         578.51,   332.6 ,   315.37,   200.32,   256.4 ,   171.86,\n",
       "         158.78,      nan,   198.34,   280.34,   326.98,   167.5 ,\n",
       "          62.1 ,   119.54,   117.29,    97.45,   312.43,   402.21,\n",
       "         469.2 ,   151.98,   130.4 ,   146.53,   192.76,   264.71,\n",
       "         150.59,   135.33,   172.62,   429.57,   149.27,   254.23,\n",
       "         207.99,   357.68,   119.77,   109.75,   169.33,    95.88,\n",
       "         236.  ,  2107.41,   155.2 ,   164.  ,   166.  ,   681.6 ,\n",
       "          70.1 ,   153.  ,   142.7 ,   129.  ,   163.5 ,   188.  ,\n",
       "         105.6 ,   115.4 ,   247.1 ,   110.6 ,   149.3 ,   196.7 ,\n",
       "         272.2 ,   142.3 ,   220.8 ,   173.  ,   261.  ,   311.  ,\n",
       "         185.  ,   212.  ,   157.5 ,   170.  ,   136.  ,   135.  ,\n",
       "         125.  ,   109.  ,   143.  ,   343.  ,   181.4 ,   176.9 ,\n",
       "         508.7 ,   117.9 ,   229.4 ,   137.2 ,   168.4 ,   156.3 ,\n",
       "         103.3 ,   183.2 ,   148.7 ,    98.1 ,   154.5 ,   107.3 ,\n",
       "         205.3 ,   123.9 ,   162.4 ,   193.6 ,   269.5 ,   280.5 ,\n",
       "         124.5 ,   170.2 ,   117.7 ,   282.1 ,   487.2 ,   241.7 ,\n",
       "         232.5 ,   244.1 ,   197.5 ,   229.9 ,   221.3 ,   198.2 ,\n",
       "         167.1 ,   520.5 ,   287.7 ,   378.6 ,   224.1 ,   316.8 ,\n",
       "         239.2 ,   278.5 ,   150.3 ,   250.7 ,   148.  ,   148.5 ,\n",
       "         209.3 ,   288.9 ,  2831.3 ,    63.5 ,    80.9 ,   341.2 ,\n",
       "         168.7 ,   405.7 ,    81.1 ,   224.5 ,   307.3 ,   146.1 ,\n",
       "         110.4 ,   159.2 ,  3670.4 ,    96.1 ,   420.9 ,   100.1 ,\n",
       "         227.4 ,   281.3 ,   156.6 ,   327.5 ,   196.4 ,   100.7 ,\n",
       "         286.08,   261.02,   343.8 ,   113.58,   151.93,   430.97,\n",
       "         179.74,   123.56,   141.51,   190.18,   408.22,  3404.1 ,\n",
       "         401.01,   106.3 ,   304.16,   288.29,   257.27,   304.07,\n",
       "         201.66,   245.88,   129.06,   202.34,   300.4 ,   146.88,\n",
       "          89.57,   980.77,   181.14,   556.85,   129.54,   202.31,\n",
       "         315.5 ,   196.71,   179.32,   131.09,    75.04,   262.95,\n",
       "         201.58,   105.74,   124.17,   141.71,   247.01,   320.29,\n",
       "         364.88,   128.55,   196.67,   311.11,   158.03,   163.13,\n",
       "         265.32,   189.84,    80.05,   271.85,   283.42,   162.32,\n",
       "         347.1 ,   136.78,   118.04,   166.48,    64.8 ,   188.98,\n",
       "          98.51,   191.39,   191.  ,   259.  ,  1167.  ,   132.  ,\n",
       "         301.  ,   318.  ,   110.  ,   400.  ,   199.  ,   150.  ,\n",
       "         238.  ,   298.  ,   155.  ,   299.  ,   347.  ,   197.  ,\n",
       "         116.  ,    56.  ,   111.  ,   194.  ,   211.1 ,   286.5 ,\n",
       "         109.4 ,   220.3 ,   263.1 ,   167.8 ,   216.6 ,   227.3 ,\n",
       "         175.8 ,   253.7 ,   151.4 ,   182.5 ,   204.3 ,    94.2 ,\n",
       "         314.1 ,   107.9 ,    90.9 ,   140.8 ,   123.5 ,   152.6 ,\n",
       "         216.9 ,   133.86,   248.6 ,   101.8 ,   241.1 ,   237.1 ,\n",
       "         234.8 ,   143.5 ,   109.6 ,    88.89,   165.4 ,   188.3 ,\n",
       "         195.8 ,   461.6 ,   224.4 ,   728.6 ,   144.  ,   289.2 ,\n",
       "         124.  ,   201.6 ,   209.2 ,   126.9 ,   199.3 ,   586.5 ,\n",
       "         121.6 ,   139.6 ,   149.2 ,   216.5 ,   149.7 ,   276.8 ,\n",
       "         135.3 ,   192.9 ,   110.8 ,   338.6 ,    54.  ,   336.8 ,\n",
       "         107.32,   155.45,   144.72,   251.47,   176.77,   316.28,\n",
       "         308.6 ,   305.9 ,   169.2 ,   228.4 ,   230.4 ,   114.6 ,\n",
       "         141.6 ,    44.2 ,    78.9 ,    69.3 ,   338.8 ,    94.5 ,\n",
       "         408.1 ,   152.3 ,   131.6 ,   175.4 ,    73.2 ,   131.3 ,\n",
       "         231.3 ,   129.8 ,   248.9 ,   179.2 ,   134.9 ,   169.1 ,\n",
       "         103.9 ,   149.4 ,   319.2 ,   307.  ,   177.1 ,    97.1 ,\n",
       "         733.2 ,   145.3 ,    83.5 ,   222.8 ,   128.5 ,   127.9 ,\n",
       "         168.24,   110.9 ,   402.31,    79.7 ,    89.2 ,   162.9 ,\n",
       "         108.5 ,   186.61,   345.28,   283.6 ,   151.5 ,    69.57,\n",
       "         200.4 ,   142.5 ,    77.1 ,   239.16,   153.4 ,   197.3 ,\n",
       "          94.6 ,    97.6 ,   391.4 ,   110.7 ,   254.2 ,   711.4 ,\n",
       "         100.4 ,   139.2 ,   359.4 ,   287.2 ,   123.3 ,   107.6 ,\n",
       "         365.8 ,   146.2 ,   220.4 ,   193.9 ,   178.8 ,   135.8 ,\n",
       "         132.9 ,   152.4 ,   151.2 ,   215.4 ,   178.5 ,   151.7 ,\n",
       "          89.6 ,   208.2 ,   134.3 ,   137.7 ,   123.4 ,   168.5 ,\n",
       "         111.8 ,   229.1 ,    87.7 ,   124.42,    89.4 ,    85.01,\n",
       "         226.39,   371.74,   167.69,    75.5 ,   124.28,    70.95,\n",
       "         100.74,   212.87,   116.81,   113.  ,    90.5 ,   222.33,\n",
       "         389.26,   157.61,    85.61,   212.84,    67.89,   175.34,\n",
       "         134.14,   287.67,   394.49,   327.47,   187.55,   149.54,\n",
       "         166.54,   105.79,   191.52,  6089.43,   172.69,    98.53,\n",
       "         251.74,   245.78,   113.48,   119.42,   127.35,   132.78,\n",
       "         292.03,   134.08,   393.36,   120.96,   383.97,   202.42,\n",
       "         295.74,   234.01,   148.39,   418.97,   289.7 ,   373.16,\n",
       "         290.25,   270.36,   159.4 ,   197.35,   164.16,   180.82,\n",
       "        1150.42,   154.72,   121.58,   330.61,   214.29,   155.88,\n",
       "         645.67,    80.35,   230.77,    90.15,   103.04,   123.65,\n",
       "         222.16,   117.38,   211.41,   319.54,   135.11,   104.55,\n",
       "         120.22,   108.01,   142.32,   636.34,   155.06,   139.08,\n",
       "          25.97,   282.8 ,   267.75,   171.55,    87.02,   128.41,\n",
       "         132.2 ,   232.6 ,   121.07,   220.  ,   155.91,   265.69,\n",
       "         147.08,   121.55,   108.73,   219.19,   225.58,   202.84,\n",
       "         207.34,   266.96,    97.18,  1112.9 ,   172.23,   136.31,\n",
       "         187.23,    85.28,   130.2 ,   276.47,   198.9 ,   141.15,\n",
       "         104.59,   306.96,   213.23,    99.32,   169.16,   227.04,\n",
       "         152.68,   337.6 ,   225.97,   120.02,   111.68,   188.2 ,\n",
       "         159.84,   343.99,   289.  ,   171.  ,   133.7 ,   357.  ,\n",
       "         146.39,   134.1 ,   104.9 ,   127.7 ,    98.8 ,   625.6 ,\n",
       "         117.3 ,   183.3 ,   351.2 ,   115.2 ,   123.  ,   260.  ,\n",
       "         391.  ,   115.  ,   600.  ,   215.3 ,   302.1 ,   147.5 ,\n",
       "         227.5 ,   261.3 ,   254.9 ,   177.6 ,   222.  ,   179.4 ,\n",
       "         137.3 ,   221.9 ,   219.6 ,   103.5 ,   134.7 ,   255.9 ,\n",
       "         247.8 ,   178.1 ,   142.2 ,   225.1 ,   271.6 ,   272.  ,\n",
       "         153.6 ,   140.2 ,   314.5 ,   329.8 ,   241.4 ,   283.9 ,\n",
       "         275.2 ,   333.4 ,   247.2 ,   239.8 ,   156.1 ,   279.5 ,\n",
       "         250.  ,   277.1 ,   225.2 ,   171.7 ,   220.2 ,   364.2 ,\n",
       "         379.1 ,   253.2 ,   293.7 ,   190.4 ,   336.5 ,   417.1 ,\n",
       "         114.8 ,   291.4 ,    99.2 ,   232.9 ,   158.6 ,    64.6 ,\n",
       "         287.1 ,   117.2 ,    81.6 ,    82.1 ,    90.4 ,   327.9 ,\n",
       "          86.8 ,   105.5 ,   246.7 ,   224.2 ,  1134.6 ,   161.3 ,\n",
       "         348.3 ,    59.4 ,   250.3 ,    31.9 ,    83.7 ,   347.76,\n",
       "         216.27,    65.65,   124.66,   294.73,   290.09,   105.68,\n",
       "         399.54,   293.46,   296.16, 12113.47,   238.06,   126.8 ,\n",
       "          95.53,   141.93,   280.44,   225.43,   250.02,    95.25,\n",
       "         149.69,   114.11,   110.48,   329.24,   107.61,   166.81,\n",
       "         121.22,   158.09,   191.22,   104.11,   245.69,   113.78,\n",
       "         122.58,   132.19,   262.31,   250.37,   264.56,   275.  ,\n",
       "         283.1 ,   179.  ,   247.  ,   127.  ,   280.  ,    64.  ,\n",
       "         141.  ,    84.  ,   437.  ,   114.  ,   169.  ,   257.  ,\n",
       "         175.  ,   192.  ,    95.  ,    98.  ,   156.  ,   386.  ,\n",
       "         120.  ,    80.  ,   332.1 ,   291.7 ,   151.6 ,   263.  ,\n",
       "         247.3 ,   119.6 ,   353.9 ,   327.2 ,   381.7 ,   160.9 ,\n",
       "         293.1 ,   380.5 ,   140.3 ,    53.1 ,   126.1 ,   201.3 ,\n",
       "         227.6 ,   207.4 ,   128.9 ,   226.1 ,   364.6 ,   147.9 ,\n",
       "         288.  ,    89.  ,   251.4 ])"
      ]
     },
     "execution_count": 56,
     "metadata": {},
     "output_type": "execute_result"
    }
   ],
   "source": [
    "df_BOS_drops['지방축적도'].unique()"
   ]
  },
  {
   "cell_type": "code",
   "execution_count": 57,
   "id": "a9e68c39-eda1-4a5b-b6b9-69bbc4ef65fe",
   "metadata": {
    "tags": []
   },
   "outputs": [
    {
     "data": {
      "text/plain": [
       "array([0, 1], dtype=int64)"
      ]
     },
     "execution_count": 57,
     "metadata": {},
     "output_type": "execute_result"
    }
   ],
   "source": [
    "df_BOS_drops['Instability'].unique()"
   ]
  },
  {
   "cell_type": "code",
   "execution_count": 58,
   "id": "7bc5eb5a-4c2b-4774-8247-b6e120913e1a",
   "metadata": {
    "tags": []
   },
   "outputs": [
    {
     "data": {
      "text/plain": [
       "array([1824.6 , 1737.5 , 1188.5 , 2534.5 , 1840.6 , 1683.6 , 1979.6 ,\n",
       "       1789.6 , 1375.5 , 1601.9 , 1462.5 , 2636.91, 1967.7 , 1878.5 ,\n",
       "       2012.5 , 1199.  , 1746.3 , 1930.7 , 2152.3 , 2101.3 , 1576.6 ,\n",
       "       1724.5 , 2688.8 , 2183.9 , 2188.8 , 1458.3 , 1510.7 , 2097.4 ,\n",
       "       1959.3 , 1514.2 , 2286.7 , 1633.6 , 1729.7 , 1669.7 , 2288.5 ,\n",
       "       1897.1 , 1277.9 , 1747.2 , 2503.34, 2763.94, 3679.32, 1854.  ,\n",
       "       2425.8 , 2501.4 , 1772.2 , 2677.2 , 2925.2 , 3755.4 , 1988.5 ,\n",
       "       3057.2 , 2121.2 , 2718.2 , 2326.7 , 2054.2 , 2270.9 , 2481.2 ,\n",
       "       2701.  , 3338.8 , 2104.1 , 2323.9 , 1583.1 , 2941.4 , 1801.1 ,\n",
       "       2966.3 , 2082.  , 1851.2 , 2423.1 , 1704.  , 1867.5 , 1971.  ,\n",
       "       1419.8 , 2016.6 , 1905.7 , 2747.5 , 2019.9 , 1978.6 , 1667.4 ,\n",
       "       2295.5 , 1983.2 , 1649.3 , 2034.7 , 2545.5 , 1712.6 , 1815.8 ,\n",
       "       2382.5 , 2463.2 , 2579.2 , 1690.8 , 2268.7 , 2734.3 , 2701.6 ,\n",
       "       2910.9 , 1744.2 , 1602.3 , 1379.3 , 1798.84, 1382.96, 1585.77,\n",
       "       1542.5 , 2098.39, 2791.6 , 2786.7 , 2263.5 , 3191.3 , 1463.2 ,\n",
       "       1078.42, 2511.2 , 1496.5 , 2433.6 , 1871.  , 2214.6 , 2102.2 ,\n",
       "       1396.3 , 2179.2 , 1021.  , 2517.9 , 1631.4 , 2153.1 , 2125.8 ,\n",
       "       1464.1 , 2073.2 , 1771.5 , 2106.7 , 1467.7 , 2090.6 , 2165.4 ,\n",
       "       1327.6 , 2756.4 , 1521.6 , 2846.5 , 2594.4 , 1660.4 , 2147.8 ,\n",
       "       2295.9 , 1392.2 , 2201.5 , 2038.7 , 2330.4 , 1702.8 , 2526.5 ,\n",
       "       2257.9 , 2122.7 , 1703.5 , 1768.3 , 2133.1 , 2368.1 , 1842.41,\n",
       "       1955.25, 1878.65, 2936.25, 2102.  , 2006.76, 2335.03, 2023.83,\n",
       "       1823.29, 1537.21, 1625.3 , 1710.92, 2454.13, 1972.75, 1577.05,\n",
       "       2283.33, 2400.63, 1715.5 , 2397.44, 2204.14, 2315.28, 2088.54,\n",
       "       2770.97, 2130.6 , 1592.  , 1711.73, 1919.7 , 2504.09, 1725.  ,\n",
       "       2844.33, 2667.74, 1918.55, 2025.49, 2352.47, 2148.1 , 2142.09,\n",
       "       1747.54, 2455.6 , 1988.72, 3703.75, 1607.77, 2135.  , 1131.59,\n",
       "       1649.22, 2673.63, 1843.68, 1780.68, 1545.34, 1458.55, 2235.55,\n",
       "       1447.12, 2067.75, 1829.66, 1940.04, 1305.08, 2530.62, 1770.31,\n",
       "       1544.5 , 1894.99, 1389.06, 1934.25, 2377.73, 2090.  , 1857.21,\n",
       "       1645.  , 2123.75, 1651.54, 1821.88, 2331.  , 1883.2 , 2241.77,\n",
       "       1945.32, 1991.  , 1881.25, 1495.5 , 1761.99, 2006.25, 1489.52,\n",
       "       2042.19, 1329.04, 1664.23, 1357.25, 2221.88, 2729.3 , 2696.39,\n",
       "       1431.58, 1717.34, 1848.71, 1657.75, 1599.87, 1557.01, 1946.75,\n",
       "       1627.4 , 2124.84, 1430.75, 1945.25, 2108.  , 1976.05, 2370.34,\n",
       "       2085.47, 1883.22, 2240.69, 2329.  , 1675.25, 1939.45, 1578.  ,\n",
       "       1753.  , 2290.  , 1330.  , 1899.49, 1300.  , 1800.5 , 1695.  ,\n",
       "       1524.  , 2873.9 , 1778.5 , 1926.5 , 2648.8 , 2127.  , 2826.7 ,\n",
       "       1931.  , 1711.7 , 2640.2 , 2092.1 , 2732.4 , 1427.3 , 1907.  ,\n",
       "       1947.3 , 1780.  , 3246.  , 2007.  , 2164.  , 1869.  , 1694.  ,\n",
       "       2276.  , 2089.  , 2500.  , 1610.  , 2000.  , 2319.  , 2628.  ,\n",
       "       2258.  , 2740.6 , 2133.8 , 2439.8 , 1921.4 , 1768.9 , 2365.8 ,\n",
       "       2934.8 , 1705.2 , 2006.3 , 2162.  , 2482.1 , 3001.  , 2396.  ,\n",
       "       1657.7 , 2244.9 , 1983.5 , 1611.9 , 1496.3 , 3382.7 , 2458.8 ,\n",
       "       2191.5 , 2421.1 , 2146.8 , 1971.8 , 2511.7 , 2258.6 , 2945.2 ,\n",
       "       2116.4 , 2443.  , 1979.5 , 2132.2 , 1753.7 , 2840.2 , 1992.7 ,\n",
       "       2605.5 , 2623.8 , 1621.4 , 2118.3 , 2246.8 , 2489.  , 2761.8 ,\n",
       "       2491.6 , 2305.5 , 2138.8 , 2743.9 , 2199.1 , 2009.1 , 2342.7 ,\n",
       "       1642.  , 2012.2 , 2992.5 , 1951.2 , 1371.1 , 1921.6 , 2301.6 ,\n",
       "       2391.7 , 2434.1 , 1899.9 , 1876.  , 1790.8 , 1924.1 , 2197.1 ,\n",
       "       2260.6 , 2531.1 , 1708.7 , 2078.3 , 3030.75, 2402.  , 2344.53,\n",
       "       2615.69, 1878.79, 2474.75, 1897.81, 2255.49, 2092.04, 2061.04,\n",
       "       2513.94, 2137.5 , 1666.64, 2321.5 , 1710.57, 2809.73, 2014.25,\n",
       "       2013.28, 1790.  , 2128.  , 3073.97, 2321.63, 2786.75, 2671.88,\n",
       "       2412.75, 2974.5 , 2131.25, 2132.43, 2200.22, 1893.36, 2140.  ,\n",
       "       1849.22, 2004.03, 2482.5 , 1498.75, 1655.08, 2544.92, 1367.65,\n",
       "       1769.47, 2583.  , 1580.75, 1765.45, 2523.  , 1632.25, 1156.62,\n",
       "       2285.47, 2362.11, 1476.45, 1872.75, 1956.79, 2016.75, 1788.75,\n",
       "       1609.38, 1848.5 , 2024.61, 3241.98, 2332.75, 2264.84, 2058.98,\n",
       "       2762.58, 2073.17, 2094.  , 2056.  , 3053.  , 2047.  , 2069.  ,\n",
       "       2257.  , 2080.  , 1774.  , 2750.  , 2208.  , 2126.  , 2842.  ,\n",
       "       1691.  , 2850.  , 2283.  , 2122.  , 2217.  , 1801.  , 2982.  ,\n",
       "       2514.  , 2046.  , 2600.  , 1630.9 , 1668.8 , 1897.8 , 3043.3 ,\n",
       "       1988.1 , 2381.7 , 1959.9 , 1913.3 , 3094.1 , 2737.8 , 1919.5 ,\n",
       "       2347.8 , 2398.9 , 2077.4 , 2356.3 , 2027.  , 2836.8 , 2359.  ,\n",
       "       2203.5 , 3864.1 , 1848.2 , 2280.3 , 2290.5 , 1193.7 , 2952.7 ,\n",
       "       1743.7 , 2311.3 , 1659.4 , 1872.3 , 2137.3 , 2140.1 , 1286.1 ,\n",
       "       1865.2 , 1538.7 , 2596.7 , 1475.3 , 1629.  , 2313.3 , 1798.2 ,\n",
       "       1209.8 , 1016.8 , 1333.8 , 1867.2 , 1993.4 , 1259.5 , 1370.4 ,\n",
       "       2035.9 , 1936.  , 1797.5 , 1883.3 , 2159.3 , 1238.7 , 1932.9 ,\n",
       "       1512.8 , 1531.8 , 1908.8 , 1407.9 , 1880.  , 1203.3 , 1557.  ,\n",
       "       1687.  , 1281.7 , 1631.  , 2043.24, 2224.51, 2490.83, 2111.13,\n",
       "       2291.09, 2031.37, 2072.5 , 2592.  , 2578.3 , 3007.4 , 1856.5 ,\n",
       "       1786.5 , 2410.9 , 2215.9 , 2587.1 , 2629.  , 2891.4 , 1876.8 ,\n",
       "       1814.9 , 1667.6 , 2203.1 , 2487.5 , 2053.3 , 1870.3 , 2081.1 ,\n",
       "       1673.5 , 2163.9 , 1484.8 , 2724.6 , 2046.3 , 2222.44, 1417.5 ,\n",
       "       1319.3 , 2285.3 , 1329.8 , 2167.8 , 1795.8 , 1889.2 , 1517.8 ,\n",
       "       1515.6 , 2282.1 , 1931.1 , 1993.6 , 2234.8 , 2972.8 , 3216.8 ,\n",
       "       2285.  , 1654.3 , 1422.29, 2772.1 , 2623.3 , 2713.7 , 1347.6 ,\n",
       "       1661.1 , 1604.7 , 1945.7 , 1371.5 , 2125.6 , 2215.4 , 1276.  ,\n",
       "       1806.8 , 1624.2 , 1362.5 , 1813.2 , 1529.2 , 2412.5 , 2175.8 ,\n",
       "       1896.7 , 1859.9 , 1649.7 , 1454.3 , 1728.1 , 1576.1 , 1662.1 ,\n",
       "       1922.2 , 3594.7 , 2022.7 , 2404.3 , 1507.1 , 1605.3 , 2073.5 ,\n",
       "       1290.2 , 2185.7 , 2649.2 , 1538.5 , 2481.3 , 2242.5 , 1691.1 ,\n",
       "       2979.1 , 1747.1 , 2008.5 , 1876.6 , 2866.2 , 2498.5 , 1928.9 ,\n",
       "       1562.5 , 2071.8 , 2087.6 , 1718.3 , 2639.5 , 2852.1 , 2215.1 ,\n",
       "       2446.41, 2650.02, 2796.17, 1891.37, 1551.  , 1623.45, 2550.59,\n",
       "       1590.98, 2370.61, 2627.61, 1736.17, 2756.64, 1409.11, 1725.67,\n",
       "       2038.4 , 1851.25, 2351.95, 2002.15, 2189.43, 2464.53, 1532.42,\n",
       "       1703.31, 1889.  , 1661.13, 2394.08, 2066.85, 2691.96, 2823.75,\n",
       "       1735.53, 1891.52, 2942.36, 2012.77, 2028.96, 2931.81, 2122.64,\n",
       "       1514.5 , 3061.79, 2606.43, 1762.01, 1942.75, 2233.2 , 2068.95,\n",
       "       1723.75, 2577.17, 2313.75, 2016.21, 2191.84, 2422.05, 1695.25,\n",
       "       1647.5 , 2691.8 , 2536.08, 2041.5 , 1514.9 , 1874.61, 2110.48,\n",
       "       1770.7 , 2224.44, 1469.31, 2106.75, 1338.25, 1844.55, 2578.  ,\n",
       "       2717.  , 2753.5 , 2643.  , 2291.5 , 1507.38, 2312.15, 2359.38,\n",
       "       1759.29, 1627.35, 2302.  , 2403.79, 2096.25, 1403.52, 1753.05,\n",
       "       1199.22, 1913.61, 2230.86, 1615.26, 2388.77, 1657.18, 2388.31,\n",
       "       2588.28, 2673.05, 1804.69, 2186.33, 1706.64, 1981.  , 1938.99,\n",
       "       2631.64, 2395.31, 2313.28, 1765.23, 2213.67, 1203.54, 1463.17,\n",
       "       1435.04, 1803.52, 1775.39, 2035.75, 2262.11, 1945.85, 2229.3 ,\n",
       "       2325.78, 1409.75, 1941.41, 1419.14, 1187.25, 1823.5 , 2642.33,\n",
       "       1956.25, 2393.35, 2087.75, 1665.23, 2404.46, 1741.75, 2118.32,\n",
       "       1611.72, 2852.63, 2212.54, 1646.  , 2044.14, 2243.  , 1662.  ,\n",
       "       3088.2 , 2030.  , 2611.  , 2159.8 , 2607.4 , 1714.8 , 2315.  ,\n",
       "       1957.8 , 1706.9 , 2087.4 , 1579.  , 3315.7 , 2444.  , 1573.  ,\n",
       "       1415.  , 2424.  , 2107.  , 2386.  , 2370.5 , 1926.3 , 2571.9 ,\n",
       "       2653.5 , 2237.1 , 2645.  , 2696.3 , 2365.7 , 3632.6 , 2564.2 ,\n",
       "       2753.3 , 1962.9 , 2374.9 , 2079.  , 2480.  , 2879.  , 2234.6 ,\n",
       "       2210.3 , 1821.8 , 2561.  , 2539.1 , 2248.8 , 1876.9 , 2541.  ,\n",
       "       2102.9 , 2759.9 , 1853.3 , 2026.6 , 1894.3 , 2737.9 , 2948.7 ,\n",
       "       1127.4 , 1964.2 , 2017.7 , 2800.  , 1932.  , 2940.8 , 1770.3 ,\n",
       "       1870.9 , 2208.3 , 2137.7 , 2515.  , 1834.9 , 1939.8 , 2177.3 ,\n",
       "       1987.8 , 3751.1 , 1509.6 , 1875.3 , 1455.1 , 1160.1 , 2359.6 ,\n",
       "       2453.1 , 1780.4 , 1051.3 , 1842.1 , 1859.1 , 2037.2 , 1819.3 ,\n",
       "       2194.6 , 1443.6 , 2010.9 , 2185.9 , 1634.5 , 2741.5 , 1956.6 ,\n",
       "       2372.7 , 2160.7 , 1809.8 , 1774.4 , 1509.9 , 2502.2 , 1736.4 ,\n",
       "       2029.5 , 2014.1 , 3127.3 , 2306.52, 2914.01, 2342.01, 2475.26,\n",
       "       1682.38, 1921.73, 2442.81, 2365.75, 1357.03, 2225.92, 1533.5 ,\n",
       "       2673.26, 1789.44, 2917.76, 2264.06, 1990.06, 2349.22, 2622.37,\n",
       "       1944.25, 1655.83, 2298.17, 1770.2 , 2527.75, 1715.75, 2636.33,\n",
       "       1832.24, 1796.88, 2531.75, 1575.  , 2023.  , 1954.85, 2082.13,\n",
       "       1766.38, 1504.41, 1896.46, 2399.75, 2332.  , 1155.  , 1964.  ,\n",
       "       1690.  , 2269.  , 1823.  , 2690.  , 3227.  , 4292.  , 2088.  ,\n",
       "       1670.  , 2041.  , 2719.  , 1786.  , 2775.  , 1789.  , 1627.  ,\n",
       "       2948.  , 2819.  , 1769.  , 2066.  , 1803.  , 5569.  , 2057.  ,\n",
       "       2023.7 , 1700.8 , 2668.5 , 2221.4 , 1440.8 , 2266.5 , 2707.3 ,\n",
       "       2564.  , 1664.2 , 2182.3 , 2111.8 , 1767.6 , 3063.4 , 2139.5 ,\n",
       "       3422.3 , 2122.5 , 1970.3 , 2066.8 , 2503.  , 2220.1 , 3149.9 ,\n",
       "       1729.1 , 1651.2 , 1576.3 , 2466.7 , 2795.7 , 1473.  , 2481.8 ,\n",
       "       1796.1 ])"
      ]
     },
     "execution_count": 58,
     "metadata": {},
     "output_type": "execute_result"
    }
   ],
   "source": [
    "df_BOS_drops['MF + ES'].unique()"
   ]
  },
  {
   "cell_type": "code",
   "execution_count": null,
   "id": "8f233ea3-b61f-4ebd-bced-430627900414",
   "metadata": {},
   "outputs": [],
   "source": []
  }
 ],
 "metadata": {
  "kernelspec": {
   "display_name": "Python 3 (ipykernel)",
   "language": "python",
   "name": "python3"
  },
  "language_info": {
   "codemirror_mode": {
    "name": "ipython",
    "version": 3
   },
   "file_extension": ".py",
   "mimetype": "text/x-python",
   "name": "python",
   "nbconvert_exporter": "python",
   "pygments_lexer": "ipython3",
   "version": "3.11.3"
  }
 },
 "nbformat": 4,
 "nbformat_minor": 5
}
