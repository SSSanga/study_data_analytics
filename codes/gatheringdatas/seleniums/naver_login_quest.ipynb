{
 "cells": [
  {
   "cell_type": "markdown",
   "id": "be8b894f-82b7-40c3-af3f-53f75696b9a6",
   "metadata": {},
   "source": [
    "## Naver login_quest\n",
    "- naver 로그인 눌러서 로그인 페이지에서 입력 후 메일 화면까지 들어가게 하기"
   ]
  },
  {
   "cell_type": "code",
   "execution_count": 1,
   "id": "f24295d4-b57d-4eb6-9edd-82863d28a878",
   "metadata": {
    "tags": []
   },
   "outputs": [],
   "source": [
    "from selenium import webdriver"
   ]
  },
  {
   "cell_type": "code",
   "execution_count": 2,
   "id": "f95850dd-893a-457a-a9e7-ca8c9159b63b",
   "metadata": {
    "tags": []
   },
   "outputs": [],
   "source": [
    "#open chrome browser\n",
    "browser = webdriver.Chrome(executable_path='../../../../chromedriver.exe') #webdriver_selenium과 web을 연결해주기위함.\n",
    "browser.get('https://www.naver.com/')"
   ]
  },
  {
   "cell_type": "markdown",
   "id": "365746ee-8a02-4018-a3ce-9d1e062bbf93",
   "metadata": {},
   "source": [
    "### code tag 찾기\n",
    "- 로그인 button click\n",
    "    - #account > div > a\n",
    "- 로그인 page에서 아이디 채우기\n",
    "    - #id\n",
    "- 로그인 page에서 password 채우기\n",
    "    - #pw\n",
    "- 로그인 button 누르기\n",
    "    - #log\\.login\n",
    "- 로그인에서 메일 누르기 \n",
    "    - #account > div.MyView-module__my_menu___eF24q > div > div > ul > li:nth-child(1) > a > span.MyView-module__item_text___VTQQM\n",
    "    - 수정: .MyView-module__item_text___VTQQM\n",
    "- 메일 메뉴에서 전체메일 누르기 \n",
    "    - #account > div.MyView-module__layer_menu_service___NqMyX > div.MyView-module__service_sub___wix9p > div.MyView-module__sub_left___AIWHR > a\n",
    "    - 수정: .MyView-module__sub_left___AIWHR > a "
   ]
  },
  {
   "cell_type": "code",
   "execution_count": 3,
   "id": "c1d3a835-edfa-40be-b2e9-87e42c4b6280",
   "metadata": {
    "tags": []
   },
   "outputs": [],
   "source": [
    "# 네이버 로그인 button 누르기\n",
    "login_element = '#account > div > a'\n",
    "login_button=browser.find_element_by_css_selector(login_element)\n",
    "login_button.click()"
   ]
  },
  {
   "cell_type": "code",
   "execution_count": 4,
   "id": "36515652-6649-42cf-a4f0-593a9f479911",
   "metadata": {
    "tags": []
   },
   "outputs": [],
   "source": [
    "# ID 입력\n",
    "id_element = '#id'\n",
    "id_input=browser.find_element_by_css_selector(id_element)\n",
    "id_input.send_keys('ivorykim90')"
   ]
  },
  {
   "cell_type": "code",
   "execution_count": 5,
   "id": "6e5b12e3-b58f-4f45-98e9-230c6e87f66b",
   "metadata": {
    "tags": []
   },
   "outputs": [],
   "source": [
    "# password 입력\n",
    "pw_element = '#pw'\n",
    "pw_input=browser.find_element_by_css_selector(pw_element)\n",
    "pw_input.send_keys('####')"
   ]
  },
  {
   "cell_type": "code",
   "execution_count": 6,
   "id": "e1ab37bf-0a33-47ee-a527-7091c0de5eff",
   "metadata": {
    "tags": []
   },
   "outputs": [],
   "source": [
    "# login button누르기\n",
    "click_element = '#log\\.login'\n",
    "click_button = browser.find_element_by_css_selector(click_element)\n",
    "click_button.click()"
   ]
  },
  {
   "cell_type": "code",
   "execution_count": 7,
   "id": "532ce3a1-1257-44d4-bfd5-552da82e09d1",
   "metadata": {
    "tags": []
   },
   "outputs": [],
   "source": [
    "# 마이메뉴에서 메일 누르기 \n",
    "mail_element = '.MyView-module__item_text___VTQQM'\n",
    "mail_click = browser.find_element_by_css_selector(mail_element)\n",
    "mail_click.click()"
   ]
  },
  {
   "cell_type": "code",
   "execution_count": 8,
   "id": "1b3db3c3-b1fe-497b-9ada-b68c4612d34a",
   "metadata": {
    "tags": []
   },
   "outputs": [],
   "source": [
    "# 메일_전체메일 누르기 \n",
    "mailpage_elemnet = '.MyView-module__sub_left___AIWHR > a '\n",
    "mail_page = browser.find_element_by_css_selector(mailpage_elemnet)\n",
    "mail_page.click()"
   ]
  },
  {
   "cell_type": "code",
   "execution_count": null,
   "id": "70d72535-2a34-47e1-aa98-dc26c0dcc7db",
   "metadata": {},
   "outputs": [],
   "source": []
  }
 ],
 "metadata": {
  "kernelspec": {
   "display_name": "Python 3 (ipykernel)",
   "language": "python",
   "name": "python3"
  },
  "language_info": {
   "codemirror_mode": {
    "name": "ipython",
    "version": 3
   },
   "file_extension": ".py",
   "mimetype": "text/x-python",
   "name": "python",
   "nbconvert_exporter": "python",
   "pygments_lexer": "ipython3",
   "version": "3.11.3"
  }
 },
 "nbformat": 4,
 "nbformat_minor": 5
}
