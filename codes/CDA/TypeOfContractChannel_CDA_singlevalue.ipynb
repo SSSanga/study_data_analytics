{
 "cells": [
  {
   "cell_type": "markdown",
   "id": "2d66c3ac-071f-48be-87cf-0bff743a4245",
   "metadata": {},
   "source": [
    "## Single Value"
   ]
  },
  {
   "cell_type": "code",
   "execution_count": 1,
   "id": "edddfd05-48fb-4897-89b0-3f38e077c0e3",
   "metadata": {
    "tags": []
   },
   "outputs": [],
   "source": [
    "import pandas as pd\n",
    "import numpy as np\n",
    "import matplotlib.pyplot as plt\n",
    "import matplotlib as mpl\n",
    "mpl.rc('font',family='Malgun Gothic')\n",
    "import seaborn as sns\n",
    "import scipy \n",
    "scipy.__version__\n",
    "import scipy.stats as stats"
   ]
  },
  {
   "cell_type": "code",
   "execution_count": 2,
   "id": "c808f0da-3a51-4be1-b7d0-06e525b66931",
   "metadata": {
    "tags": []
   },
   "outputs": [
    {
     "data": {
      "text/html": [
       "<div>\n",
       "<style scoped>\n",
       "    .dataframe tbody tr th:only-of-type {\n",
       "        vertical-align: middle;\n",
       "    }\n",
       "\n",
       "    .dataframe tbody tr th {\n",
       "        vertical-align: top;\n",
       "    }\n",
       "\n",
       "    .dataframe thead th {\n",
       "        text-align: right;\n",
       "    }\n",
       "</style>\n",
       "<table border=\"1\" class=\"dataframe\">\n",
       "  <thead>\n",
       "    <tr style=\"text-align: right;\">\n",
       "      <th></th>\n",
       "      <th>id</th>\n",
       "      <th>type_of_contract</th>\n",
       "      <th>type_of_contract2</th>\n",
       "      <th>channel</th>\n",
       "      <th>datetime</th>\n",
       "      <th>Term</th>\n",
       "      <th>payment_type</th>\n",
       "      <th>product</th>\n",
       "      <th>amount</th>\n",
       "      <th>state</th>\n",
       "      <th>overdue_count</th>\n",
       "      <th>overdue</th>\n",
       "      <th>credit rating</th>\n",
       "      <th>bank</th>\n",
       "      <th>cancellation</th>\n",
       "      <th>age</th>\n",
       "      <th>Mileage</th>\n",
       "    </tr>\n",
       "  </thead>\n",
       "  <tbody>\n",
       "    <tr>\n",
       "      <th>0</th>\n",
       "      <td>66758234</td>\n",
       "      <td>렌탈</td>\n",
       "      <td>Normal</td>\n",
       "      <td>서비스 방문</td>\n",
       "      <td>2019-10-20</td>\n",
       "      <td>60</td>\n",
       "      <td>CMS</td>\n",
       "      <td>K1</td>\n",
       "      <td>96900</td>\n",
       "      <td>계약확정</td>\n",
       "      <td>0</td>\n",
       "      <td>없음</td>\n",
       "      <td>9.0</td>\n",
       "      <td>새마을금고</td>\n",
       "      <td>정상</td>\n",
       "      <td>43.0</td>\n",
       "      <td>1862.0</td>\n",
       "    </tr>\n",
       "    <tr>\n",
       "      <th>1</th>\n",
       "      <td>66755948</td>\n",
       "      <td>렌탈</td>\n",
       "      <td>Extension_Rental</td>\n",
       "      <td>서비스 방문</td>\n",
       "      <td>2019-10-20</td>\n",
       "      <td>60</td>\n",
       "      <td>카드이체</td>\n",
       "      <td>K1</td>\n",
       "      <td>102900</td>\n",
       "      <td>계약확정</td>\n",
       "      <td>0</td>\n",
       "      <td>없음</td>\n",
       "      <td>2.0</td>\n",
       "      <td>현대카드</td>\n",
       "      <td>정상</td>\n",
       "      <td>62.0</td>\n",
       "      <td>2532.0</td>\n",
       "    </tr>\n",
       "    <tr>\n",
       "      <th>2</th>\n",
       "      <td>66756657</td>\n",
       "      <td>렌탈</td>\n",
       "      <td>Normal</td>\n",
       "      <td>홈쇼핑/방송</td>\n",
       "      <td>2019-10-20</td>\n",
       "      <td>60</td>\n",
       "      <td>CMS</td>\n",
       "      <td>K1</td>\n",
       "      <td>96900</td>\n",
       "      <td>계약확정</td>\n",
       "      <td>0</td>\n",
       "      <td>없음</td>\n",
       "      <td>8.0</td>\n",
       "      <td>우리은행</td>\n",
       "      <td>정상</td>\n",
       "      <td>60.0</td>\n",
       "      <td>2363.0</td>\n",
       "    </tr>\n",
       "  </tbody>\n",
       "</table>\n",
       "</div>"
      ],
      "text/plain": [
       "         id type_of_contract type_of_contract2 channel    datetime  Term  \\\n",
       "0  66758234               렌탈            Normal  서비스 방문  2019-10-20    60   \n",
       "1  66755948               렌탈  Extension_Rental  서비스 방문  2019-10-20    60   \n",
       "2  66756657               렌탈            Normal  홈쇼핑/방송  2019-10-20    60   \n",
       "\n",
       "  payment_type product  amount state  overdue_count overdue  credit rating  \\\n",
       "0          CMS      K1   96900  계약확정              0      없음            9.0   \n",
       "1         카드이체      K1  102900  계약확정              0      없음            2.0   \n",
       "2          CMS      K1   96900  계약확정              0      없음            8.0   \n",
       "\n",
       "    bank cancellation   age  Mileage  \n",
       "0  새마을금고           정상  43.0   1862.0  \n",
       "1   현대카드           정상  62.0   2532.0  \n",
       "2   우리은행           정상  60.0   2363.0  "
      ]
     },
     "execution_count": 2,
     "metadata": {},
     "output_type": "execute_result"
    }
   ],
   "source": [
    "df_TOCC = pd.read_csv('../../datasets/TypeOfContractChannel.csv')\n",
    "df_TOCC[:3]"
   ]
  },
  {
   "cell_type": "markdown",
   "id": "cdfd2a2c-40e8-4997-ada0-648022627300",
   "metadata": {},
   "source": [
    "### y : 연속형\n",
    "    - 단일 변수의 정규성 여부 판단 필\n",
    "        - 여기도 가설을 세우고 판단함.\n",
    "        - 검증 개수 따른 방법 선택\n",
    "                - 5000 이하: shapiro normality test\n",
    "                - 5000 이상: anderson normality test"
   ]
  },
  {
   "cell_type": "markdown",
   "id": "2e451001-2b9d-4024-b50b-dc7f0b90ed2c",
   "metadata": {},
   "source": [
    "#### 선정변수 \n",
    "        1. 'age'(연속)\n",
    "            → 분석 내용: 나이가 정규분포를 따르는가?\n",
    "                - 귀무가설: 나이가 정규분포이다. \n",
    "                - 대립가설: 나이가 정규분포가 아니다.\n",
    "            → 분석 결론 (p-value : 0.05?)\n",
    "                - 통계 결론: \n",
    "                - 사실 결론: "
   ]
  },
  {
   "cell_type": "markdown",
   "id": "22d015d2-a1d8-445e-b236-96eba349d315",
   "metadata": {},
   "source": [
    "- 1. age에 대해 시각화\n",
    "- 2. age에 대해 p-value"
   ]
  },
  {
   "cell_type": "code",
   "execution_count": 3,
   "id": "6120ff5f-ba3a-4034-a66c-8479a956289d",
   "metadata": {
    "tags": []
   },
   "outputs": [
    {
     "data": {
      "text/plain": [
       "0        43.0\n",
       "1        62.0\n",
       "2        60.0\n",
       "3        60.0\n",
       "4        51.0\n",
       "         ... \n",
       "51299     NaN\n",
       "51300    39.0\n",
       "51301    51.0\n",
       "51302    64.0\n",
       "51303    53.0\n",
       "Name: age, Length: 51304, dtype: float64"
      ]
     },
     "execution_count": 3,
     "metadata": {},
     "output_type": "execute_result"
    }
   ],
   "source": [
    "df_age = df_TOCC['age']\n",
    "df_age"
   ]
  },
  {
   "cell_type": "code",
   "execution_count": 6,
   "id": "dcf5e92a-4ed8-4ed6-9228-74b9013c7384",
   "metadata": {
    "tags": []
   },
   "outputs": [
    {
     "data": {
      "image/png": "[encoded data removed]",
      "text/plain": [
       "<Figure size 640x480 with 1 Axes>"
      ]
     },
     "metadata": {},
     "output_type": "display_data"
    }
   ],
   "source": [
    "sns.histplot(data=df_TOCC, x='age', kde=True, discrete=False)\n",
    "plt.title('age 정규분포')\n",
    "plt.show()"
   ]
  },
  {
   "cell_type": "code",
   "execution_count": null,
   "id": "2c0e3fdd-f946-4a7c-95f7-8fd694e3a2f1",
   "metadata": {
    "tags": []
   },
   "outputs": [],
   "source": [
    "df_TOCC_age=df_TOCC['age'].dropna()"
   ]
  },
  {
   "cell_type": "code",
   "execution_count": null,
   "id": "033c8f8a-8e0a-4a8d-9caa-58802a4c383e",
   "metadata": {
    "tags": []
   },
   "outputs": [],
   "source": [
    "df_TOCC_age.count()"
   ]
  },
  {
   "cell_type": "code",
   "execution_count": null,
   "id": "3e28961e-14e9-4698-92d9-a184a939d068",
   "metadata": {
    "tags": []
   },
   "outputs": [],
   "source": [
    "stats.anderson(df_TOCC_age)"
   ]
  },
  {
   "cell_type": "markdown",
   "id": "8907a027-0d1e-4602-bb21-c88629ef7a43",
   "metadata": {},
   "source": [
    "#### 선정변수 \n",
    "        1. 'age' (연속), 'Mileage' (연속)\n",
    "            → 분석 내용: 나이에 따른 마일리지 변화?\n",
    "                - 귀무가설: 나이에 따른 마일리지 변화 없음.\n",
    "                - 대립가설: 나이에 따른 마일리지 변화 있음.\n",
    "            → 분석 결론 (p-value : 0.05 ?), stats.pearsonr('비교1', '비교2')\n",
    "                ⇒ PearsonRResult(statistic=0.9732809346109912, pvalue=0.0)\n",
    "                - 통계 결론: statistic_0.97, p-value < 0.05 이므로 대립가설 참\n",
    "                - 사실 결론: 나이에 따른 마일리지 변화 있다.\n",
    "            → correlation의 유의미함을 보려면 pearsonr을 사용한다.   "
   ]
  }
 ],
 "metadata": {
  "kernelspec": {
   "display_name": "Python 3 (ipykernel)",
   "language": "python",
   "name": "python3"
  },
  "language_info": {
   "codemirror_mode": {
    "name": "ipython",
    "version": 3
   },
   "file_extension": ".py",
   "mimetype": "text/x-python",
   "name": "python",
   "nbconvert_exporter": "python",
   "pygments_lexer": "ipython3",
   "version": "3.11.3"
  }
 },
 "nbformat": 4,
 "nbformat_minor": 5
}
