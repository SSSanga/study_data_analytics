{
 "cells": [
  {
   "cell_type": "code",
   "execution_count": 1,
   "id": "0190ba1b-dbc8-4096-92f3-a0068a7921f9",
   "metadata": {
    "tags": []
   },
   "outputs": [],
   "source": [
    "from selenium import webdriver"
   ]
  },
  {
   "cell_type": "code",
   "execution_count": 2,
   "id": "ed8f1fff-e6c0-43d3-a8d3-f38be888f78d",
   "metadata": {
    "tags": []
   },
   "outputs": [],
   "source": [
    "# open chrome browser\n",
    "browser = webdriver.Chrome(executable_path='../../../../chromedriver.exe')"
   ]
  },
  {
   "cell_type": "code",
   "execution_count": 3,
   "id": "8ac2da21-6fe5-417f-9032-b490be4bf992",
   "metadata": {
    "tags": []
   },
   "outputs": [],
   "source": [
    "# url in address window\n",
    "browser.get('https://www.w3schools.com/')"
   ]
  },
  {
   "cell_type": "code",
   "execution_count": 4,
   "id": "3607c04b-1b94-43e1-ba12-d514daa385f3",
   "metadata": {
    "tags": []
   },
   "outputs": [
    {
     "data": {
      "text/plain": [
       "True"
      ]
     },
     "execution_count": 4,
     "metadata": {},
     "output_type": "execute_result"
    }
   ],
   "source": [
    "# Screenshot\n",
    "browser.save_screenshot('./begginers.png')"
   ]
  },
  {
   "cell_type": "code",
   "execution_count": 5,
   "id": "743743f9-b525-4c3f-aa10-4ffb54a4c2d5",
   "metadata": {
    "tags": []
   },
   "outputs": [],
   "source": [
    "# 웹 페이지 로드\n",
    "browser.get('https://play.google.com/store/search?q=%ED%97%AC%EC%8A%A4%EC%BC%80%EC%96%B4%EC%95%B1&c=apps&hl=ko-KR')"
   ]
  },
  {
   "cell_type": "code",
   "execution_count": 7,
   "id": "1e2b2984-344d-40d5-9ce5-27ebcdcc0166",
   "metadata": {
    "tags": []
   },
   "outputs": [],
   "source": [
    "# 화면 높이만큼 1번 스크룰링\n",
    "from selenium.webdriver.common.keys import Keys\n",
    "\n",
    "# 스크롤 다운\n",
    "browser.find_element_by_tag_name('body').send_keys(Keys.PAGE_DOWN)"
   ]
  },
  {
   "cell_type": "code",
   "execution_count": 8,
   "id": "ae8efbf6-c473-46ec-935a-394c39568392",
   "metadata": {
    "tags": []
   },
   "outputs": [
    {
     "ename": "NoSuchWindowException",
     "evalue": "Message: no such window: target window already closed\nfrom unknown error: web view not found\n  (Session info: chrome=117.0.5938.89)\n",
     "output_type": "error",
     "traceback": [
      "\u001b[1;31m---------------------------------------------------------------------------\u001b[0m",
      "\u001b[1;31mNoSuchWindowException\u001b[0m                     Traceback (most recent call last)",
      "Cell \u001b[1;32mIn[8], line 26\u001b[0m\n\u001b[0;32m     23\u001b[0m time\u001b[38;5;241m.\u001b[39msleep(\u001b[38;5;241m1\u001b[39m)\n\u001b[0;32m     25\u001b[0m \u001b[38;5;66;03m# 현재 스크롤 위치 확인\u001b[39;00m\n\u001b[1;32m---> 26\u001b[0m current_scroll_position \u001b[38;5;241m=\u001b[39m browser\u001b[38;5;241m.\u001b[39mexecute_script(\u001b[38;5;124m\"\u001b[39m\u001b[38;5;124mreturn window.pageYOffset + arguments[0];\u001b[39m\u001b[38;5;124m\"\u001b[39m, screen_height)\n\u001b[0;32m     28\u001b[0m \u001b[38;5;66;03m# 전체 문서 높이 갱신\u001b[39;00m\n\u001b[0;32m     29\u001b[0m document_height \u001b[38;5;241m=\u001b[39m browser\u001b[38;5;241m.\u001b[39mexecute_script(\u001b[38;5;124m\"\u001b[39m\u001b[38;5;124mreturn document.documentElement.scrollHeight\u001b[39m\u001b[38;5;124m\"\u001b[39m)\n",
      "File \u001b[1;32m~\\anaconda3\\Lib\\site-packages\\selenium\\webdriver\\remote\\webdriver.py:634\u001b[0m, in \u001b[0;36mWebDriver.execute_script\u001b[1;34m(self, script, *args)\u001b[0m\n\u001b[0;32m    631\u001b[0m \u001b[38;5;28;01melse\u001b[39;00m:\n\u001b[0;32m    632\u001b[0m     command \u001b[38;5;241m=\u001b[39m Command\u001b[38;5;241m.\u001b[39mEXECUTE_SCRIPT\n\u001b[1;32m--> 634\u001b[0m \u001b[38;5;28;01mreturn\u001b[39;00m \u001b[38;5;28mself\u001b[39m\u001b[38;5;241m.\u001b[39mexecute(command, {\n\u001b[0;32m    635\u001b[0m     \u001b[38;5;124m'\u001b[39m\u001b[38;5;124mscript\u001b[39m\u001b[38;5;124m'\u001b[39m: script,\n\u001b[0;32m    636\u001b[0m     \u001b[38;5;124m'\u001b[39m\u001b[38;5;124margs\u001b[39m\u001b[38;5;124m'\u001b[39m: converted_args})[\u001b[38;5;124m'\u001b[39m\u001b[38;5;124mvalue\u001b[39m\u001b[38;5;124m'\u001b[39m]\n",
      "File \u001b[1;32m~\\anaconda3\\Lib\\site-packages\\selenium\\webdriver\\remote\\webdriver.py:321\u001b[0m, in \u001b[0;36mWebDriver.execute\u001b[1;34m(self, driver_command, params)\u001b[0m\n\u001b[0;32m    319\u001b[0m response \u001b[38;5;241m=\u001b[39m \u001b[38;5;28mself\u001b[39m\u001b[38;5;241m.\u001b[39mcommand_executor\u001b[38;5;241m.\u001b[39mexecute(driver_command, params)\n\u001b[0;32m    320\u001b[0m \u001b[38;5;28;01mif\u001b[39;00m response:\n\u001b[1;32m--> 321\u001b[0m     \u001b[38;5;28mself\u001b[39m\u001b[38;5;241m.\u001b[39merror_handler\u001b[38;5;241m.\u001b[39mcheck_response(response)\n\u001b[0;32m    322\u001b[0m     response[\u001b[38;5;124m'\u001b[39m\u001b[38;5;124mvalue\u001b[39m\u001b[38;5;124m'\u001b[39m] \u001b[38;5;241m=\u001b[39m \u001b[38;5;28mself\u001b[39m\u001b[38;5;241m.\u001b[39m_unwrap_value(\n\u001b[0;32m    323\u001b[0m         response\u001b[38;5;241m.\u001b[39mget(\u001b[38;5;124m'\u001b[39m\u001b[38;5;124mvalue\u001b[39m\u001b[38;5;124m'\u001b[39m, \u001b[38;5;28;01mNone\u001b[39;00m))\n\u001b[0;32m    324\u001b[0m     \u001b[38;5;28;01mreturn\u001b[39;00m response\n",
      "File \u001b[1;32m~\\anaconda3\\Lib\\site-packages\\selenium\\webdriver\\remote\\errorhandler.py:242\u001b[0m, in \u001b[0;36mErrorHandler.check_response\u001b[1;34m(self, response)\u001b[0m\n\u001b[0;32m    240\u001b[0m         alert_text \u001b[38;5;241m=\u001b[39m value[\u001b[38;5;124m'\u001b[39m\u001b[38;5;124malert\u001b[39m\u001b[38;5;124m'\u001b[39m]\u001b[38;5;241m.\u001b[39mget(\u001b[38;5;124m'\u001b[39m\u001b[38;5;124mtext\u001b[39m\u001b[38;5;124m'\u001b[39m)\n\u001b[0;32m    241\u001b[0m     \u001b[38;5;28;01mraise\u001b[39;00m exception_class(message, screen, stacktrace, alert_text)\n\u001b[1;32m--> 242\u001b[0m \u001b[38;5;28;01mraise\u001b[39;00m exception_class(message, screen, stacktrace)\n",
      "\u001b[1;31mNoSuchWindowException\u001b[0m: Message: no such window: target window already closed\nfrom unknown error: web view not found\n  (Session info: chrome=117.0.5938.89)\n"
     ]
    }
   ],
   "source": [
    "# 화면 높이만큼 차례로 아래끝까지 스크룰링\n",
    "\n",
    "from selenium.webdriver.common.keys import Keys\n",
    "import time\n",
    "\n",
    "# Chrome WebDriver 객체 생성\n",
    "\n",
    "# 웹 페이지 로드\n",
    "browser.get('https://play.google.com/store/search?q=%ED%97%AC%EC%8A%A4%EC%BC%80%EC%96%B4%EC%95%B1&c=apps&hl=ko-KR')\n",
    "\n",
    "# 현재 화면의 높이 가져오기\n",
    "screen_height = browser.execute_script(\"return window.innerHeight\")\n",
    "\n",
    "# 현재 문서의 전체 높이 가져오기\n",
    "document_height = browser.execute_script(\"return document.documentElement.scrollHeight\")\n",
    "\n",
    "# 스크롤 다운하여 페이지 맨 아래까지 이동하기\n",
    "while True:\n",
    "    # 스크롤 다운 실행 (페이지 맨 아래로 이동)\n",
    "    browser.find_element_by_tag_name('body').send_keys(Keys.PAGE_DOWN)\n",
    "\n",
    "    # 잠시 대기하여 새로운 내용 로딩을 기다림 (선택적으로 사용)\n",
    "    time.sleep(1)\n",
    "\n",
    "    # 현재 스크롤 위치 확인\n",
    "    current_scroll_position = browser.execute_script(\"return window.pageYOffset + arguments[0];\", screen_height)\n",
    "\n",
    "    # 전체 문서 높이 갱신\n",
    "    document_height = browser.execute_script(\"return document.documentElement.scrollHeight\")\n",
    "\n",
    "    # 전체 문서 높이와 현재 스크롤 위치 비교하여 종료 여부 결정\n",
    "    if current_scroll_position >= document_height:\n",
    "        break\n",
    "\n"
   ]
  },
  {
   "cell_type": "code",
   "execution_count": 9,
   "id": "a72ff79d-e9d4-4a2d-b72d-3a3ddcc88bff",
   "metadata": {},
   "outputs": [],
   "source": [
    "browser.quit()"
   ]
  }
 ],
 "metadata": {
  "kernelspec": {
   "display_name": "Python 3 (ipykernel)",
   "language": "python",
   "name": "python3"
  },
  "language_info": {
   "codemirror_mode": {
    "name": "ipython",
    "version": 3
   },
   "file_extension": ".py",
   "mimetype": "text/x-python",
   "name": "python",
   "nbconvert_exporter": "python",
   "pygments_lexer": "ipython3",
   "version": "3.11.4"
  }
 },
 "nbformat": 4,
 "nbformat_minor": 5
}
