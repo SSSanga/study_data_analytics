{
 "cells": [
  {
   "cell_type": "code",
   "execution_count": 1,
   "id": "f8e3328a-05f4-40fa-bd6b-2c926a8efbc9",
   "metadata": {},
   "outputs": [],
   "source": [
    "from selenium import webdriver\n",
    "import time\n",
    "import pandas as pd"
   ]
  },
  {
   "cell_type": "code",
   "execution_count": 2,
   "id": "8ab8b34b-b786-460f-a367-52dc0d6ae744",
   "metadata": {},
   "outputs": [],
   "source": [
    "import pymongo as mg\n",
    "client = mg.MongoClient(host='mongodb://localhost:27017')\n",
    "database = client['study_test']\n",
    "collection = database['eyes_review']"
   ]
  },
  {
   "cell_type": "code",
   "execution_count": 3,
   "id": "712c1393-dd3b-4c6b-affd-85feecc4c668",
   "metadata": {},
   "outputs": [],
   "source": [
    "from selenium.webdriver.support.ui import WebDriverWait\n",
    "\n",
    "from selenium.webdriver.chrome.options import Options\n",
    "import subprocess\n",
    "import shutil"
   ]
  },
  {
   "cell_type": "code",
   "execution_count": 4,
   "id": "a6dcb21e-1bbe-44bd-98f8-09057ad472f4",
   "metadata": {},
   "outputs": [],
   "source": [
    "subprocess.Popen(r'C:\\Program Files\\Google\\Chrome\\Application\\chrome.exe --remote-debugging-port=9222 --user-data-dir=\"C:\\chrometemp\"')\n",
    "\n",
    "options = webdriver.ChromeOptions()\n",
    "options.add_experimental_option(\"debuggerAddress\", \"127.0.0.1:9222\")"
   ]
  },
  {
   "cell_type": "code",
   "execution_count": 5,
   "id": "8bf03a2e-8537-4166-ad4d-476d45270da5",
   "metadata": {},
   "outputs": [],
   "source": [
    "#open chrome browser\n",
    "browser = webdriver.Chrome(executable_path='C:/Users/01-15/Develops/chromedriver.exe', options=options) #webdriver_selenium과 web을 연결해주기위함.\n",
    "browser.set_window_size(1560,2000)"
   ]
  },
  {
   "cell_type": "code",
   "execution_count": 6,
   "id": "cc907b6d-16da-4e79-b5bf-a7d24dec35b1",
   "metadata": {},
   "outputs": [],
   "source": [
    "# url in address window\n",
    "browser.get('https://search.11st.co.kr/pc/total-search?kwd=%25EB%2588%2588%25EA%25B0%259C%25EC%2584%25A0%2520%25EC%2598%2581%25EC%2596%2591%25EC%25A0%259C&tabId=TOTAL_SEARCH')\n",
    "browser.implicitly_wait(10)"
   ]
  },
  {
   "cell_type": "code",
   "execution_count": 7,
   "id": "4cdf52e8-4d49-4e28-9477-4c71d935f800",
   "metadata": {},
   "outputs": [],
   "source": [
    "## 리뷰 많은 순 클릭\n",
    "click_path='#layBodyWrap > div > div > div.l_search_content > div.search_content > div.c_search_sorting > div > div > div > div'\n",
    "browser.find_element_by_css_selector(click_path).click()\n",
    "select_category='div.c_search_sorting > div > div > div > ul > li:nth-child(5)'\n",
    "browser.find_element_by_css_selector(select_category).click()"
   ]
  },
  {
   "cell_type": "code",
   "execution_count": 8,
   "id": "80be3656-698e-432b-812a-352e41d393da",
   "metadata": {},
   "outputs": [],
   "source": [
    "## pagination 하기\n",
    "# 검색 결과 # div.search_content > div > p > span\n",
    "product_total = browser.find_element_by_css_selector('div.search_content > div > p > span')\n",
    "product_total_str = product_total.text\n",
    "# 쉼표를 제거합니다.\n",
    "product_total_del = product_total_str.replace(',', '')\n",
    "product_total_count = int(product_total_del)"
   ]
  },
  {
   "cell_type": "code",
   "execution_count": 9,
   "id": "c426940d-75f8-4f92-95a4-76597f96b067",
   "metadata": {},
   "outputs": [
    {
     "name": "stdout",
     "output_type": "stream",
     "text": [
      "12647\n"
     ]
    }
   ],
   "source": [
    "print(product_total_count) ## 검색 결과_숫자\n",
    "\n",
    "product_standard_count_per = 60 ## 상품목록수"
   ]
  },
  {
   "cell_type": "code",
   "execution_count": 10,
   "id": "2906f9dc-7fde-48f9-aab8-cf071d26c242",
   "metadata": {},
   "outputs": [
    {
     "name": "stdout",
     "output_type": "stream",
     "text": [
      "210\n"
     ]
    }
   ],
   "source": [
    "loop_count_int = int(product_total_count / product_standard_count_per) \n",
    "print(loop_count_int) ## 상품 총 페이지수 "
   ]
  },
  {
   "cell_type": "code",
   "execution_count": 11,
   "id": "fa4c7669-2c72-4a39-a388-31924558b80f",
   "metadata": {
    "tags": []
   },
   "outputs": [
    {
     "ename": "NameError",
     "evalue": "name 'current_page' is not defined",
     "output_type": "error",
     "traceback": [
      "\u001b[1;31m---------------------------------------------------------------------------\u001b[0m",
      "\u001b[1;31mNameError\u001b[0m                                 Traceback (most recent call last)",
      "Cell \u001b[1;32mIn[11], line 2\u001b[0m\n\u001b[0;32m      1\u001b[0m \u001b[38;5;66;03m# pagination 버튼을 끝까지 순환하면서 페이지 이동합니다.\u001b[39;00m\n\u001b[1;32m----> 2\u001b[0m \u001b[38;5;28;01mwhile\u001b[39;00m current_page \u001b[38;5;241m<\u001b[39m\u001b[38;5;241m=\u001b[39m loop_count_int:\n\u001b[0;32m      3\u001b[0m     \u001b[38;5;28;01mfor\u001b[39;00m i \u001b[38;5;129;01min\u001b[39;00m \u001b[38;5;28mrange\u001b[39m(\u001b[38;5;241m2\u001b[39m, \u001b[38;5;241m4\u001b[39m):  \u001b[38;5;66;03m# 1부터 60까지 순회합니다.\u001b[39;00m\n\u001b[0;32m      4\u001b[0m         \u001b[38;5;28;01mtry\u001b[39;00m:\n",
      "\u001b[1;31mNameError\u001b[0m: name 'current_page' is not defined"
     ]
    }
   ],
   "source": [
    "# pagination 버튼을 끝까지 순환하면서 페이지 이동합니다.\n",
    "while current_page <= loop_count_int:\n",
    "    for i in range(1, 61):  # 1부터 60까지 순회합니다.\n",
    "        try:\n",
    "            product_page = f'#section_commonPrd > div.c-search-list > ul > li:nth-child({i}) > div > a'\n",
    "            product = browser.find_element_by_css_selector(product_page)\n",
    "            product.click()\n",
    "            # 새로 열린 창으로 브라우저 컨텍스트를 전환합니다.\n",
    "            browser.switch_to.window(browser.window_handles[-1]) \n",
    "            browser.implicitly_wait(2)\n",
    "            ## -> browser.window_handles[-]하면 옆으로 쭉쭉 생기는건가봄. \n",
    "            ## 여기부터 리뷰 더보기 클릭하기 \n",
    "            product_name= browser.find_element_by_css_selector('div.c_product_info_title > h1').text\n",
    "            print(product_name)\n",
    "            # 리뷰보기 클릭 불필요\n",
    "            browser.switch_to.frame('ifrmReview')\n",
    "            while True:\n",
    "                try:\n",
    "                    # 리뷰 더보기 버튼을 찾습니다.\n",
    "                    button = '#review-list-page-area > div > button'\n",
    "                    button_click=browser.find_element_by_css_selector(button)\n",
    "                    \n",
    "                    # 리뷰 더보기 버튼을 클릭합니다.\n",
    "                    button_click.click()\n",
    "                    \n",
    "                    # 클릭 후 잠시 대기합니다 (사이트 로딩에 따라 조절)\n",
    "                    time.sleep(2)\n",
    "                except:\n",
    "                    # 리뷰 더보기 버튼을 더 이상 찾을 수 없으면 반복 종료합니다.\n",
    "                    print('리뷰 더보기 버튼을 더 이상 찾을 수 없음')\n",
    "                    break\n",
    "            ##리뷰 번들\n",
    "            reviews_bundle = browser.find_elements_by_css_selector('.review_list_element')\n",
    "            len(reviews_bundle)\n",
    "            ## 일단 총 리뷰수를 int로 바꾼다. \n",
    "            review_total_count_text = browser.find_element_by_css_selector('h4 > span > i').text\n",
    "                \n",
    "            ## 혜인설명: 총 댓글 수를 정규화로 뽑아냄 .\n",
    "            import re # reqexpress function\n",
    "            result_list = re.findall(r'\\d+', review_total_count_text)\n",
    "            # print(result_list[0], int(result_list[0]))\n",
    "                    \n",
    "            review_total_count = int(result_list[0])  # 리뷰 총 갯수\n",
    "            review_total_count\n",
    "            if review_total_count == 0:\n",
    "                print('리뷰가 없어 종료합니다.') # 리뷰 0이면 종료\n",
    "                break\n",
    "            \n",
    "            review_standard_count_per = 10\n",
    "\n",
    "            loop_count_int = int(review_total_count / review_standard_count_per)\n",
    "            for count in range(1, loop_count_int+1) :\n",
    "                try :\n",
    "                    reviews_bundle = browser.find_elements_by_css_selector('.review_list_element')\n",
    "                    # print('current reviews_bundle count : {}'.format(len(reviews_bundle)))\n",
    "                    reviews_bundle[len(reviews_bundle)-1].click()\n",
    "                    time.sleep(3)\n",
    "                except :\n",
    "                    # print('pass')\n",
    "                    pass\n",
    "            print('Done', len(reviews_bundle))\n",
    "            print(int(loop_count_int))\n",
    "            len(reviews_bundle)\n",
    "\n",
    "            ## 리뷰 리스트\n",
    "            eyes_product_columns_name = ['product_name','review_content', 'review_date', 'review_star', 'review_writer']\n",
    "            reviews_list = list()\n",
    "\n",
    "            # 페이지 넘기기를 위한 루프 설정\n",
    "            for page in range(1, loop_count_int + 2):  # 1부터 loop_count_int + 1까지 반복\n",
    "                # ul:nth-child(n) 설정\n",
    "                ul_selector = f'ul:nth-child({page})'\n",
    "\n",
    "                # 한 페이지당 가져올 리뷰 수 설정\n",
    "                review_standard_count_per = 10\n",
    "\n",
    "                for review_num in range(1, review_standard_count_per + 1):\n",
    "                    try:\n",
    "                        # 리뷰 내용을 가져오는 코드\n",
    "                        review_content = browser.find_element_by_css_selector(\n",
    "                            f'{ul_selector} > li:nth-child({review_num}) > div > div').text\n",
    "\n",
    "                        # \"더보기\" 버튼이 있는지 확인\n",
    "                        try:\n",
    "                            more_button = browser.find_element_by_css_selector(\n",
    "                                f'{ul_selector} > li:nth-child({review_num}) > div > div > div > button')\n",
    "                            more_button.click()  # \"더보기\" 버튼 클릭\n",
    "                            review_content += more_button.find_element_by_xpath(\"./following-sibling::span\").text\n",
    "                            print('펼쳐짐')\n",
    "                        except :\n",
    "                            pass\n",
    "\n",
    "                        review_date = browser.find_element_by_css_selector(\n",
    "                            f'{ul_selector} > li:nth-child({review_num}) > div.c_product_review_cont > p.side > span').text\n",
    "                        review_star = browser.find_element_by_css_selector(\n",
    "                            f'{ul_selector} > li:nth-child({review_num}) > div > p.grade > span > em').text\n",
    "                        review_writer = browser.find_element_by_css_selector(\n",
    "                            f'{ul_selector} > li:nth-child({review_num}) > dl > dt').text\n",
    "\n",
    "                        # 리뷰 정보를 리스트로 저장하고 리스트에 추가\n",
    "                        review_data = [product_name, review_content, review_date, review_star, review_writer]\n",
    "                        reviews_list.append(review_data)\n",
    "\n",
    "                    except Exception as e:\n",
    "                        print(f\"Error collecting review {review_num} on page {page}: {str(e)}\")\n",
    "\n",
    "                    # Check if the length of reviews_list matches reviews_bundle\n",
    "                    if len(reviews_list) == len(reviews_bundle):\n",
    "                        break  # Break out of the loop if the lengths match\n",
    "\n",
    "                # Check again after the inner loop to break from the outer loop\n",
    "                if len(reviews_list) == len(reviews_bundle):\n",
    "                    break\n",
    "            # df_reviews = pd.DataFame(data=reviews_list, columns=eyes_product_columns_name)\n",
    "            # data_dict = df_reviews.to_dict(orient='records')\n",
    "            # collection.insert_many(data_dict)\n",
    "            print(len(reviews_list))\n",
    "\n",
    "            # 현재 페이지를 닫습니다.\n",
    "            browser.close()\n",
    "            # 다음 상품을 클릭하기 전에 원래의 창으로 다시 전환합니다.\n",
    "            browser.switch_to.window(browser.window_handles[0])\n",
    "                        \n",
    "        except:\n",
    "            print(f'에러: {i}')\n",
    "            pass\n",
    "        # Pagination 버튼을 클릭합니다.\n",
    "    current_page += 1\n",
    "    page_button_css = f'#section_commonPrd > nav > ul > li:nth-child({current_page % 10 + 2}) > button'\n",
    "    page_button = browser.find_element_by_css_selector(page_button_css)\n",
    "    page_button.click()\n",
    "    \n",
    "    # 10번째 페이지일 경우 next 버튼 클릭\n",
    "    if current_page % 10 == 0:\n",
    "        next_button = browser.find_element_by_css_selector('#section_commonPrd > nav > ul > li.next > button')\n",
    "        next_button.click()"
   ]
  }
 ],
 "metadata": {
  "kernelspec": {
   "display_name": "Python 3 (ipykernel)",
   "language": "python",
   "name": "python3"
  },
  "language_info": {
   "codemirror_mode": {
    "name": "ipython",
    "version": 3
   },
   "file_extension": ".py",
   "mimetype": "text/x-python",
   "name": "python",
   "nbconvert_exporter": "python",
   "pygments_lexer": "ipython3",
   "version": "3.11.3"
  }
 },
 "nbformat": 4,
 "nbformat_minor": 5
}
