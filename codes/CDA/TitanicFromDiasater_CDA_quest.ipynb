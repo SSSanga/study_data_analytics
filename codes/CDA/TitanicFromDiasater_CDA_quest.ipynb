{
 "cells": [
  {
   "cell_type": "code",
   "execution_count": 1,
   "id": "89d4c5ee-9856-4188-9f8b-602810551371",
   "metadata": {
    "tags": []
   },
   "outputs": [],
   "source": [
    "import matplotlib.pyplot as plt\n",
    "import matplotlib as mpl\n",
    "mpl.rc('font',family='Malgun Gothic')\n",
    "import seaborn as sns\n",
    "import pandas as pd\n",
    "import scipy.stats as stats"
   ]
  },
  {
   "cell_type": "code",
   "execution_count": 2,
   "id": "4a4dea7d-cd69-4d1b-be35-4ce5101390df",
   "metadata": {
    "tags": []
   },
   "outputs": [
    {
     "data": {
      "text/plain": [
       "PassengerId    891\n",
       "Survived       891\n",
       "Pclass         891\n",
       "Name           891\n",
       "Sex            891\n",
       "Age            714\n",
       "SibSp          891\n",
       "Parch          891\n",
       "Ticket         891\n",
       "Fare           891\n",
       "Cabin          204\n",
       "Embarked       889\n",
       "dtype: int64"
      ]
     },
     "execution_count": 2,
     "metadata": {},
     "output_type": "execute_result"
    }
   ],
   "source": [
    "df_TFD= pd.read_csv('../../datasets/TitanicFromDisaster_train.csv')\n",
    "df_TFD.count()"
   ]
  },
  {
   "cell_type": "markdown",
   "id": "f8a35650-ccef-4f3f-a082-5162e68a4411",
   "metadata": {},
   "source": [
    "## 8월 18일 quest\n",
    "- 목표변수: Survived\n",
    "- 설명변수: Pclass, Sex, Age\n",
    "    ⇒ 설명변수들의 인사이트 찾기"
   ]
  },
  {
   "cell_type": "code",
   "execution_count": 3,
   "id": "45fe06ae-0a2f-45ff-8d91-1327771576a2",
   "metadata": {
    "tags": []
   },
   "outputs": [
    {
     "data": {
      "text/plain": [
       "PassengerId      0\n",
       "Survived         0\n",
       "Pclass           0\n",
       "Name             0\n",
       "Sex              0\n",
       "Age            177\n",
       "SibSp            0\n",
       "Parch            0\n",
       "Ticket           0\n",
       "Fare             0\n",
       "Cabin          687\n",
       "Embarked         2\n",
       "dtype: int64"
      ]
     },
     "execution_count": 3,
     "metadata": {},
     "output_type": "execute_result"
    }
   ],
   "source": [
    "df_TFD.isnull().sum()"
   ]
  },
  {
   "cell_type": "code",
   "execution_count": 4,
   "id": "aac7cd4f-fcec-48f3-9a83-a60d882269ce",
   "metadata": {
    "tags": []
   },
   "outputs": [
    {
     "data": {
      "text/plain": [
       "Survived      0\n",
       "Pclass        0\n",
       "Sex           0\n",
       "Age         177\n",
       "dtype: int64"
      ]
     },
     "execution_count": 4,
     "metadata": {},
     "output_type": "execute_result"
    }
   ],
   "source": [
    "df_SPSA = df_TFD[['Survived', 'Pclass', 'Sex', 'Age']]\n",
    "df_SPSA.isnull().sum()"
   ]
  },
  {
   "cell_type": "code",
   "execution_count": 5,
   "id": "cb5a08d4-c3fe-496d-93ff-1552fd393776",
   "metadata": {
    "tags": []
   },
   "outputs": [],
   "source": [
    "df_SPSA = df_SPSA.dropna()"
   ]
  },
  {
   "cell_type": "code",
   "execution_count": 6,
   "id": "402362ad-5345-4ebc-93f4-73b620994010",
   "metadata": {
    "tags": []
   },
   "outputs": [
    {
     "data": {
      "text/plain": [
       "Survived    0\n",
       "Pclass      0\n",
       "Sex         0\n",
       "Age         0\n",
       "dtype: int64"
      ]
     },
     "execution_count": 6,
     "metadata": {},
     "output_type": "execute_result"
    }
   ],
   "source": [
    "df_SPSA.isnull().sum()"
   ]
  },
  {
   "cell_type": "markdown",
   "id": "35e8ac59-e66b-4e02-9fdb-d09956792725",
   "metadata": {
    "tags": []
   },
   "source": [
    "#### 목표: Survived, 설명: Sex\n",
    "    - 분석 내용: 성별에 따른 생존 여부는?\n",
    "            -- 귀무가설: 성별에 따른 생존 여부는 관계 없음\n",
    "            -- 대립가설: 성별에 따른 생존 여부는 관계 있음\n",
    "        ⇒ 분석 결론 \n",
    "            ** 범주-범주로 비교_chi2_contingency 비교 \n",
    "            -- 통계결론: p-value가 1.6716678441395297e-46, 0.05보다 작으므로 대립가설이 참. \n",
    "            -- 사실결론: 성별에 따른 생존 여부는 관계가 있다. \n",
    "                    - count그래프로 확인\n",
    "        "
   ]
  },
  {
   "cell_type": "markdown",
   "id": "51bc43a2-bb15-4c25-92ca-c784cee6102e",
   "metadata": {
    "jupyter": {
     "outputs_hidden": true
    },
    "tags": []
   },
   "source": [
    "df_SPSA_SS = df_SPSA[['Survived', 'Sex']]\n",
    "df_SPSA_SS"
   ]
  },
  {
   "cell_type": "code",
   "execution_count": 10,
   "id": "caff2ee8-847e-45e2-9817-10abbce783a5",
   "metadata": {
    "tags": []
   },
   "outputs": [
    {
     "data": {
      "text/html": [
       "<div>\n",
       "<style scoped>\n",
       "    .dataframe tbody tr th:only-of-type {\n",
       "        vertical-align: middle;\n",
       "    }\n",
       "\n",
       "    .dataframe tbody tr th {\n",
       "        vertical-align: top;\n",
       "    }\n",
       "\n",
       "    .dataframe thead th {\n",
       "        text-align: right;\n",
       "    }\n",
       "</style>\n",
       "<table border=\"1\" class=\"dataframe\">\n",
       "  <thead>\n",
       "    <tr style=\"text-align: right;\">\n",
       "      <th>Survived</th>\n",
       "      <th>0</th>\n",
       "      <th>1</th>\n",
       "    </tr>\n",
       "    <tr>\n",
       "      <th>Sex</th>\n",
       "      <th></th>\n",
       "      <th></th>\n",
       "    </tr>\n",
       "  </thead>\n",
       "  <tbody>\n",
       "    <tr>\n",
       "      <th>female</th>\n",
       "      <td>64</td>\n",
       "      <td>197</td>\n",
       "    </tr>\n",
       "    <tr>\n",
       "      <th>male</th>\n",
       "      <td>360</td>\n",
       "      <td>93</td>\n",
       "    </tr>\n",
       "  </tbody>\n",
       "</table>\n",
       "</div>"
      ],
      "text/plain": [
       "Survived    0    1\n",
       "Sex               \n",
       "female     64  197\n",
       "male      360   93"
      ]
     },
     "execution_count": 10,
     "metadata": {},
     "output_type": "execute_result"
    }
   ],
   "source": [
    "df_SPSA_SS_pivot = pd.pivot_table(data=df_SPSA_SS, index=['Sex'], columns=['Survived'], aggfunc=len)\n",
    "df_SPSA_SS_pivot"
   ]
  },
  {
   "cell_type": "code",
   "execution_count": 12,
   "id": "bcde7718-cd12-4b15-8505-13e824c7e193",
   "metadata": {
    "tags": []
   },
   "outputs": [
    {
     "data": {
      "text/plain": [
       "Chi2ContingencyResult(statistic=205.02582752855906, pvalue=1.6716678441395297e-46, dof=1, expected_freq=array([[154.99159664, 106.00840336],\n",
       "       [269.00840336, 183.99159664]]))"
      ]
     },
     "execution_count": 12,
     "metadata": {},
     "output_type": "execute_result"
    }
   ],
   "source": [
    "stats.chi2_contingency(observed=df_SPSA_SS_pivot, correction=True)"
   ]
  },
  {
   "cell_type": "markdown",
   "id": "29bdafe8-61e2-4b4e-8d10-d1b530196e6a",
   "metadata": {
    "tags": []
   },
   "source": [
    "##### count 그래프"
   ]
  },
  {
   "cell_type": "code",
   "execution_count": 14,
   "id": "d8b4c5cf-f771-4722-b0e1-d466337c67c6",
   "metadata": {
    "collapsed": true,
    "jupyter": {
     "outputs_hidden": true
    },
    "tags": []
   },
   "outputs": [
    {
     "name": "stdout",
     "output_type": "stream",
     "text": [
      "<class 'pandas.core.frame.DataFrame'>\n",
      "Int64Index: 714 entries, 0 to 890\n",
      "Data columns (total 2 columns):\n",
      " #   Column    Non-Null Count  Dtype \n",
      "---  ------    --------------  ----- \n",
      " 0   Survived  714 non-null    int64 \n",
      " 1   Sex       714 non-null    object\n",
      "dtypes: int64(1), object(1)\n",
      "memory usage: 16.7+ KB\n"
     ]
    }
   ],
   "source": [
    "df_SPSA_SS.info()"
   ]
  },
  {
   "cell_type": "code",
   "execution_count": 17,
   "id": "4599a81f-14c1-4c82-9a11-fde6d4ad914d",
   "metadata": {
    "collapsed": true,
    "jupyter": {
     "outputs_hidden": true
    },
    "tags": []
   },
   "outputs": [
    {
     "data": {
      "text/plain": [
       "0      0\n",
       "1      1\n",
       "2      1\n",
       "3      1\n",
       "4      0\n",
       "      ..\n",
       "885    0\n",
       "886    0\n",
       "887    1\n",
       "889    1\n",
       "890    0\n",
       "Name: Survived, Length: 714, dtype: object"
      ]
     },
     "execution_count": 17,
     "metadata": {},
     "output_type": "execute_result"
    }
   ],
   "source": [
    "df_SPSA_SS['Survived'].astype(object)"
   ]
  },
  {
   "cell_type": "code",
   "execution_count": 18,
   "id": "7609c571-dcb8-42fc-a567-7ae6591865b9",
   "metadata": {
    "collapsed": true,
    "jupyter": {
     "outputs_hidden": true
    },
    "tags": []
   },
   "outputs": [
    {
     "name": "stdout",
     "output_type": "stream",
     "text": [
      "<class 'pandas.core.frame.DataFrame'>\n",
      "Int64Index: 714 entries, 0 to 890\n",
      "Data columns (total 2 columns):\n",
      " #   Column    Non-Null Count  Dtype \n",
      "---  ------    --------------  ----- \n",
      " 0   Survived  714 non-null    object\n",
      " 1   Sex       714 non-null    object\n",
      "dtypes: object(2)\n",
      "memory usage: 16.7+ KB\n"
     ]
    }
   ],
   "source": [
    "df_SPSA_SS.info()"
   ]
  },
  {
   "cell_type": "code",
   "execution_count": 24,
   "id": "534ad94e-e18a-4256-923d-20b64792095c",
   "metadata": {
    "tags": []
   },
   "outputs": [
    {
     "data": {
      "image/png": "[encoded data removed]",
      "text/plain": [
       "<Figure size 640x480 with 1 Axes>"
      ]
     },
     "metadata": {},
     "output_type": "display_data"
    }
   ],
   "source": [
    "sns.countplot(df_SPSA_SS, x='Sex',hue='Survived')\n",
    "plt.title('성별에 따른 survived 생존 여부 count 그래프')\n",
    "plt.show()"
   ]
  },
  {
   "cell_type": "markdown",
   "id": "6ab2544c-eae8-4912-bb6f-e3338662107a",
   "metadata": {},
   "source": [
    "#### 목표: Survived, 설명: Pclass\n",
    "    - 분석 내용: 선실 등급에 따른 생존 여부는?\n",
    "            -- 귀무가설: 선실 등급에 따른 생존 여부는 관계 없음\n",
    "            -- 대립가설: 선실 등급에 따른 생존 여부는 관계 있음\n",
    "        ⇒ 분석 결론 \n",
    "            ** 범주-범주로 비교_chi2_contingency 비교 \n",
    "            -- 통계결론: p-value가 6.709861749756909e-21, 대립 가설 참. \n",
    "            -- 사실결론: 선실 등급에 따른 생존 여부는 관계가 있다. 이를 보기 위해 count그래프 비교. \n",
    "        "
   ]
  },
  {
   "cell_type": "code",
   "execution_count": 25,
   "id": "f9e763b1-7e69-432c-ba92-998c702fedbb",
   "metadata": {
    "collapsed": true,
    "jupyter": {
     "outputs_hidden": true
    },
    "tags": []
   },
   "outputs": [
    {
     "data": {
      "text/html": [
       "<div>\n",
       "<style scoped>\n",
       "    .dataframe tbody tr th:only-of-type {\n",
       "        vertical-align: middle;\n",
       "    }\n",
       "\n",
       "    .dataframe tbody tr th {\n",
       "        vertical-align: top;\n",
       "    }\n",
       "\n",
       "    .dataframe thead th {\n",
       "        text-align: right;\n",
       "    }\n",
       "</style>\n",
       "<table border=\"1\" class=\"dataframe\">\n",
       "  <thead>\n",
       "    <tr style=\"text-align: right;\">\n",
       "      <th></th>\n",
       "      <th>Survived</th>\n",
       "      <th>Pclass</th>\n",
       "    </tr>\n",
       "  </thead>\n",
       "  <tbody>\n",
       "    <tr>\n",
       "      <th>0</th>\n",
       "      <td>0</td>\n",
       "      <td>3</td>\n",
       "    </tr>\n",
       "    <tr>\n",
       "      <th>1</th>\n",
       "      <td>1</td>\n",
       "      <td>1</td>\n",
       "    </tr>\n",
       "    <tr>\n",
       "      <th>2</th>\n",
       "      <td>1</td>\n",
       "      <td>3</td>\n",
       "    </tr>\n",
       "    <tr>\n",
       "      <th>3</th>\n",
       "      <td>1</td>\n",
       "      <td>1</td>\n",
       "    </tr>\n",
       "    <tr>\n",
       "      <th>4</th>\n",
       "      <td>0</td>\n",
       "      <td>3</td>\n",
       "    </tr>\n",
       "    <tr>\n",
       "      <th>...</th>\n",
       "      <td>...</td>\n",
       "      <td>...</td>\n",
       "    </tr>\n",
       "    <tr>\n",
       "      <th>885</th>\n",
       "      <td>0</td>\n",
       "      <td>3</td>\n",
       "    </tr>\n",
       "    <tr>\n",
       "      <th>886</th>\n",
       "      <td>0</td>\n",
       "      <td>2</td>\n",
       "    </tr>\n",
       "    <tr>\n",
       "      <th>887</th>\n",
       "      <td>1</td>\n",
       "      <td>1</td>\n",
       "    </tr>\n",
       "    <tr>\n",
       "      <th>889</th>\n",
       "      <td>1</td>\n",
       "      <td>1</td>\n",
       "    </tr>\n",
       "    <tr>\n",
       "      <th>890</th>\n",
       "      <td>0</td>\n",
       "      <td>3</td>\n",
       "    </tr>\n",
       "  </tbody>\n",
       "</table>\n",
       "<p>714 rows × 2 columns</p>\n",
       "</div>"
      ],
      "text/plain": [
       "     Survived  Pclass\n",
       "0           0       3\n",
       "1           1       1\n",
       "2           1       3\n",
       "3           1       1\n",
       "4           0       3\n",
       "..        ...     ...\n",
       "885         0       3\n",
       "886         0       2\n",
       "887         1       1\n",
       "889         1       1\n",
       "890         0       3\n",
       "\n",
       "[714 rows x 2 columns]"
      ]
     },
     "execution_count": 25,
     "metadata": {},
     "output_type": "execute_result"
    }
   ],
   "source": [
    "df_SPSA_SP = df_SPSA[['Survived', 'Pclass']]\n",
    "df_SPSA_SP"
   ]
  },
  {
   "cell_type": "code",
   "execution_count": 26,
   "id": "d6adea2f-ea94-41b5-9b1c-cbd8b48b689b",
   "metadata": {
    "tags": []
   },
   "outputs": [
    {
     "data": {
      "text/html": [
       "<div>\n",
       "<style scoped>\n",
       "    .dataframe tbody tr th:only-of-type {\n",
       "        vertical-align: middle;\n",
       "    }\n",
       "\n",
       "    .dataframe tbody tr th {\n",
       "        vertical-align: top;\n",
       "    }\n",
       "\n",
       "    .dataframe thead th {\n",
       "        text-align: right;\n",
       "    }\n",
       "</style>\n",
       "<table border=\"1\" class=\"dataframe\">\n",
       "  <thead>\n",
       "    <tr style=\"text-align: right;\">\n",
       "      <th>Survived</th>\n",
       "      <th>0</th>\n",
       "      <th>1</th>\n",
       "    </tr>\n",
       "    <tr>\n",
       "      <th>Pclass</th>\n",
       "      <th></th>\n",
       "      <th></th>\n",
       "    </tr>\n",
       "  </thead>\n",
       "  <tbody>\n",
       "    <tr>\n",
       "      <th>1</th>\n",
       "      <td>64</td>\n",
       "      <td>122</td>\n",
       "    </tr>\n",
       "    <tr>\n",
       "      <th>2</th>\n",
       "      <td>90</td>\n",
       "      <td>83</td>\n",
       "    </tr>\n",
       "    <tr>\n",
       "      <th>3</th>\n",
       "      <td>270</td>\n",
       "      <td>85</td>\n",
       "    </tr>\n",
       "  </tbody>\n",
       "</table>\n",
       "</div>"
      ],
      "text/plain": [
       "Survived    0    1\n",
       "Pclass            \n",
       "1          64  122\n",
       "2          90   83\n",
       "3         270   85"
      ]
     },
     "execution_count": 26,
     "metadata": {},
     "output_type": "execute_result"
    }
   ],
   "source": [
    "df_SPSA_SP_pivot = pd.pivot_table(data=df_SPSA_SP, index=['Pclass'], columns=['Survived'], aggfunc=len)\n",
    "df_SPSA_SP_pivot"
   ]
  },
  {
   "cell_type": "code",
   "execution_count": 27,
   "id": "6f1baaae-2ada-4c7a-af56-e8f16b6f79d7",
   "metadata": {
    "tags": []
   },
   "outputs": [
    {
     "data": {
      "text/plain": [
       "Chi2ContingencyResult(statistic=92.90141721143321, pvalue=6.709861749756909e-21, dof=2, expected_freq=array([[110.45378151,  75.54621849],\n",
       "       [102.73389356,  70.26610644],\n",
       "       [210.81232493, 144.18767507]]))"
      ]
     },
     "execution_count": 27,
     "metadata": {},
     "output_type": "execute_result"
    }
   ],
   "source": [
    "stats.chi2_contingency(observed=df_SPSA_SP_pivot, correction=True)"
   ]
  },
  {
   "cell_type": "code",
   "execution_count": null,
   "id": "548b579b-c460-408c-ab40-ce9fd2540fc6",
   "metadata": {},
   "outputs": [],
   "source": []
  },
  {
   "cell_type": "code",
   "execution_count": 29,
   "id": "7d54e2c0-234b-4c8c-a66f-e1f171c45c49",
   "metadata": {
    "tags": []
   },
   "outputs": [
    {
     "data": {
      "image/png": "[encoded data removed]",
      "text/plain": [
       "<Figure size 640x480 with 1 Axes>"
      ]
     },
     "metadata": {},
     "output_type": "display_data"
    }
   ],
   "source": [
    "sns.countplot(df_SPSA_SP, x='Pclass',hue='Survived')\n",
    "plt.title('선실등급 따른 survived 생존 여부 count 그래프')\n",
    "plt.show()"
   ]
  },
  {
   "cell_type": "code",
   "execution_count": null,
   "id": "0dbe1b53-4a91-4b62-8e03-9f3d8af8dc61",
   "metadata": {},
   "outputs": [],
   "source": []
  }
 ],
 "metadata": {
  "kernelspec": {
   "display_name": "Python 3 (ipykernel)",
   "language": "python",
   "name": "python3"
  },
  "language_info": {
   "codemirror_mode": {
    "name": "ipython",
    "version": 3
   },
   "file_extension": ".py",
   "mimetype": "text/x-python",
   "name": "python",
   "nbconvert_exporter": "python",
   "pygments_lexer": "ipython3",
   "version": "3.11.3"
  }
 },
 "nbformat": 4,
 "nbformat_minor": 5
}
